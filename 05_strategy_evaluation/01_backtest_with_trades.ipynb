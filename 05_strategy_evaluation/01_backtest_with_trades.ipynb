{
 "cells": [
  {
   "cell_type": "markdown",
   "metadata": {},
   "source": [
    "# zipline MeanReversion Backtest"
   ]
  },
  {
   "cell_type": "markdown",
   "metadata": {},
   "source": [
    "In the chapter 04, we introduced `Zipline` to simulate the computation of alpha factors from trailing cross-sectional market, fundamental, and alternative data.\n",
    "\n",
    "Now we will exploit the alpha factors to derive and act on buy and sell signals using the custom MeanReversion factor developed in the last chapter."
   ]
  },
  {
   "cell_type": "markdown",
   "metadata": {},
   "source": [
    "## Imports"
   ]
  },
  {
   "cell_type": "code",
   "execution_count": 31,
   "metadata": {
    "ExecuteTime": {
     "end_time": "2024-01-26T17:49:17.325256Z",
     "start_time": "2024-01-26T17:49:17.117976Z"
    }
   },
   "outputs": [],
   "source": [
    "import warnings\n",
    "warnings.filterwarnings('ignore')"
   ]
  },
  {
   "cell_type": "code",
   "execution_count": 32,
   "metadata": {
    "ExecuteTime": {
     "end_time": "2024-01-26T17:49:18.175708Z",
     "start_time": "2024-01-26T17:49:17.333892Z"
    }
   },
   "outputs": [],
   "source": [
    "import sys\n",
    "import numpy as np\n",
    "import pandas as pd\n",
    "from pytz import UTC\n",
    "\n",
    "from logbook import (NestedSetup, NullHandler, Logger, StreamHandler, StderrHandler, \n",
    "                     INFO, WARNING, DEBUG, ERROR)\n",
    "\n",
    "from zipline import run_algorithm\n",
    "from zipline.api import (attach_pipeline, \n",
    "                         date_rules, \n",
    "                         time_rules,\n",
    "                         get_datetime,\n",
    "                         order_target_percent,\n",
    "                         pipeline_output, \n",
    "                         record, \n",
    "                         schedule_function, \n",
    "                         get_open_orders, \n",
    "                         calendars,\n",
    "                         set_commission, \n",
    "                         set_slippage)\n",
    "from zipline.finance import commission, slippage\n",
    "from zipline.pipeline import Pipeline, CustomFactor\n",
    "from zipline.pipeline.factors import Returns, AverageDollarVolume\n",
    "\n",
    "from pyfolio.utils import extract_rets_pos_txn_from_zipline\n",
    "\n",
    "import matplotlib.pyplot as plt\n",
    "import seaborn as sns"
   ]
  },
  {
   "cell_type": "code",
   "execution_count": 33,
   "metadata": {
    "ExecuteTime": {
     "end_time": "2024-01-26T17:49:18.196443Z",
     "start_time": "2024-01-26T17:49:18.181651Z"
    }
   },
   "outputs": [],
   "source": [
    "sns.set_style('whitegrid')"
   ]
  },
  {
   "cell_type": "markdown",
   "metadata": {},
   "source": [
    "## Logging Setup"
   ]
  },
  {
   "cell_type": "code",
   "execution_count": 34,
   "metadata": {
    "ExecuteTime": {
     "end_time": "2024-01-26T17:49:18.242618Z",
     "start_time": "2024-01-26T17:49:18.190287Z"
    }
   },
   "outputs": [],
   "source": [
    "# setup stdout logging\n",
    "format_string = '[{record.time: %H:%M:%S.%f}]: {record.level_name}: {record.message}'\n",
    "zipline_logging = NestedSetup([NullHandler(level=DEBUG),\n",
    "                               StreamHandler(sys.stdout, format_string=format_string, level=INFO),\n",
    "                               StreamHandler(sys.stderr, level=ERROR)])\n",
    "zipline_logging.push_application()\n",
    "log = Logger('Algorithm')"
   ]
  },
  {
   "cell_type": "markdown",
   "metadata": {},
   "source": [
    "## Algo Settings"
   ]
  },
  {
   "cell_type": "code",
   "execution_count": 35,
   "metadata": {
    "ExecuteTime": {
     "end_time": "2024-01-26T17:49:18.245917Z",
     "start_time": "2024-01-26T17:49:18.206505Z"
    }
   },
   "outputs": [],
   "source": [
    "# Settings\n",
    "MONTH = 21\n",
    "YEAR = 12 * MONTH\n",
    "N_LONGS = 50\n",
    "N_SHORTS = 50\n",
    "VOL_SCREEN = 500"
   ]
  },
  {
   "cell_type": "code",
   "execution_count": 36,
   "metadata": {
    "ExecuteTime": {
     "end_time": "2024-01-26T17:49:18.274015Z",
     "start_time": "2024-01-26T17:49:18.216494Z"
    }
   },
   "outputs": [],
   "source": [
    "start = pd.Timestamp('2013-01-01', tz=UTC)\n",
    "end = pd.Timestamp('2017-01-01', tz=UTC)\n",
    "capital_base = 1e7"
   ]
  },
  {
   "cell_type": "markdown",
   "metadata": {},
   "source": [
    "## Mean Reversion Factor"
   ]
  },
  {
   "cell_type": "code",
   "execution_count": 37,
   "metadata": {
    "ExecuteTime": {
     "end_time": "2024-01-26T17:49:18.345287Z",
     "start_time": "2024-01-26T17:49:18.230188Z"
    }
   },
   "outputs": [],
   "source": [
    "class MeanReversion(CustomFactor):\n",
    "    \"\"\"Compute ratio of latest monthly return to 12m average,\n",
    "       normalized by std dev of monthly returns\"\"\"\n",
    "    inputs = [Returns(window_length=MONTH)]\n",
    "    window_length = YEAR\n",
    "\n",
    "    def compute(self, today, assets, out, monthly_returns):\n",
    "        df = pd.DataFrame(monthly_returns)\n",
    "        out[:] = df.iloc[-1].sub(df.mean()).div(df.std())"
   ]
  },
  {
   "cell_type": "markdown",
   "metadata": {},
   "source": [
    "## Create Pipeline"
   ]
  },
  {
   "cell_type": "markdown",
   "metadata": {},
   "source": [
    "The Pipeline created by the `compute_factors()` method returns a table with a long and a short column for the 25 stocks with the largest negative and positive deviations of their last monthly return from its annual average, normalized by the standard deviation. It also limited the universe to the 500 stocks with the highest average trading volume over the last 30 trading days. "
   ]
  },
  {
   "cell_type": "code",
   "execution_count": 38,
   "metadata": {
    "ExecuteTime": {
     "end_time": "2024-01-26T17:49:18.371672Z",
     "start_time": "2024-01-26T17:49:18.242210Z"
    }
   },
   "outputs": [],
   "source": [
    "def compute_factors():\n",
    "    \"\"\"Create factor pipeline incl. mean reversion,\n",
    "        filtered by 30d Dollar Volume; capture factor ranks\"\"\"\n",
    "    mean_reversion = MeanReversion()\n",
    "    dollar_volume = AverageDollarVolume(window_length=30)\n",
    "    return Pipeline(columns={'longs'  : mean_reversion.bottom(N_LONGS),\n",
    "                             'shorts' : mean_reversion.top(N_SHORTS),\n",
    "                             'ranking': mean_reversion.rank(ascending=False)},\n",
    "                    screen=dollar_volume.top(VOL_SCREEN))"
   ]
  },
  {
   "cell_type": "markdown",
   "metadata": {},
   "source": [
    "Before_trading_start() ensures the daily execution of the pipeline and the recording of the results, including the current prices."
   ]
  },
  {
   "cell_type": "code",
   "execution_count": 39,
   "metadata": {
    "ExecuteTime": {
     "end_time": "2024-01-26T17:49:18.373355Z",
     "start_time": "2024-01-26T17:49:18.253268Z"
    }
   },
   "outputs": [],
   "source": [
    "def before_trading_start(context, data):\n",
    "    \"\"\"Run factor pipeline\"\"\"\n",
    "    context.factor_data = pipeline_output('factor_pipeline')\n",
    "    record(factor_data=context.factor_data.ranking)\n",
    "    assets = context.factor_data.index\n",
    "    record(prices=data.current(assets, 'price'))"
   ]
  },
  {
   "cell_type": "markdown",
   "metadata": {},
   "source": [
    "## Set up Rebalancing"
   ]
  },
  {
   "cell_type": "markdown",
   "metadata": {},
   "source": [
    "The new rebalance() method submits trade orders to the exec_trades() method for the assets flagged for long and short positions by the pipeline with equal positive and negative weights. It also divests any current holdings that are no longer included in the factor signals:"
   ]
  },
  {
   "cell_type": "code",
   "execution_count": 40,
   "metadata": {
    "ExecuteTime": {
     "end_time": "2024-01-26T17:49:18.400475Z",
     "start_time": "2024-01-26T17:49:18.266869Z"
    }
   },
   "outputs": [],
   "source": [
    "def rebalance(context, data):\n",
    "    \"\"\"Compute long, short and obsolete holdings; place trade orders\"\"\"\n",
    "    factor_data = context.factor_data\n",
    "    assets = factor_data.index\n",
    "    \n",
    "    longs = assets[factor_data.longs]\n",
    "    shorts = assets[factor_data.shorts]\n",
    "    divest = context.portfolio.positions.keys() - longs.union(shorts)\n",
    "    log.info('{} | Longs: {:2.0f} | Shorts: {:2.0f} | {:,.2f}'.format(get_datetime().date(),\n",
    "                                                                     len(longs), \n",
    "                                                                     len(shorts),\n",
    "                                                                     context.portfolio.portfolio_value))\n",
    "\n",
    "    exec_trades(data, assets=divest, target_percent=0)\n",
    "    exec_trades(data, assets=longs, target_percent=1 / N_LONGS if N_LONGS else 0)\n",
    "    exec_trades(data, assets=shorts, target_percent=-1 / N_SHORTS if N_SHORTS else 0)"
   ]
  },
  {
   "cell_type": "code",
   "execution_count": 41,
   "metadata": {
    "ExecuteTime": {
     "end_time": "2024-01-26T17:49:18.404901Z",
     "start_time": "2024-01-26T17:49:18.284399Z"
    }
   },
   "outputs": [],
   "source": [
    "def exec_trades(data, assets, target_percent):\n",
    "    \"\"\"Place orders for assets using target portfolio percentage\"\"\"\n",
    "    for asset in assets:\n",
    "        if data.can_trade(asset) and not get_open_orders(asset):\n",
    "            order_target_percent(asset, target_percent)"
   ]
  },
  {
   "cell_type": "markdown",
   "metadata": {},
   "source": [
    "## Initialize Backtest"
   ]
  },
  {
   "cell_type": "markdown",
   "metadata": {},
   "source": [
    "The `rebalance()` method runs according to `date_rules` and `time_rules` set by the `schedule_function()` utility at the beginning of the week, right after market_open as stipulated by the built-in US_EQUITIES calendar (see docs for details on rules). \n",
    "\n",
    "You can also specify a trade commission both in relative terms and as a minimum amount. There is also an option to define slippage, which is the cost of an adverse change in price between trade decision and execution"
   ]
  },
  {
   "cell_type": "code",
   "execution_count": 42,
   "metadata": {
    "ExecuteTime": {
     "end_time": "2024-01-26T17:49:18.407224Z",
     "start_time": "2024-01-26T17:49:18.298064Z"
    }
   },
   "outputs": [],
   "source": [
    "def initialize(context):\n",
    "    \"\"\"Setup: register pipeline, schedule rebalancing,\n",
    "        and set trading params\"\"\"\n",
    "    attach_pipeline(compute_factors(), 'factor_pipeline')\n",
    "    schedule_function(rebalance,\n",
    "                      date_rules.week_start(),\n",
    "                      time_rules.market_open(),\n",
    "                      calendar=calendars.US_EQUITIES)\n",
    "\n",
    "    set_commission(us_equities=commission.PerShare(cost=0.00075, \n",
    "                                                   min_trade_cost=.01))\n",
    "    set_slippage(us_equities=slippage.VolumeShareSlippage(volume_limit=0.0025, \n",
    "                                                          price_impact=0.01))"
   ]
  },
  {
   "cell_type": "markdown",
   "metadata": {},
   "source": [
    "## Run Algorithm"
   ]
  },
  {
   "cell_type": "markdown",
   "metadata": {},
   "source": [
    "The algorithm executes upon calling the run_algorithm() function and returns the backtest performance DataFrame."
   ]
  },
  {
   "cell_type": "code",
   "execution_count": 43,
   "metadata": {
    "scrolled": false,
    "ExecuteTime": {
     "end_time": "2024-01-26T17:49:18.598834Z",
     "start_time": "2024-01-26T17:49:18.307202Z"
    }
   },
   "outputs": [
    {
     "ename": "AttributeError",
     "evalue": "'UTC' object has no attribute 'key'",
     "output_type": "error",
     "traceback": [
      "\u001B[0;31m---------------------------------------------------------------------------\u001B[0m",
      "\u001B[0;31mAttributeError\u001B[0m                            Traceback (most recent call last)",
      "Cell \u001B[0;32mIn[43], line 1\u001B[0m\n\u001B[0;32m----> 1\u001B[0m backtest \u001B[38;5;241m=\u001B[39m run_algorithm(start\u001B[38;5;241m=\u001B[39mstart,\n\u001B[1;32m      2\u001B[0m                          end\u001B[38;5;241m=\u001B[39mend,\n\u001B[1;32m      3\u001B[0m                          initialize\u001B[38;5;241m=\u001B[39minitialize,\n\u001B[1;32m      4\u001B[0m                          before_trading_start\u001B[38;5;241m=\u001B[39mbefore_trading_start,\n\u001B[1;32m      5\u001B[0m                          bundle\u001B[38;5;241m=\u001B[39m\u001B[38;5;124m'\u001B[39m\u001B[38;5;124mquandl\u001B[39m\u001B[38;5;124m'\u001B[39m,\n\u001B[1;32m      6\u001B[0m                          capital_base\u001B[38;5;241m=\u001B[39mcapital_base)\n",
      "File \u001B[0;32m~/anaconda3/lib/python3.11/site-packages/zipline/utils/run_algo.py:397\u001B[0m, in \u001B[0;36mrun_algorithm\u001B[0;34m(start, end, initialize, capital_base, handle_data, before_trading_start, analyze, data_frequency, bundle, bundle_timestamp, trading_calendar, metrics_set, benchmark_returns, default_extension, extensions, strict_extensions, environ, custom_loader, blotter)\u001B[0m\n\u001B[1;32m    393\u001B[0m load_extensions(default_extension, extensions, strict_extensions, environ)\n\u001B[1;32m    395\u001B[0m benchmark_spec \u001B[38;5;241m=\u001B[39m BenchmarkSpec\u001B[38;5;241m.\u001B[39mfrom_returns(benchmark_returns)\n\u001B[0;32m--> 397\u001B[0m \u001B[38;5;28;01mreturn\u001B[39;00m _run(\n\u001B[1;32m    398\u001B[0m     handle_data\u001B[38;5;241m=\u001B[39mhandle_data,\n\u001B[1;32m    399\u001B[0m     initialize\u001B[38;5;241m=\u001B[39minitialize,\n\u001B[1;32m    400\u001B[0m     before_trading_start\u001B[38;5;241m=\u001B[39mbefore_trading_start,\n\u001B[1;32m    401\u001B[0m     analyze\u001B[38;5;241m=\u001B[39manalyze,\n\u001B[1;32m    402\u001B[0m     algofile\u001B[38;5;241m=\u001B[39m\u001B[38;5;28;01mNone\u001B[39;00m,\n\u001B[1;32m    403\u001B[0m     algotext\u001B[38;5;241m=\u001B[39m\u001B[38;5;28;01mNone\u001B[39;00m,\n\u001B[1;32m    404\u001B[0m     defines\u001B[38;5;241m=\u001B[39m(),\n\u001B[1;32m    405\u001B[0m     data_frequency\u001B[38;5;241m=\u001B[39mdata_frequency,\n\u001B[1;32m    406\u001B[0m     capital_base\u001B[38;5;241m=\u001B[39mcapital_base,\n\u001B[1;32m    407\u001B[0m     bundle\u001B[38;5;241m=\u001B[39mbundle,\n\u001B[1;32m    408\u001B[0m     bundle_timestamp\u001B[38;5;241m=\u001B[39mbundle_timestamp,\n\u001B[1;32m    409\u001B[0m     start\u001B[38;5;241m=\u001B[39mstart,\n\u001B[1;32m    410\u001B[0m     end\u001B[38;5;241m=\u001B[39mend,\n\u001B[1;32m    411\u001B[0m     output\u001B[38;5;241m=\u001B[39mos\u001B[38;5;241m.\u001B[39mdevnull,\n\u001B[1;32m    412\u001B[0m     trading_calendar\u001B[38;5;241m=\u001B[39mtrading_calendar,\n\u001B[1;32m    413\u001B[0m     print_algo\u001B[38;5;241m=\u001B[39m\u001B[38;5;28;01mFalse\u001B[39;00m,\n\u001B[1;32m    414\u001B[0m     metrics_set\u001B[38;5;241m=\u001B[39mmetrics_set,\n\u001B[1;32m    415\u001B[0m     local_namespace\u001B[38;5;241m=\u001B[39m\u001B[38;5;28;01mFalse\u001B[39;00m,\n\u001B[1;32m    416\u001B[0m     environ\u001B[38;5;241m=\u001B[39menviron,\n\u001B[1;32m    417\u001B[0m     blotter\u001B[38;5;241m=\u001B[39mblotter,\n\u001B[1;32m    418\u001B[0m     custom_loader\u001B[38;5;241m=\u001B[39mcustom_loader,\n\u001B[1;32m    419\u001B[0m     benchmark_spec\u001B[38;5;241m=\u001B[39mbenchmark_spec,\n\u001B[1;32m    420\u001B[0m )\n",
      "File \u001B[0;32m~/anaconda3/lib/python3.11/site-packages/zipline/utils/run_algo.py:103\u001B[0m, in \u001B[0;36m_run\u001B[0;34m(handle_data, initialize, before_trading_start, analyze, algofile, algotext, defines, data_frequency, capital_base, bundle, bundle_timestamp, start, end, output, trading_calendar, print_algo, metrics_set, local_namespace, environ, blotter, custom_loader, benchmark_spec)\u001B[0m\n\u001B[1;32m    100\u001B[0m     trading_calendar \u001B[38;5;241m=\u001B[39m get_calendar(\u001B[38;5;124m\"\u001B[39m\u001B[38;5;124mXNYS\u001B[39m\u001B[38;5;124m\"\u001B[39m)\n\u001B[1;32m    102\u001B[0m \u001B[38;5;66;03m# date parameter validation\u001B[39;00m\n\u001B[0;32m--> 103\u001B[0m \u001B[38;5;28;01mif\u001B[39;00m trading_calendar\u001B[38;5;241m.\u001B[39msessions_distance(start, end) \u001B[38;5;241m<\u001B[39m \u001B[38;5;241m1\u001B[39m:\n\u001B[1;32m    104\u001B[0m     \u001B[38;5;28;01mraise\u001B[39;00m _RunAlgoError(\n\u001B[1;32m    105\u001B[0m         \u001B[38;5;124m\"\u001B[39m\u001B[38;5;124mThere are no trading days between \u001B[39m\u001B[38;5;132;01m%s\u001B[39;00m\u001B[38;5;124m and \u001B[39m\u001B[38;5;132;01m%s\u001B[39;00m\u001B[38;5;124m\"\u001B[39m\n\u001B[1;32m    106\u001B[0m         \u001B[38;5;241m%\u001B[39m (\n\u001B[0;32m   (...)\u001B[0m\n\u001B[1;32m    109\u001B[0m         ),\n\u001B[1;32m    110\u001B[0m     )\n\u001B[1;32m    112\u001B[0m benchmark_sid, benchmark_returns \u001B[38;5;241m=\u001B[39m benchmark_spec\u001B[38;5;241m.\u001B[39mresolve(\n\u001B[1;32m    113\u001B[0m     asset_finder\u001B[38;5;241m=\u001B[39mbundle_data\u001B[38;5;241m.\u001B[39masset_finder,\n\u001B[1;32m    114\u001B[0m     start_date\u001B[38;5;241m=\u001B[39mstart,\n\u001B[1;32m    115\u001B[0m     end_date\u001B[38;5;241m=\u001B[39mend,\n\u001B[1;32m    116\u001B[0m )\n",
      "File \u001B[0;32m~/anaconda3/lib/python3.11/site-packages/exchange_calendars/exchange_calendar.py:2276\u001B[0m, in \u001B[0;36mExchangeCalendar.sessions_distance\u001B[0;34m(self, start, end, _parse)\u001B[0m\n\u001B[1;32m   2259\u001B[0m \u001B[38;5;28;01mdef\u001B[39;00m \u001B[38;5;21msessions_distance\u001B[39m(\u001B[38;5;28mself\u001B[39m, start: Date, end: Date, _parse: \u001B[38;5;28mbool\u001B[39m \u001B[38;5;241m=\u001B[39m \u001B[38;5;28;01mTrue\u001B[39;00m) \u001B[38;5;241m-\u001B[39m\u001B[38;5;241m>\u001B[39m \u001B[38;5;28mint\u001B[39m:\n\u001B[1;32m   2260\u001B[0m \u001B[38;5;250m    \u001B[39m\u001B[38;5;124;03m\"\"\"Return the number of sessions in a range.\u001B[39;00m\n\u001B[1;32m   2261\u001B[0m \n\u001B[1;32m   2262\u001B[0m \u001B[38;5;124;03m    Parameters\u001B[39;00m\n\u001B[0;32m   (...)\u001B[0m\n\u001B[1;32m   2274\u001B[0m \u001B[38;5;124;03m        `end` then return will be negated.\u001B[39;00m\n\u001B[1;32m   2275\u001B[0m \u001B[38;5;124;03m    \"\"\"\u001B[39;00m\n\u001B[0;32m-> 2276\u001B[0m     start, end \u001B[38;5;241m=\u001B[39m \u001B[38;5;28mself\u001B[39m\u001B[38;5;241m.\u001B[39m_parse_start_end_dates(start, end, _parse)\n\u001B[1;32m   2277\u001B[0m     negate \u001B[38;5;241m=\u001B[39m end \u001B[38;5;241m<\u001B[39m start\n\u001B[1;32m   2278\u001B[0m     \u001B[38;5;28;01mif\u001B[39;00m negate:\n",
      "File \u001B[0;32m~/anaconda3/lib/python3.11/site-packages/exchange_calendars/exchange_calendar.py:2173\u001B[0m, in \u001B[0;36mExchangeCalendar._parse_start_end_dates\u001B[0;34m(self, start, end, _parse)\u001B[0m\n\u001B[1;32m   2171\u001B[0m \u001B[38;5;28;01mif\u001B[39;00m \u001B[38;5;129;01mnot\u001B[39;00m _parse:\n\u001B[1;32m   2172\u001B[0m     \u001B[38;5;28;01mreturn\u001B[39;00m start, end\n\u001B[0;32m-> 2173\u001B[0m \u001B[38;5;28;01mreturn\u001B[39;00m parse_date(start, \u001B[38;5;124m\"\u001B[39m\u001B[38;5;124mstart\u001B[39m\u001B[38;5;124m\"\u001B[39m, \u001B[38;5;28mself\u001B[39m), parse_date(end, \u001B[38;5;124m\"\u001B[39m\u001B[38;5;124mend\u001B[39m\u001B[38;5;124m\"\u001B[39m, \u001B[38;5;28mself\u001B[39m)\n",
      "File \u001B[0;32m~/anaconda3/lib/python3.11/site-packages/exchange_calendars/calendar_helpers.py:379\u001B[0m, in \u001B[0;36mparse_date\u001B[0;34m(date, param_name, calendar, raise_oob)\u001B[0m\n\u001B[1;32m    375\u001B[0m ts \u001B[38;5;241m=\u001B[39m parse_timestamp(date, param_name, raise_oob\u001B[38;5;241m=\u001B[39m\u001B[38;5;28;01mFalse\u001B[39;00m, side\u001B[38;5;241m=\u001B[39m\u001B[38;5;124m\"\u001B[39m\u001B[38;5;124mleft\u001B[39m\u001B[38;5;124m\"\u001B[39m, utc\u001B[38;5;241m=\u001B[39m\u001B[38;5;28;01mFalse\u001B[39;00m)\n\u001B[1;32m    377\u001B[0m \u001B[38;5;28;01mif\u001B[39;00m ts\u001B[38;5;241m.\u001B[39mtz \u001B[38;5;129;01mis\u001B[39;00m \u001B[38;5;129;01mnot\u001B[39;00m \u001B[38;5;28;01mNone\u001B[39;00m:\n\u001B[1;32m    378\u001B[0m     \u001B[38;5;28;01mraise\u001B[39;00m \u001B[38;5;167;01mValueError\u001B[39;00m(\n\u001B[0;32m--> 379\u001B[0m         \u001B[38;5;124mf\u001B[39m\u001B[38;5;124m\"\u001B[39m\u001B[38;5;124mParameter `\u001B[39m\u001B[38;5;132;01m{\u001B[39;00mparam_name\u001B[38;5;132;01m}\u001B[39;00m\u001B[38;5;124m` received with timezone defined as \u001B[39m\u001B[38;5;124m'\u001B[39m\u001B[38;5;132;01m{\u001B[39;00mts\u001B[38;5;241m.\u001B[39mtz\u001B[38;5;241m.\u001B[39mkey\u001B[38;5;132;01m}\u001B[39;00m\u001B[38;5;124m'\u001B[39m\u001B[38;5;124m\"\u001B[39m\n\u001B[1;32m    380\u001B[0m         \u001B[38;5;124mf\u001B[39m\u001B[38;5;124m\"\u001B[39m\u001B[38;5;124m although a Date must be timezone naive.\u001B[39m\u001B[38;5;124m\"\u001B[39m\n\u001B[1;32m    381\u001B[0m     )\n\u001B[1;32m    383\u001B[0m \u001B[38;5;28;01mif\u001B[39;00m \u001B[38;5;129;01mnot\u001B[39;00m ts \u001B[38;5;241m==\u001B[39m ts\u001B[38;5;241m.\u001B[39mnormalize():\n\u001B[1;32m    384\u001B[0m     \u001B[38;5;28;01mraise\u001B[39;00m \u001B[38;5;167;01mValueError\u001B[39;00m(\n\u001B[1;32m    385\u001B[0m         \u001B[38;5;124mf\u001B[39m\u001B[38;5;124m\"\u001B[39m\u001B[38;5;124mParameter `\u001B[39m\u001B[38;5;132;01m{\u001B[39;00mparam_name\u001B[38;5;132;01m}\u001B[39;00m\u001B[38;5;124m` parsed as \u001B[39m\u001B[38;5;124m'\u001B[39m\u001B[38;5;132;01m{\u001B[39;00mts\u001B[38;5;132;01m}\u001B[39;00m\u001B[38;5;124m'\u001B[39m\u001B[38;5;124m although a Date must have\u001B[39m\u001B[38;5;124m\"\u001B[39m\n\u001B[1;32m    386\u001B[0m         \u001B[38;5;124mf\u001B[39m\u001B[38;5;124m\"\u001B[39m\u001B[38;5;124m a time component of 00:00.\u001B[39m\u001B[38;5;124m\"\u001B[39m\n\u001B[1;32m    387\u001B[0m     )\n",
      "\u001B[0;31mAttributeError\u001B[0m: 'UTC' object has no attribute 'key'"
     ]
    }
   ],
   "source": [
    "backtest = run_algorithm(start=start,\n",
    "                         end=end,\n",
    "                         initialize=initialize,\n",
    "                         before_trading_start=before_trading_start,\n",
    "                         bundle='quandl',\n",
    "                         capital_base=capital_base)"
   ]
  },
  {
   "cell_type": "markdown",
   "metadata": {},
   "source": [
    "## Extract pyfolio Inputs"
   ]
  },
  {
   "cell_type": "markdown",
   "metadata": {},
   "source": [
    "The `extract_rets_pos_txn_from_zipline` utility provided by `pyfolio` extracts the data used to compute performance metrics."
   ]
  },
  {
   "cell_type": "code",
   "execution_count": null,
   "metadata": {
    "ExecuteTime": {
     "start_time": "2024-01-26T17:49:18.563108Z"
    }
   },
   "outputs": [],
   "source": [
    "returns, positions, transactions = extract_rets_pos_txn_from_zipline(backtest)"
   ]
  },
  {
   "cell_type": "markdown",
   "metadata": {},
   "source": [
    "## Persist Results for use with `pyfolio`"
   ]
  },
  {
   "cell_type": "code",
   "execution_count": null,
   "metadata": {
    "ExecuteTime": {
     "start_time": "2024-01-26T17:49:18.567601Z"
    }
   },
   "outputs": [],
   "source": [
    "with pd.HDFStore('backtests.h5') as store:\n",
    "    store.put('backtest/equal_weight', backtest)\n",
    "    store.put('returns/equal_weight', returns)\n",
    "    store.put('positions/equal_weight', positions)\n",
    "    store.put('transactions/equal_weight', transactions)"
   ]
  },
  {
   "cell_type": "markdown",
   "metadata": {},
   "source": [
    "## Plot Results"
   ]
  },
  {
   "cell_type": "code",
   "execution_count": null,
   "metadata": {
    "ExecuteTime": {
     "start_time": "2024-01-26T17:49:18.572679Z"
    }
   },
   "outputs": [],
   "source": [
    "fig, axes= plt.subplots(nrows=2, figsize=(14,6))\n",
    "returns.add(1).cumprod().sub(1).plot(ax=axes[0], title='Cumulative Returns')\n",
    "transactions.groupby(transactions.dt.dt.day).txn_dollars.sum().cumsum().plot(ax=axes[1], title='Cumulative Transactions')\n",
    "fig.tight_layout()\n",
    "sns.despine();"
   ]
  },
  {
   "cell_type": "code",
   "execution_count": null,
   "metadata": {
    "ExecuteTime": {
     "start_time": "2024-01-26T17:49:18.576828Z"
    }
   },
   "outputs": [],
   "source": [
    "positions.index = positions.index.date"
   ]
  },
  {
   "cell_type": "code",
   "execution_count": null,
   "metadata": {
    "ExecuteTime": {
     "start_time": "2024-01-26T17:49:18.581431Z"
    }
   },
   "outputs": [],
   "source": [
    "fig, ax = plt.subplots(figsize=(15, 8))\n",
    "sns.heatmap(positions.replace(0, np.nan).dropna(how='all', axis=1).T, \n",
    "            cmap=sns.diverging_palette(h_neg=20, h_pos=200), ax=ax, center=0);"
   ]
  },
  {
   "cell_type": "code",
   "execution_count": null,
   "metadata": {
    "ExecuteTime": {
     "end_time": "2024-01-26T17:49:18.651864Z",
     "start_time": "2024-01-26T17:49:18.601596Z"
    }
   },
   "outputs": [],
   "source": [
    "positions.head()"
   ]
  },
  {
   "cell_type": "code",
   "execution_count": null,
   "metadata": {
    "scrolled": true,
    "ExecuteTime": {
     "start_time": "2024-01-26T17:49:18.616122Z"
    }
   },
   "outputs": [],
   "source": [
    "transactions.info()"
   ]
  },
  {
   "cell_type": "code",
   "execution_count": null,
   "metadata": {
    "ExecuteTime": {
     "start_time": "2024-01-26T17:49:18.625812Z"
    }
   },
   "outputs": [],
   "source": []
  }
 ],
 "metadata": {
  "kernelspec": {
   "display_name": "Python 3",
   "language": "python",
   "name": "python3"
  },
  "language_info": {
   "codemirror_mode": {
    "name": "ipython",
    "version": 3
   },
   "file_extension": ".py",
   "mimetype": "text/x-python",
   "name": "python",
   "nbconvert_exporter": "python",
   "pygments_lexer": "ipython3",
   "version": "3.8.5"
  },
  "toc": {
   "base_numbering": 1,
   "nav_menu": {},
   "number_sections": true,
   "sideBar": true,
   "skip_h1_title": true,
   "title_cell": "Table of Contents",
   "title_sidebar": "Contents",
   "toc_cell": false,
   "toc_position": {
    "height": "calc(100% - 180px)",
    "left": "10px",
    "top": "150px",
    "width": "252.633px"
   },
   "toc_section_display": true,
   "toc_window_display": true
  }
 },
 "nbformat": 4,
 "nbformat_minor": 2
}
