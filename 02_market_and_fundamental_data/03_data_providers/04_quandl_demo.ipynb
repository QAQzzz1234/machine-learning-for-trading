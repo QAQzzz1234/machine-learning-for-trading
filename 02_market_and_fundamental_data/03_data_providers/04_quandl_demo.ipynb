{
 "cells": [
  {
   "cell_type": "markdown",
   "metadata": {},
   "source": [
    "# Quandl - API Demo"
   ]
  },
  {
   "cell_type": "markdown",
   "metadata": {},
   "source": [
    "Quandl uses a very straightforward API to make its free and premium data available. Currently, 50 anonymous calls are allowed, then a (free) API key is required. See [documentation](https://www.quandl.com/tools/api) for more details."
   ]
  },
  {
   "cell_type": "code",
   "execution_count": 2,
   "metadata": {
    "scrolled": false,
    "ExecuteTime": {
     "end_time": "2024-02-26T16:00:12.808383Z",
     "start_time": "2024-02-26T16:00:12.611511Z"
    }
   },
   "outputs": [],
   "source": [
    "%matplotlib inline\n",
    "import os\n",
    "import quandl\n",
    "\n",
    "import seaborn as sns\n",
    "import matplotlib.pyplot as plt"
   ]
  },
  {
   "cell_type": "code",
   "execution_count": 3,
   "metadata": {
    "ExecuteTime": {
     "end_time": "2024-02-26T16:00:14.720036Z",
     "start_time": "2024-02-26T16:00:14.715913Z"
    }
   },
   "outputs": [],
   "source": [
    "sns.set_style('whitegrid')"
   ]
  },
  {
   "cell_type": "code",
   "execution_count": 4,
   "metadata": {
    "ExecuteTime": {
     "end_time": "2024-02-26T16:00:16.705281Z",
     "start_time": "2024-02-26T16:00:15.756700Z"
    }
   },
   "outputs": [
    {
     "ename": "NotFoundError",
     "evalue": "(Status 404) (Quandl Error QECx02) You have submitted an incorrect Dataset code. Please check your Dataset codes and try again.",
     "output_type": "error",
     "traceback": [
      "\u001B[0;31m---------------------------------------------------------------------------\u001B[0m",
      "\u001B[0;31mNotFoundError\u001B[0m                             Traceback (most recent call last)",
      "Cell \u001B[0;32mIn[4], line 3\u001B[0m\n\u001B[1;32m      1\u001B[0m os\u001B[38;5;241m.\u001B[39menviron[\u001B[38;5;124m'\u001B[39m\u001B[38;5;124mQUANDL_API_KEY\u001B[39m\u001B[38;5;124m'\u001B[39m] \u001B[38;5;241m=\u001B[39m \u001B[38;5;124m'\u001B[39m\u001B[38;5;124mzBdWWsp8Y4xGYjyjFCiX\u001B[39m\u001B[38;5;124m'\u001B[39m\n\u001B[1;32m      2\u001B[0m api_key \u001B[38;5;241m=\u001B[39m os\u001B[38;5;241m.\u001B[39menviron[\u001B[38;5;124m'\u001B[39m\u001B[38;5;124mQUANDL_API_KEY\u001B[39m\u001B[38;5;124m'\u001B[39m]\n\u001B[0;32m----> 3\u001B[0m oil \u001B[38;5;241m=\u001B[39m quandl\u001B[38;5;241m.\u001B[39mget(\u001B[38;5;124m'\u001B[39m\u001B[38;5;124mEIA/PET_RWTC_D\u001B[39m\u001B[38;5;124m'\u001B[39m, api_key\u001B[38;5;241m=\u001B[39mapi_key)\u001B[38;5;241m.\u001B[39msqueeze()\n",
      "File \u001B[0;32m~/anaconda3/lib/python3.11/site-packages/quandl/get.py:48\u001B[0m, in \u001B[0;36mget\u001B[0;34m(dataset, **kwargs)\u001B[0m\n\u001B[1;32m     46\u001B[0m     \u001B[38;5;28;01mif\u001B[39;00m dataset_args[\u001B[38;5;124m'\u001B[39m\u001B[38;5;124mcolumn_index\u001B[39m\u001B[38;5;124m'\u001B[39m] \u001B[38;5;129;01mis\u001B[39;00m \u001B[38;5;129;01mnot\u001B[39;00m \u001B[38;5;28;01mNone\u001B[39;00m:\n\u001B[1;32m     47\u001B[0m         kwargs\u001B[38;5;241m.\u001B[39mupdate({\u001B[38;5;124m'\u001B[39m\u001B[38;5;124mcolumn_index\u001B[39m\u001B[38;5;124m'\u001B[39m: dataset_args[\u001B[38;5;124m'\u001B[39m\u001B[38;5;124mcolumn_index\u001B[39m\u001B[38;5;124m'\u001B[39m]})\n\u001B[0;32m---> 48\u001B[0m     data \u001B[38;5;241m=\u001B[39m Dataset(dataset_args[\u001B[38;5;124m'\u001B[39m\u001B[38;5;124mcode\u001B[39m\u001B[38;5;124m'\u001B[39m])\u001B[38;5;241m.\u001B[39mdata(params\u001B[38;5;241m=\u001B[39mkwargs, handle_column_not_found\u001B[38;5;241m=\u001B[39m\u001B[38;5;28;01mTrue\u001B[39;00m)\n\u001B[1;32m     49\u001B[0m \u001B[38;5;66;03m# Array\u001B[39;00m\n\u001B[1;32m     50\u001B[0m \u001B[38;5;28;01melif\u001B[39;00m \u001B[38;5;28misinstance\u001B[39m(dataset, \u001B[38;5;28mlist\u001B[39m):\n",
      "File \u001B[0;32m~/anaconda3/lib/python3.11/site-packages/quandl/model/dataset.py:47\u001B[0m, in \u001B[0;36mDataset.data\u001B[0;34m(self, **options)\u001B[0m\n\u001B[1;32m     45\u001B[0m updated_options \u001B[38;5;241m=\u001B[39m Util\u001B[38;5;241m.\u001B[39mmerge_options(\u001B[38;5;124m'\u001B[39m\u001B[38;5;124mparams\u001B[39m\u001B[38;5;124m'\u001B[39m, params, \u001B[38;5;241m*\u001B[39m\u001B[38;5;241m*\u001B[39moptions)\n\u001B[1;32m     46\u001B[0m \u001B[38;5;28;01mtry\u001B[39;00m:\n\u001B[0;32m---> 47\u001B[0m     \u001B[38;5;28;01mreturn\u001B[39;00m Data\u001B[38;5;241m.\u001B[39mall(\u001B[38;5;241m*\u001B[39m\u001B[38;5;241m*\u001B[39mupdated_options)\n\u001B[1;32m     48\u001B[0m \u001B[38;5;28;01mexcept\u001B[39;00m NotFoundError:\n\u001B[1;32m     49\u001B[0m     \u001B[38;5;28;01mif\u001B[39;00m handle_not_found_error:\n",
      "File \u001B[0;32m~/anaconda3/lib/python3.11/site-packages/quandl/operations/list.py:15\u001B[0m, in \u001B[0;36mListOperation.all\u001B[0;34m(cls, **options)\u001B[0m\n\u001B[1;32m     13\u001B[0m     options[\u001B[38;5;124m'\u001B[39m\u001B[38;5;124mparams\u001B[39m\u001B[38;5;124m'\u001B[39m] \u001B[38;5;241m=\u001B[39m {}\n\u001B[1;32m     14\u001B[0m path \u001B[38;5;241m=\u001B[39m Util\u001B[38;5;241m.\u001B[39mconstructed_path(\u001B[38;5;28mcls\u001B[39m\u001B[38;5;241m.\u001B[39mlist_path(), options[\u001B[38;5;124m'\u001B[39m\u001B[38;5;124mparams\u001B[39m\u001B[38;5;124m'\u001B[39m])\n\u001B[0;32m---> 15\u001B[0m r \u001B[38;5;241m=\u001B[39m Connection\u001B[38;5;241m.\u001B[39mrequest(\u001B[38;5;124m'\u001B[39m\u001B[38;5;124mget\u001B[39m\u001B[38;5;124m'\u001B[39m, path, \u001B[38;5;241m*\u001B[39m\u001B[38;5;241m*\u001B[39moptions)\n\u001B[1;32m     16\u001B[0m response_data \u001B[38;5;241m=\u001B[39m r\u001B[38;5;241m.\u001B[39mjson()\n\u001B[1;32m     17\u001B[0m Util\u001B[38;5;241m.\u001B[39mconvert_to_dates(response_data)\n",
      "File \u001B[0;32m~/anaconda3/lib/python3.11/site-packages/quandl/connection.py:38\u001B[0m, in \u001B[0;36mConnection.request\u001B[0;34m(cls, http_verb, url, **options)\u001B[0m\n\u001B[1;32m     34\u001B[0m options[\u001B[38;5;124m'\u001B[39m\u001B[38;5;124mheaders\u001B[39m\u001B[38;5;124m'\u001B[39m] \u001B[38;5;241m=\u001B[39m headers\n\u001B[1;32m     36\u001B[0m abs_url \u001B[38;5;241m=\u001B[39m \u001B[38;5;124m'\u001B[39m\u001B[38;5;132;01m%s\u001B[39;00m\u001B[38;5;124m/\u001B[39m\u001B[38;5;132;01m%s\u001B[39;00m\u001B[38;5;124m'\u001B[39m \u001B[38;5;241m%\u001B[39m (ApiConfig\u001B[38;5;241m.\u001B[39mapi_base, url)\n\u001B[0;32m---> 38\u001B[0m \u001B[38;5;28;01mreturn\u001B[39;00m \u001B[38;5;28mcls\u001B[39m\u001B[38;5;241m.\u001B[39mexecute_request(http_verb, abs_url, \u001B[38;5;241m*\u001B[39m\u001B[38;5;241m*\u001B[39moptions)\n",
      "File \u001B[0;32m~/anaconda3/lib/python3.11/site-packages/quandl/connection.py:50\u001B[0m, in \u001B[0;36mConnection.execute_request\u001B[0;34m(cls, http_verb, url, **options)\u001B[0m\n\u001B[1;32m     45\u001B[0m response \u001B[38;5;241m=\u001B[39m session\u001B[38;5;241m.\u001B[39mrequest(method\u001B[38;5;241m=\u001B[39mhttp_verb,\n\u001B[1;32m     46\u001B[0m                            url\u001B[38;5;241m=\u001B[39murl,\n\u001B[1;32m     47\u001B[0m                            verify\u001B[38;5;241m=\u001B[39mApiConfig\u001B[38;5;241m.\u001B[39mverify_ssl,\n\u001B[1;32m     48\u001B[0m                            \u001B[38;5;241m*\u001B[39m\u001B[38;5;241m*\u001B[39moptions)\n\u001B[1;32m     49\u001B[0m \u001B[38;5;28;01mif\u001B[39;00m response\u001B[38;5;241m.\u001B[39mstatus_code \u001B[38;5;241m<\u001B[39m \u001B[38;5;241m200\u001B[39m \u001B[38;5;129;01mor\u001B[39;00m response\u001B[38;5;241m.\u001B[39mstatus_code \u001B[38;5;241m>\u001B[39m\u001B[38;5;241m=\u001B[39m \u001B[38;5;241m300\u001B[39m:\n\u001B[0;32m---> 50\u001B[0m     \u001B[38;5;28mcls\u001B[39m\u001B[38;5;241m.\u001B[39mhandle_api_error(response)\n\u001B[1;32m     51\u001B[0m \u001B[38;5;28;01melse\u001B[39;00m:\n\u001B[1;32m     52\u001B[0m     \u001B[38;5;28;01mreturn\u001B[39;00m response\n",
      "File \u001B[0;32m~/anaconda3/lib/python3.11/site-packages/quandl/connection.py:114\u001B[0m, in \u001B[0;36mConnection.handle_api_error\u001B[0;34m(cls, resp)\u001B[0m\n\u001B[1;32m    103\u001B[0m d_klass \u001B[38;5;241m=\u001B[39m {\n\u001B[1;32m    104\u001B[0m     \u001B[38;5;124m'\u001B[39m\u001B[38;5;124mL\u001B[39m\u001B[38;5;124m'\u001B[39m: LimitExceededError,\n\u001B[1;32m    105\u001B[0m     \u001B[38;5;124m'\u001B[39m\u001B[38;5;124mM\u001B[39m\u001B[38;5;124m'\u001B[39m: InternalServerError,\n\u001B[0;32m   (...)\u001B[0m\n\u001B[1;32m    110\u001B[0m     \u001B[38;5;124m'\u001B[39m\u001B[38;5;124mX\u001B[39m\u001B[38;5;124m'\u001B[39m: ServiceUnavailableError\n\u001B[1;32m    111\u001B[0m }\n\u001B[1;32m    112\u001B[0m klass \u001B[38;5;241m=\u001B[39m d_klass\u001B[38;5;241m.\u001B[39mget(code_letter, QuandlError)\n\u001B[0;32m--> 114\u001B[0m \u001B[38;5;28;01mraise\u001B[39;00m klass(message, resp\u001B[38;5;241m.\u001B[39mstatus_code, resp\u001B[38;5;241m.\u001B[39mtext, resp\u001B[38;5;241m.\u001B[39mheaders, code)\n",
      "\u001B[0;31mNotFoundError\u001B[0m: (Status 404) (Quandl Error QECx02) You have submitted an incorrect Dataset code. Please check your Dataset codes and try again."
     ]
    }
   ],
   "source": [
    "os.environ['QUANDL_API_KEY'] = 'zBdWWsp8Y4xGYjyjFCiX'\n",
    "api_key = os.environ['QUANDL_API_KEY']\n",
    "oil = quandl.get('EIA/PET_RWTC_D', api_key=api_key).squeeze()"
   ]
  },
  {
   "cell_type": "code",
   "execution_count": 16,
   "metadata": {
    "ExecuteTime": {
     "end_time": "2024-01-24T18:07:09.314118Z",
     "start_time": "2024-01-24T18:07:09.274403Z"
    }
   },
   "outputs": [
    {
     "ename": "NameError",
     "evalue": "name 'oil' is not defined",
     "output_type": "error",
     "traceback": [
      "\u001B[0;31m---------------------------------------------------------------------------\u001B[0m",
      "\u001B[0;31mNameError\u001B[0m                                 Traceback (most recent call last)",
      "Cell \u001B[0;32mIn[16], line 1\u001B[0m\n\u001B[0;32m----> 1\u001B[0m oil\u001B[38;5;241m.\u001B[39mplot(lw\u001B[38;5;241m=\u001B[39m\u001B[38;5;241m2\u001B[39m, title\u001B[38;5;241m=\u001B[39m\u001B[38;5;124m'\u001B[39m\u001B[38;5;124mWTI Crude Oil Price\u001B[39m\u001B[38;5;124m'\u001B[39m, figsize\u001B[38;5;241m=\u001B[39m(\u001B[38;5;241m12\u001B[39m, \u001B[38;5;241m4\u001B[39m))\n\u001B[1;32m      2\u001B[0m sns\u001B[38;5;241m.\u001B[39mdespine()\n\u001B[1;32m      3\u001B[0m plt\u001B[38;5;241m.\u001B[39mtight_layout()\n",
      "\u001B[0;31mNameError\u001B[0m: name 'oil' is not defined"
     ]
    }
   ],
   "source": [
    "oil.plot(lw=2, title='WTI Crude Oil Price', figsize=(12, 4))\n",
    "sns.despine()\n",
    "plt.tight_layout();"
   ]
  },
  {
   "cell_type": "code",
   "execution_count": null,
   "outputs": [],
   "source": [],
   "metadata": {
    "collapsed": false
   }
  }
 ],
 "metadata": {
  "kernelspec": {
   "display_name": "Python 3",
   "language": "python",
   "name": "python3"
  },
  "language_info": {
   "codemirror_mode": {
    "name": "ipython",
    "version": 3
   },
   "file_extension": ".py",
   "mimetype": "text/x-python",
   "name": "python",
   "nbconvert_exporter": "python",
   "pygments_lexer": "ipython3",
   "version": "3.8.5"
  },
  "toc": {
   "base_numbering": 1,
   "nav_menu": {},
   "number_sections": true,
   "sideBar": true,
   "skip_h1_title": false,
   "title_cell": "Table of Contents",
   "title_sidebar": "Contents",
   "toc_cell": false,
   "toc_position": {},
   "toc_section_display": true,
   "toc_window_display": false
  }
 },
 "nbformat": 4,
 "nbformat_minor": 2
}
