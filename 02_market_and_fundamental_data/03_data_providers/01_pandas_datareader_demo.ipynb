{
 "cells": [
  {
   "cell_type": "markdown",
   "metadata": {},
   "source": [
    "# Remote data access using pandas"
   ]
  },
  {
   "cell_type": "markdown",
   "metadata": {},
   "source": [
    "The pandas library enables access to data displayed on websites using the `read_html()` function and access to the API endpoints of various data providers through the related `pandas-datareader` library."
   ]
  },
  {
   "cell_type": "markdown",
   "metadata": {},
   "source": [
    "## Imports & Settings"
   ]
  },
  {
   "cell_type": "code",
   "execution_count": 1,
   "metadata": {
    "ExecuteTime": {
     "end_time": "2024-01-10T16:50:37.956319Z",
     "start_time": "2024-01-10T16:50:37.954392Z"
    }
   },
   "outputs": [],
   "source": [
    "import warnings\n",
    "warnings.filterwarnings('ignore')"
   ]
  },
  {
   "cell_type": "code",
   "execution_count": 2,
   "metadata": {
    "ExecuteTime": {
     "end_time": "2024-01-10T16:50:38.205448Z",
     "start_time": "2024-01-10T16:50:37.958109Z"
    }
   },
   "outputs": [],
   "source": [
    "%matplotlib inline\n",
    "import os\n",
    "from datetime import datetime\n",
    "import pandas as pd\n",
    "import pandas_datareader.data as web\n",
    "import matplotlib.pyplot as plt\n",
    "import mplfinance as mpf\n",
    "import seaborn as sns"
   ]
  },
  {
   "cell_type": "markdown",
   "metadata": {},
   "source": [
    "## Download html table with SP500 constituents"
   ]
  },
  {
   "cell_type": "markdown",
   "metadata": {},
   "source": [
    "The download of the content of one or more html tables works as follows, for instance for the constituents of the S&P500 index from Wikipedia"
   ]
  },
  {
   "cell_type": "code",
   "execution_count": 3,
   "metadata": {
    "ExecuteTime": {
     "end_time": "2024-01-10T16:50:41.650902Z",
     "start_time": "2024-01-10T16:50:40.979060Z"
    }
   },
   "outputs": [],
   "source": [
    "sp_url = 'https://en.wikipedia.org/wiki/List_of_S%26P_500_companies'\n",
    "sp500_constituents = pd.read_html(sp_url, header=0)[0]"
   ]
  },
  {
   "cell_type": "code",
   "execution_count": 4,
   "metadata": {
    "scrolled": true,
    "ExecuteTime": {
     "end_time": "2024-01-10T16:50:41.660990Z",
     "start_time": "2024-01-10T16:50:41.657434Z"
    }
   },
   "outputs": [
    {
     "name": "stdout",
     "output_type": "stream",
     "text": [
      "<class 'pandas.core.frame.DataFrame'>\n",
      "RangeIndex: 503 entries, 0 to 502\n",
      "Data columns (total 8 columns):\n",
      " #   Column                 Non-Null Count  Dtype \n",
      "---  ------                 --------------  ----- \n",
      " 0   Symbol                 503 non-null    object\n",
      " 1   Security               503 non-null    object\n",
      " 2   GICS Sector            503 non-null    object\n",
      " 3   GICS Sub-Industry      503 non-null    object\n",
      " 4   Headquarters Location  503 non-null    object\n",
      " 5   Date added             503 non-null    object\n",
      " 6   CIK                    503 non-null    int64 \n",
      " 7   Founded                503 non-null    object\n",
      "dtypes: int64(1), object(7)\n",
      "memory usage: 31.6+ KB\n"
     ]
    }
   ],
   "source": [
    "sp500_constituents.info()"
   ]
  },
  {
   "cell_type": "code",
   "execution_count": 5,
   "metadata": {
    "ExecuteTime": {
     "end_time": "2024-01-10T16:50:41.976862Z",
     "start_time": "2024-01-10T16:50:41.963596Z"
    }
   },
   "outputs": [
    {
     "data": {
      "text/plain": "  Symbol     Security             GICS Sector               GICS Sub-Industry  \\\n0    MMM           3M             Industrials        Industrial Conglomerates   \n1    AOS  A. O. Smith             Industrials               Building Products   \n2    ABT       Abbott             Health Care           Health Care Equipment   \n3   ABBV       AbbVie             Health Care                   Biotechnology   \n4    ACN    Accenture  Information Technology  IT Consulting & Other Services   \n\n     Headquarters Location  Date added      CIK      Founded  \n0    Saint Paul, Minnesota  1957-03-04    66740         1902  \n1     Milwaukee, Wisconsin  2017-07-26    91142         1916  \n2  North Chicago, Illinois  1957-03-04     1800         1888  \n3  North Chicago, Illinois  2012-12-31  1551152  2013 (1888)  \n4          Dublin, Ireland  2011-07-06  1467373         1989  ",
      "text/html": "<div>\n<style scoped>\n    .dataframe tbody tr th:only-of-type {\n        vertical-align: middle;\n    }\n\n    .dataframe tbody tr th {\n        vertical-align: top;\n    }\n\n    .dataframe thead th {\n        text-align: right;\n    }\n</style>\n<table border=\"1\" class=\"dataframe\">\n  <thead>\n    <tr style=\"text-align: right;\">\n      <th></th>\n      <th>Symbol</th>\n      <th>Security</th>\n      <th>GICS Sector</th>\n      <th>GICS Sub-Industry</th>\n      <th>Headquarters Location</th>\n      <th>Date added</th>\n      <th>CIK</th>\n      <th>Founded</th>\n    </tr>\n  </thead>\n  <tbody>\n    <tr>\n      <th>0</th>\n      <td>MMM</td>\n      <td>3M</td>\n      <td>Industrials</td>\n      <td>Industrial Conglomerates</td>\n      <td>Saint Paul, Minnesota</td>\n      <td>1957-03-04</td>\n      <td>66740</td>\n      <td>1902</td>\n    </tr>\n    <tr>\n      <th>1</th>\n      <td>AOS</td>\n      <td>A. O. Smith</td>\n      <td>Industrials</td>\n      <td>Building Products</td>\n      <td>Milwaukee, Wisconsin</td>\n      <td>2017-07-26</td>\n      <td>91142</td>\n      <td>1916</td>\n    </tr>\n    <tr>\n      <th>2</th>\n      <td>ABT</td>\n      <td>Abbott</td>\n      <td>Health Care</td>\n      <td>Health Care Equipment</td>\n      <td>North Chicago, Illinois</td>\n      <td>1957-03-04</td>\n      <td>1800</td>\n      <td>1888</td>\n    </tr>\n    <tr>\n      <th>3</th>\n      <td>ABBV</td>\n      <td>AbbVie</td>\n      <td>Health Care</td>\n      <td>Biotechnology</td>\n      <td>North Chicago, Illinois</td>\n      <td>2012-12-31</td>\n      <td>1551152</td>\n      <td>2013 (1888)</td>\n    </tr>\n    <tr>\n      <th>4</th>\n      <td>ACN</td>\n      <td>Accenture</td>\n      <td>Information Technology</td>\n      <td>IT Consulting &amp; Other Services</td>\n      <td>Dublin, Ireland</td>\n      <td>2011-07-06</td>\n      <td>1467373</td>\n      <td>1989</td>\n    </tr>\n  </tbody>\n</table>\n</div>"
     },
     "execution_count": 5,
     "metadata": {},
     "output_type": "execute_result"
    }
   ],
   "source": [
    "sp500_constituents.head()"
   ]
  },
  {
   "cell_type": "markdown",
   "metadata": {},
   "source": [
    "## pandas-datareader for Market Data"
   ]
  },
  {
   "cell_type": "markdown",
   "metadata": {},
   "source": [
    "`pandas` used to facilitate access to data providers' APIs directly, but this functionality has moved to the related pandas-datareader library. The stability of the APIs varies with provider policies, and as of June 2o18 at version 0.7, the following sources are available"
   ]
  },
  {
   "cell_type": "markdown",
   "metadata": {},
   "source": [
    "See [documentation](https://pandas-datareader.readthedocs.io/en/latest/); functionality frequently changes as underlying provider APIs evolve."
   ]
  },
  {
   "cell_type": "markdown",
   "metadata": {},
   "source": [
    "### Yahoo Finance"
   ]
  },
  {
   "cell_type": "code",
   "execution_count": 6,
   "metadata": {
    "ExecuteTime": {
     "end_time": "2024-01-10T16:50:48.542084Z",
     "start_time": "2024-01-10T16:50:46.476246Z"
    }
   },
   "outputs": [
    {
     "ename": "TypeError",
     "evalue": "string indices must be integers, not 'str'",
     "output_type": "error",
     "traceback": [
      "\u001B[0;31m---------------------------------------------------------------------------\u001B[0m",
      "\u001B[0;31mTypeError\u001B[0m                                 Traceback (most recent call last)",
      "Cell \u001B[0;32mIn[6], line 4\u001B[0m\n\u001B[1;32m      1\u001B[0m start \u001B[38;5;241m=\u001B[39m \u001B[38;5;124m'\u001B[39m\u001B[38;5;124m2014\u001B[39m\u001B[38;5;124m'\u001B[39m\n\u001B[1;32m      2\u001B[0m end \u001B[38;5;241m=\u001B[39m datetime(\u001B[38;5;241m2017\u001B[39m, \u001B[38;5;241m5\u001B[39m, \u001B[38;5;241m24\u001B[39m)\n\u001B[0;32m----> 4\u001B[0m yahoo\u001B[38;5;241m=\u001B[39m web\u001B[38;5;241m.\u001B[39mDataReader(\u001B[38;5;124m'\u001B[39m\u001B[38;5;124mFB\u001B[39m\u001B[38;5;124m'\u001B[39m, \u001B[38;5;124m'\u001B[39m\u001B[38;5;124myahoo\u001B[39m\u001B[38;5;124m'\u001B[39m, start\u001B[38;5;241m=\u001B[39mstart, end\u001B[38;5;241m=\u001B[39mend)\n\u001B[1;32m      5\u001B[0m yahoo\u001B[38;5;241m.\u001B[39minfo()\n",
      "File \u001B[0;32m~/anaconda3/lib/python3.11/site-packages/pandas/util/_decorators.py:210\u001B[0m, in \u001B[0;36mdeprecate_kwarg.<locals>._deprecate_kwarg.<locals>.wrapper\u001B[0;34m(*args, **kwargs)\u001B[0m\n\u001B[1;32m    208\u001B[0m         \u001B[38;5;28;01mraise\u001B[39;00m \u001B[38;5;167;01mTypeError\u001B[39;00m(msg)\n\u001B[1;32m    209\u001B[0m     kwargs[new_arg_name] \u001B[38;5;241m=\u001B[39m new_arg_value\n\u001B[0;32m--> 210\u001B[0m \u001B[38;5;28;01mreturn\u001B[39;00m func(\u001B[38;5;241m*\u001B[39margs, \u001B[38;5;241m*\u001B[39m\u001B[38;5;241m*\u001B[39mkwargs)\n",
      "File \u001B[0;32m~/anaconda3/lib/python3.11/site-packages/pandas_datareader/data.py:379\u001B[0m, in \u001B[0;36mDataReader\u001B[0;34m(name, data_source, start, end, retry_count, pause, session, api_key)\u001B[0m\n\u001B[1;32m    367\u001B[0m     \u001B[38;5;28;01mraise\u001B[39;00m \u001B[38;5;167;01mNotImplementedError\u001B[39;00m(msg)\n\u001B[1;32m    369\u001B[0m \u001B[38;5;28;01mif\u001B[39;00m data_source \u001B[38;5;241m==\u001B[39m \u001B[38;5;124m\"\u001B[39m\u001B[38;5;124myahoo\u001B[39m\u001B[38;5;124m\"\u001B[39m:\n\u001B[1;32m    370\u001B[0m     \u001B[38;5;28;01mreturn\u001B[39;00m YahooDailyReader(\n\u001B[1;32m    371\u001B[0m         symbols\u001B[38;5;241m=\u001B[39mname,\n\u001B[1;32m    372\u001B[0m         start\u001B[38;5;241m=\u001B[39mstart,\n\u001B[1;32m    373\u001B[0m         end\u001B[38;5;241m=\u001B[39mend,\n\u001B[1;32m    374\u001B[0m         adjust_price\u001B[38;5;241m=\u001B[39m\u001B[38;5;28;01mFalse\u001B[39;00m,\n\u001B[1;32m    375\u001B[0m         chunksize\u001B[38;5;241m=\u001B[39m\u001B[38;5;241m25\u001B[39m,\n\u001B[1;32m    376\u001B[0m         retry_count\u001B[38;5;241m=\u001B[39mretry_count,\n\u001B[1;32m    377\u001B[0m         pause\u001B[38;5;241m=\u001B[39mpause,\n\u001B[1;32m    378\u001B[0m         session\u001B[38;5;241m=\u001B[39msession,\n\u001B[0;32m--> 379\u001B[0m     )\u001B[38;5;241m.\u001B[39mread()\n\u001B[1;32m    381\u001B[0m \u001B[38;5;28;01melif\u001B[39;00m data_source \u001B[38;5;241m==\u001B[39m \u001B[38;5;124m\"\u001B[39m\u001B[38;5;124miex\u001B[39m\u001B[38;5;124m\"\u001B[39m:\n\u001B[1;32m    382\u001B[0m     \u001B[38;5;28;01mreturn\u001B[39;00m IEXDailyReader(\n\u001B[1;32m    383\u001B[0m         symbols\u001B[38;5;241m=\u001B[39mname,\n\u001B[1;32m    384\u001B[0m         start\u001B[38;5;241m=\u001B[39mstart,\n\u001B[0;32m   (...)\u001B[0m\n\u001B[1;32m    390\u001B[0m         session\u001B[38;5;241m=\u001B[39msession,\n\u001B[1;32m    391\u001B[0m     )\u001B[38;5;241m.\u001B[39mread()\n",
      "File \u001B[0;32m~/anaconda3/lib/python3.11/site-packages/pandas_datareader/base.py:253\u001B[0m, in \u001B[0;36m_DailyBaseReader.read\u001B[0;34m(self)\u001B[0m\n\u001B[1;32m    251\u001B[0m \u001B[38;5;66;03m# If a single symbol, (e.g., 'GOOG')\u001B[39;00m\n\u001B[1;32m    252\u001B[0m \u001B[38;5;28;01mif\u001B[39;00m \u001B[38;5;28misinstance\u001B[39m(\u001B[38;5;28mself\u001B[39m\u001B[38;5;241m.\u001B[39msymbols, (string_types, \u001B[38;5;28mint\u001B[39m)):\n\u001B[0;32m--> 253\u001B[0m     df \u001B[38;5;241m=\u001B[39m \u001B[38;5;28mself\u001B[39m\u001B[38;5;241m.\u001B[39m_read_one_data(\u001B[38;5;28mself\u001B[39m\u001B[38;5;241m.\u001B[39murl, params\u001B[38;5;241m=\u001B[39m\u001B[38;5;28mself\u001B[39m\u001B[38;5;241m.\u001B[39m_get_params(\u001B[38;5;28mself\u001B[39m\u001B[38;5;241m.\u001B[39msymbols))\n\u001B[1;32m    254\u001B[0m \u001B[38;5;66;03m# Or multiple symbols, (e.g., ['GOOG', 'AAPL', 'MSFT'])\u001B[39;00m\n\u001B[1;32m    255\u001B[0m \u001B[38;5;28;01melif\u001B[39;00m \u001B[38;5;28misinstance\u001B[39m(\u001B[38;5;28mself\u001B[39m\u001B[38;5;241m.\u001B[39msymbols, DataFrame):\n",
      "File \u001B[0;32m~/anaconda3/lib/python3.11/site-packages/pandas_datareader/yahoo/daily.py:153\u001B[0m, in \u001B[0;36mYahooDailyReader._read_one_data\u001B[0;34m(self, url, params)\u001B[0m\n\u001B[1;32m    151\u001B[0m \u001B[38;5;28;01mtry\u001B[39;00m:\n\u001B[1;32m    152\u001B[0m     j \u001B[38;5;241m=\u001B[39m json\u001B[38;5;241m.\u001B[39mloads(re\u001B[38;5;241m.\u001B[39msearch(ptrn, resp\u001B[38;5;241m.\u001B[39mtext, re\u001B[38;5;241m.\u001B[39mDOTALL)\u001B[38;5;241m.\u001B[39mgroup(\u001B[38;5;241m1\u001B[39m))\n\u001B[0;32m--> 153\u001B[0m     data \u001B[38;5;241m=\u001B[39m j[\u001B[38;5;124m\"\u001B[39m\u001B[38;5;124mcontext\u001B[39m\u001B[38;5;124m\"\u001B[39m][\u001B[38;5;124m\"\u001B[39m\u001B[38;5;124mdispatcher\u001B[39m\u001B[38;5;124m\"\u001B[39m][\u001B[38;5;124m\"\u001B[39m\u001B[38;5;124mstores\u001B[39m\u001B[38;5;124m\"\u001B[39m][\u001B[38;5;124m\"\u001B[39m\u001B[38;5;124mHistoricalPriceStore\u001B[39m\u001B[38;5;124m\"\u001B[39m]\n\u001B[1;32m    154\u001B[0m \u001B[38;5;28;01mexcept\u001B[39;00m \u001B[38;5;167;01mKeyError\u001B[39;00m:\n\u001B[1;32m    155\u001B[0m     msg \u001B[38;5;241m=\u001B[39m \u001B[38;5;124m\"\u001B[39m\u001B[38;5;124mNo data fetched for symbol \u001B[39m\u001B[38;5;132;01m{}\u001B[39;00m\u001B[38;5;124m using \u001B[39m\u001B[38;5;132;01m{}\u001B[39;00m\u001B[38;5;124m\"\u001B[39m\n",
      "\u001B[0;31mTypeError\u001B[0m: string indices must be integers, not 'str'"
     ]
    }
   ],
   "source": [
    "start = '2014'\n",
    "end = datetime(2017, 5, 24)\n",
    "\n",
    "yahoo= web.DataReader('FB', 'yahoo', start=start, end=end)\n",
    "yahoo.info()"
   ]
  },
  {
   "cell_type": "code",
   "execution_count": null,
   "metadata": {},
   "outputs": [],
   "source": [
    "mpf.plot(yahoo.drop('Adj Close', axis=1), type='candle')\n",
    "plt.tight_layout()"
   ]
  },
  {
   "cell_type": "markdown",
   "metadata": {},
   "source": [
    "### IEX"
   ]
  },
  {
   "cell_type": "markdown",
   "metadata": {},
   "source": [
    "IEX is an alternative exchange started in response to the HFT controversy and portrayed in Michael Lewis' controversial Flash Boys. It aims to slow down the speed of trading to create a more level playing field and has been growing rapidly since launch in 2016 while still small with a market share of around 2.5% in June 2018."
   ]
  },
  {
   "cell_type": "markdown",
   "metadata": {},
   "source": [
    "> **Note:** IEX now requires an [API](https://iexcloud.io/) key after registration for (free) account that you can store as environment variable and retrieve as illustrated below, or pass directly via keyword argument to `pandas_datareader`."
   ]
  },
  {
   "cell_type": "code",
   "execution_count": 10,
   "metadata": {
    "ExecuteTime": {
     "end_time": "2024-01-05T19:01:07.480947Z",
     "start_time": "2024-01-05T19:01:07.475129Z"
    }
   },
   "outputs": [],
   "source": [
    "IEX_API_KEY=os.getenv('IEX_API_KEY')"
   ]
  },
  {
   "cell_type": "code",
   "execution_count": 11,
   "metadata": {
    "ExecuteTime": {
     "end_time": "2024-01-05T19:01:08.376046Z",
     "start_time": "2024-01-05T19:01:08.302291Z"
    }
   },
   "outputs": [
    {
     "ename": "ValueError",
     "evalue": "The IEX Cloud API key must be provided either through the api_key variable or through the  environment variable IEX_API_KEY",
     "output_type": "error",
     "traceback": [
      "\u001B[0;31m---------------------------------------------------------------------------\u001B[0m",
      "\u001B[0;31mValueError\u001B[0m                                Traceback (most recent call last)",
      "Cell \u001B[0;32mIn[11], line 4\u001B[0m\n\u001B[1;32m      1\u001B[0m start \u001B[38;5;241m=\u001B[39m datetime(\u001B[38;5;241m2015\u001B[39m, \u001B[38;5;241m2\u001B[39m, \u001B[38;5;241m9\u001B[39m)\n\u001B[1;32m      2\u001B[0m \u001B[38;5;66;03m# end = datetime(2017, 5, 24)\u001B[39;00m\n\u001B[0;32m----> 4\u001B[0m iex \u001B[38;5;241m=\u001B[39m web\u001B[38;5;241m.\u001B[39mDataReader(\u001B[38;5;124m'\u001B[39m\u001B[38;5;124mFB\u001B[39m\u001B[38;5;124m'\u001B[39m, \u001B[38;5;124m'\u001B[39m\u001B[38;5;124miex\u001B[39m\u001B[38;5;124m'\u001B[39m, start, api_key\u001B[38;5;241m=\u001B[39mIEX_API_KEY)\n\u001B[1;32m      5\u001B[0m iex\u001B[38;5;241m.\u001B[39minfo()\n",
      "File \u001B[0;32m~/anaconda3/lib/python3.11/site-packages/pandas/util/_decorators.py:210\u001B[0m, in \u001B[0;36mdeprecate_kwarg.<locals>._deprecate_kwarg.<locals>.wrapper\u001B[0;34m(*args, **kwargs)\u001B[0m\n\u001B[1;32m    208\u001B[0m         \u001B[38;5;28;01mraise\u001B[39;00m \u001B[38;5;167;01mTypeError\u001B[39;00m(msg)\n\u001B[1;32m    209\u001B[0m     kwargs[new_arg_name] \u001B[38;5;241m=\u001B[39m new_arg_value\n\u001B[0;32m--> 210\u001B[0m \u001B[38;5;28;01mreturn\u001B[39;00m func(\u001B[38;5;241m*\u001B[39margs, \u001B[38;5;241m*\u001B[39m\u001B[38;5;241m*\u001B[39mkwargs)\n",
      "File \u001B[0;32m~/anaconda3/lib/python3.11/site-packages/pandas_datareader/data.py:382\u001B[0m, in \u001B[0;36mDataReader\u001B[0;34m(name, data_source, start, end, retry_count, pause, session, api_key)\u001B[0m\n\u001B[1;32m    370\u001B[0m     \u001B[38;5;28;01mreturn\u001B[39;00m YahooDailyReader(\n\u001B[1;32m    371\u001B[0m         symbols\u001B[38;5;241m=\u001B[39mname,\n\u001B[1;32m    372\u001B[0m         start\u001B[38;5;241m=\u001B[39mstart,\n\u001B[0;32m   (...)\u001B[0m\n\u001B[1;32m    378\u001B[0m         session\u001B[38;5;241m=\u001B[39msession,\n\u001B[1;32m    379\u001B[0m     )\u001B[38;5;241m.\u001B[39mread()\n\u001B[1;32m    381\u001B[0m \u001B[38;5;28;01melif\u001B[39;00m data_source \u001B[38;5;241m==\u001B[39m \u001B[38;5;124m\"\u001B[39m\u001B[38;5;124miex\u001B[39m\u001B[38;5;124m\"\u001B[39m:\n\u001B[0;32m--> 382\u001B[0m     \u001B[38;5;28;01mreturn\u001B[39;00m IEXDailyReader(\n\u001B[1;32m    383\u001B[0m         symbols\u001B[38;5;241m=\u001B[39mname,\n\u001B[1;32m    384\u001B[0m         start\u001B[38;5;241m=\u001B[39mstart,\n\u001B[1;32m    385\u001B[0m         end\u001B[38;5;241m=\u001B[39mend,\n\u001B[1;32m    386\u001B[0m         chunksize\u001B[38;5;241m=\u001B[39m\u001B[38;5;241m25\u001B[39m,\n\u001B[1;32m    387\u001B[0m         api_key\u001B[38;5;241m=\u001B[39mapi_key,\n\u001B[1;32m    388\u001B[0m         retry_count\u001B[38;5;241m=\u001B[39mretry_count,\n\u001B[1;32m    389\u001B[0m         pause\u001B[38;5;241m=\u001B[39mpause,\n\u001B[1;32m    390\u001B[0m         session\u001B[38;5;241m=\u001B[39msession,\n\u001B[1;32m    391\u001B[0m     )\u001B[38;5;241m.\u001B[39mread()\n\u001B[1;32m    393\u001B[0m \u001B[38;5;28;01melif\u001B[39;00m data_source \u001B[38;5;241m==\u001B[39m \u001B[38;5;124m\"\u001B[39m\u001B[38;5;124miex-tops\u001B[39m\u001B[38;5;124m\"\u001B[39m:\n\u001B[1;32m    394\u001B[0m     \u001B[38;5;28;01mreturn\u001B[39;00m IEXTops(\n\u001B[1;32m    395\u001B[0m         symbols\u001B[38;5;241m=\u001B[39mname,\n\u001B[1;32m    396\u001B[0m         start\u001B[38;5;241m=\u001B[39mstart,\n\u001B[0;32m   (...)\u001B[0m\n\u001B[1;32m    400\u001B[0m         session\u001B[38;5;241m=\u001B[39msession,\n\u001B[1;32m    401\u001B[0m     )\u001B[38;5;241m.\u001B[39mread()\n",
      "File \u001B[0;32m~/anaconda3/lib/python3.11/site-packages/pandas_datareader/iex/daily.py:63\u001B[0m, in \u001B[0;36mIEXDailyReader.__init__\u001B[0;34m(self, symbols, start, end, retry_count, pause, session, chunksize, api_key)\u001B[0m\n\u001B[1;32m     61\u001B[0m     api_key \u001B[38;5;241m=\u001B[39m os\u001B[38;5;241m.\u001B[39mgetenv(\u001B[38;5;124m\"\u001B[39m\u001B[38;5;124mIEX_API_KEY\u001B[39m\u001B[38;5;124m\"\u001B[39m)\n\u001B[1;32m     62\u001B[0m \u001B[38;5;28;01mif\u001B[39;00m \u001B[38;5;129;01mnot\u001B[39;00m api_key \u001B[38;5;129;01mor\u001B[39;00m \u001B[38;5;129;01mnot\u001B[39;00m \u001B[38;5;28misinstance\u001B[39m(api_key, \u001B[38;5;28mstr\u001B[39m):\n\u001B[0;32m---> 63\u001B[0m     \u001B[38;5;28;01mraise\u001B[39;00m \u001B[38;5;167;01mValueError\u001B[39;00m(\n\u001B[1;32m     64\u001B[0m         \u001B[38;5;124m\"\u001B[39m\u001B[38;5;124mThe IEX Cloud API key must be provided either \u001B[39m\u001B[38;5;124m\"\u001B[39m\n\u001B[1;32m     65\u001B[0m         \u001B[38;5;124m\"\u001B[39m\u001B[38;5;124mthrough the api_key variable or through the \u001B[39m\u001B[38;5;124m\"\u001B[39m\n\u001B[1;32m     66\u001B[0m         \u001B[38;5;124m\"\u001B[39m\u001B[38;5;124m environment variable IEX_API_KEY\u001B[39m\u001B[38;5;124m\"\u001B[39m\n\u001B[1;32m     67\u001B[0m     )\n\u001B[1;32m     68\u001B[0m \u001B[38;5;66;03m# Support for sandbox environment (testing purposes)\u001B[39;00m\n\u001B[1;32m     69\u001B[0m \u001B[38;5;28;01mif\u001B[39;00m os\u001B[38;5;241m.\u001B[39mgetenv(\u001B[38;5;124m\"\u001B[39m\u001B[38;5;124mIEX_SANDBOX\u001B[39m\u001B[38;5;124m\"\u001B[39m) \u001B[38;5;241m==\u001B[39m \u001B[38;5;124m\"\u001B[39m\u001B[38;5;124menable\u001B[39m\u001B[38;5;124m\"\u001B[39m:\n",
      "\u001B[0;31mValueError\u001B[0m: The IEX Cloud API key must be provided either through the api_key variable or through the  environment variable IEX_API_KEY"
     ]
    }
   ],
   "source": [
    "start = datetime(2015, 2, 9)\n",
    "# end = datetime(2017, 5, 24)\n",
    "\n",
    "iex = web.DataReader('FB', 'iex', start, api_key=IEX_API_KEY)\n",
    "iex.info()"
   ]
  },
  {
   "cell_type": "code",
   "execution_count": null,
   "metadata": {},
   "outputs": [],
   "source": [
    "iex.tail()"
   ]
  },
  {
   "cell_type": "code",
   "execution_count": null,
   "metadata": {},
   "outputs": [],
   "source": [
    "sns.set_style('whitegrid')\n",
    "iex.close.plot(figsize=(14, 5))\n",
    "sns.despine()"
   ]
  },
  {
   "cell_type": "markdown",
   "metadata": {},
   "source": [
    "#### Book Data\n",
    "\n",
    "In addition to historical EOD price and volume data, IEX provides real-time depth of book quotations that offer an aggregated size of orders by price and side. This service also includes last trade price and size information.\n",
    "\n",
    "DEEP is used to receive real-time depth of book quotations direct from IEX. The depth of book quotations received via DEEP provide an aggregated size of resting displayed orders at a price and side, and do not indicate the size or number of individual orders at any price level. Non-displayed orders and non-displayed portions of reserve orders are not represented in DEEP.\n",
    "\n",
    "DEEP also provides last trade price and size information. Trades resulting from either displayed or non-displayed orders matching on IEX will be reported. Routed executions will not be reported."
   ]
  },
  {
   "cell_type": "markdown",
   "metadata": {},
   "source": [
    "Only works on trading days."
   ]
  },
  {
   "cell_type": "code",
   "execution_count": 13,
   "metadata": {
    "ExecuteTime": {
     "end_time": "2024-01-05T19:04:20.281340Z",
     "start_time": "2024-01-05T19:04:19.853530Z"
    }
   },
   "outputs": [
    {
     "ename": "TypeError",
     "evalue": "Failed to interpret response as JSON.",
     "output_type": "error",
     "traceback": [
      "\u001B[0;31m---------------------------------------------------------------------------\u001B[0m",
      "\u001B[0;31mJSONDecodeError\u001B[0m                           Traceback (most recent call last)",
      "File \u001B[0;32m~/anaconda3/lib/python3.11/site-packages/pandas_datareader/iex/__init__.py:73\u001B[0m, in \u001B[0;36mIEX._output_error\u001B[0;34m(self, out)\u001B[0m\n\u001B[1;32m     72\u001B[0m \u001B[38;5;28;01mtry\u001B[39;00m:\n\u001B[0;32m---> 73\u001B[0m     content \u001B[38;5;241m=\u001B[39m json\u001B[38;5;241m.\u001B[39mloads(out\u001B[38;5;241m.\u001B[39mtext)\n\u001B[1;32m     74\u001B[0m \u001B[38;5;28;01mexcept\u001B[39;00m \u001B[38;5;167;01mException\u001B[39;00m:\n",
      "File \u001B[0;32m~/anaconda3/lib/python3.11/json/__init__.py:346\u001B[0m, in \u001B[0;36mloads\u001B[0;34m(s, cls, object_hook, parse_float, parse_int, parse_constant, object_pairs_hook, **kw)\u001B[0m\n\u001B[1;32m    343\u001B[0m \u001B[38;5;28;01mif\u001B[39;00m (\u001B[38;5;28mcls\u001B[39m \u001B[38;5;129;01mis\u001B[39;00m \u001B[38;5;28;01mNone\u001B[39;00m \u001B[38;5;129;01mand\u001B[39;00m object_hook \u001B[38;5;129;01mis\u001B[39;00m \u001B[38;5;28;01mNone\u001B[39;00m \u001B[38;5;129;01mand\u001B[39;00m\n\u001B[1;32m    344\u001B[0m         parse_int \u001B[38;5;129;01mis\u001B[39;00m \u001B[38;5;28;01mNone\u001B[39;00m \u001B[38;5;129;01mand\u001B[39;00m parse_float \u001B[38;5;129;01mis\u001B[39;00m \u001B[38;5;28;01mNone\u001B[39;00m \u001B[38;5;129;01mand\u001B[39;00m\n\u001B[1;32m    345\u001B[0m         parse_constant \u001B[38;5;129;01mis\u001B[39;00m \u001B[38;5;28;01mNone\u001B[39;00m \u001B[38;5;129;01mand\u001B[39;00m object_pairs_hook \u001B[38;5;129;01mis\u001B[39;00m \u001B[38;5;28;01mNone\u001B[39;00m \u001B[38;5;129;01mand\u001B[39;00m \u001B[38;5;129;01mnot\u001B[39;00m kw):\n\u001B[0;32m--> 346\u001B[0m     \u001B[38;5;28;01mreturn\u001B[39;00m _default_decoder\u001B[38;5;241m.\u001B[39mdecode(s)\n\u001B[1;32m    347\u001B[0m \u001B[38;5;28;01mif\u001B[39;00m \u001B[38;5;28mcls\u001B[39m \u001B[38;5;129;01mis\u001B[39;00m \u001B[38;5;28;01mNone\u001B[39;00m:\n",
      "File \u001B[0;32m~/anaconda3/lib/python3.11/json/decoder.py:337\u001B[0m, in \u001B[0;36mJSONDecoder.decode\u001B[0;34m(self, s, _w)\u001B[0m\n\u001B[1;32m    333\u001B[0m \u001B[38;5;250m\u001B[39m\u001B[38;5;124;03m\"\"\"Return the Python representation of ``s`` (a ``str`` instance\u001B[39;00m\n\u001B[1;32m    334\u001B[0m \u001B[38;5;124;03mcontaining a JSON document).\u001B[39;00m\n\u001B[1;32m    335\u001B[0m \n\u001B[1;32m    336\u001B[0m \u001B[38;5;124;03m\"\"\"\u001B[39;00m\n\u001B[0;32m--> 337\u001B[0m obj, end \u001B[38;5;241m=\u001B[39m \u001B[38;5;28mself\u001B[39m\u001B[38;5;241m.\u001B[39mraw_decode(s, idx\u001B[38;5;241m=\u001B[39m_w(s, \u001B[38;5;241m0\u001B[39m)\u001B[38;5;241m.\u001B[39mend())\n\u001B[1;32m    338\u001B[0m end \u001B[38;5;241m=\u001B[39m _w(s, end)\u001B[38;5;241m.\u001B[39mend()\n",
      "File \u001B[0;32m~/anaconda3/lib/python3.11/json/decoder.py:355\u001B[0m, in \u001B[0;36mJSONDecoder.raw_decode\u001B[0;34m(self, s, idx)\u001B[0m\n\u001B[1;32m    354\u001B[0m \u001B[38;5;28;01mexcept\u001B[39;00m \u001B[38;5;167;01mStopIteration\u001B[39;00m \u001B[38;5;28;01mas\u001B[39;00m err:\n\u001B[0;32m--> 355\u001B[0m     \u001B[38;5;28;01mraise\u001B[39;00m JSONDecodeError(\u001B[38;5;124m\"\u001B[39m\u001B[38;5;124mExpecting value\u001B[39m\u001B[38;5;124m\"\u001B[39m, s, err\u001B[38;5;241m.\u001B[39mvalue) \u001B[38;5;28;01mfrom\u001B[39;00m \u001B[38;5;28;01mNone\u001B[39;00m\n\u001B[1;32m    356\u001B[0m \u001B[38;5;28;01mreturn\u001B[39;00m obj, end\n",
      "\u001B[0;31mJSONDecodeError\u001B[0m: Expecting value: line 1 column 1 (char 0)",
      "\nDuring handling of the above exception, another exception occurred:\n",
      "\u001B[0;31mTypeError\u001B[0m                                 Traceback (most recent call last)",
      "Cell \u001B[0;32mIn[13], line 1\u001B[0m\n\u001B[0;32m----> 1\u001B[0m book \u001B[38;5;241m=\u001B[39m web\u001B[38;5;241m.\u001B[39mget_iex_book(\u001B[38;5;124m'\u001B[39m\u001B[38;5;124mAAPL\u001B[39m\u001B[38;5;124m'\u001B[39m)\n",
      "File \u001B[0;32m~/anaconda3/lib/python3.11/site-packages/pandas_datareader/data.py:270\u001B[0m, in \u001B[0;36mget_iex_book\u001B[0;34m(*args, **kwargs)\u001B[0m\n\u001B[1;32m    245\u001B[0m \u001B[38;5;28;01mdef\u001B[39;00m \u001B[38;5;21mget_iex_book\u001B[39m(\u001B[38;5;241m*\u001B[39margs, \u001B[38;5;241m*\u001B[39m\u001B[38;5;241m*\u001B[39mkwargs):\n\u001B[1;32m    246\u001B[0m \u001B[38;5;250m    \u001B[39m\u001B[38;5;124;03m\"\"\"\u001B[39;00m\n\u001B[1;32m    247\u001B[0m \u001B[38;5;124;03m    Returns an array of dictionaries with depth of book data from IEX for up to\u001B[39;00m\n\u001B[1;32m    248\u001B[0m \u001B[38;5;124;03m    10 securities at a time. Returns a dictionary of the bid and ask books.\u001B[39;00m\n\u001B[0;32m   (...)\u001B[0m\n\u001B[1;32m    268\u001B[0m \u001B[38;5;124;03m    DataFrame\u001B[39;00m\n\u001B[1;32m    269\u001B[0m \u001B[38;5;124;03m    \"\"\"\u001B[39;00m\n\u001B[0;32m--> 270\u001B[0m     \u001B[38;5;28;01mreturn\u001B[39;00m IEXDeep(\u001B[38;5;241m*\u001B[39margs, \u001B[38;5;241m*\u001B[39m\u001B[38;5;241m*\u001B[39mkwargs)\u001B[38;5;241m.\u001B[39mread()\n",
      "File \u001B[0;32m~/anaconda3/lib/python3.11/site-packages/pandas_datareader/iex/__init__.py:48\u001B[0m, in \u001B[0;36mIEX.read\u001B[0;34m(self)\u001B[0m\n\u001B[1;32m     46\u001B[0m \u001B[38;5;28;01mdef\u001B[39;00m \u001B[38;5;21mread\u001B[39m(\u001B[38;5;28mself\u001B[39m):\n\u001B[1;32m     47\u001B[0m \u001B[38;5;250m    \u001B[39m\u001B[38;5;124;03m\"\"\"Read data\"\"\"\u001B[39;00m\n\u001B[0;32m---> 48\u001B[0m     df \u001B[38;5;241m=\u001B[39m \u001B[38;5;28msuper\u001B[39m(IEX, \u001B[38;5;28mself\u001B[39m)\u001B[38;5;241m.\u001B[39mread()\n\u001B[1;32m     49\u001B[0m     \u001B[38;5;28;01mif\u001B[39;00m \u001B[38;5;28misinstance\u001B[39m(df, pd\u001B[38;5;241m.\u001B[39mDataFrame):\n\u001B[1;32m     50\u001B[0m         df \u001B[38;5;241m=\u001B[39m df\u001B[38;5;241m.\u001B[39msqueeze()\n",
      "File \u001B[0;32m~/anaconda3/lib/python3.11/site-packages/pandas_datareader/base.py:101\u001B[0m, in \u001B[0;36m_BaseReader.read\u001B[0;34m(self)\u001B[0m\n\u001B[1;32m     99\u001B[0m \u001B[38;5;250m\u001B[39m\u001B[38;5;124;03m\"\"\"Read data from connector\"\"\"\u001B[39;00m\n\u001B[1;32m    100\u001B[0m \u001B[38;5;28;01mtry\u001B[39;00m:\n\u001B[0;32m--> 101\u001B[0m     \u001B[38;5;28;01mreturn\u001B[39;00m \u001B[38;5;28mself\u001B[39m\u001B[38;5;241m.\u001B[39m_read_one_data(\u001B[38;5;28mself\u001B[39m\u001B[38;5;241m.\u001B[39murl, \u001B[38;5;28mself\u001B[39m\u001B[38;5;241m.\u001B[39mparams)\n\u001B[1;32m    102\u001B[0m \u001B[38;5;28;01mfinally\u001B[39;00m:\n\u001B[1;32m    103\u001B[0m     \u001B[38;5;28mself\u001B[39m\u001B[38;5;241m.\u001B[39mclose()\n",
      "File \u001B[0;32m~/anaconda3/lib/python3.11/site-packages/pandas_datareader/base.py:110\u001B[0m, in \u001B[0;36m_BaseReader._read_one_data\u001B[0;34m(self, url, params)\u001B[0m\n\u001B[1;32m    108\u001B[0m     out \u001B[38;5;241m=\u001B[39m \u001B[38;5;28mself\u001B[39m\u001B[38;5;241m.\u001B[39m_read_url_as_StringIO(url, params\u001B[38;5;241m=\u001B[39mparams)\n\u001B[1;32m    109\u001B[0m \u001B[38;5;28;01melif\u001B[39;00m \u001B[38;5;28mself\u001B[39m\u001B[38;5;241m.\u001B[39m_format \u001B[38;5;241m==\u001B[39m \u001B[38;5;124m\"\u001B[39m\u001B[38;5;124mjson\u001B[39m\u001B[38;5;124m\"\u001B[39m:\n\u001B[0;32m--> 110\u001B[0m     out \u001B[38;5;241m=\u001B[39m \u001B[38;5;28mself\u001B[39m\u001B[38;5;241m.\u001B[39m_get_response(url, params\u001B[38;5;241m=\u001B[39mparams)\u001B[38;5;241m.\u001B[39mjson()\n\u001B[1;32m    111\u001B[0m \u001B[38;5;28;01melse\u001B[39;00m:\n\u001B[1;32m    112\u001B[0m     \u001B[38;5;28;01mraise\u001B[39;00m \u001B[38;5;167;01mNotImplementedError\u001B[39;00m(\u001B[38;5;28mself\u001B[39m\u001B[38;5;241m.\u001B[39m_format)\n",
      "File \u001B[0;32m~/anaconda3/lib/python3.11/site-packages/pandas_datareader/base.py:172\u001B[0m, in \u001B[0;36m_BaseReader._get_response\u001B[0;34m(self, url, params, headers)\u001B[0m\n\u001B[1;32m    169\u001B[0m         params[\u001B[38;5;124m\"\u001B[39m\u001B[38;5;124mcrumb\u001B[39m\u001B[38;5;124m\"\u001B[39m] \u001B[38;5;241m=\u001B[39m \u001B[38;5;28mself\u001B[39m\u001B[38;5;241m.\u001B[39m_get_crumb(\u001B[38;5;28mself\u001B[39m\u001B[38;5;241m.\u001B[39mretry_count)\n\u001B[1;32m    171\u001B[0m     \u001B[38;5;66;03m# If our output error function returns True, exit the loop.\u001B[39;00m\n\u001B[0;32m--> 172\u001B[0m     \u001B[38;5;28;01mif\u001B[39;00m \u001B[38;5;28mself\u001B[39m\u001B[38;5;241m.\u001B[39m_output_error(response):\n\u001B[1;32m    173\u001B[0m         \u001B[38;5;28;01mbreak\u001B[39;00m\n\u001B[1;32m    175\u001B[0m \u001B[38;5;28;01mif\u001B[39;00m params \u001B[38;5;129;01mis\u001B[39;00m \u001B[38;5;129;01mnot\u001B[39;00m \u001B[38;5;28;01mNone\u001B[39;00m \u001B[38;5;129;01mand\u001B[39;00m \u001B[38;5;28mlen\u001B[39m(params) \u001B[38;5;241m>\u001B[39m \u001B[38;5;241m0\u001B[39m:\n",
      "File \u001B[0;32m~/anaconda3/lib/python3.11/site-packages/pandas_datareader/iex/__init__.py:75\u001B[0m, in \u001B[0;36mIEX._output_error\u001B[0;34m(self, out)\u001B[0m\n\u001B[1;32m     73\u001B[0m     content \u001B[38;5;241m=\u001B[39m json\u001B[38;5;241m.\u001B[39mloads(out\u001B[38;5;241m.\u001B[39mtext)\n\u001B[1;32m     74\u001B[0m \u001B[38;5;28;01mexcept\u001B[39;00m \u001B[38;5;167;01mException\u001B[39;00m:\n\u001B[0;32m---> 75\u001B[0m     \u001B[38;5;28;01mraise\u001B[39;00m \u001B[38;5;167;01mTypeError\u001B[39;00m(\u001B[38;5;124m\"\u001B[39m\u001B[38;5;124mFailed to interpret response as JSON.\u001B[39m\u001B[38;5;124m\"\u001B[39m)\n\u001B[1;32m     77\u001B[0m \u001B[38;5;28;01mfor\u001B[39;00m key, string \u001B[38;5;129;01min\u001B[39;00m content\u001B[38;5;241m.\u001B[39mitems():\n\u001B[1;32m     78\u001B[0m     e \u001B[38;5;241m=\u001B[39m \u001B[38;5;124m\"\u001B[39m\u001B[38;5;124mIEX Output error encountered: \u001B[39m\u001B[38;5;132;01m{}\u001B[39;00m\u001B[38;5;124m\"\u001B[39m\u001B[38;5;241m.\u001B[39mformat(string)\n",
      "\u001B[0;31mTypeError\u001B[0m: Failed to interpret response as JSON."
     ]
    }
   ],
   "source": [
    "book = web.get_iex_book('AAPL')"
   ]
  },
  {
   "cell_type": "code",
   "execution_count": null,
   "metadata": {},
   "outputs": [],
   "source": [
    "list(book.keys())"
   ]
  },
  {
   "cell_type": "code",
   "execution_count": null,
   "metadata": {},
   "outputs": [],
   "source": [
    "orders = pd.concat([pd.DataFrame(book[side]).assign(side=side) for side in ['bids', 'asks']])\n",
    "orders.head()"
   ]
  },
  {
   "cell_type": "code",
   "execution_count": null,
   "metadata": {},
   "outputs": [],
   "source": [
    "for key in book.keys():\n",
    "    try:\n",
    "        print(f'\\n{key}')\n",
    "        print(pd.DataFrame(book[key]))\n",
    "    except:\n",
    "        print(book[key])"
   ]
  },
  {
   "cell_type": "code",
   "execution_count": null,
   "metadata": {},
   "outputs": [],
   "source": [
    "pd.DataFrame(book['trades']).head()"
   ]
  },
  {
   "cell_type": "markdown",
   "metadata": {},
   "source": [
    "### Quandl"
   ]
  },
  {
   "cell_type": "markdown",
   "metadata": {},
   "source": [
    "Obtain Quandl [API Key](https://www.quandl.com/tools/api) and store in environment variable as `QUANDL_API_KEY`."
   ]
  },
  {
   "cell_type": "code",
   "execution_count": 1,
   "metadata": {
    "ExecuteTime": {
     "end_time": "2024-01-24T18:06:56.926145Z",
     "start_time": "2024-01-24T18:06:56.284881Z"
    }
   },
   "outputs": [
    {
     "ename": "NameError",
     "evalue": "name 'web' is not defined",
     "output_type": "error",
     "traceback": [
      "\u001B[0;31m---------------------------------------------------------------------------\u001B[0m",
      "\u001B[0;31mNameError\u001B[0m                                 Traceback (most recent call last)",
      "Cell \u001B[0;32mIn[1], line 3\u001B[0m\n\u001B[1;32m      1\u001B[0m symbol \u001B[38;5;241m=\u001B[39m \u001B[38;5;124m'\u001B[39m\u001B[38;5;124mFB.US\u001B[39m\u001B[38;5;124m'\u001B[39m\n\u001B[0;32m----> 3\u001B[0m quandl \u001B[38;5;241m=\u001B[39m web\u001B[38;5;241m.\u001B[39mDataReader(symbol, \u001B[38;5;124m'\u001B[39m\u001B[38;5;124mquandl\u001B[39m\u001B[38;5;124m'\u001B[39m, \u001B[38;5;124m'\u001B[39m\u001B[38;5;124m2015-01-01\u001B[39m\u001B[38;5;124m'\u001B[39m)\n\u001B[1;32m      4\u001B[0m quandl\u001B[38;5;241m.\u001B[39minfo()\n",
      "\u001B[0;31mNameError\u001B[0m: name 'web' is not defined"
     ]
    }
   ],
   "source": [
    "symbol = 'FB.US'\n",
    "\n",
    "quandl = web.DataReader(symbol, 'quandl', '2015-01-01')\n",
    "quandl.info()"
   ]
  },
  {
   "cell_type": "markdown",
   "metadata": {},
   "source": [
    "### FRED"
   ]
  },
  {
   "cell_type": "code",
   "execution_count": null,
   "metadata": {},
   "outputs": [],
   "source": [
    "start = datetime(2010, 1, 1)\n",
    "\n",
    "end = datetime(2013, 1, 27)\n",
    "\n",
    "gdp = web.DataReader('GDP', 'fred', start, end)\n",
    "\n",
    "gdp.info()"
   ]
  },
  {
   "cell_type": "code",
   "execution_count": null,
   "metadata": {},
   "outputs": [],
   "source": [
    "inflation = web.DataReader(['CPIAUCSL', 'CPILFESL'], 'fred', start, end)\n",
    "inflation.info()"
   ]
  },
  {
   "cell_type": "markdown",
   "metadata": {},
   "source": [
    "### Fama/French"
   ]
  },
  {
   "cell_type": "code",
   "execution_count": null,
   "metadata": {},
   "outputs": [],
   "source": [
    "from pandas_datareader.famafrench import get_available_datasets\n",
    "get_available_datasets()"
   ]
  },
  {
   "cell_type": "code",
   "execution_count": null,
   "metadata": {},
   "outputs": [],
   "source": [
    "ds = web.DataReader('5_Industry_Portfolios', 'famafrench')\n",
    "print(ds['DESCR'])"
   ]
  },
  {
   "cell_type": "markdown",
   "metadata": {},
   "source": [
    "### World Bank"
   ]
  },
  {
   "cell_type": "code",
   "execution_count": null,
   "metadata": {},
   "outputs": [],
   "source": [
    "from pandas_datareader import wb\n",
    "gdp_variables = wb.search('gdp.*capita.*const')\n",
    "gdp_variables.head()"
   ]
  },
  {
   "cell_type": "code",
   "execution_count": null,
   "metadata": {},
   "outputs": [],
   "source": [
    "wb_data = wb.download(indicator='NY.GDP.PCAP.KD', \n",
    "                      country=['US', 'CA', 'MX'], \n",
    "                      start=1990, \n",
    "                      end=2019)\n",
    "wb_data.head()"
   ]
  },
  {
   "cell_type": "markdown",
   "metadata": {},
   "source": [
    "### OECD"
   ]
  },
  {
   "cell_type": "code",
   "execution_count": null,
   "metadata": {},
   "outputs": [],
   "source": [
    "df = web.DataReader('TUD', 'oecd', start='2010', end='2019')\n",
    "df[['Japan', 'United States']]"
   ]
  },
  {
   "cell_type": "markdown",
   "metadata": {},
   "source": [
    "\n",
    "\n",
    "### Stooq"
   ]
  },
  {
   "cell_type": "markdown",
   "metadata": {},
   "source": [
    "Google finance stopped providing common index data download. The Stooq site had this data for download for a while but is currently broken, awaiting release of [fix](https://github.com/pydata/pandas-datareader/issues/594)"
   ]
  },
  {
   "cell_type": "code",
   "execution_count": null,
   "metadata": {},
   "outputs": [],
   "source": [
    "index_url = 'https://stooq.com/t/'\n",
    "ix = pd.read_html(index_url)\n",
    "len(ix)"
   ]
  },
  {
   "cell_type": "code",
   "execution_count": null,
   "metadata": {},
   "outputs": [],
   "source": [
    "sp500_stooq = web.DataReader('^SPX', 'stooq')\n",
    "sp500_stooq.info()"
   ]
  },
  {
   "cell_type": "code",
   "execution_count": null,
   "metadata": {},
   "outputs": [],
   "source": [
    "sp500_stooq.head()"
   ]
  },
  {
   "cell_type": "code",
   "execution_count": null,
   "metadata": {},
   "outputs": [],
   "source": [
    "sp500_stooq.Close.plot(figsize=(14,4))\n",
    "sns.despine()\n",
    "plt.tight_layout()"
   ]
  },
  {
   "cell_type": "markdown",
   "metadata": {},
   "source": [
    "### NASDAQ Symbols"
   ]
  },
  {
   "cell_type": "code",
   "execution_count": null,
   "metadata": {},
   "outputs": [],
   "source": [
    "from pandas_datareader.nasdaq_trader import get_nasdaq_symbols\n",
    "symbols = get_nasdaq_symbols()\n",
    "symbols.info()"
   ]
  },
  {
   "cell_type": "markdown",
   "metadata": {},
   "source": [
    "### Tiingo"
   ]
  },
  {
   "cell_type": "markdown",
   "metadata": {},
   "source": [
    "Requires [signing up](https://api.tiingo.com/) and storing API key in environment"
   ]
  },
  {
   "cell_type": "code",
   "execution_count": null,
   "metadata": {},
   "outputs": [],
   "source": [
    "df = web.get_data_tiingo('GOOG', api_key=os.getenv('TIINGO_API_KEY'))"
   ]
  },
  {
   "cell_type": "code",
   "execution_count": null,
   "metadata": {},
   "outputs": [],
   "source": [
    "df.info()"
   ]
  }
 ],
 "metadata": {
  "kernelspec": {
   "name": "python3",
   "language": "python",
   "display_name": "Python 3 (ipykernel)"
  },
  "language_info": {
   "codemirror_mode": {
    "name": "ipython",
    "version": 3
   },
   "file_extension": ".py",
   "mimetype": "text/x-python",
   "name": "python",
   "nbconvert_exporter": "python",
   "pygments_lexer": "ipython3",
   "version": "3.8.5"
  },
  "toc": {
   "base_numbering": 1,
   "nav_menu": {},
   "number_sections": true,
   "sideBar": true,
   "skip_h1_title": true,
   "title_cell": "Table of Contents",
   "title_sidebar": "Contents",
   "toc_cell": false,
   "toc_position": {},
   "toc_section_display": true,
   "toc_window_display": true
  }
 },
 "nbformat": 4,
 "nbformat_minor": 4
}
