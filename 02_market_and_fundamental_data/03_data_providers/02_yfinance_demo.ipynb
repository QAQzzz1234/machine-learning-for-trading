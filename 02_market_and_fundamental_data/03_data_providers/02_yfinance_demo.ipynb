{
 "cells": [
  {
   "cell_type": "markdown",
   "metadata": {},
   "source": [
    "# Downloading Market and Fundamental Data with `yfinance`"
   ]
  },
  {
   "cell_type": "markdown",
   "metadata": {},
   "source": [
    "## Imports & Settings"
   ]
  },
  {
   "cell_type": "code",
   "execution_count": 1,
   "metadata": {
    "ExecuteTime": {
     "end_time": "2024-01-10T16:54:11.232421Z",
     "start_time": "2024-01-10T16:54:11.229655Z"
    }
   },
   "outputs": [],
   "source": [
    "import warnings\n",
    "warnings.filterwarnings('ignore')"
   ]
  },
  {
   "cell_type": "code",
   "execution_count": 2,
   "metadata": {
    "ExecuteTime": {
     "end_time": "2024-01-10T16:55:08.041284Z",
     "start_time": "2024-01-10T16:55:07.753845Z"
    }
   },
   "outputs": [],
   "source": [
    "import pandas as pd\n",
    "import yfinance as yf"
   ]
  },
  {
   "cell_type": "markdown",
   "metadata": {},
   "source": [
    "## How to work with a Ticker object"
   ]
  },
  {
   "cell_type": "code",
   "execution_count": 8,
   "metadata": {
    "ExecuteTime": {
     "end_time": "2024-01-10T16:57:22.553446Z",
     "start_time": "2024-01-10T16:57:22.538544Z"
    }
   },
   "outputs": [],
   "source": [
    "symbol = 'META'\n",
    "ticker = yf.Ticker(symbol)"
   ]
  },
  {
   "cell_type": "markdown",
   "metadata": {},
   "source": [
    "### Show ticker info"
   ]
  },
  {
   "cell_type": "code",
   "execution_count": 9,
   "metadata": {
    "ExecuteTime": {
     "end_time": "2024-01-10T16:57:24.623465Z",
     "start_time": "2024-01-10T16:57:24.555982Z"
    }
   },
   "outputs": [
    {
     "data": {
      "text/plain": "address1                                                  1601 Willow Road\ncity                                                            Menlo Park\nstate                                                                   CA\nzip                                                                  94025\ncountry                                                      United States\nphone                                                         650 543 4800\nwebsite                                            https://investor.fb.com\nindustry                                    Internet Content & Information\nindustryKey                                   internet-content-information\nindustryDisp                                Internet Content & Information\nsector                                              Communication Services\nsectorKey                                           communication-services\nsectorDisp                                          Communication Services\nlongBusinessSummary      Meta Platforms, Inc. engages in the developmen...\nfullTimeEmployees                                                    66185\ncompanyOfficers          [{'maxAge': 1, 'name': 'Mr. Mark Elliot Zucker...\nauditRisk                                                                8\nboardRisk                                                               10\ncompensationRisk                                                        10\nshareHolderRightsRisk                                                   10\ndtype: object"
     },
     "execution_count": 9,
     "metadata": {},
     "output_type": "execute_result"
    }
   ],
   "source": [
    "pd.Series(ticker.info).head(20)"
   ]
  },
  {
   "cell_type": "markdown",
   "metadata": {},
   "source": [
    "### Get market data"
   ]
  },
  {
   "cell_type": "code",
   "execution_count": 10,
   "metadata": {
    "ExecuteTime": {
     "end_time": "2024-01-10T16:57:31.947802Z",
     "start_time": "2024-01-10T16:57:31.708498Z"
    }
   },
   "outputs": [
    {
     "name": "stdout",
     "output_type": "stream",
     "text": [
      "<class 'pandas.core.frame.DataFrame'>\n",
      "DatetimeIndex: 1705 entries, 2024-01-04 09:30:00-05:00 to 2024-01-10 11:57:00-05:00\n",
      "Data columns (total 7 columns):\n",
      " #   Column        Non-Null Count  Dtype  \n",
      "---  ------        --------------  -----  \n",
      " 0   Open          1705 non-null   float64\n",
      " 1   High          1705 non-null   float64\n",
      " 2   Low           1705 non-null   float64\n",
      " 3   Close         1705 non-null   float64\n",
      " 4   Volume        1705 non-null   int64  \n",
      " 5   Dividends     1705 non-null   float64\n",
      " 6   Stock Splits  1705 non-null   float64\n",
      "dtypes: float64(6), int64(1)\n",
      "memory usage: 106.6 KB\n"
     ]
    }
   ],
   "source": [
    "data = ticker.history(period='5d',\n",
    "                      interval='1m',\n",
    "                      start=None,\n",
    "                      end=None,\n",
    "                      actions=True,\n",
    "                      auto_adjust=True,\n",
    "                      back_adjust=False)\n",
    "data.info()"
   ]
  },
  {
   "cell_type": "markdown",
   "metadata": {},
   "source": [
    "### View company actions"
   ]
  },
  {
   "cell_type": "code",
   "execution_count": 11,
   "metadata": {
    "ExecuteTime": {
     "end_time": "2024-01-10T16:57:38.947844Z",
     "start_time": "2024-01-10T16:57:38.940945Z"
    }
   },
   "outputs": [
    {
     "data": {
      "text/plain": "Empty DataFrame\nColumns: [Dividends, Stock Splits]\nIndex: []",
      "text/html": "<div>\n<style scoped>\n    .dataframe tbody tr th:only-of-type {\n        vertical-align: middle;\n    }\n\n    .dataframe tbody tr th {\n        vertical-align: top;\n    }\n\n    .dataframe thead th {\n        text-align: right;\n    }\n</style>\n<table border=\"1\" class=\"dataframe\">\n  <thead>\n    <tr style=\"text-align: right;\">\n      <th></th>\n      <th>Dividends</th>\n      <th>Stock Splits</th>\n    </tr>\n    <tr>\n      <th>Datetime</th>\n      <th></th>\n      <th></th>\n    </tr>\n  </thead>\n  <tbody>\n  </tbody>\n</table>\n</div>"
     },
     "execution_count": 11,
     "metadata": {},
     "output_type": "execute_result"
    }
   ],
   "source": [
    "# show actions (dividends, splits)\n",
    "ticker.actions"
   ]
  },
  {
   "cell_type": "code",
   "execution_count": 12,
   "metadata": {
    "ExecuteTime": {
     "end_time": "2024-01-10T16:57:41.099510Z",
     "start_time": "2024-01-10T16:57:41.092634Z"
    }
   },
   "outputs": [
    {
     "data": {
      "text/plain": "Series([], Name: Dividends, dtype: float64)"
     },
     "execution_count": 12,
     "metadata": {},
     "output_type": "execute_result"
    }
   ],
   "source": [
    "ticker.dividends"
   ]
  },
  {
   "cell_type": "code",
   "execution_count": 13,
   "metadata": {
    "ExecuteTime": {
     "end_time": "2024-01-10T16:57:44.720904Z",
     "start_time": "2024-01-10T16:57:44.713820Z"
    }
   },
   "outputs": [
    {
     "data": {
      "text/plain": "Series([], Name: Stock Splits, dtype: float64)"
     },
     "execution_count": 13,
     "metadata": {},
     "output_type": "execute_result"
    }
   ],
   "source": [
    "ticker.splits"
   ]
  },
  {
   "cell_type": "markdown",
   "metadata": {},
   "source": [
    "### Annual and Quarterly Financial Statement Summary"
   ]
  },
  {
   "cell_type": "code",
   "execution_count": 14,
   "metadata": {
    "ExecuteTime": {
     "end_time": "2024-01-10T16:57:46.748438Z",
     "start_time": "2024-01-10T16:57:46.559443Z"
    }
   },
   "outputs": [
    {
     "data": {
      "text/plain": "                                                            2023-09-30  \\\nTax Effect Of Unusual Items                           -47455208.050041   \nTax Rate For Calcs                                            0.191352   \nNormalized EBITDA                                        47760000000.0   \nTotal Unusual Items                                       -248000000.0   \nTotal Unusual Items Excluding Goodwill                    -248000000.0   \nNet Income From Continuing Operation Net Minori...       29734000000.0   \nReconciled Depreciation                                  10382000000.0   \nReconciled Cost Of Revenue                               26600000000.0   \nEBITDA                                                   47512000000.0   \nEBIT                                                     37130000000.0   \nNet Interest Income                                        252000000.0   \nInterest Income                                           1008000000.0   \nNormalized Income                                   29934544791.949959   \nNet Income From Continuing And Discontinued Ope...       29734000000.0   \nTotal Expenses                                           90190000000.0   \nTotal Operating Income As Reported                       36766000000.0   \nDiluted Average Shares                                             NaN   \nBasic Average Shares                                               NaN   \nDiluted EPS                                                        NaN   \nBasic EPS                                                          NaN   \nDiluted NI Availto Com Stockholders                      29734000000.0   \nNet Income Common Stockholders                           29734000000.0   \nOtherunder Preferred Stock Dividend                                NaN   \nNet Income                                               29734000000.0   \nNet Income Including Noncontrolling Interests            29734000000.0   \nNet Income Continuous Operations                         29734000000.0   \nTax Provision                                             7036000000.0   \nPretax Income                                            36770000000.0   \nOther Income Expense                                      -248000000.0   \nOther Non Operating Income Expenses                                NaN   \nGain On Sale Of Security                                  -248000000.0   \nNet Non Operating Interest Income Expense                  252000000.0   \nTotal Other Finance Cost                                   521000000.0   \nInterest Income Non Operating                             1008000000.0   \nOperating Income                                         36766000000.0   \nOperating Expense                                        63590000000.0   \nResearch And Development                                 37737000000.0   \nSelling General And Administration                       25853000000.0   \nSelling And Marketing Expense                            13649000000.0   \nGeneral And Administrative Expense                       12204000000.0   \nOther Gand A                                             12204000000.0   \nGross Profit                                            100356000000.0   \nCost Of Revenue                                          26600000000.0   \nTotal Revenue                                           126956000000.0   \nOperating Revenue                                       126048000000.0   \n\n                                                            2023-06-30  \\\nTax Effect Of Unusual Items                           -57534969.108561   \nTax Rate For Calcs                                            0.204025   \nNormalized EBITDA                                        38592000000.0   \nTotal Unusual Items                                       -282000000.0   \nTotal Unusual Items Excluding Goodwill                    -282000000.0   \nNet Income From Continuing Operation Net Minori...       22546000000.0   \nReconciled Depreciation                                   9698000000.0   \nReconciled Cost Of Revenue                               26106000000.0   \nEBITDA                                                   38310000000.0   \nEBIT                                                     28612000000.0   \nNet Interest Income                                        -75000000.0   \nInterest Income                                            616000000.0   \nNormalized Income                                   22770465030.891438   \nNet Income From Continuing And Discontinued Ope...       22546000000.0   \nTotal Expenses                                           91843000000.0   \nTotal Operating Income As Reported                       28682000000.0   \nDiluted Average Shares                                             NaN   \nBasic Average Shares                                               NaN   \nDiluted EPS                                                        NaN   \nBasic EPS                                                          NaN   \nDiluted NI Availto Com Stockholders                      22546000000.0   \nNet Income Common Stockholders                           22546000000.0   \nOtherunder Preferred Stock Dividend                                NaN   \nNet Income                                               22546000000.0   \nNet Income Including Noncontrolling Interests            22546000000.0   \nNet Income Continuous Operations                         22546000000.0   \nTax Provision                                             5779000000.0   \nPretax Income                                            28325000000.0   \nOther Income Expense                                      -282000000.0   \nOther Non Operating Income Expenses                                NaN   \nGain On Sale Of Security                                  -282000000.0   \nNet Non Operating Interest Income Expense                  -75000000.0   \nTotal Other Finance Cost                                   529000000.0   \nInterest Income Non Operating                              616000000.0   \nOperating Income                                         28682000000.0   \nOperating Expense                                        65737000000.0   \nResearch And Development                                 37666000000.0   \nSelling General And Administration                       28071000000.0   \nSelling And Marketing Expense                            14553000000.0   \nGeneral And Administrative Expense                       13518000000.0   \nOther Gand A                                             13518000000.0   \nGross Profit                                             94419000000.0   \nCost Of Revenue                                          26106000000.0   \nTotal Revenue                                           120525000000.0   \nOperating Revenue                                       119720000000.0   \n\n                                                            2023-03-31  \\\nTax Effect Of Unusual Items                           -42003527.077669   \nTax Rate For Calcs                                            0.212139   \nNormalized EBITDA                                        36645000000.0   \nTotal Unusual Items                                       -198000000.0   \nTotal Unusual Items Excluding Goodwill                    -198000000.0   \nNet Income From Continuing Operation Net Minori...       21444000000.0   \nReconciled Depreciation                                   9054000000.0   \nReconciled Cost Of Revenue                               25352000000.0   \nEBITDA                                                   36447000000.0   \nEBIT                                                     27393000000.0   \nNet Interest Income                                       -231000000.0   \nInterest Income                                            388000000.0   \nNormalized Income                                   21599996472.922333   \nNet Income From Continuing And Discontinued Ope...       21444000000.0   \nTotal Expenses                                           89699000000.0   \nTotal Operating Income As Reported                       27647000000.0   \nDiluted Average Shares                                             NaN   \nBasic Average Shares                                               NaN   \nDiluted EPS                                                        NaN   \nBasic EPS                                                          NaN   \nDiluted NI Availto Com Stockholders                      21121000000.0   \nNet Income Common Stockholders                           21444000000.0   \nOtherunder Preferred Stock Dividend                                NaN   \nNet Income                                               21444000000.0   \nNet Income Including Noncontrolling Interests            21444000000.0   \nNet Income Continuous Operations                         21444000000.0   \nTax Provision                                             5774000000.0   \nPretax Income                                            27218000000.0   \nOther Income Expense                                      -198000000.0   \nOther Non Operating Income Expenses                                NaN   \nGain On Sale Of Security                                  -198000000.0   \nNet Non Operating Interest Income Expense                 -231000000.0   \nTotal Other Finance Cost                                   569000000.0   \nInterest Income Non Operating                              388000000.0   \nOperating Income                                         27647000000.0   \nOperating Expense                                        64347000000.0   \nResearch And Development                                 37012000000.0   \nSelling General And Administration                       27335000000.0   \nSelling And Marketing Expense                            14994000000.0   \nGeneral And Administrative Expense                       12341000000.0   \nOther Gand A                                             12341000000.0   \nGross Profit                                             91994000000.0   \nCost Of Revenue                                          25352000000.0   \nTotal Revenue                                           117346000000.0   \nOperating Revenue                                       116548000000.0   \n\n                                                        2022-12-31  \\\nTax Effect Of Unusual Items                            -15795000.0   \nTax Rate For Calcs                                           0.195   \nNormalized EBITDA                                    37711000000.0   \nTotal Unusual Items                                    -81000000.0   \nTotal Unusual Items Excluding Goodwill                 -81000000.0   \nNet Income From Continuing Operation Net Minori...   23200000000.0   \nReconciled Depreciation                               8686000000.0   \nReconciled Cost Of Revenue                           25249000000.0   \nEBITDA                                               37630000000.0   \nEBIT                                                 28944000000.0   \nNet Interest Income                                    -44000000.0   \nInterest Income                                        276000000.0   \nNormalized Income                                    23265205000.0   \nNet Income From Continuing And Discontinued Ope...   23200000000.0   \nTotal Expenses                                       87665000000.0   \nTotal Operating Income As Reported                   28944000000.0   \nDiluted Average Shares                                2702000000.0   \nBasic Average Shares                                  2687000000.0   \nDiluted EPS                                                   8.59   \nBasic EPS                                                     8.63   \nDiluted NI Availto Com Stockholders                  23200000000.0   \nNet Income Common Stockholders                       23200000000.0   \nOtherunder Preferred Stock Dividend                            NaN   \nNet Income                                           23200000000.0   \nNet Income Including Noncontrolling Interests        23200000000.0   \nNet Income Continuous Operations                     23200000000.0   \nTax Provision                                         5619000000.0   \nPretax Income                                        28819000000.0   \nOther Income Expense                                   -81000000.0   \nOther Non Operating Income Expenses                   -320000000.0   \nGain On Sale Of Security                               -81000000.0   \nNet Non Operating Interest Income Expense              -44000000.0   \nTotal Other Finance Cost                               320000000.0   \nInterest Income Non Operating                          276000000.0   \nOperating Income                                     28944000000.0   \nOperating Expense                                    62416000000.0   \nResearch And Development                             35338000000.0   \nSelling General And Administration                   27078000000.0   \nSelling And Marketing Expense                        15262000000.0   \nGeneral And Administrative Expense                   11816000000.0   \nOther Gand A                                         11816000000.0   \nGross Profit                                         91360000000.0   \nCost Of Revenue                                      25249000000.0   \nTotal Revenue                                       116609000000.0   \nOperating Revenue                                   115801000000.0   \n\n                                                            2022-09-30  \\\nTax Effect Of Unusual Items                           -25333361.603483   \nTax Rate For Calcs                                            0.184915   \nNormalized EBITDA                                        43591000000.0   \nTotal Unusual Items                                       -137000000.0   \nTotal Unusual Items Excluding Goodwill                    -137000000.0   \nNet Income From Continuing Operation Net Minori...       28832000000.0   \nReconciled Depreciation                                   8324000000.0   \nReconciled Cost Of Revenue                               23261000000.0   \nEBITDA                                                   43454000000.0   \nEBIT                                                     35130000000.0   \nNet Interest Income                                        380000000.0   \nInterest Income                                            346000000.0   \nNormalized Income                                   28943666638.396519   \nNet Income From Continuing And Discontinued Ope...       28832000000.0   \nTotal Expenses                                           82985000000.0   \nTotal Operating Income As Reported                       35130000000.0   \nDiluted Average Shares                                             NaN   \nBasic Average Shares                                               NaN   \nDiluted EPS                                                        NaN   \nBasic EPS                                                          NaN   \nDiluted NI Availto Com Stockholders                      28832000000.0   \nNet Income Common Stockholders                           28832000000.0   \nOtherunder Preferred Stock Dividend                                NaN   \nNet Income                                               28832000000.0   \nNet Income Including Noncontrolling Interests            28832000000.0   \nNet Income Continuous Operations                         28832000000.0   \nTax Provision                                             6541000000.0   \nPretax Income                                            35373000000.0   \nOther Income Expense                                      -137000000.0   \nOther Non Operating Income Expenses                         34000000.0   \nGain On Sale Of Security                                  -137000000.0   \nNet Non Operating Interest Income Expense                  380000000.0   \nTotal Other Finance Cost                                   -34000000.0   \nInterest Income Non Operating                              346000000.0   \nOperating Income                                         35130000000.0   \nOperating Expense                                        59724000000.0   \nResearch And Development                                 32613000000.0   \nSelling General And Administration                       27111000000.0   \nSelling And Marketing Expense                            15075000000.0   \nGeneral And Administrative Expense                       12036000000.0   \nOther Gand A                                             12036000000.0   \nGross Profit                                             94854000000.0   \nCost Of Revenue                                          23261000000.0   \nTotal Revenue                                           118115000000.0   \nOperating Revenue                                       117337000000.0   \n\n                                                            2022-06-30  \\\nTax Effect Of Unusual Items                            -8839898.914821   \nTax Rate For Calcs                                            0.166791   \nNormalized EBITDA                                        48086000000.0   \nTotal Unusual Items                                        -53000000.0   \nTotal Unusual Items Excluding Goodwill                     -53000000.0   \nNet Income From Continuing Operation Net Minori...       33630000000.0   \nReconciled Depreciation                                   8144000000.0   \nReconciled Cost Of Revenue                               23316000000.0   \nEBITDA                                                   48033000000.0   \nEBIT                                                     39889000000.0   \nNet Interest Income                                        526000000.0   \nInterest Income                                            389000000.0   \nNormalized Income                                   33674160101.085178   \nNet Income From Continuing And Discontinued Ope...       33630000000.0   \nTotal Expenses                                           79521000000.0   \nTotal Operating Income As Reported                       39889000000.0   \nDiluted Average Shares                                             NaN   \nBasic Average Shares                                               NaN   \nDiluted EPS                                                        NaN   \nBasic EPS                                                          NaN   \nDiluted NI Availto Com Stockholders                      33630000000.0   \nNet Income Common Stockholders                           33630000000.0   \nOtherunder Preferred Stock Dividend                                NaN   \nNet Income                                               33630000000.0   \nNet Income Including Noncontrolling Interests            33630000000.0   \nNet Income Continuous Operations                         33630000000.0   \nTax Provision                                             6732000000.0   \nPretax Income                                            40362000000.0   \nOther Income Expense                                       -53000000.0   \nOther Non Operating Income Expenses                        137000000.0   \nGain On Sale Of Security                                   -53000000.0   \nNet Non Operating Interest Income Expense                  526000000.0   \nTotal Other Finance Cost                                  -137000000.0   \nInterest Income Non Operating                              389000000.0   \nOperating Income                                         39889000000.0   \nOperating Expense                                        56205000000.0   \nResearch And Development                                 29759000000.0   \nSelling General And Administration                       26446000000.0   \nSelling And Marketing Expense                            14848000000.0   \nGeneral And Administrative Expense                       11598000000.0   \nOther Gand A                                             11598000000.0   \nGross Profit                                             96094000000.0   \nCost Of Revenue                                          23316000000.0   \nTotal Revenue                                           119410000000.0   \nOperating Revenue                                       118647000000.0   \n\n                                                            2022-03-31  \\\nTax Effect Of Unusual Items                             1151446.664727   \nTax Rate For Calcs                                            0.164492   \nNormalized EBITDA                                        52043000000.0   \nTotal Unusual Items                                          7000000.0   \nTotal Unusual Items Excluding Goodwill                       7000000.0   \nNet Income From Continuing Operation Net Minori...       37338000000.0   \nReconciled Depreciation                                   8151000000.0   \nReconciled Cost Of Revenue                               23523000000.0   \nEBITDA                                                   52050000000.0   \nEBIT                                                     43899000000.0   \nNet Interest Income                                        783000000.0   \nInterest Income                                            419000000.0   \nNormalized Income                                   37332151446.664726   \nNet Income From Continuing And Discontinued Ope...       37338000000.0   \nTotal Expenses                                           75767000000.0   \nTotal Operating Income As Reported                       43899000000.0   \nDiluted Average Shares                                             NaN   \nBasic Average Shares                                               NaN   \nDiluted EPS                                                        NaN   \nBasic EPS                                                          NaN   \nDiluted NI Availto Com Stockholders                      37338000000.0   \nNet Income Common Stockholders                           37338000000.0   \nOtherunder Preferred Stock Dividend                                NaN   \nNet Income                                               37338000000.0   \nNet Income Including Noncontrolling Interests            37338000000.0   \nNet Income Continuous Operations                         37338000000.0   \nTax Provision                                             7351000000.0   \nPretax Income                                            44689000000.0   \nOther Income Expense                                         7000000.0   \nOther Non Operating Income Expenses                        364000000.0   \nGain On Sale Of Security                                     7000000.0   \nNet Non Operating Interest Income Expense                  783000000.0   \nTotal Other Finance Cost                                  -364000000.0   \nInterest Income Non Operating                              419000000.0   \nOperating Income                                         43899000000.0   \nOperating Expense                                        52244000000.0   \nResearch And Development                                 27165000000.0   \nSelling General And Administration                       25079000000.0   \nSelling And Marketing Expense                            14512000000.0   \nGeneral And Administrative Expense                       10567000000.0   \nOther Gand A                                             10567000000.0   \nGross Profit                                             96143000000.0   \nCost Of Revenue                                          23523000000.0   \nTotal Revenue                                           119666000000.0   \nOperating Revenue                                       118928000000.0   \n\n                                                        2021-12-31  \\\nTax Effect Of Unusual Items                            -23380000.0   \nTax Rate For Calcs                                           0.167   \nNormalized EBITDA                                    54860000000.0   \nTotal Unusual Items                                   -140000000.0   \nTotal Unusual Items Excluding Goodwill                -140000000.0   \nNet Income From Continuing Operation Net Minori...   39370000000.0   \nReconciled Depreciation                               7967000000.0   \nReconciled Cost Of Revenue                           22649000000.0   \nEBITDA                                               54720000000.0   \nEBIT                                                 46753000000.0   \nNet Interest Income                                    671000000.0   \nInterest Income                                        461000000.0   \nNormalized Income                                    39486620000.0   \nNet Income From Continuing And Discontinued Ope...   39370000000.0   \nTotal Expenses                                       71176000000.0   \nTotal Operating Income As Reported                   46753000000.0   \nDiluted Average Shares                                2859000000.0   \nBasic Average Shares                                  2815000000.0   \nDiluted EPS                                                  13.77   \nBasic EPS                                                    13.99   \nDiluted NI Availto Com Stockholders                  39370000000.0   \nNet Income Common Stockholders                       39370000000.0   \nOtherunder Preferred Stock Dividend                            NaN   \nNet Income                                           39370000000.0   \nNet Income Including Noncontrolling Interests        39370000000.0   \nNet Income Continuous Operations                     39370000000.0   \nTax Provision                                         7914000000.0   \nPretax Income                                        47284000000.0   \nOther Income Expense                                  -140000000.0   \nOther Non Operating Income Expenses                    210000000.0   \nGain On Sale Of Security                              -140000000.0   \nNet Non Operating Interest Income Expense              671000000.0   \nTotal Other Finance Cost                              -210000000.0   \nInterest Income Non Operating                          461000000.0   \nOperating Income                                     46753000000.0   \nOperating Expense                                    48527000000.0   \nResearch And Development                             24655000000.0   \nSelling General And Administration                   23872000000.0   \nSelling And Marketing Expense                        14043000000.0   \nGeneral And Administrative Expense                    9829000000.0   \nOther Gand A                                          9829000000.0   \nGross Profit                                         95280000000.0   \nCost Of Revenue                                      22649000000.0   \nTotal Revenue                                       117929000000.0   \nOperating Revenue                                   117208000000.0   \n\n                                                            2021-09-30  \\\nTax Effect Of Unusual Items                            -1385254.849274   \nTax Rate For Calcs                                            0.153917   \nNormalized EBITDA                                        54768000000.0   \nTotal Unusual Items                                         -9000000.0   \nTotal Unusual Items Excluding Goodwill                      -9000000.0   \nNet Income From Continuing Operation Net Minori...       40304000000.0   \nReconciled Depreciation                                   7816000000.0   \nReconciled Cost Of Revenue                               21511000000.0   \nEBITDA                                                   54759000000.0   \nEBIT                                                     46943000000.0   \nNet Interest Income                                        702000000.0   \nInterest Income                                            495000000.0   \nNormalized Income                                   40311614745.150726   \nNet Income From Continuing And Discontinued Ope...       40304000000.0   \nTotal Expenses                                           65387000000.0   \nTotal Operating Income As Reported                       46943000000.0   \nDiluted Average Shares                                             NaN   \nBasic Average Shares                                               NaN   \nDiluted EPS                                                        NaN   \nBasic EPS                                                          NaN   \nDiluted NI Availto Com Stockholders                      40304000000.0   \nNet Income Common Stockholders                           40304000000.0   \nOtherunder Preferred Stock Dividend                                NaN   \nNet Income                                               40304000000.0   \nNet Income Including Noncontrolling Interests            40304000000.0   \nNet Income Continuous Operations                         40304000000.0   \nTax Provision                                             7332000000.0   \nPretax Income                                            47636000000.0   \nOther Income Expense                                        -9000000.0   \nOther Non Operating Income Expenses                        207000000.0   \nGain On Sale Of Security                                    -9000000.0   \nNet Non Operating Interest Income Expense                  702000000.0   \nTotal Other Finance Cost                                  -207000000.0   \nInterest Income Non Operating                              495000000.0   \nOperating Income                                         46943000000.0   \nOperating Expense                                        43876000000.0   \nResearch And Development                                 22816000000.0   \nSelling General And Administration                       21060000000.0   \nSelling And Marketing Expense                            12937000000.0   \nGeneral And Administrative Expense                        8123000000.0   \nOther Gand A                                              8123000000.0   \nGross Profit                                             90819000000.0   \nCost Of Revenue                                          21511000000.0   \nTotal Revenue                                           112330000000.0   \nOperating Revenue                                       109482000000.0   \n\n                                                            2021-06-30  \\\nTax Effect Of Unusual Items                              138195.734891   \nTax Rate For Calcs                                            0.138196   \nNormalized EBITDA                                        52078000000.0   \nTotal Unusual Items                                          1000000.0   \nTotal Unusual Items Excluding Goodwill                       1000000.0   \nNet Income From Continuing Operation Net Minori...       38957000000.0   \nReconciled Depreciation                                   7519000000.0   \nReconciled Cost Of Revenue                               19934000000.0   \nEBITDA                                                   52079000000.0   \nEBIT                                                     44560000000.0   \nNet Interest Income                                        643000000.0   \nInterest Income                                            521000000.0   \nNormalized Income                                   38956138195.734894   \nNet Income From Continuing And Discontinued Ope...       38957000000.0   \nTotal Expenses                                           60230000000.0   \nTotal Operating Income As Reported                       44560000000.0   \nDiluted Average Shares                                             NaN   \nBasic Average Shares                                               NaN   \nDiluted EPS                                                        NaN   \nBasic EPS                                                          NaN   \nDiluted NI Availto Com Stockholders                      38957000000.0   \nNet Income Common Stockholders                           38957000000.0   \nOtherunder Preferred Stock Dividend                                NaN   \nNet Income                                               38957000000.0   \nNet Income Including Noncontrolling Interests            38957000000.0   \nNet Income Continuous Operations                         38957000000.0   \nTax Provision                                             6247000000.0   \nPretax Income                                            45204000000.0   \nOther Income Expense                                         1000000.0   \nOther Non Operating Income Expenses                        122000000.0   \nGain On Sale Of Security                                     1000000.0   \nNet Non Operating Interest Income Expense                  643000000.0   \nTotal Other Finance Cost                                  -122000000.0   \nInterest Income Non Operating                              521000000.0   \nOperating Income                                         44560000000.0   \nOperating Expense                                        40296000000.0   \nResearch And Development                                 21263000000.0   \nSelling General And Administration                       19033000000.0   \nSelling And Marketing Expense                            12066000000.0   \nGeneral And Administrative Expense                        6967000000.0   \nOther Gand A                                              6967000000.0   \nGross Profit                                             84856000000.0   \nCost Of Revenue                                          19934000000.0   \nTotal Revenue                                           104790000000.0   \nOperating Revenue                                       102427000000.0   \n\n                                                            2021-03-31  \\\nTax Effect Of Unusual Items                               3795502.5501   \nTax Rate For Calcs                                            0.130879   \nNormalized EBITDA                                        45364000000.0   \nTotal Unusual Items                                         29000000.0   \nTotal Unusual Items Excluding Goodwill                      29000000.0   \nNet Income From Continuing Operation Net Minori...       33741000000.0   \nReconciled Depreciation                                   7237000000.0   \nReconciled Cost Of Revenue                               18364000000.0   \nEBITDA                                                   45393000000.0   \nEBIT                                                     38156000000.0   \nNet Interest Income                                        637000000.0   \nInterest Income                                            562000000.0   \nNormalized Income                                   33715795502.550098   \nNet Income From Continuing And Discontinued Ope...       33741000000.0   \nTotal Expenses                                           56243000000.0   \nTotal Operating Income As Reported                       38156000000.0   \nDiluted Average Shares                                             NaN   \nBasic Average Shares                                               NaN   \nDiluted EPS                                                        NaN   \nBasic EPS                                                          NaN   \nDiluted NI Availto Com Stockholders                      33741000000.0   \nNet Income Common Stockholders                           33741000000.0   \nOtherunder Preferred Stock Dividend                                NaN   \nNet Income                                               33741000000.0   \nNet Income Including Noncontrolling Interests            33741000000.0   \nNet Income Continuous Operations                         33741000000.0   \nTax Provision                                             5081000000.0   \nPretax Income                                            38822000000.0   \nOther Income Expense                                        29000000.0   \nOther Non Operating Income Expenses                         75000000.0   \nGain On Sale Of Security                                    29000000.0   \nNet Non Operating Interest Income Expense                  637000000.0   \nTotal Other Finance Cost                                   -75000000.0   \nInterest Income Non Operating                              562000000.0   \nOperating Income                                         38156000000.0   \nOperating Expense                                        37879000000.0   \nResearch And Development                                 19629000000.0   \nSelling General And Administration                       18250000000.0   \nSelling And Marketing Expense                            11647000000.0   \nGeneral And Administrative Expense                        6603000000.0   \nOther Gand A                                              6603000000.0   \nGross Profit                                             76035000000.0   \nCost Of Revenue                                          18364000000.0   \nTotal Revenue                                            94399000000.0   \nOperating Revenue                                        92168000000.0   \n\n                                                       2020-12-31  \\\nTax Effect Of Unusual Items                           -15738000.0   \nTax Rate For Calcs                                          0.122   \nNormalized EBITDA                                   39662000000.0   \nTotal Unusual Items                                  -129000000.0   \nTotal Unusual Items Excluding Goodwill               -129000000.0   \nNet Income From Continuing Operation Net Minori...  29146000000.0   \nReconciled Depreciation                              6862000000.0   \nReconciled Cost Of Revenue                          16692000000.0   \nEBITDA                                              39533000000.0   \nEBIT                                                32671000000.0   \nNet Interest Income                                   638000000.0   \nInterest Income                                       672000000.0   \nNormalized Income                                   29259262000.0   \nNet Income From Continuing And Discontinued Ope...  29146000000.0   \nTotal Expenses                                      53294000000.0   \nTotal Operating Income As Reported                  32671000000.0   \nDiluted Average Shares                               2888000000.0   \nBasic Average Shares                                 2851000000.0   \nDiluted EPS                                                 10.09   \nBasic EPS                                                   10.22   \nDiluted NI Availto Com Stockholders                 29146000000.0   \nNet Income Common Stockholders                      29146000000.0   \nOtherunder Preferred Stock Dividend                           0.0   \nNet Income                                          29146000000.0   \nNet Income Including Noncontrolling Interests       29146000000.0   \nNet Income Continuous Operations                    29146000000.0   \nTax Provision                                        4034000000.0   \nPretax Income                                       33180000000.0   \nOther Income Expense                                 -129000000.0   \nOther Non Operating Income Expenses                   -34000000.0   \nGain On Sale Of Security                             -129000000.0   \nNet Non Operating Interest Income Expense             638000000.0   \nTotal Other Finance Cost                               34000000.0   \nInterest Income Non Operating                         672000000.0   \nOperating Income                                    32671000000.0   \nOperating Expense                                   36602000000.0   \nResearch And Development                            18447000000.0   \nSelling General And Administration                  18155000000.0   \nSelling And Marketing Expense                       11591000000.0   \nGeneral And Administrative Expense                   6564000000.0   \nOther Gand A                                         6564000000.0   \nGross Profit                                        69273000000.0   \nCost Of Revenue                                     16692000000.0   \nTotal Revenue                                       85965000000.0   \nOperating Revenue                                   85308000000.0   \n\n                                                            2020-09-30  \\\nTax Effect Of Unusual Items                           -14401925.308937   \nTax Rate For Calcs                                            0.137161   \nNormalized EBITDA                                        36172000000.0   \nTotal Unusual Items                                       -105000000.0   \nTotal Unusual Items Excluding Goodwill                    -105000000.0   \nNet Income From Continuing Operation Net Minori...       25276000000.0   \nReconciled Depreciation                                   6467000000.0   \nReconciled Cost Of Revenue                               14973000000.0   \nEBITDA                                                   36067000000.0   \nEBIT                                                     29600000000.0   \nNet Interest Income                                        645000000.0   \nInterest Income                                            785000000.0   \nNormalized Income                                   25366598074.691063   \nNet Income From Continuing And Discontinued Ope...       25276000000.0   \nTotal Expenses                                           50221000000.0   \nTotal Operating Income As Reported                       28754000000.0   \nDiluted Average Shares                                             NaN   \nBasic Average Shares                                               NaN   \nDiluted EPS                                                        NaN   \nBasic EPS                                                          NaN   \nDiluted NI Availto Com Stockholders                      25276000000.0   \nNet Income Common Stockholders                           25276000000.0   \nOtherunder Preferred Stock Dividend                                NaN   \nNet Income                                               25276000000.0   \nNet Income Including Noncontrolling Interests            25276000000.0   \nNet Income Continuous Operations                         25276000000.0   \nTax Provision                                             4018000000.0   \nPretax Income                                            29294000000.0   \nOther Income Expense                                      -225000000.0   \nOther Non Operating Income Expenses                       -120000000.0   \nGain On Sale Of Security                                           NaN   \nNet Non Operating Interest Income Expense                  645000000.0   \nTotal Other Finance Cost                                   120000000.0   \nInterest Income Non Operating                              785000000.0   \nOperating Income                                         28754000000.0   \nOperating Expense                                        35248000000.0   \nResearch And Development                                 17118000000.0   \nSelling General And Administration                       18130000000.0   \nSelling And Marketing Expense                            11336000000.0   \nGeneral And Administrative Expense                        6794000000.0   \nOther Gand A                                              6794000000.0   \nGross Profit                                             64002000000.0   \nCost Of Revenue                                          14973000000.0   \nTotal Revenue                                            78975000000.0   \nOperating Revenue                                        77717000000.0   \n\n                                                            2020-06-30  \\\nTax Effect Of Unusual Items                           -18313267.813268   \nTax Rate For Calcs                                            0.174412   \nNormalized EBITDA                                        35035000000.0   \nTotal Unusual Items                                       -105000000.0   \nTotal Unusual Items Excluding Goodwill                    -105000000.0   \nNet Income From Continuing Operation Net Minori...       23521000000.0   \nReconciled Depreciation                                   6185000000.0   \nReconciled Cost Of Revenue                               13935000000.0   \nEBITDA                                                   34930000000.0   \nEBIT                                                     28745000000.0   \nNet Interest Income                                        696000000.0   \nInterest Income                                            897000000.0   \nNormalized Income                                   23607686732.186733   \nNet Income From Continuing And Discontinued Ope...       23521000000.0   \nTotal Expenses                                           47258000000.0   \nTotal Operating Income As Reported                       27899000000.0   \nDiluted Average Shares                                             NaN   \nBasic Average Shares                                               NaN   \nDiluted EPS                                                        NaN   \nBasic EPS                                                          NaN   \nDiluted NI Availto Com Stockholders                      23521000000.0   \nNet Income Common Stockholders                           23521000000.0   \nOtherunder Preferred Stock Dividend                                NaN   \nNet Income                                               23521000000.0   \nNet Income Including Noncontrolling Interests            23521000000.0   \nNet Income Continuous Operations                         23521000000.0   \nTax Provision                                             4969000000.0   \nPretax Income                                            28490000000.0   \nOther Income Expense                                      -286000000.0   \nOther Non Operating Income Expenses                       -181000000.0   \nGain On Sale Of Security                                           NaN   \nNet Non Operating Interest Income Expense                  696000000.0   \nTotal Other Finance Cost                                   181000000.0   \nInterest Income Non Operating                              897000000.0   \nOperating Income                                         27899000000.0   \nOperating Expense                                        33323000000.0   \nResearch And Development                                 15902000000.0   \nSelling General And Administration                       17421000000.0   \nSelling And Marketing Expense                            11069000000.0   \nGeneral And Administrative Expense                        6352000000.0   \nOther Gand A                                              6352000000.0   \nGross Profit                                             61222000000.0   \nCost Of Revenue                                          13935000000.0   \nTotal Revenue                                            75157000000.0   \nOperating Revenue                                        73879000000.0   \n\n                                                            2020-03-31  \nTax Effect Of Unusual Items                           -24069177.301313  \nTax Rate For Calcs                                             0.22923  \nNormalized EBITDA                                        33496000000.0  \nTotal Unusual Items                                       -105000000.0  \nTotal Unusual Items Excluding Goodwill                    -105000000.0  \nNet Income From Continuing Operation Net Minori...       20958000000.0  \nReconciled Depreciation                                   5983000000.0  \nReconciled Cost Of Revenue                               13413000000.0  \nEBITDA                                                   33391000000.0  \nEBIT                                                     27408000000.0  \nNet Interest Income                                        734000000.0  \nInterest Income                                            954000000.0  \nNormalized Income                                   21038930822.698689  \nNet Income From Continuing And Discontinued Ope...       20958000000.0  \nTotal Expenses                                           46795000000.0  \nTotal Operating Income As Reported                       26562000000.0  \nDiluted Average Shares                                             NaN  \nBasic Average Shares                                               NaN  \nDiluted EPS                                                        NaN  \nBasic EPS                                                          NaN  \nDiluted NI Availto Com Stockholders                      20958000000.0  \nNet Income Common Stockholders                           20958000000.0  \nOtherunder Preferred Stock Dividend                                NaN  \nNet Income                                               20958000000.0  \nNet Income Including Noncontrolling Interests            20958000000.0  \nNet Income Continuous Operations                         20958000000.0  \nTax Provision                                             6233000000.0  \nPretax Income                                            27191000000.0  \nOther Income Expense                                      -305000000.0  \nOther Non Operating Income Expenses                       -200000000.0  \nGain On Sale Of Security                                           NaN  \nNet Non Operating Interest Income Expense                  734000000.0  \nTotal Other Finance Cost                                   200000000.0  \nInterest Income Non Operating                              954000000.0  \nOperating Income                                         26562000000.0  \nOperating Expense                                        33382000000.0  \nResearch And Development                                 14755000000.0  \nSelling General And Administration                       18627000000.0  \nSelling And Marketing Expense                            10643000000.0  \nGeneral And Administrative Expense                        7984000000.0  \nOther Gand A                                              7984000000.0  \nGross Profit                                             59944000000.0  \nCost Of Revenue                                          13413000000.0  \nTotal Revenue                                            73357000000.0  \nOperating Revenue                                        72183000000.0  ",
      "text/html": "<div>\n<style scoped>\n    .dataframe tbody tr th:only-of-type {\n        vertical-align: middle;\n    }\n\n    .dataframe tbody tr th {\n        vertical-align: top;\n    }\n\n    .dataframe thead th {\n        text-align: right;\n    }\n</style>\n<table border=\"1\" class=\"dataframe\">\n  <thead>\n    <tr style=\"text-align: right;\">\n      <th></th>\n      <th>2023-09-30</th>\n      <th>2023-06-30</th>\n      <th>2023-03-31</th>\n      <th>2022-12-31</th>\n      <th>2022-09-30</th>\n      <th>2022-06-30</th>\n      <th>2022-03-31</th>\n      <th>2021-12-31</th>\n      <th>2021-09-30</th>\n      <th>2021-06-30</th>\n      <th>2021-03-31</th>\n      <th>2020-12-31</th>\n      <th>2020-09-30</th>\n      <th>2020-06-30</th>\n      <th>2020-03-31</th>\n    </tr>\n  </thead>\n  <tbody>\n    <tr>\n      <th>Tax Effect Of Unusual Items</th>\n      <td>-47455208.050041</td>\n      <td>-57534969.108561</td>\n      <td>-42003527.077669</td>\n      <td>-15795000.0</td>\n      <td>-25333361.603483</td>\n      <td>-8839898.914821</td>\n      <td>1151446.664727</td>\n      <td>-23380000.0</td>\n      <td>-1385254.849274</td>\n      <td>138195.734891</td>\n      <td>3795502.5501</td>\n      <td>-15738000.0</td>\n      <td>-14401925.308937</td>\n      <td>-18313267.813268</td>\n      <td>-24069177.301313</td>\n    </tr>\n    <tr>\n      <th>Tax Rate For Calcs</th>\n      <td>0.191352</td>\n      <td>0.204025</td>\n      <td>0.212139</td>\n      <td>0.195</td>\n      <td>0.184915</td>\n      <td>0.166791</td>\n      <td>0.164492</td>\n      <td>0.167</td>\n      <td>0.153917</td>\n      <td>0.138196</td>\n      <td>0.130879</td>\n      <td>0.122</td>\n      <td>0.137161</td>\n      <td>0.174412</td>\n      <td>0.22923</td>\n    </tr>\n    <tr>\n      <th>Normalized EBITDA</th>\n      <td>47760000000.0</td>\n      <td>38592000000.0</td>\n      <td>36645000000.0</td>\n      <td>37711000000.0</td>\n      <td>43591000000.0</td>\n      <td>48086000000.0</td>\n      <td>52043000000.0</td>\n      <td>54860000000.0</td>\n      <td>54768000000.0</td>\n      <td>52078000000.0</td>\n      <td>45364000000.0</td>\n      <td>39662000000.0</td>\n      <td>36172000000.0</td>\n      <td>35035000000.0</td>\n      <td>33496000000.0</td>\n    </tr>\n    <tr>\n      <th>Total Unusual Items</th>\n      <td>-248000000.0</td>\n      <td>-282000000.0</td>\n      <td>-198000000.0</td>\n      <td>-81000000.0</td>\n      <td>-137000000.0</td>\n      <td>-53000000.0</td>\n      <td>7000000.0</td>\n      <td>-140000000.0</td>\n      <td>-9000000.0</td>\n      <td>1000000.0</td>\n      <td>29000000.0</td>\n      <td>-129000000.0</td>\n      <td>-105000000.0</td>\n      <td>-105000000.0</td>\n      <td>-105000000.0</td>\n    </tr>\n    <tr>\n      <th>Total Unusual Items Excluding Goodwill</th>\n      <td>-248000000.0</td>\n      <td>-282000000.0</td>\n      <td>-198000000.0</td>\n      <td>-81000000.0</td>\n      <td>-137000000.0</td>\n      <td>-53000000.0</td>\n      <td>7000000.0</td>\n      <td>-140000000.0</td>\n      <td>-9000000.0</td>\n      <td>1000000.0</td>\n      <td>29000000.0</td>\n      <td>-129000000.0</td>\n      <td>-105000000.0</td>\n      <td>-105000000.0</td>\n      <td>-105000000.0</td>\n    </tr>\n    <tr>\n      <th>Net Income From Continuing Operation Net Minority Interest</th>\n      <td>29734000000.0</td>\n      <td>22546000000.0</td>\n      <td>21444000000.0</td>\n      <td>23200000000.0</td>\n      <td>28832000000.0</td>\n      <td>33630000000.0</td>\n      <td>37338000000.0</td>\n      <td>39370000000.0</td>\n      <td>40304000000.0</td>\n      <td>38957000000.0</td>\n      <td>33741000000.0</td>\n      <td>29146000000.0</td>\n      <td>25276000000.0</td>\n      <td>23521000000.0</td>\n      <td>20958000000.0</td>\n    </tr>\n    <tr>\n      <th>Reconciled Depreciation</th>\n      <td>10382000000.0</td>\n      <td>9698000000.0</td>\n      <td>9054000000.0</td>\n      <td>8686000000.0</td>\n      <td>8324000000.0</td>\n      <td>8144000000.0</td>\n      <td>8151000000.0</td>\n      <td>7967000000.0</td>\n      <td>7816000000.0</td>\n      <td>7519000000.0</td>\n      <td>7237000000.0</td>\n      <td>6862000000.0</td>\n      <td>6467000000.0</td>\n      <td>6185000000.0</td>\n      <td>5983000000.0</td>\n    </tr>\n    <tr>\n      <th>Reconciled Cost Of Revenue</th>\n      <td>26600000000.0</td>\n      <td>26106000000.0</td>\n      <td>25352000000.0</td>\n      <td>25249000000.0</td>\n      <td>23261000000.0</td>\n      <td>23316000000.0</td>\n      <td>23523000000.0</td>\n      <td>22649000000.0</td>\n      <td>21511000000.0</td>\n      <td>19934000000.0</td>\n      <td>18364000000.0</td>\n      <td>16692000000.0</td>\n      <td>14973000000.0</td>\n      <td>13935000000.0</td>\n      <td>13413000000.0</td>\n    </tr>\n    <tr>\n      <th>EBITDA</th>\n      <td>47512000000.0</td>\n      <td>38310000000.0</td>\n      <td>36447000000.0</td>\n      <td>37630000000.0</td>\n      <td>43454000000.0</td>\n      <td>48033000000.0</td>\n      <td>52050000000.0</td>\n      <td>54720000000.0</td>\n      <td>54759000000.0</td>\n      <td>52079000000.0</td>\n      <td>45393000000.0</td>\n      <td>39533000000.0</td>\n      <td>36067000000.0</td>\n      <td>34930000000.0</td>\n      <td>33391000000.0</td>\n    </tr>\n    <tr>\n      <th>EBIT</th>\n      <td>37130000000.0</td>\n      <td>28612000000.0</td>\n      <td>27393000000.0</td>\n      <td>28944000000.0</td>\n      <td>35130000000.0</td>\n      <td>39889000000.0</td>\n      <td>43899000000.0</td>\n      <td>46753000000.0</td>\n      <td>46943000000.0</td>\n      <td>44560000000.0</td>\n      <td>38156000000.0</td>\n      <td>32671000000.0</td>\n      <td>29600000000.0</td>\n      <td>28745000000.0</td>\n      <td>27408000000.0</td>\n    </tr>\n    <tr>\n      <th>Net Interest Income</th>\n      <td>252000000.0</td>\n      <td>-75000000.0</td>\n      <td>-231000000.0</td>\n      <td>-44000000.0</td>\n      <td>380000000.0</td>\n      <td>526000000.0</td>\n      <td>783000000.0</td>\n      <td>671000000.0</td>\n      <td>702000000.0</td>\n      <td>643000000.0</td>\n      <td>637000000.0</td>\n      <td>638000000.0</td>\n      <td>645000000.0</td>\n      <td>696000000.0</td>\n      <td>734000000.0</td>\n    </tr>\n    <tr>\n      <th>Interest Income</th>\n      <td>1008000000.0</td>\n      <td>616000000.0</td>\n      <td>388000000.0</td>\n      <td>276000000.0</td>\n      <td>346000000.0</td>\n      <td>389000000.0</td>\n      <td>419000000.0</td>\n      <td>461000000.0</td>\n      <td>495000000.0</td>\n      <td>521000000.0</td>\n      <td>562000000.0</td>\n      <td>672000000.0</td>\n      <td>785000000.0</td>\n      <td>897000000.0</td>\n      <td>954000000.0</td>\n    </tr>\n    <tr>\n      <th>Normalized Income</th>\n      <td>29934544791.949959</td>\n      <td>22770465030.891438</td>\n      <td>21599996472.922333</td>\n      <td>23265205000.0</td>\n      <td>28943666638.396519</td>\n      <td>33674160101.085178</td>\n      <td>37332151446.664726</td>\n      <td>39486620000.0</td>\n      <td>40311614745.150726</td>\n      <td>38956138195.734894</td>\n      <td>33715795502.550098</td>\n      <td>29259262000.0</td>\n      <td>25366598074.691063</td>\n      <td>23607686732.186733</td>\n      <td>21038930822.698689</td>\n    </tr>\n    <tr>\n      <th>Net Income From Continuing And Discontinued Operation</th>\n      <td>29734000000.0</td>\n      <td>22546000000.0</td>\n      <td>21444000000.0</td>\n      <td>23200000000.0</td>\n      <td>28832000000.0</td>\n      <td>33630000000.0</td>\n      <td>37338000000.0</td>\n      <td>39370000000.0</td>\n      <td>40304000000.0</td>\n      <td>38957000000.0</td>\n      <td>33741000000.0</td>\n      <td>29146000000.0</td>\n      <td>25276000000.0</td>\n      <td>23521000000.0</td>\n      <td>20958000000.0</td>\n    </tr>\n    <tr>\n      <th>Total Expenses</th>\n      <td>90190000000.0</td>\n      <td>91843000000.0</td>\n      <td>89699000000.0</td>\n      <td>87665000000.0</td>\n      <td>82985000000.0</td>\n      <td>79521000000.0</td>\n      <td>75767000000.0</td>\n      <td>71176000000.0</td>\n      <td>65387000000.0</td>\n      <td>60230000000.0</td>\n      <td>56243000000.0</td>\n      <td>53294000000.0</td>\n      <td>50221000000.0</td>\n      <td>47258000000.0</td>\n      <td>46795000000.0</td>\n    </tr>\n    <tr>\n      <th>Total Operating Income As Reported</th>\n      <td>36766000000.0</td>\n      <td>28682000000.0</td>\n      <td>27647000000.0</td>\n      <td>28944000000.0</td>\n      <td>35130000000.0</td>\n      <td>39889000000.0</td>\n      <td>43899000000.0</td>\n      <td>46753000000.0</td>\n      <td>46943000000.0</td>\n      <td>44560000000.0</td>\n      <td>38156000000.0</td>\n      <td>32671000000.0</td>\n      <td>28754000000.0</td>\n      <td>27899000000.0</td>\n      <td>26562000000.0</td>\n    </tr>\n    <tr>\n      <th>Diluted Average Shares</th>\n      <td>NaN</td>\n      <td>NaN</td>\n      <td>NaN</td>\n      <td>2702000000.0</td>\n      <td>NaN</td>\n      <td>NaN</td>\n      <td>NaN</td>\n      <td>2859000000.0</td>\n      <td>NaN</td>\n      <td>NaN</td>\n      <td>NaN</td>\n      <td>2888000000.0</td>\n      <td>NaN</td>\n      <td>NaN</td>\n      <td>NaN</td>\n    </tr>\n    <tr>\n      <th>Basic Average Shares</th>\n      <td>NaN</td>\n      <td>NaN</td>\n      <td>NaN</td>\n      <td>2687000000.0</td>\n      <td>NaN</td>\n      <td>NaN</td>\n      <td>NaN</td>\n      <td>2815000000.0</td>\n      <td>NaN</td>\n      <td>NaN</td>\n      <td>NaN</td>\n      <td>2851000000.0</td>\n      <td>NaN</td>\n      <td>NaN</td>\n      <td>NaN</td>\n    </tr>\n    <tr>\n      <th>Diluted EPS</th>\n      <td>NaN</td>\n      <td>NaN</td>\n      <td>NaN</td>\n      <td>8.59</td>\n      <td>NaN</td>\n      <td>NaN</td>\n      <td>NaN</td>\n      <td>13.77</td>\n      <td>NaN</td>\n      <td>NaN</td>\n      <td>NaN</td>\n      <td>10.09</td>\n      <td>NaN</td>\n      <td>NaN</td>\n      <td>NaN</td>\n    </tr>\n    <tr>\n      <th>Basic EPS</th>\n      <td>NaN</td>\n      <td>NaN</td>\n      <td>NaN</td>\n      <td>8.63</td>\n      <td>NaN</td>\n      <td>NaN</td>\n      <td>NaN</td>\n      <td>13.99</td>\n      <td>NaN</td>\n      <td>NaN</td>\n      <td>NaN</td>\n      <td>10.22</td>\n      <td>NaN</td>\n      <td>NaN</td>\n      <td>NaN</td>\n    </tr>\n    <tr>\n      <th>Diluted NI Availto Com Stockholders</th>\n      <td>29734000000.0</td>\n      <td>22546000000.0</td>\n      <td>21121000000.0</td>\n      <td>23200000000.0</td>\n      <td>28832000000.0</td>\n      <td>33630000000.0</td>\n      <td>37338000000.0</td>\n      <td>39370000000.0</td>\n      <td>40304000000.0</td>\n      <td>38957000000.0</td>\n      <td>33741000000.0</td>\n      <td>29146000000.0</td>\n      <td>25276000000.0</td>\n      <td>23521000000.0</td>\n      <td>20958000000.0</td>\n    </tr>\n    <tr>\n      <th>Net Income Common Stockholders</th>\n      <td>29734000000.0</td>\n      <td>22546000000.0</td>\n      <td>21444000000.0</td>\n      <td>23200000000.0</td>\n      <td>28832000000.0</td>\n      <td>33630000000.0</td>\n      <td>37338000000.0</td>\n      <td>39370000000.0</td>\n      <td>40304000000.0</td>\n      <td>38957000000.0</td>\n      <td>33741000000.0</td>\n      <td>29146000000.0</td>\n      <td>25276000000.0</td>\n      <td>23521000000.0</td>\n      <td>20958000000.0</td>\n    </tr>\n    <tr>\n      <th>Otherunder Preferred Stock Dividend</th>\n      <td>NaN</td>\n      <td>NaN</td>\n      <td>NaN</td>\n      <td>NaN</td>\n      <td>NaN</td>\n      <td>NaN</td>\n      <td>NaN</td>\n      <td>NaN</td>\n      <td>NaN</td>\n      <td>NaN</td>\n      <td>NaN</td>\n      <td>0.0</td>\n      <td>NaN</td>\n      <td>NaN</td>\n      <td>NaN</td>\n    </tr>\n    <tr>\n      <th>Net Income</th>\n      <td>29734000000.0</td>\n      <td>22546000000.0</td>\n      <td>21444000000.0</td>\n      <td>23200000000.0</td>\n      <td>28832000000.0</td>\n      <td>33630000000.0</td>\n      <td>37338000000.0</td>\n      <td>39370000000.0</td>\n      <td>40304000000.0</td>\n      <td>38957000000.0</td>\n      <td>33741000000.0</td>\n      <td>29146000000.0</td>\n      <td>25276000000.0</td>\n      <td>23521000000.0</td>\n      <td>20958000000.0</td>\n    </tr>\n    <tr>\n      <th>Net Income Including Noncontrolling Interests</th>\n      <td>29734000000.0</td>\n      <td>22546000000.0</td>\n      <td>21444000000.0</td>\n      <td>23200000000.0</td>\n      <td>28832000000.0</td>\n      <td>33630000000.0</td>\n      <td>37338000000.0</td>\n      <td>39370000000.0</td>\n      <td>40304000000.0</td>\n      <td>38957000000.0</td>\n      <td>33741000000.0</td>\n      <td>29146000000.0</td>\n      <td>25276000000.0</td>\n      <td>23521000000.0</td>\n      <td>20958000000.0</td>\n    </tr>\n    <tr>\n      <th>Net Income Continuous Operations</th>\n      <td>29734000000.0</td>\n      <td>22546000000.0</td>\n      <td>21444000000.0</td>\n      <td>23200000000.0</td>\n      <td>28832000000.0</td>\n      <td>33630000000.0</td>\n      <td>37338000000.0</td>\n      <td>39370000000.0</td>\n      <td>40304000000.0</td>\n      <td>38957000000.0</td>\n      <td>33741000000.0</td>\n      <td>29146000000.0</td>\n      <td>25276000000.0</td>\n      <td>23521000000.0</td>\n      <td>20958000000.0</td>\n    </tr>\n    <tr>\n      <th>Tax Provision</th>\n      <td>7036000000.0</td>\n      <td>5779000000.0</td>\n      <td>5774000000.0</td>\n      <td>5619000000.0</td>\n      <td>6541000000.0</td>\n      <td>6732000000.0</td>\n      <td>7351000000.0</td>\n      <td>7914000000.0</td>\n      <td>7332000000.0</td>\n      <td>6247000000.0</td>\n      <td>5081000000.0</td>\n      <td>4034000000.0</td>\n      <td>4018000000.0</td>\n      <td>4969000000.0</td>\n      <td>6233000000.0</td>\n    </tr>\n    <tr>\n      <th>Pretax Income</th>\n      <td>36770000000.0</td>\n      <td>28325000000.0</td>\n      <td>27218000000.0</td>\n      <td>28819000000.0</td>\n      <td>35373000000.0</td>\n      <td>40362000000.0</td>\n      <td>44689000000.0</td>\n      <td>47284000000.0</td>\n      <td>47636000000.0</td>\n      <td>45204000000.0</td>\n      <td>38822000000.0</td>\n      <td>33180000000.0</td>\n      <td>29294000000.0</td>\n      <td>28490000000.0</td>\n      <td>27191000000.0</td>\n    </tr>\n    <tr>\n      <th>Other Income Expense</th>\n      <td>-248000000.0</td>\n      <td>-282000000.0</td>\n      <td>-198000000.0</td>\n      <td>-81000000.0</td>\n      <td>-137000000.0</td>\n      <td>-53000000.0</td>\n      <td>7000000.0</td>\n      <td>-140000000.0</td>\n      <td>-9000000.0</td>\n      <td>1000000.0</td>\n      <td>29000000.0</td>\n      <td>-129000000.0</td>\n      <td>-225000000.0</td>\n      <td>-286000000.0</td>\n      <td>-305000000.0</td>\n    </tr>\n    <tr>\n      <th>Other Non Operating Income Expenses</th>\n      <td>NaN</td>\n      <td>NaN</td>\n      <td>NaN</td>\n      <td>-320000000.0</td>\n      <td>34000000.0</td>\n      <td>137000000.0</td>\n      <td>364000000.0</td>\n      <td>210000000.0</td>\n      <td>207000000.0</td>\n      <td>122000000.0</td>\n      <td>75000000.0</td>\n      <td>-34000000.0</td>\n      <td>-120000000.0</td>\n      <td>-181000000.0</td>\n      <td>-200000000.0</td>\n    </tr>\n    <tr>\n      <th>Gain On Sale Of Security</th>\n      <td>-248000000.0</td>\n      <td>-282000000.0</td>\n      <td>-198000000.0</td>\n      <td>-81000000.0</td>\n      <td>-137000000.0</td>\n      <td>-53000000.0</td>\n      <td>7000000.0</td>\n      <td>-140000000.0</td>\n      <td>-9000000.0</td>\n      <td>1000000.0</td>\n      <td>29000000.0</td>\n      <td>-129000000.0</td>\n      <td>NaN</td>\n      <td>NaN</td>\n      <td>NaN</td>\n    </tr>\n    <tr>\n      <th>Net Non Operating Interest Income Expense</th>\n      <td>252000000.0</td>\n      <td>-75000000.0</td>\n      <td>-231000000.0</td>\n      <td>-44000000.0</td>\n      <td>380000000.0</td>\n      <td>526000000.0</td>\n      <td>783000000.0</td>\n      <td>671000000.0</td>\n      <td>702000000.0</td>\n      <td>643000000.0</td>\n      <td>637000000.0</td>\n      <td>638000000.0</td>\n      <td>645000000.0</td>\n      <td>696000000.0</td>\n      <td>734000000.0</td>\n    </tr>\n    <tr>\n      <th>Total Other Finance Cost</th>\n      <td>521000000.0</td>\n      <td>529000000.0</td>\n      <td>569000000.0</td>\n      <td>320000000.0</td>\n      <td>-34000000.0</td>\n      <td>-137000000.0</td>\n      <td>-364000000.0</td>\n      <td>-210000000.0</td>\n      <td>-207000000.0</td>\n      <td>-122000000.0</td>\n      <td>-75000000.0</td>\n      <td>34000000.0</td>\n      <td>120000000.0</td>\n      <td>181000000.0</td>\n      <td>200000000.0</td>\n    </tr>\n    <tr>\n      <th>Interest Income Non Operating</th>\n      <td>1008000000.0</td>\n      <td>616000000.0</td>\n      <td>388000000.0</td>\n      <td>276000000.0</td>\n      <td>346000000.0</td>\n      <td>389000000.0</td>\n      <td>419000000.0</td>\n      <td>461000000.0</td>\n      <td>495000000.0</td>\n      <td>521000000.0</td>\n      <td>562000000.0</td>\n      <td>672000000.0</td>\n      <td>785000000.0</td>\n      <td>897000000.0</td>\n      <td>954000000.0</td>\n    </tr>\n    <tr>\n      <th>Operating Income</th>\n      <td>36766000000.0</td>\n      <td>28682000000.0</td>\n      <td>27647000000.0</td>\n      <td>28944000000.0</td>\n      <td>35130000000.0</td>\n      <td>39889000000.0</td>\n      <td>43899000000.0</td>\n      <td>46753000000.0</td>\n      <td>46943000000.0</td>\n      <td>44560000000.0</td>\n      <td>38156000000.0</td>\n      <td>32671000000.0</td>\n      <td>28754000000.0</td>\n      <td>27899000000.0</td>\n      <td>26562000000.0</td>\n    </tr>\n    <tr>\n      <th>Operating Expense</th>\n      <td>63590000000.0</td>\n      <td>65737000000.0</td>\n      <td>64347000000.0</td>\n      <td>62416000000.0</td>\n      <td>59724000000.0</td>\n      <td>56205000000.0</td>\n      <td>52244000000.0</td>\n      <td>48527000000.0</td>\n      <td>43876000000.0</td>\n      <td>40296000000.0</td>\n      <td>37879000000.0</td>\n      <td>36602000000.0</td>\n      <td>35248000000.0</td>\n      <td>33323000000.0</td>\n      <td>33382000000.0</td>\n    </tr>\n    <tr>\n      <th>Research And Development</th>\n      <td>37737000000.0</td>\n      <td>37666000000.0</td>\n      <td>37012000000.0</td>\n      <td>35338000000.0</td>\n      <td>32613000000.0</td>\n      <td>29759000000.0</td>\n      <td>27165000000.0</td>\n      <td>24655000000.0</td>\n      <td>22816000000.0</td>\n      <td>21263000000.0</td>\n      <td>19629000000.0</td>\n      <td>18447000000.0</td>\n      <td>17118000000.0</td>\n      <td>15902000000.0</td>\n      <td>14755000000.0</td>\n    </tr>\n    <tr>\n      <th>Selling General And Administration</th>\n      <td>25853000000.0</td>\n      <td>28071000000.0</td>\n      <td>27335000000.0</td>\n      <td>27078000000.0</td>\n      <td>27111000000.0</td>\n      <td>26446000000.0</td>\n      <td>25079000000.0</td>\n      <td>23872000000.0</td>\n      <td>21060000000.0</td>\n      <td>19033000000.0</td>\n      <td>18250000000.0</td>\n      <td>18155000000.0</td>\n      <td>18130000000.0</td>\n      <td>17421000000.0</td>\n      <td>18627000000.0</td>\n    </tr>\n    <tr>\n      <th>Selling And Marketing Expense</th>\n      <td>13649000000.0</td>\n      <td>14553000000.0</td>\n      <td>14994000000.0</td>\n      <td>15262000000.0</td>\n      <td>15075000000.0</td>\n      <td>14848000000.0</td>\n      <td>14512000000.0</td>\n      <td>14043000000.0</td>\n      <td>12937000000.0</td>\n      <td>12066000000.0</td>\n      <td>11647000000.0</td>\n      <td>11591000000.0</td>\n      <td>11336000000.0</td>\n      <td>11069000000.0</td>\n      <td>10643000000.0</td>\n    </tr>\n    <tr>\n      <th>General And Administrative Expense</th>\n      <td>12204000000.0</td>\n      <td>13518000000.0</td>\n      <td>12341000000.0</td>\n      <td>11816000000.0</td>\n      <td>12036000000.0</td>\n      <td>11598000000.0</td>\n      <td>10567000000.0</td>\n      <td>9829000000.0</td>\n      <td>8123000000.0</td>\n      <td>6967000000.0</td>\n      <td>6603000000.0</td>\n      <td>6564000000.0</td>\n      <td>6794000000.0</td>\n      <td>6352000000.0</td>\n      <td>7984000000.0</td>\n    </tr>\n    <tr>\n      <th>Other Gand A</th>\n      <td>12204000000.0</td>\n      <td>13518000000.0</td>\n      <td>12341000000.0</td>\n      <td>11816000000.0</td>\n      <td>12036000000.0</td>\n      <td>11598000000.0</td>\n      <td>10567000000.0</td>\n      <td>9829000000.0</td>\n      <td>8123000000.0</td>\n      <td>6967000000.0</td>\n      <td>6603000000.0</td>\n      <td>6564000000.0</td>\n      <td>6794000000.0</td>\n      <td>6352000000.0</td>\n      <td>7984000000.0</td>\n    </tr>\n    <tr>\n      <th>Gross Profit</th>\n      <td>100356000000.0</td>\n      <td>94419000000.0</td>\n      <td>91994000000.0</td>\n      <td>91360000000.0</td>\n      <td>94854000000.0</td>\n      <td>96094000000.0</td>\n      <td>96143000000.0</td>\n      <td>95280000000.0</td>\n      <td>90819000000.0</td>\n      <td>84856000000.0</td>\n      <td>76035000000.0</td>\n      <td>69273000000.0</td>\n      <td>64002000000.0</td>\n      <td>61222000000.0</td>\n      <td>59944000000.0</td>\n    </tr>\n    <tr>\n      <th>Cost Of Revenue</th>\n      <td>26600000000.0</td>\n      <td>26106000000.0</td>\n      <td>25352000000.0</td>\n      <td>25249000000.0</td>\n      <td>23261000000.0</td>\n      <td>23316000000.0</td>\n      <td>23523000000.0</td>\n      <td>22649000000.0</td>\n      <td>21511000000.0</td>\n      <td>19934000000.0</td>\n      <td>18364000000.0</td>\n      <td>16692000000.0</td>\n      <td>14973000000.0</td>\n      <td>13935000000.0</td>\n      <td>13413000000.0</td>\n    </tr>\n    <tr>\n      <th>Total Revenue</th>\n      <td>126956000000.0</td>\n      <td>120525000000.0</td>\n      <td>117346000000.0</td>\n      <td>116609000000.0</td>\n      <td>118115000000.0</td>\n      <td>119410000000.0</td>\n      <td>119666000000.0</td>\n      <td>117929000000.0</td>\n      <td>112330000000.0</td>\n      <td>104790000000.0</td>\n      <td>94399000000.0</td>\n      <td>85965000000.0</td>\n      <td>78975000000.0</td>\n      <td>75157000000.0</td>\n      <td>73357000000.0</td>\n    </tr>\n    <tr>\n      <th>Operating Revenue</th>\n      <td>126048000000.0</td>\n      <td>119720000000.0</td>\n      <td>116548000000.0</td>\n      <td>115801000000.0</td>\n      <td>117337000000.0</td>\n      <td>118647000000.0</td>\n      <td>118928000000.0</td>\n      <td>117208000000.0</td>\n      <td>109482000000.0</td>\n      <td>102427000000.0</td>\n      <td>92168000000.0</td>\n      <td>85308000000.0</td>\n      <td>77717000000.0</td>\n      <td>73879000000.0</td>\n      <td>72183000000.0</td>\n    </tr>\n  </tbody>\n</table>\n</div>"
     },
     "execution_count": 14,
     "metadata": {},
     "output_type": "execute_result"
    }
   ],
   "source": [
    "ticker.financials"
   ]
  },
  {
   "cell_type": "code",
   "execution_count": 15,
   "metadata": {
    "ExecuteTime": {
     "end_time": "2024-01-10T16:57:49.874429Z",
     "start_time": "2024-01-10T16:57:49.726175Z"
    }
   },
   "outputs": [
    {
     "data": {
      "text/plain": "                                                       2023-09-30  \\\nTax Effect Of Unusual Items                           -16660000.0   \nTax Rate For Calcs                                           0.17   \nNormalized EBITDA                                   17116000000.0   \nTotal Unusual Items                                   -98000000.0   \nTotal Unusual Items Excluding Goodwill                -98000000.0   \nNet Income From Continuing Operation Net Minori...  11583000000.0   \nReconciled Depreciation                              2859000000.0   \nReconciled Cost Of Revenue                           6210000000.0   \nEBITDA                                              17018000000.0   \nEBIT                                                14159000000.0   \nNet Interest Income                                   370000000.0   \nInterest Expense                                      139000000.0   \nInterest Income                                       534000000.0   \nNormalized Income                                   11664340000.0   \nNet Income From Continuing And Discontinued Ope...  11583000000.0   \nTotal Expenses                                      20398000000.0   \nTotal Operating Income As Reported                  13748000000.0   \nDiluted Average Shares                               2641000000.0   \nBasic Average Shares                                 2576000000.0   \nDiluted EPS                                                  4.39   \nBasic EPS                                                     4.5   \nDiluted NI Availto Com Stockholders                 11583000000.0   \nAverage Dilution Earnings                                     NaN   \nNet Income Common Stockholders                      11583000000.0   \nNet Income                                          11583000000.0   \nNet Income Including Noncontrolling Interests       11583000000.0   \nNet Income Continuous Operations                    11583000000.0   \nTax Provision                                        2437000000.0   \nPretax Income                                       14020000000.0   \nOther Income Expense                                  -98000000.0   \nOther Non Operating Income Expenses                           NaN   \nGain On Sale Of Security                              -98000000.0   \nNet Non Operating Interest Income Expense             370000000.0   \nTotal Other Finance Cost                               25000000.0   \nInterest Expense Non Operating                        139000000.0   \nInterest Income Non Operating                         534000000.0   \nOperating Income                                    13748000000.0   \nOperating Expense                                   14188000000.0   \nResearch And Development                             9241000000.0   \nSelling General And Administration                   4947000000.0   \nSelling And Marketing Expense                        2877000000.0   \nGeneral And Administrative Expense                   2070000000.0   \nOther Gand A                                         2070000000.0   \nGross Profit                                        27936000000.0   \nCost Of Revenue                                      6210000000.0   \nTotal Revenue                                       34146000000.0   \nOperating Revenue                                   33853000000.0   \n\n                                                       2023-06-30  \\\nTax Effect Of Unusual Items                           -23200000.0   \nTax Rate For Calcs                                           0.16   \nNormalized EBITDA                                   12177000000.0   \nTotal Unusual Items                                  -145000000.0   \nTotal Unusual Items Excluding Goodwill               -145000000.0   \nNet Income From Continuing Operation Net Minori...   7788000000.0   \nReconciled Depreciation                              2623000000.0   \nReconciled Cost Of Revenue                           5945000000.0   \nEBITDA                                              12032000000.0   \nEBIT                                                 9409000000.0   \nNet Interest Income                                    46000000.0   \nInterest Expense                                      116000000.0   \nInterest Income                                       323000000.0   \nNormalized Income                                    7909800000.0   \nNet Income From Continuing And Discontinued Ope...   7788000000.0   \nTotal Expenses                                      22607000000.0   \nTotal Operating Income As Reported                   9392000000.0   \nDiluted Average Shares                               2612000000.0   \nBasic Average Shares                                 2568000000.0   \nDiluted EPS                                                  2.98   \nBasic EPS                                                    3.03   \nDiluted NI Availto Com Stockholders                  7788000000.0   \nAverage Dilution Earnings                                     NaN   \nNet Income Common Stockholders                       7788000000.0   \nNet Income                                           7788000000.0   \nNet Income Including Noncontrolling Interests        7788000000.0   \nNet Income Continuous Operations                     7788000000.0   \nTax Provision                                        1505000000.0   \nPretax Income                                        9293000000.0   \nOther Income Expense                                 -145000000.0   \nOther Non Operating Income Expenses                           NaN   \nGain On Sale Of Security                             -145000000.0   \nNet Non Operating Interest Income Expense              46000000.0   \nTotal Other Finance Cost                              161000000.0   \nInterest Expense Non Operating                        116000000.0   \nInterest Income Non Operating                         323000000.0   \nOperating Income                                     9392000000.0   \nOperating Expense                                   16662000000.0   \nResearch And Development                             9344000000.0   \nSelling General And Administration                   7318000000.0   \nSelling And Marketing Expense                        3154000000.0   \nGeneral And Administrative Expense                   4164000000.0   \nOther Gand A                                         4164000000.0   \nGross Profit                                        26054000000.0   \nCost Of Revenue                                      5945000000.0   \nTotal Revenue                                       31999000000.0   \nOperating Revenue                                   31774000000.0   \n\n                                                       2023-03-31  \\\nTax Effect Of Unusual Items                           -13860000.0   \nTax Rate For Calcs                                           0.22   \nNormalized EBITDA                                    9949000000.0   \nTotal Unusual Items                                   -63000000.0   \nTotal Unusual Items Excluding Goodwill                -63000000.0   \nNet Income From Continuing Operation Net Minori...   5709000000.0   \nReconciled Depreciation                              2524000000.0   \nReconciled Cost Of Revenue                           6108000000.0   \nEBITDA                                               9886000000.0   \nEBIT                                                 7362000000.0   \nNet Interest Income                                   143000000.0   \nInterest Expense                                       55000000.0   \nInterest Income                                       193000000.0   \nNormalized Income                                    5758140000.0   \nNet Income From Continuing And Discontinued Ope...   5709000000.0   \nTotal Expenses                                      21418000000.0   \nTotal Operating Income As Reported                   7227000000.0   \nDiluted Average Shares                               2596000000.0   \nBasic Average Shares                                 2587000000.0   \nDiluted EPS                                                   2.2   \nBasic EPS                                                    2.21   \nDiluted NI Availto Com Stockholders                  6510000000.0   \nAverage Dilution Earnings                             801000000.0   \nNet Income Common Stockholders                       5709000000.0   \nNet Income                                           5709000000.0   \nNet Income Including Noncontrolling Interests        5709000000.0   \nNet Income Continuous Operations                     5709000000.0   \nTax Provision                                        1598000000.0   \nPretax Income                                        7307000000.0   \nOther Income Expense                                  -63000000.0   \nOther Non Operating Income Expenses                           NaN   \nGain On Sale Of Security                              -63000000.0   \nNet Non Operating Interest Income Expense             143000000.0   \nTotal Other Finance Cost                               -5000000.0   \nInterest Expense Non Operating                         55000000.0   \nInterest Income Non Operating                         193000000.0   \nOperating Income                                     7227000000.0   \nOperating Expense                                   15310000000.0   \nResearch And Development                             9381000000.0   \nSelling General And Administration                   5929000000.0   \nSelling And Marketing Expense                        3044000000.0   \nGeneral And Administrative Expense                   2885000000.0   \nOther Gand A                                         2885000000.0   \nGross Profit                                        22537000000.0   \nCost Of Revenue                                      6108000000.0   \nTotal Revenue                                       28645000000.0   \nOperating Revenue                                   28440000000.0   \n\n                                                           2022-12-31  \nTax Effect Of Unusual Items                           13867620.751342  \nTax Rate For Calcs                                           0.243292  \nNormalized EBITDA                                        8518000000.0  \nTotal Unusual Items                                        57000000.0  \nTotal Unusual Items Excluding Goodwill                     57000000.0  \nNet Income From Continuing Operation Net Minori...       4653000000.0  \nReconciled Depreciation                                  2376000000.0  \nReconciled Cost Of Revenue                               8336000000.0  \nEBITDA                                                   8575000000.0  \nEBIT                                                     6199000000.0  \nNet Interest Income                                      -307000000.0  \nInterest Expense                                                  NaN  \nInterest Income                                           -43000000.0  \nNormalized Income                                   4609867620.751342  \nNet Income From Continuing And Discontinued Ope...       4653000000.0  \nTotal Expenses                                          25766000000.0  \nTotal Operating Income As Reported                       6399000000.0  \nDiluted Average Shares                                   2640000000.0  \nBasic Average Shares                                     2638000000.0  \nDiluted EPS                                                      1.76  \nBasic EPS                                                        1.76  \nDiluted NI Availto Com Stockholders                      4653000000.0  \nAverage Dilution Earnings                                         NaN  \nNet Income Common Stockholders                           4653000000.0  \nNet Income                                               4653000000.0  \nNet Income Including Noncontrolling Interests            4653000000.0  \nNet Income Continuous Operations                         4653000000.0  \nTax Provision                                            1496000000.0  \nPretax Income                                            6149000000.0  \nOther Income Expense                                       57000000.0  \nOther Non Operating Income Expenses                      -339000000.0  \nGain On Sale Of Security                                   57000000.0  \nNet Non Operating Interest Income Expense                -307000000.0  \nTotal Other Finance Cost                                  339000000.0  \nInterest Expense Non Operating                                    NaN  \nInterest Income Non Operating                             -43000000.0  \nOperating Income                                         6399000000.0  \nOperating Expense                                       17430000000.0  \nResearch And Development                                 9771000000.0  \nSelling General And Administration                       7659000000.0  \nSelling And Marketing Expense                            4574000000.0  \nGeneral And Administrative Expense                       3085000000.0  \nOther Gand A                                             3085000000.0  \nGross Profit                                            23829000000.0  \nCost Of Revenue                                          8336000000.0  \nTotal Revenue                                           32165000000.0  \nOperating Revenue                                       31981000000.0  ",
      "text/html": "<div>\n<style scoped>\n    .dataframe tbody tr th:only-of-type {\n        vertical-align: middle;\n    }\n\n    .dataframe tbody tr th {\n        vertical-align: top;\n    }\n\n    .dataframe thead th {\n        text-align: right;\n    }\n</style>\n<table border=\"1\" class=\"dataframe\">\n  <thead>\n    <tr style=\"text-align: right;\">\n      <th></th>\n      <th>2023-09-30</th>\n      <th>2023-06-30</th>\n      <th>2023-03-31</th>\n      <th>2022-12-31</th>\n    </tr>\n  </thead>\n  <tbody>\n    <tr>\n      <th>Tax Effect Of Unusual Items</th>\n      <td>-16660000.0</td>\n      <td>-23200000.0</td>\n      <td>-13860000.0</td>\n      <td>13867620.751342</td>\n    </tr>\n    <tr>\n      <th>Tax Rate For Calcs</th>\n      <td>0.17</td>\n      <td>0.16</td>\n      <td>0.22</td>\n      <td>0.243292</td>\n    </tr>\n    <tr>\n      <th>Normalized EBITDA</th>\n      <td>17116000000.0</td>\n      <td>12177000000.0</td>\n      <td>9949000000.0</td>\n      <td>8518000000.0</td>\n    </tr>\n    <tr>\n      <th>Total Unusual Items</th>\n      <td>-98000000.0</td>\n      <td>-145000000.0</td>\n      <td>-63000000.0</td>\n      <td>57000000.0</td>\n    </tr>\n    <tr>\n      <th>Total Unusual Items Excluding Goodwill</th>\n      <td>-98000000.0</td>\n      <td>-145000000.0</td>\n      <td>-63000000.0</td>\n      <td>57000000.0</td>\n    </tr>\n    <tr>\n      <th>Net Income From Continuing Operation Net Minority Interest</th>\n      <td>11583000000.0</td>\n      <td>7788000000.0</td>\n      <td>5709000000.0</td>\n      <td>4653000000.0</td>\n    </tr>\n    <tr>\n      <th>Reconciled Depreciation</th>\n      <td>2859000000.0</td>\n      <td>2623000000.0</td>\n      <td>2524000000.0</td>\n      <td>2376000000.0</td>\n    </tr>\n    <tr>\n      <th>Reconciled Cost Of Revenue</th>\n      <td>6210000000.0</td>\n      <td>5945000000.0</td>\n      <td>6108000000.0</td>\n      <td>8336000000.0</td>\n    </tr>\n    <tr>\n      <th>EBITDA</th>\n      <td>17018000000.0</td>\n      <td>12032000000.0</td>\n      <td>9886000000.0</td>\n      <td>8575000000.0</td>\n    </tr>\n    <tr>\n      <th>EBIT</th>\n      <td>14159000000.0</td>\n      <td>9409000000.0</td>\n      <td>7362000000.0</td>\n      <td>6199000000.0</td>\n    </tr>\n    <tr>\n      <th>Net Interest Income</th>\n      <td>370000000.0</td>\n      <td>46000000.0</td>\n      <td>143000000.0</td>\n      <td>-307000000.0</td>\n    </tr>\n    <tr>\n      <th>Interest Expense</th>\n      <td>139000000.0</td>\n      <td>116000000.0</td>\n      <td>55000000.0</td>\n      <td>NaN</td>\n    </tr>\n    <tr>\n      <th>Interest Income</th>\n      <td>534000000.0</td>\n      <td>323000000.0</td>\n      <td>193000000.0</td>\n      <td>-43000000.0</td>\n    </tr>\n    <tr>\n      <th>Normalized Income</th>\n      <td>11664340000.0</td>\n      <td>7909800000.0</td>\n      <td>5758140000.0</td>\n      <td>4609867620.751342</td>\n    </tr>\n    <tr>\n      <th>Net Income From Continuing And Discontinued Operation</th>\n      <td>11583000000.0</td>\n      <td>7788000000.0</td>\n      <td>5709000000.0</td>\n      <td>4653000000.0</td>\n    </tr>\n    <tr>\n      <th>Total Expenses</th>\n      <td>20398000000.0</td>\n      <td>22607000000.0</td>\n      <td>21418000000.0</td>\n      <td>25766000000.0</td>\n    </tr>\n    <tr>\n      <th>Total Operating Income As Reported</th>\n      <td>13748000000.0</td>\n      <td>9392000000.0</td>\n      <td>7227000000.0</td>\n      <td>6399000000.0</td>\n    </tr>\n    <tr>\n      <th>Diluted Average Shares</th>\n      <td>2641000000.0</td>\n      <td>2612000000.0</td>\n      <td>2596000000.0</td>\n      <td>2640000000.0</td>\n    </tr>\n    <tr>\n      <th>Basic Average Shares</th>\n      <td>2576000000.0</td>\n      <td>2568000000.0</td>\n      <td>2587000000.0</td>\n      <td>2638000000.0</td>\n    </tr>\n    <tr>\n      <th>Diluted EPS</th>\n      <td>4.39</td>\n      <td>2.98</td>\n      <td>2.2</td>\n      <td>1.76</td>\n    </tr>\n    <tr>\n      <th>Basic EPS</th>\n      <td>4.5</td>\n      <td>3.03</td>\n      <td>2.21</td>\n      <td>1.76</td>\n    </tr>\n    <tr>\n      <th>Diluted NI Availto Com Stockholders</th>\n      <td>11583000000.0</td>\n      <td>7788000000.0</td>\n      <td>6510000000.0</td>\n      <td>4653000000.0</td>\n    </tr>\n    <tr>\n      <th>Average Dilution Earnings</th>\n      <td>NaN</td>\n      <td>NaN</td>\n      <td>801000000.0</td>\n      <td>NaN</td>\n    </tr>\n    <tr>\n      <th>Net Income Common Stockholders</th>\n      <td>11583000000.0</td>\n      <td>7788000000.0</td>\n      <td>5709000000.0</td>\n      <td>4653000000.0</td>\n    </tr>\n    <tr>\n      <th>Net Income</th>\n      <td>11583000000.0</td>\n      <td>7788000000.0</td>\n      <td>5709000000.0</td>\n      <td>4653000000.0</td>\n    </tr>\n    <tr>\n      <th>Net Income Including Noncontrolling Interests</th>\n      <td>11583000000.0</td>\n      <td>7788000000.0</td>\n      <td>5709000000.0</td>\n      <td>4653000000.0</td>\n    </tr>\n    <tr>\n      <th>Net Income Continuous Operations</th>\n      <td>11583000000.0</td>\n      <td>7788000000.0</td>\n      <td>5709000000.0</td>\n      <td>4653000000.0</td>\n    </tr>\n    <tr>\n      <th>Tax Provision</th>\n      <td>2437000000.0</td>\n      <td>1505000000.0</td>\n      <td>1598000000.0</td>\n      <td>1496000000.0</td>\n    </tr>\n    <tr>\n      <th>Pretax Income</th>\n      <td>14020000000.0</td>\n      <td>9293000000.0</td>\n      <td>7307000000.0</td>\n      <td>6149000000.0</td>\n    </tr>\n    <tr>\n      <th>Other Income Expense</th>\n      <td>-98000000.0</td>\n      <td>-145000000.0</td>\n      <td>-63000000.0</td>\n      <td>57000000.0</td>\n    </tr>\n    <tr>\n      <th>Other Non Operating Income Expenses</th>\n      <td>NaN</td>\n      <td>NaN</td>\n      <td>NaN</td>\n      <td>-339000000.0</td>\n    </tr>\n    <tr>\n      <th>Gain On Sale Of Security</th>\n      <td>-98000000.0</td>\n      <td>-145000000.0</td>\n      <td>-63000000.0</td>\n      <td>57000000.0</td>\n    </tr>\n    <tr>\n      <th>Net Non Operating Interest Income Expense</th>\n      <td>370000000.0</td>\n      <td>46000000.0</td>\n      <td>143000000.0</td>\n      <td>-307000000.0</td>\n    </tr>\n    <tr>\n      <th>Total Other Finance Cost</th>\n      <td>25000000.0</td>\n      <td>161000000.0</td>\n      <td>-5000000.0</td>\n      <td>339000000.0</td>\n    </tr>\n    <tr>\n      <th>Interest Expense Non Operating</th>\n      <td>139000000.0</td>\n      <td>116000000.0</td>\n      <td>55000000.0</td>\n      <td>NaN</td>\n    </tr>\n    <tr>\n      <th>Interest Income Non Operating</th>\n      <td>534000000.0</td>\n      <td>323000000.0</td>\n      <td>193000000.0</td>\n      <td>-43000000.0</td>\n    </tr>\n    <tr>\n      <th>Operating Income</th>\n      <td>13748000000.0</td>\n      <td>9392000000.0</td>\n      <td>7227000000.0</td>\n      <td>6399000000.0</td>\n    </tr>\n    <tr>\n      <th>Operating Expense</th>\n      <td>14188000000.0</td>\n      <td>16662000000.0</td>\n      <td>15310000000.0</td>\n      <td>17430000000.0</td>\n    </tr>\n    <tr>\n      <th>Research And Development</th>\n      <td>9241000000.0</td>\n      <td>9344000000.0</td>\n      <td>9381000000.0</td>\n      <td>9771000000.0</td>\n    </tr>\n    <tr>\n      <th>Selling General And Administration</th>\n      <td>4947000000.0</td>\n      <td>7318000000.0</td>\n      <td>5929000000.0</td>\n      <td>7659000000.0</td>\n    </tr>\n    <tr>\n      <th>Selling And Marketing Expense</th>\n      <td>2877000000.0</td>\n      <td>3154000000.0</td>\n      <td>3044000000.0</td>\n      <td>4574000000.0</td>\n    </tr>\n    <tr>\n      <th>General And Administrative Expense</th>\n      <td>2070000000.0</td>\n      <td>4164000000.0</td>\n      <td>2885000000.0</td>\n      <td>3085000000.0</td>\n    </tr>\n    <tr>\n      <th>Other Gand A</th>\n      <td>2070000000.0</td>\n      <td>4164000000.0</td>\n      <td>2885000000.0</td>\n      <td>3085000000.0</td>\n    </tr>\n    <tr>\n      <th>Gross Profit</th>\n      <td>27936000000.0</td>\n      <td>26054000000.0</td>\n      <td>22537000000.0</td>\n      <td>23829000000.0</td>\n    </tr>\n    <tr>\n      <th>Cost Of Revenue</th>\n      <td>6210000000.0</td>\n      <td>5945000000.0</td>\n      <td>6108000000.0</td>\n      <td>8336000000.0</td>\n    </tr>\n    <tr>\n      <th>Total Revenue</th>\n      <td>34146000000.0</td>\n      <td>31999000000.0</td>\n      <td>28645000000.0</td>\n      <td>32165000000.0</td>\n    </tr>\n    <tr>\n      <th>Operating Revenue</th>\n      <td>33853000000.0</td>\n      <td>31774000000.0</td>\n      <td>28440000000.0</td>\n      <td>31981000000.0</td>\n    </tr>\n  </tbody>\n</table>\n</div>"
     },
     "execution_count": 15,
     "metadata": {},
     "output_type": "execute_result"
    }
   ],
   "source": [
    "ticker.quarterly_financials"
   ]
  },
  {
   "cell_type": "markdown",
   "metadata": {},
   "source": [
    "### Annual and Quarterly Balance Sheet"
   ]
  },
  {
   "cell_type": "code",
   "execution_count": 16,
   "metadata": {
    "ExecuteTime": {
     "end_time": "2024-01-10T16:57:54.463190Z",
     "start_time": "2024-01-10T16:57:54.289477Z"
    }
   },
   "outputs": [
    {
     "data": {
      "text/plain": "                                                      2022-12-31  \\\nOrdinary Shares Number                              2614000000.0   \nShare Issued                                        2614000000.0   \nTotal Debt                                         26591000000.0   \nTangible Book Value                               104510000000.0   \nInvested Capital                                  135636000000.0   \n...                                                          ...   \nCash Cash Equivalents And Short Term Investments   40738000000.0   \nOther Short Term Investments                       26057000000.0   \nCash And Cash Equivalents                          14681000000.0   \nCash Equivalents                                    8505000000.0   \nCash Financial                                      6176000000.0   \n\n                                                      2021-12-31  \\\nOrdinary Shares Number                              2741000000.0   \nShare Issued                                        2741000000.0   \nTotal Debt                                         13873000000.0   \nTangible Book Value                               105048000000.0   \nInvested Capital                                  124879000000.0   \n...                                                          ...   \nCash Cash Equivalents And Short Term Investments   47998000000.0   \nOther Short Term Investments                       31397000000.0   \nCash And Cash Equivalents                          16601000000.0   \nCash Equivalents                                    9293000000.0   \nCash Financial                                      7308000000.0   \n\n                                                      2020-12-31  \nOrdinary Shares Number                              2849000000.0  \nShare Issued                                        2849000000.0  \nTotal Debt                                         10654000000.0  \nTangible Book Value                               108617000000.0  \nInvested Capital                                  128290000000.0  \n...                                                          ...  \nCash Cash Equivalents And Short Term Investments   61954000000.0  \nOther Short Term Investments                       44378000000.0  \nCash And Cash Equivalents                          17576000000.0  \nCash Equivalents                                   11088000000.0  \nCash Financial                                      6488000000.0  \n\n[71 rows x 3 columns]",
      "text/html": "<div>\n<style scoped>\n    .dataframe tbody tr th:only-of-type {\n        vertical-align: middle;\n    }\n\n    .dataframe tbody tr th {\n        vertical-align: top;\n    }\n\n    .dataframe thead th {\n        text-align: right;\n    }\n</style>\n<table border=\"1\" class=\"dataframe\">\n  <thead>\n    <tr style=\"text-align: right;\">\n      <th></th>\n      <th>2022-12-31</th>\n      <th>2021-12-31</th>\n      <th>2020-12-31</th>\n    </tr>\n  </thead>\n  <tbody>\n    <tr>\n      <th>Ordinary Shares Number</th>\n      <td>2614000000.0</td>\n      <td>2741000000.0</td>\n      <td>2849000000.0</td>\n    </tr>\n    <tr>\n      <th>Share Issued</th>\n      <td>2614000000.0</td>\n      <td>2741000000.0</td>\n      <td>2849000000.0</td>\n    </tr>\n    <tr>\n      <th>Total Debt</th>\n      <td>26591000000.0</td>\n      <td>13873000000.0</td>\n      <td>10654000000.0</td>\n    </tr>\n    <tr>\n      <th>Tangible Book Value</th>\n      <td>104510000000.0</td>\n      <td>105048000000.0</td>\n      <td>108617000000.0</td>\n    </tr>\n    <tr>\n      <th>Invested Capital</th>\n      <td>135636000000.0</td>\n      <td>124879000000.0</td>\n      <td>128290000000.0</td>\n    </tr>\n    <tr>\n      <th>...</th>\n      <td>...</td>\n      <td>...</td>\n      <td>...</td>\n    </tr>\n    <tr>\n      <th>Cash Cash Equivalents And Short Term Investments</th>\n      <td>40738000000.0</td>\n      <td>47998000000.0</td>\n      <td>61954000000.0</td>\n    </tr>\n    <tr>\n      <th>Other Short Term Investments</th>\n      <td>26057000000.0</td>\n      <td>31397000000.0</td>\n      <td>44378000000.0</td>\n    </tr>\n    <tr>\n      <th>Cash And Cash Equivalents</th>\n      <td>14681000000.0</td>\n      <td>16601000000.0</td>\n      <td>17576000000.0</td>\n    </tr>\n    <tr>\n      <th>Cash Equivalents</th>\n      <td>8505000000.0</td>\n      <td>9293000000.0</td>\n      <td>11088000000.0</td>\n    </tr>\n    <tr>\n      <th>Cash Financial</th>\n      <td>6176000000.0</td>\n      <td>7308000000.0</td>\n      <td>6488000000.0</td>\n    </tr>\n  </tbody>\n</table>\n<p>71 rows × 3 columns</p>\n</div>"
     },
     "execution_count": 16,
     "metadata": {},
     "output_type": "execute_result"
    }
   ],
   "source": [
    "ticker.balance_sheet"
   ]
  },
  {
   "cell_type": "code",
   "execution_count": 17,
   "metadata": {
    "ExecuteTime": {
     "end_time": "2024-01-10T16:57:55.671002Z",
     "start_time": "2024-01-10T16:57:55.529657Z"
    }
   },
   "outputs": [
    {
     "data": {
      "text/plain": "                                                      2023-09-30  \\\nOrdinary Shares Number                              2571000000.0   \nShare Issued                                        2571000000.0   \nTotal Debt                                         36217000000.0   \nTangible Book Value                               121392000000.0   \nInvested Capital                                  161256000000.0   \n...                                                          ...   \nCash Cash Equivalents And Short Term Investments   61123000000.0   \nOther Short Term Investments                       24233000000.0   \nCash And Cash Equivalents                          36890000000.0   \nCash Equivalents                                   31557000000.0   \nCash Financial                                      5333000000.0   \n\n                                                      2023-06-30  \\\nOrdinary Shares Number                              2573000000.0   \nShare Issued                                        2573000000.0   \nTotal Debt                                         36218000000.0   \nTangible Book Value                               112518000000.0   \nInvested Capital                                  152415000000.0   \n...                                                          ...   \nCash Cash Equivalents And Short Term Investments   53446000000.0   \nOther Short Term Investments                       24661000000.0   \nCash And Cash Equivalents                          28785000000.0   \nCash Equivalents                                   22663000000.0   \nCash Financial                                      6122000000.0   \n\n                                                      2023-03-31  \\\nOrdinary Shares Number                              2566000000.0   \nShare Issued                                        2566000000.0   \nTotal Debt                                         27575000000.0   \nTangible Book Value                               103197000000.0   \nInvested Capital                                  134720000000.0   \n...                                                          ...   \nCash Cash Equivalents And Short Term Investments   37439000000.0   \nOther Short Term Investments                       25888000000.0   \nCash And Cash Equivalents                          11551000000.0   \nCash Equivalents                                    5871000000.0   \nCash Financial                                      5680000000.0   \n\n                                                      2022-12-31  \nOrdinary Shares Number                              2614000000.0  \nShare Issued                                        2614000000.0  \nTotal Debt                                         26591000000.0  \nTangible Book Value                               104510000000.0  \nInvested Capital                                  135636000000.0  \n...                                                          ...  \nCash Cash Equivalents And Short Term Investments   40738000000.0  \nOther Short Term Investments                       26057000000.0  \nCash And Cash Equivalents                          14681000000.0  \nCash Equivalents                                    8505000000.0  \nCash Financial                                      6176000000.0  \n\n[63 rows x 4 columns]",
      "text/html": "<div>\n<style scoped>\n    .dataframe tbody tr th:only-of-type {\n        vertical-align: middle;\n    }\n\n    .dataframe tbody tr th {\n        vertical-align: top;\n    }\n\n    .dataframe thead th {\n        text-align: right;\n    }\n</style>\n<table border=\"1\" class=\"dataframe\">\n  <thead>\n    <tr style=\"text-align: right;\">\n      <th></th>\n      <th>2023-09-30</th>\n      <th>2023-06-30</th>\n      <th>2023-03-31</th>\n      <th>2022-12-31</th>\n    </tr>\n  </thead>\n  <tbody>\n    <tr>\n      <th>Ordinary Shares Number</th>\n      <td>2571000000.0</td>\n      <td>2573000000.0</td>\n      <td>2566000000.0</td>\n      <td>2614000000.0</td>\n    </tr>\n    <tr>\n      <th>Share Issued</th>\n      <td>2571000000.0</td>\n      <td>2573000000.0</td>\n      <td>2566000000.0</td>\n      <td>2614000000.0</td>\n    </tr>\n    <tr>\n      <th>Total Debt</th>\n      <td>36217000000.0</td>\n      <td>36218000000.0</td>\n      <td>27575000000.0</td>\n      <td>26591000000.0</td>\n    </tr>\n    <tr>\n      <th>Tangible Book Value</th>\n      <td>121392000000.0</td>\n      <td>112518000000.0</td>\n      <td>103197000000.0</td>\n      <td>104510000000.0</td>\n    </tr>\n    <tr>\n      <th>Invested Capital</th>\n      <td>161256000000.0</td>\n      <td>152415000000.0</td>\n      <td>134720000000.0</td>\n      <td>135636000000.0</td>\n    </tr>\n    <tr>\n      <th>...</th>\n      <td>...</td>\n      <td>...</td>\n      <td>...</td>\n      <td>...</td>\n    </tr>\n    <tr>\n      <th>Cash Cash Equivalents And Short Term Investments</th>\n      <td>61123000000.0</td>\n      <td>53446000000.0</td>\n      <td>37439000000.0</td>\n      <td>40738000000.0</td>\n    </tr>\n    <tr>\n      <th>Other Short Term Investments</th>\n      <td>24233000000.0</td>\n      <td>24661000000.0</td>\n      <td>25888000000.0</td>\n      <td>26057000000.0</td>\n    </tr>\n    <tr>\n      <th>Cash And Cash Equivalents</th>\n      <td>36890000000.0</td>\n      <td>28785000000.0</td>\n      <td>11551000000.0</td>\n      <td>14681000000.0</td>\n    </tr>\n    <tr>\n      <th>Cash Equivalents</th>\n      <td>31557000000.0</td>\n      <td>22663000000.0</td>\n      <td>5871000000.0</td>\n      <td>8505000000.0</td>\n    </tr>\n    <tr>\n      <th>Cash Financial</th>\n      <td>5333000000.0</td>\n      <td>6122000000.0</td>\n      <td>5680000000.0</td>\n      <td>6176000000.0</td>\n    </tr>\n  </tbody>\n</table>\n<p>63 rows × 4 columns</p>\n</div>"
     },
     "execution_count": 17,
     "metadata": {},
     "output_type": "execute_result"
    }
   ],
   "source": [
    "ticker.quarterly_balance_sheet"
   ]
  },
  {
   "cell_type": "markdown",
   "metadata": {},
   "source": [
    "### Annual and Quarterly Cashflow Statement"
   ]
  },
  {
   "cell_type": "code",
   "execution_count": 18,
   "metadata": {
    "ExecuteTime": {
     "end_time": "2024-01-10T16:57:57.527006Z",
     "start_time": "2024-01-10T16:57:57.358050Z"
    }
   },
   "outputs": [
    {
     "data": {
      "text/plain": "                                                   2023-09-30     2023-06-30  \\\nFree Cash Flow                                  37576000000.0  24034000000.0   \nRepurchase Of Capital Stock                    -20695000000.0 -23480000000.0   \nRepayment Of Debt                                -986000000.0   -882000000.0   \nIssuance Of Debt                                 8455000000.0  18376000000.0   \nCapital Expenditure                            -28644000000.0 -31476000000.0   \nIncome Tax Paid Supplemental Data                3776000000.0   5273000000.0   \nEnd Cash Position                               37758000000.0  29673000000.0   \nBeginning Cash Position                         15251000000.0  13478000000.0   \nEffect Of Exchange Rate Changes                   142000000.0    131000000.0   \nChanges In Cash                                 22507000000.0  16195000000.0   \nFinancing Cash Flow                            -18159000000.0 -10137000000.0   \nCash Flow From Continuing Financing Activities -18159000000.0 -10137000000.0   \nNet Other Financing Charges                     -4933000000.0  -4151000000.0   \nNet Common Stock Issuance                      -20695000000.0 -23480000000.0   \nCommon Stock Payments                          -20695000000.0 -23480000000.0   \nNet Issuance Payments Of Debt                    7469000000.0  17494000000.0   \nNet Short Term Debt Issuance                              NaN            NaN   \nNet Long Term Debt Issuance                      7469000000.0  17494000000.0   \nLong Term Debt Payments                          -986000000.0   -882000000.0   \nLong Term Debt Issuance                          8455000000.0  18376000000.0   \nInvesting Cash Flow                            -25554000000.0 -29178000000.0   \nCash Flow From Continuing Investing Activities -25554000000.0 -29178000000.0   \nNet Other Investing Changes                       -18000000.0      8000000.0   \nNet Investment Purchase And Sale                 3532000000.0   2737000000.0   \nSale Of Investment                               6088000000.0   6883000000.0   \nPurchase Of Investment                          -2556000000.0  -4146000000.0   \nNet Business Purchase And Sale                   -627000000.0   -623000000.0   \nPurchase Of Business                             -627000000.0   -623000000.0   \nNet PPE Purchase And Sale                      -28441000000.0 -31300000000.0   \nSale Of PPE                                       203000000.0    176000000.0   \nPurchase Of PPE                                -28644000000.0 -31476000000.0   \nOperating Cash Flow                             66220000000.0  55510000000.0   \nCash Flow From Continuing Operating Activities  66220000000.0  55510000000.0   \nChange In Working Capital                        7038000000.0   8601000000.0   \nChange In Other Working Capital                           NaN            NaN   \nChange In Other Current Liabilities               436000000.0   1041000000.0   \nChange In Other Current Assets                     85000000.0     93000000.0   \nChange In Payables And Accrued Expense           7058000000.0   7358000000.0   \nChange In Accrued Expense                        6970000000.0   7891000000.0   \nChange In Payable                                  88000000.0   -533000000.0   \nChange In Account Payable                         333000000.0   -300000000.0   \nChange In Prepaid Assets                          714000000.0    791000000.0   \nChange In Receivables                           -1255000000.0   -682000000.0   \nChanges In Account Receivables                  -1255000000.0   -682000000.0   \nOther Non Cash Items                             1726000000.0   1756000000.0   \nStock Based Compensation                        13611000000.0  13253000000.0   \nUnrealized Gain Loss On Investment Securities             NaN            NaN   \nAsset Impairment Charge                          3147000000.0   3220000000.0   \nDeferred Tax                                      119000000.0  -4027000000.0   \nDeferred Income Tax                               119000000.0  -4027000000.0   \nDepreciation Amortization Depletion             10382000000.0   9698000000.0   \nDepreciation And Amortization                   10382000000.0   9698000000.0   \nNet Income From Continuing Operations           29734000000.0  22546000000.0   \n\n                                                   2023-03-31     2022-12-31  \\\nFree Cash Flow                                  17565000000.0  19044000000.0   \nRepurchase Of Capital Stock                    -27815000000.0 -27956000000.0   \nRepayment Of Debt                                -881000000.0   -850000000.0   \nIssuance Of Debt                                          NaN   9921000000.0   \nCapital Expenditure                            -32832000000.0 -31431000000.0   \nIncome Tax Paid Supplemental Data                6310000000.0   6407000000.0   \nEnd Cash Position                               12824000000.0  15596000000.0   \nBeginning Cash Position                         15353000000.0  16865000000.0   \nEffect Of Exchange Rate Changes                  -404000000.0   -638000000.0   \nChanges In Cash                                 -2529000000.0   -631000000.0   \nFinancing Cash Flow                            -21992000000.0 -22136000000.0   \nCash Flow From Continuing Financing Activities -21992000000.0 -22136000000.0   \nNet Other Financing Charges                     -3217000000.0  -3251000000.0   \nNet Common Stock Issuance                      -27815000000.0 -27956000000.0   \nCommon Stock Payments                          -27815000000.0 -27956000000.0   \nNet Issuance Payments Of Debt                    9040000000.0   9071000000.0   \nNet Short Term Debt Issuance                              NaN            NaN   \nNet Long Term Debt Issuance                      9040000000.0   9071000000.0   \nLong Term Debt Payments                          -881000000.0   -850000000.0   \nLong Term Debt Issuance                                   NaN   9921000000.0   \nInvesting Cash Flow                            -30934000000.0 -28970000000.0   \nCash Flow From Continuing Investing Activities -30934000000.0 -28970000000.0   \nNet Other Investing Changes                        86000000.0      1000000.0   \nNet Investment Purchase And Sale                 2577000000.0   3527000000.0   \nSale Of Investment                               8225000000.0  13158000000.0   \nPurchase Of Investment                          -5648000000.0  -9631000000.0   \nNet Business Purchase And Sale                   -903000000.0  -1312000000.0   \nPurchase Of Business                             -903000000.0  -1312000000.0   \nNet PPE Purchase And Sale                      -32694000000.0 -31186000000.0   \nSale Of PPE                                       138000000.0    245000000.0   \nPurchase Of PPE                                -32832000000.0 -31431000000.0   \nOperating Cash Flow                             50397000000.0  50475000000.0   \nCash Flow From Continuing Operating Activities  50397000000.0  50475000000.0   \nChange In Working Capital                        5513000000.0   5683000000.0   \nChange In Other Working Capital                           NaN            NaN   \nChange In Other Current Liabilities              1127000000.0    886000000.0   \nChange In Other Current Assets                     32000000.0   -106000000.0   \nChange In Payables And Accrued Expense           3724000000.0   4510000000.0   \nChange In Accrued Expense                        3781000000.0   4210000000.0   \nChange In Payable                                 -57000000.0    300000000.0   \nChange In Account Payable                         -12000000.0    210000000.0   \nChange In Prepaid Assets                          410000000.0    162000000.0   \nChange In Receivables                             220000000.0    231000000.0   \nChanges In Account Receivables                    220000000.0    231000000.0   \nOther Non Cash Items                             1733000000.0   1519000000.0   \nStock Based Compensation                        12545000000.0  11992000000.0   \nUnrealized Gain Loss On Investment Securities             NaN    463000000.0   \nAsset Impairment Charge                          2988000000.0   2218000000.0   \nDeferred Tax                                    -3343000000.0  -3286000000.0   \nDeferred Income Tax                             -3343000000.0  -3286000000.0   \nDepreciation Amortization Depletion              9054000000.0   8686000000.0   \nDepreciation And Amortization                    9054000000.0   8686000000.0   \nNet Income From Continuing Operations           21444000000.0  23200000000.0   \n\n                                                   2022-09-30     2022-06-30  \\\nFree Cash Flow                                  26403000000.0  35830000000.0   \nRepurchase Of Capital Stock                    -41154000000.0 -48258000000.0   \nRepayment Of Debt                                -787000000.0   -855000000.0   \nIssuance Of Debt                                          NaN            NaN   \nCapital Expenditure                            -27665000000.0 -22636000000.0   \nIncome Tax Paid Supplemental Data                5253000000.0   4872000000.0   \nEnd Cash Position                               16444000000.0  14521000000.0   \nBeginning Cash Position                         14804000000.0  16511000000.0   \nEffect Of Exchange Rate Changes                 -1193000000.0  -1043000000.0   \nChanges In Cash                                  1640000000.0  -1990000000.0   \nFinancing Cash Flow                            -36818000000.0 -54217000000.0   \nCash Flow From Continuing Financing Activities -36818000000.0 -54217000000.0   \nNet Other Financing Charges                     -4547000000.0  -5056000000.0   \nNet Common Stock Issuance                      -41154000000.0 -48258000000.0   \nCommon Stock Payments                          -41154000000.0 -48258000000.0   \nNet Issuance Payments Of Debt                    8883000000.0   -903000000.0   \nNet Short Term Debt Issuance                     -251000000.0    -48000000.0   \nNet Long Term Debt Issuance                      9134000000.0   -855000000.0   \nLong Term Debt Payments                          -787000000.0   -855000000.0   \nLong Term Debt Issuance                                   NaN            NaN   \nInvesting Cash Flow                            -15610000000.0  -6239000000.0   \nCash Flow From Continuing Investing Activities -15610000000.0  -6239000000.0   \nNet Other Investing Changes                       -79000000.0   -239000000.0   \nNet Investment Purchase And Sale                13854000000.0  18381000000.0   \nSale Of Investment                              28832000000.0  38548000000.0   \nPurchase Of Investment                         -14978000000.0 -20167000000.0   \nNet Business Purchase And Sale                  -1818000000.0  -1855000000.0   \nPurchase Of Business                            -1818000000.0  -1855000000.0   \nNet PPE Purchase And Sale                      -27567000000.0 -22526000000.0   \nSale Of PPE                                               NaN            NaN   \nPurchase Of PPE                                -27665000000.0 -22636000000.0   \nOperating Cash Flow                             54068000000.0  58466000000.0   \nCash Flow From Continuing Operating Activities  54068000000.0  58466000000.0   \nChange In Working Capital                        6368000000.0   7183000000.0   \nChange In Other Working Capital                    65000000.0    150000000.0   \nChange In Other Current Liabilities               860000000.0    663000000.0   \nChange In Other Current Assets                   -325000000.0   -286000000.0   \nChange In Payables And Accrued Expense           5753000000.0   6513000000.0   \nChange In Accrued Expense                        5404000000.0   5500000000.0   \nChange In Payable                                 349000000.0   1013000000.0   \nChange In Account Payable                         210000000.0    925000000.0   \nChange In Prepaid Assets                          123000000.0    701000000.0   \nChange In Receivables                            -108000000.0   -558000000.0   \nChanges In Account Receivables                   -108000000.0   -558000000.0   \nOther Non Cash Items                              105000000.0    -72000000.0   \nStock Based Compensation                        11391000000.0  10635000000.0   \nUnrealized Gain Loss On Investment Securities             NaN            NaN   \nAsset Impairment Charge                                   NaN            NaN   \nDeferred Tax                                    -1365000000.0  -1054000000.0   \nDeferred Income Tax                             -1365000000.0  -1054000000.0   \nDepreciation Amortization Depletion              8324000000.0   8144000000.0   \nDepreciation And Amortization                    8324000000.0   8144000000.0   \nNet Income From Continuing Operations           28832000000.0  33630000000.0   \n\n                                                   2022-03-31     2021-12-31  \\\nFree Cash Flow                                  39812000000.0  38993000000.0   \nRepurchase Of Capital Stock                    -50104000000.0 -44537000000.0   \nRepayment Of Debt                                -759000000.0   -677000000.0   \nIssuance Of Debt                                          NaN            0.0   \nCapital Expenditure                            -19705000000.0 -18690000000.0   \nIncome Tax Paid Supplemental Data                6120000000.0   8525000000.0   \nEnd Cash Position                               15730000000.0  16865000000.0   \nBeginning Cash Position                         19891000000.0  17954000000.0   \nEffect Of Exchange Rate Changes                  -377000000.0   -474000000.0   \nChanges In Cash                                 -4161000000.0   -615000000.0   \nFinancing Cash Flow                            -56203000000.0 -50728000000.0   \nCash Flow From Continuing Financing Activities -56203000000.0 -50728000000.0   \nNet Other Financing Charges                     -5424000000.0  -5514000000.0   \nNet Common Stock Issuance                      -50104000000.0 -44537000000.0   \nCommon Stock Payments                          -50104000000.0 -44537000000.0   \nNet Issuance Payments Of Debt                    -675000000.0   -677000000.0   \nNet Short Term Debt Issuance                       84000000.0     14000000.0   \nNet Long Term Debt Issuance                      -759000000.0   -677000000.0   \nLong Term Debt Payments                          -759000000.0   -677000000.0   \nLong Term Debt Issuance                                   NaN            0.0   \nInvesting Cash Flow                             -7475000000.0  -7570000000.0   \nCash Flow From Continuing Investing Activities  -7475000000.0  -7570000000.0   \nNet Other Investing Changes                      -292000000.0   -284000000.0   \nNet Investment Purchase And Sale                14178000000.0  12132000000.0   \nSale Of Investment                              42422000000.0  42586000000.0   \nPurchase Of Investment                         -28244000000.0 -30454000000.0   \nNet Business Purchase And Sale                  -1751000000.0   -851000000.0   \nPurchase Of Business                            -1751000000.0   -851000000.0   \nNet PPE Purchase And Sale                      -19610000000.0 -18567000000.0   \nSale Of PPE                                               NaN    123000000.0   \nPurchase Of PPE                                -19705000000.0 -18690000000.0   \nOperating Cash Flow                             59517000000.0  57683000000.0   \nCash Flow From Continuing Operating Activities  59517000000.0  57683000000.0   \nChange In Working Capital                        4850000000.0    700000000.0   \nChange In Other Working Capital                   129000000.0    187000000.0   \nChange In Other Current Liabilities               726000000.0    941000000.0   \nChange In Other Current Assets                   -447000000.0   -349000000.0   \nChange In Payables And Accrued Expense           6560000000.0   4968000000.0   \nChange In Accrued Expense                        5801000000.0   3544000000.0   \nChange In Payable                                 759000000.0   1424000000.0   \nChange In Account Payable                         804000000.0   1436000000.0   \nChange In Prepaid Assets                         -716000000.0  -1750000000.0   \nChange In Receivables                           -1402000000.0  -3110000000.0   \nChanges In Account Receivables                  -1402000000.0  -3110000000.0   \nOther Non Cash Items                             -282000000.0    105000000.0   \nStock Based Compensation                         9832000000.0   9164000000.0   \nUnrealized Gain Loss On Investment Securities             NaN   -232000000.0   \nAsset Impairment Charge                                   NaN            0.0   \nDeferred Tax                                     -372000000.0    609000000.0   \nDeferred Income Tax                              -372000000.0    609000000.0   \nDepreciation Amortization Depletion              8151000000.0   7967000000.0   \nDepreciation And Amortization                    8151000000.0   7967000000.0   \nNet Income From Continuing Operations           37338000000.0  39370000000.0   \n\n                                                   2021-09-30     2021-06-30  \\\nFree Cash Flow                                  35808000000.0  32172000000.0   \nRepurchase Of Capital Stock                    -26405000000.0 -14672000000.0   \nRepayment Of Debt                                -711000000.0   -669000000.0   \nIssuance Of Debt                                          NaN            NaN   \nCapital Expenditure                            -17811000000.0 -17186000000.0   \nIncome Tax Paid Supplemental Data                9026000000.0   9273000000.0   \nEnd Cash Position                               14833000000.0  16234000000.0   \nBeginning Cash Position                         11979000000.0  21569000000.0   \nEffect Of Exchange Rate Changes                   -29000000.0    277000000.0   \nChanges In Cash                                  2854000000.0  -5335000000.0   \nFinancing Cash Flow                            -32193000000.0 -19852000000.0   \nCash Flow From Continuing Financing Activities -32193000000.0 -19852000000.0   \nNet Other Financing Charges                     -5140000000.0  -4555000000.0   \nNet Common Stock Issuance                      -26405000000.0 -14672000000.0   \nCommon Stock Payments                          -26405000000.0 -14672000000.0   \nNet Issuance Payments Of Debt                    -648000000.0   -625000000.0   \nNet Short Term Debt Issuance                       63000000.0     44000000.0   \nNet Long Term Debt Issuance                      -711000000.0   -669000000.0   \nLong Term Debt Payments                          -711000000.0   -669000000.0   \nLong Term Debt Issuance                                   NaN            NaN   \nInvesting Cash Flow                            -18572000000.0 -34841000000.0   \nCash Flow From Continuing Investing Activities -18572000000.0 -34841000000.0   \nNet Other Investing Changes                      -187000000.0    190000000.0   \nNet Investment Purchase And Sale                 -135000000.0 -11209000000.0   \nSale Of Investment                              29916000000.0  25186000000.0   \nPurchase Of Investment                         -30051000000.0 -36395000000.0   \nNet Business Purchase And Sale                   -439000000.0  -6636000000.0   \nPurchase Of Business                             -439000000.0  -6636000000.0   \nNet PPE Purchase And Sale                      -17811000000.0 -17186000000.0   \nSale Of PPE                                               NaN            NaN   \nPurchase Of PPE                                -17811000000.0 -17186000000.0   \nOperating Cash Flow                             53619000000.0  49358000000.0   \nCash Flow From Continuing Operating Activities  53619000000.0  49358000000.0   \nChange In Working Capital                       -2428000000.0  -3749000000.0   \nChange In Other Working Capital                    84000000.0    118000000.0   \nChange In Other Current Liabilities               438000000.0    211000000.0   \nChange In Other Current Assets                   -210000000.0   -214000000.0   \nChange In Payables And Accrued Expense           3733000000.0   1914000000.0   \nChange In Accrued Expense                        3114000000.0   1762000000.0   \nChange In Payable                                 619000000.0    152000000.0   \nChange In Account Payable                         504000000.0    -51000000.0   \nChange In Prepaid Assets                        -2342000000.0  -1825000000.0   \nChange In Receivables                           -4131000000.0  -3953000000.0   \nChanges In Account Receivables                  -4131000000.0  -3953000000.0   \nOther Non Cash Items                              -99000000.0    -19000000.0   \nStock Based Compensation                         8541000000.0   7885000000.0   \nUnrealized Gain Loss On Investment Securities             NaN            NaN   \nAsset Impairment Charge                                   NaN            NaN   \nDeferred Tax                                     -515000000.0  -1235000000.0   \nDeferred Income Tax                              -515000000.0  -1235000000.0   \nDepreciation Amortization Depletion              7816000000.0   7519000000.0   \nDepreciation And Amortization                    7816000000.0   7519000000.0   \nNet Income From Continuing Operations           40304000000.0  38957000000.0   \n\n                                                   2021-03-31     2020-12-31  \\\nFree Cash Flow                                  24159000000.0  23584000000.0   \nRepurchase Of Capital Stock                     -8961000000.0  -6272000000.0   \nRepayment Of Debt                                -655000000.0   -604000000.0   \nIssuance Of Debt                                          NaN            0.0   \nCapital Expenditure                            -15829000000.0 -15163000000.0   \nIncome Tax Paid Supplemental Data                6927000000.0   4229000000.0   \nEnd Cash Position                               19636000000.0  17954000000.0   \nBeginning Cash Position                         23927000000.0  19279000000.0   \nEffect Of Exchange Rate Changes                   255000000.0    279000000.0   \nChanges In Cash                                 -4291000000.0  -1604000000.0   \nFinancing Cash Flow                            -13455000000.0 -10292000000.0   \nCash Flow From Continuing Financing Activities -13455000000.0 -10292000000.0   \nNet Other Financing Charges                     -3893000000.0  -3416000000.0   \nNet Common Stock Issuance                       -8961000000.0  -6272000000.0   \nCommon Stock Payments                           -8961000000.0  -6272000000.0   \nNet Issuance Payments Of Debt                    -601000000.0   -604000000.0   \nNet Short Term Debt Issuance                       54000000.0     24000000.0   \nNet Long Term Debt Issuance                      -655000000.0   -604000000.0   \nLong Term Debt Payments                          -655000000.0   -604000000.0   \nLong Term Debt Issuance                                   NaN            0.0   \nInvesting Cash Flow                            -30824000000.0 -30059000000.0   \nCash Flow From Continuing Investing Activities -30824000000.0 -30059000000.0   \nNet Other Investing Changes                        37000000.0    -36000000.0   \nNet Investment Purchase And Sale                -8283000000.0 -14520000000.0   \nSale Of Investment                              23994000000.0  25771000000.0   \nPurchase Of Investment                         -32277000000.0 -40291000000.0   \nNet Business Purchase And Sale                            NaN   -388000000.0   \nPurchase Of Business                                      NaN   -388000000.0   \nNet PPE Purchase And Sale                      -15829000000.0 -15115000000.0   \nSale Of PPE                                               NaN     48000000.0   \nPurchase Of PPE                                -15829000000.0 -15163000000.0   \nOperating Cash Flow                             39988000000.0  38747000000.0   \nCash Flow From Continuing Operating Activities  39988000000.0  38747000000.0   \nChange In Working Capital                       -6816000000.0  -2723000000.0   \nChange In Other Working Capital                   130000000.0    108000000.0   \nChange In Other Current Liabilities              -249000000.0   -527000000.0   \nChange In Other Current Assets                    -28000000.0    -34000000.0   \nChange In Payables And Accrued Expense          -3663000000.0   -785000000.0   \nChange In Accrued Expense                       -3715000000.0   -946000000.0   \nChange In Payable                                  52000000.0    161000000.0   \nChange In Account Payable                        -223000000.0    -17000000.0   \nChange In Prepaid Assets                         -297000000.0    135000000.0   \nChange In Receivables                           -2709000000.0  -1512000000.0   \nChanges In Account Receivables                  -2709000000.0  -1512000000.0   \nOther Non Cash Items                               46000000.0     85000000.0   \nStock Based Compensation                         7031000000.0   6536000000.0   \nUnrealized Gain Loss On Investment Securities             NaN     33000000.0   \nAsset Impairment Charge                                   NaN            0.0   \nDeferred Tax                                    -1251000000.0  -1192000000.0   \nDeferred Income Tax                             -1251000000.0  -1192000000.0   \nDepreciation Amortization Depletion              7237000000.0   6862000000.0   \nDepreciation And Amortization                    7237000000.0   6862000000.0   \nNet Income From Continuing Operations           33741000000.0  29146000000.0   \n\n                                                   2020-09-30     2020-06-30  \\\nFree Cash Flow                                  19188000000.0  18823000000.0   \nRepurchase Of Capital Stock                     -5639000000.0  -5062000000.0   \nRepayment Of Debt                                -539000000.0   -494000000.0   \nIssuance Of Debt                                          NaN            NaN   \nCapital Expenditure                            -14602000000.0 -14445000000.0   \nIncome Tax Paid Supplemental Data                5776000000.0   4736000000.0   \nEnd Cash Position                               11837000000.0  21674000000.0   \nBeginning Cash Position                         16080000000.0  13998000000.0   \nEffect Of Exchange Rate Changes                   142000000.0   -105000000.0   \nChanges In Cash                                 -4243000000.0   7676000000.0   \nFinancing Cash Flow                             -9111000000.0  -8219000000.0   \nCash Flow From Continuing Financing Activities  -9111000000.0  -8219000000.0   \nNet Other Financing Charges                     -2946000000.0  -2542000000.0   \nNet Common Stock Issuance                       -5639000000.0  -5062000000.0   \nCommon Stock Payments                           -5639000000.0  -5062000000.0   \nNet Issuance Payments Of Debt                    -526000000.0   -615000000.0   \nNet Short Term Debt Issuance                       13000000.0   -121000000.0   \nNet Long Term Debt Issuance                      -539000000.0   -494000000.0   \nLong Term Debt Payments                          -539000000.0   -494000000.0   \nLong Term Debt Issuance                                   NaN            NaN   \nInvesting Cash Flow                            -28922000000.0 -17373000000.0   \nCash Flow From Continuing Investing Activities -28922000000.0 -17373000000.0   \nNet Other Investing Changes                               NaN   -288000000.0   \nNet Investment Purchase And Sale                -7180000000.0  -1813000000.0   \nSale Of Investment                              25771000000.0  24405000000.0   \nPurchase Of Investment                         -32951000000.0 -26218000000.0   \nNet Business Purchase And Sale                  -7070000000.0   -827000000.0   \nPurchase Of Business                            -7070000000.0   -827000000.0   \nNet PPE Purchase And Sale                      -14602000000.0 -14445000000.0   \nSale Of PPE                                               NaN            NaN   \nPurchase Of PPE                                -14602000000.0 -14445000000.0   \nOperating Cash Flow                             33790000000.0  33268000000.0   \nCash Flow From Continuing Operating Activities  33790000000.0  33268000000.0   \nChange In Working Capital                       -2819000000.0  -2534000000.0   \nChange In Other Working Capital                   152000000.0     71000000.0   \nChange In Other Current Liabilities             -1200000000.0   -899000000.0   \nChange In Other Current Assets                    -33000000.0    -39000000.0   \nChange In Payables And Accrued Expense          -2073000000.0  -1428000000.0   \nChange In Accrued Expense                       -2412000000.0  -1698000000.0   \nChange In Payable                                 339000000.0    270000000.0   \nChange In Account Payable                         150000000.0    100000000.0   \nChange In Prepaid Assets                          485000000.0   -138000000.0   \nChange In Receivables                            -150000000.0   -101000000.0   \nChanges In Account Receivables                   -150000000.0   -101000000.0   \nOther Non Cash Items                               51000000.0     74000000.0   \nStock Based Compensation                         6026000000.0   5553000000.0   \nUnrealized Gain Loss On Investment Securities             NaN            NaN   \nAsset Impairment Charge                                   NaN            NaN   \nDeferred Tax                                    -1211000000.0    469000000.0   \nDeferred Income Tax                             -1211000000.0    469000000.0   \nDepreciation Amortization Depletion              6467000000.0   6185000000.0   \nDepreciation And Amortization                    6467000000.0   6185000000.0   \nNet Income From Continuing Operations           25276000000.0  23521000000.0   \n\n                                                   2020-03-31  \nFree Cash Flow                                  23184000000.0  \nRepurchase Of Capital Stock                     -4839000000.0  \nRepayment Of Debt                                -527000000.0  \nIssuance Of Debt                                          NaN  \nCapital Expenditure                            -14823000000.0  \nIncome Tax Paid Supplemental Data                4709000000.0  \nEnd Cash Position                               24101000000.0  \nBeginning Cash Position                         11197000000.0  \nEffect Of Exchange Rate Changes                  -174000000.0  \nChanges In Cash                                 12904000000.0  \nFinancing Cash Flow                             -7898000000.0  \nCash Flow From Continuing Financing Activities  -7898000000.0  \nNet Other Financing Charges                     -2406000000.0  \nNet Common Stock Issuance                       -4839000000.0  \nCommon Stock Payments                           -4839000000.0  \nNet Issuance Payments Of Debt                    -653000000.0  \nNet Short Term Debt Issuance                     -126000000.0  \nNet Long Term Debt Issuance                      -527000000.0  \nLong Term Debt Payments                          -527000000.0  \nLong Term Debt Issuance                                   NaN  \nInvesting Cash Flow                            -17205000000.0  \nCash Flow From Continuing Investing Activities -17205000000.0  \nNet Other Investing Changes                               NaN  \nNet Investment Purchase And Sale                -1788000000.0  \nSale Of Investment                              23403000000.0  \nPurchase Of Investment                         -25191000000.0  \nNet Business Purchase And Sale                   -491000000.0  \nPurchase Of Business                             -491000000.0  \nNet PPE Purchase And Sale                      -14823000000.0  \nSale Of PPE                                               NaN  \nPurchase Of PPE                                -14823000000.0  \nOperating Cash Flow                             38007000000.0  \nCash Flow From Continuing Operating Activities  38007000000.0  \nChange In Working Capital                        5609000000.0  \nChange In Other Working Capital                   111000000.0  \nChange In Other Current Liabilities              1094000000.0  \nChange In Other Current Assets                    -16000000.0  \nChange In Payables And Accrued Expense           5471000000.0  \nChange In Accrued Expense                        5126000000.0  \nChange In Payable                                 345000000.0  \nChange In Account Payable                         165000000.0  \nChange In Prepaid Assets                          -66000000.0  \nChange In Receivables                            -985000000.0  \nChanges In Account Receivables                   -985000000.0  \nOther Non Cash Items                               39000000.0  \nStock Based Compensation                         5161000000.0  \nUnrealized Gain Loss On Investment Securities             NaN  \nAsset Impairment Charge                                   NaN  \nDeferred Tax                                      257000000.0  \nDeferred Income Tax                               257000000.0  \nDepreciation Amortization Depletion              5983000000.0  \nDepreciation And Amortization                    5983000000.0  \nNet Income From Continuing Operations           20958000000.0  ",
      "text/html": "<div>\n<style scoped>\n    .dataframe tbody tr th:only-of-type {\n        vertical-align: middle;\n    }\n\n    .dataframe tbody tr th {\n        vertical-align: top;\n    }\n\n    .dataframe thead th {\n        text-align: right;\n    }\n</style>\n<table border=\"1\" class=\"dataframe\">\n  <thead>\n    <tr style=\"text-align: right;\">\n      <th></th>\n      <th>2023-09-30</th>\n      <th>2023-06-30</th>\n      <th>2023-03-31</th>\n      <th>2022-12-31</th>\n      <th>2022-09-30</th>\n      <th>2022-06-30</th>\n      <th>2022-03-31</th>\n      <th>2021-12-31</th>\n      <th>2021-09-30</th>\n      <th>2021-06-30</th>\n      <th>2021-03-31</th>\n      <th>2020-12-31</th>\n      <th>2020-09-30</th>\n      <th>2020-06-30</th>\n      <th>2020-03-31</th>\n    </tr>\n  </thead>\n  <tbody>\n    <tr>\n      <th>Free Cash Flow</th>\n      <td>37576000000.0</td>\n      <td>24034000000.0</td>\n      <td>17565000000.0</td>\n      <td>19044000000.0</td>\n      <td>26403000000.0</td>\n      <td>35830000000.0</td>\n      <td>39812000000.0</td>\n      <td>38993000000.0</td>\n      <td>35808000000.0</td>\n      <td>32172000000.0</td>\n      <td>24159000000.0</td>\n      <td>23584000000.0</td>\n      <td>19188000000.0</td>\n      <td>18823000000.0</td>\n      <td>23184000000.0</td>\n    </tr>\n    <tr>\n      <th>Repurchase Of Capital Stock</th>\n      <td>-20695000000.0</td>\n      <td>-23480000000.0</td>\n      <td>-27815000000.0</td>\n      <td>-27956000000.0</td>\n      <td>-41154000000.0</td>\n      <td>-48258000000.0</td>\n      <td>-50104000000.0</td>\n      <td>-44537000000.0</td>\n      <td>-26405000000.0</td>\n      <td>-14672000000.0</td>\n      <td>-8961000000.0</td>\n      <td>-6272000000.0</td>\n      <td>-5639000000.0</td>\n      <td>-5062000000.0</td>\n      <td>-4839000000.0</td>\n    </tr>\n    <tr>\n      <th>Repayment Of Debt</th>\n      <td>-986000000.0</td>\n      <td>-882000000.0</td>\n      <td>-881000000.0</td>\n      <td>-850000000.0</td>\n      <td>-787000000.0</td>\n      <td>-855000000.0</td>\n      <td>-759000000.0</td>\n      <td>-677000000.0</td>\n      <td>-711000000.0</td>\n      <td>-669000000.0</td>\n      <td>-655000000.0</td>\n      <td>-604000000.0</td>\n      <td>-539000000.0</td>\n      <td>-494000000.0</td>\n      <td>-527000000.0</td>\n    </tr>\n    <tr>\n      <th>Issuance Of Debt</th>\n      <td>8455000000.0</td>\n      <td>18376000000.0</td>\n      <td>NaN</td>\n      <td>9921000000.0</td>\n      <td>NaN</td>\n      <td>NaN</td>\n      <td>NaN</td>\n      <td>0.0</td>\n      <td>NaN</td>\n      <td>NaN</td>\n      <td>NaN</td>\n      <td>0.0</td>\n      <td>NaN</td>\n      <td>NaN</td>\n      <td>NaN</td>\n    </tr>\n    <tr>\n      <th>Capital Expenditure</th>\n      <td>-28644000000.0</td>\n      <td>-31476000000.0</td>\n      <td>-32832000000.0</td>\n      <td>-31431000000.0</td>\n      <td>-27665000000.0</td>\n      <td>-22636000000.0</td>\n      <td>-19705000000.0</td>\n      <td>-18690000000.0</td>\n      <td>-17811000000.0</td>\n      <td>-17186000000.0</td>\n      <td>-15829000000.0</td>\n      <td>-15163000000.0</td>\n      <td>-14602000000.0</td>\n      <td>-14445000000.0</td>\n      <td>-14823000000.0</td>\n    </tr>\n    <tr>\n      <th>Income Tax Paid Supplemental Data</th>\n      <td>3776000000.0</td>\n      <td>5273000000.0</td>\n      <td>6310000000.0</td>\n      <td>6407000000.0</td>\n      <td>5253000000.0</td>\n      <td>4872000000.0</td>\n      <td>6120000000.0</td>\n      <td>8525000000.0</td>\n      <td>9026000000.0</td>\n      <td>9273000000.0</td>\n      <td>6927000000.0</td>\n      <td>4229000000.0</td>\n      <td>5776000000.0</td>\n      <td>4736000000.0</td>\n      <td>4709000000.0</td>\n    </tr>\n    <tr>\n      <th>End Cash Position</th>\n      <td>37758000000.0</td>\n      <td>29673000000.0</td>\n      <td>12824000000.0</td>\n      <td>15596000000.0</td>\n      <td>16444000000.0</td>\n      <td>14521000000.0</td>\n      <td>15730000000.0</td>\n      <td>16865000000.0</td>\n      <td>14833000000.0</td>\n      <td>16234000000.0</td>\n      <td>19636000000.0</td>\n      <td>17954000000.0</td>\n      <td>11837000000.0</td>\n      <td>21674000000.0</td>\n      <td>24101000000.0</td>\n    </tr>\n    <tr>\n      <th>Beginning Cash Position</th>\n      <td>15251000000.0</td>\n      <td>13478000000.0</td>\n      <td>15353000000.0</td>\n      <td>16865000000.0</td>\n      <td>14804000000.0</td>\n      <td>16511000000.0</td>\n      <td>19891000000.0</td>\n      <td>17954000000.0</td>\n      <td>11979000000.0</td>\n      <td>21569000000.0</td>\n      <td>23927000000.0</td>\n      <td>19279000000.0</td>\n      <td>16080000000.0</td>\n      <td>13998000000.0</td>\n      <td>11197000000.0</td>\n    </tr>\n    <tr>\n      <th>Effect Of Exchange Rate Changes</th>\n      <td>142000000.0</td>\n      <td>131000000.0</td>\n      <td>-404000000.0</td>\n      <td>-638000000.0</td>\n      <td>-1193000000.0</td>\n      <td>-1043000000.0</td>\n      <td>-377000000.0</td>\n      <td>-474000000.0</td>\n      <td>-29000000.0</td>\n      <td>277000000.0</td>\n      <td>255000000.0</td>\n      <td>279000000.0</td>\n      <td>142000000.0</td>\n      <td>-105000000.0</td>\n      <td>-174000000.0</td>\n    </tr>\n    <tr>\n      <th>Changes In Cash</th>\n      <td>22507000000.0</td>\n      <td>16195000000.0</td>\n      <td>-2529000000.0</td>\n      <td>-631000000.0</td>\n      <td>1640000000.0</td>\n      <td>-1990000000.0</td>\n      <td>-4161000000.0</td>\n      <td>-615000000.0</td>\n      <td>2854000000.0</td>\n      <td>-5335000000.0</td>\n      <td>-4291000000.0</td>\n      <td>-1604000000.0</td>\n      <td>-4243000000.0</td>\n      <td>7676000000.0</td>\n      <td>12904000000.0</td>\n    </tr>\n    <tr>\n      <th>Financing Cash Flow</th>\n      <td>-18159000000.0</td>\n      <td>-10137000000.0</td>\n      <td>-21992000000.0</td>\n      <td>-22136000000.0</td>\n      <td>-36818000000.0</td>\n      <td>-54217000000.0</td>\n      <td>-56203000000.0</td>\n      <td>-50728000000.0</td>\n      <td>-32193000000.0</td>\n      <td>-19852000000.0</td>\n      <td>-13455000000.0</td>\n      <td>-10292000000.0</td>\n      <td>-9111000000.0</td>\n      <td>-8219000000.0</td>\n      <td>-7898000000.0</td>\n    </tr>\n    <tr>\n      <th>Cash Flow From Continuing Financing Activities</th>\n      <td>-18159000000.0</td>\n      <td>-10137000000.0</td>\n      <td>-21992000000.0</td>\n      <td>-22136000000.0</td>\n      <td>-36818000000.0</td>\n      <td>-54217000000.0</td>\n      <td>-56203000000.0</td>\n      <td>-50728000000.0</td>\n      <td>-32193000000.0</td>\n      <td>-19852000000.0</td>\n      <td>-13455000000.0</td>\n      <td>-10292000000.0</td>\n      <td>-9111000000.0</td>\n      <td>-8219000000.0</td>\n      <td>-7898000000.0</td>\n    </tr>\n    <tr>\n      <th>Net Other Financing Charges</th>\n      <td>-4933000000.0</td>\n      <td>-4151000000.0</td>\n      <td>-3217000000.0</td>\n      <td>-3251000000.0</td>\n      <td>-4547000000.0</td>\n      <td>-5056000000.0</td>\n      <td>-5424000000.0</td>\n      <td>-5514000000.0</td>\n      <td>-5140000000.0</td>\n      <td>-4555000000.0</td>\n      <td>-3893000000.0</td>\n      <td>-3416000000.0</td>\n      <td>-2946000000.0</td>\n      <td>-2542000000.0</td>\n      <td>-2406000000.0</td>\n    </tr>\n    <tr>\n      <th>Net Common Stock Issuance</th>\n      <td>-20695000000.0</td>\n      <td>-23480000000.0</td>\n      <td>-27815000000.0</td>\n      <td>-27956000000.0</td>\n      <td>-41154000000.0</td>\n      <td>-48258000000.0</td>\n      <td>-50104000000.0</td>\n      <td>-44537000000.0</td>\n      <td>-26405000000.0</td>\n      <td>-14672000000.0</td>\n      <td>-8961000000.0</td>\n      <td>-6272000000.0</td>\n      <td>-5639000000.0</td>\n      <td>-5062000000.0</td>\n      <td>-4839000000.0</td>\n    </tr>\n    <tr>\n      <th>Common Stock Payments</th>\n      <td>-20695000000.0</td>\n      <td>-23480000000.0</td>\n      <td>-27815000000.0</td>\n      <td>-27956000000.0</td>\n      <td>-41154000000.0</td>\n      <td>-48258000000.0</td>\n      <td>-50104000000.0</td>\n      <td>-44537000000.0</td>\n      <td>-26405000000.0</td>\n      <td>-14672000000.0</td>\n      <td>-8961000000.0</td>\n      <td>-6272000000.0</td>\n      <td>-5639000000.0</td>\n      <td>-5062000000.0</td>\n      <td>-4839000000.0</td>\n    </tr>\n    <tr>\n      <th>Net Issuance Payments Of Debt</th>\n      <td>7469000000.0</td>\n      <td>17494000000.0</td>\n      <td>9040000000.0</td>\n      <td>9071000000.0</td>\n      <td>8883000000.0</td>\n      <td>-903000000.0</td>\n      <td>-675000000.0</td>\n      <td>-677000000.0</td>\n      <td>-648000000.0</td>\n      <td>-625000000.0</td>\n      <td>-601000000.0</td>\n      <td>-604000000.0</td>\n      <td>-526000000.0</td>\n      <td>-615000000.0</td>\n      <td>-653000000.0</td>\n    </tr>\n    <tr>\n      <th>Net Short Term Debt Issuance</th>\n      <td>NaN</td>\n      <td>NaN</td>\n      <td>NaN</td>\n      <td>NaN</td>\n      <td>-251000000.0</td>\n      <td>-48000000.0</td>\n      <td>84000000.0</td>\n      <td>14000000.0</td>\n      <td>63000000.0</td>\n      <td>44000000.0</td>\n      <td>54000000.0</td>\n      <td>24000000.0</td>\n      <td>13000000.0</td>\n      <td>-121000000.0</td>\n      <td>-126000000.0</td>\n    </tr>\n    <tr>\n      <th>Net Long Term Debt Issuance</th>\n      <td>7469000000.0</td>\n      <td>17494000000.0</td>\n      <td>9040000000.0</td>\n      <td>9071000000.0</td>\n      <td>9134000000.0</td>\n      <td>-855000000.0</td>\n      <td>-759000000.0</td>\n      <td>-677000000.0</td>\n      <td>-711000000.0</td>\n      <td>-669000000.0</td>\n      <td>-655000000.0</td>\n      <td>-604000000.0</td>\n      <td>-539000000.0</td>\n      <td>-494000000.0</td>\n      <td>-527000000.0</td>\n    </tr>\n    <tr>\n      <th>Long Term Debt Payments</th>\n      <td>-986000000.0</td>\n      <td>-882000000.0</td>\n      <td>-881000000.0</td>\n      <td>-850000000.0</td>\n      <td>-787000000.0</td>\n      <td>-855000000.0</td>\n      <td>-759000000.0</td>\n      <td>-677000000.0</td>\n      <td>-711000000.0</td>\n      <td>-669000000.0</td>\n      <td>-655000000.0</td>\n      <td>-604000000.0</td>\n      <td>-539000000.0</td>\n      <td>-494000000.0</td>\n      <td>-527000000.0</td>\n    </tr>\n    <tr>\n      <th>Long Term Debt Issuance</th>\n      <td>8455000000.0</td>\n      <td>18376000000.0</td>\n      <td>NaN</td>\n      <td>9921000000.0</td>\n      <td>NaN</td>\n      <td>NaN</td>\n      <td>NaN</td>\n      <td>0.0</td>\n      <td>NaN</td>\n      <td>NaN</td>\n      <td>NaN</td>\n      <td>0.0</td>\n      <td>NaN</td>\n      <td>NaN</td>\n      <td>NaN</td>\n    </tr>\n    <tr>\n      <th>Investing Cash Flow</th>\n      <td>-25554000000.0</td>\n      <td>-29178000000.0</td>\n      <td>-30934000000.0</td>\n      <td>-28970000000.0</td>\n      <td>-15610000000.0</td>\n      <td>-6239000000.0</td>\n      <td>-7475000000.0</td>\n      <td>-7570000000.0</td>\n      <td>-18572000000.0</td>\n      <td>-34841000000.0</td>\n      <td>-30824000000.0</td>\n      <td>-30059000000.0</td>\n      <td>-28922000000.0</td>\n      <td>-17373000000.0</td>\n      <td>-17205000000.0</td>\n    </tr>\n    <tr>\n      <th>Cash Flow From Continuing Investing Activities</th>\n      <td>-25554000000.0</td>\n      <td>-29178000000.0</td>\n      <td>-30934000000.0</td>\n      <td>-28970000000.0</td>\n      <td>-15610000000.0</td>\n      <td>-6239000000.0</td>\n      <td>-7475000000.0</td>\n      <td>-7570000000.0</td>\n      <td>-18572000000.0</td>\n      <td>-34841000000.0</td>\n      <td>-30824000000.0</td>\n      <td>-30059000000.0</td>\n      <td>-28922000000.0</td>\n      <td>-17373000000.0</td>\n      <td>-17205000000.0</td>\n    </tr>\n    <tr>\n      <th>Net Other Investing Changes</th>\n      <td>-18000000.0</td>\n      <td>8000000.0</td>\n      <td>86000000.0</td>\n      <td>1000000.0</td>\n      <td>-79000000.0</td>\n      <td>-239000000.0</td>\n      <td>-292000000.0</td>\n      <td>-284000000.0</td>\n      <td>-187000000.0</td>\n      <td>190000000.0</td>\n      <td>37000000.0</td>\n      <td>-36000000.0</td>\n      <td>NaN</td>\n      <td>-288000000.0</td>\n      <td>NaN</td>\n    </tr>\n    <tr>\n      <th>Net Investment Purchase And Sale</th>\n      <td>3532000000.0</td>\n      <td>2737000000.0</td>\n      <td>2577000000.0</td>\n      <td>3527000000.0</td>\n      <td>13854000000.0</td>\n      <td>18381000000.0</td>\n      <td>14178000000.0</td>\n      <td>12132000000.0</td>\n      <td>-135000000.0</td>\n      <td>-11209000000.0</td>\n      <td>-8283000000.0</td>\n      <td>-14520000000.0</td>\n      <td>-7180000000.0</td>\n      <td>-1813000000.0</td>\n      <td>-1788000000.0</td>\n    </tr>\n    <tr>\n      <th>Sale Of Investment</th>\n      <td>6088000000.0</td>\n      <td>6883000000.0</td>\n      <td>8225000000.0</td>\n      <td>13158000000.0</td>\n      <td>28832000000.0</td>\n      <td>38548000000.0</td>\n      <td>42422000000.0</td>\n      <td>42586000000.0</td>\n      <td>29916000000.0</td>\n      <td>25186000000.0</td>\n      <td>23994000000.0</td>\n      <td>25771000000.0</td>\n      <td>25771000000.0</td>\n      <td>24405000000.0</td>\n      <td>23403000000.0</td>\n    </tr>\n    <tr>\n      <th>Purchase Of Investment</th>\n      <td>-2556000000.0</td>\n      <td>-4146000000.0</td>\n      <td>-5648000000.0</td>\n      <td>-9631000000.0</td>\n      <td>-14978000000.0</td>\n      <td>-20167000000.0</td>\n      <td>-28244000000.0</td>\n      <td>-30454000000.0</td>\n      <td>-30051000000.0</td>\n      <td>-36395000000.0</td>\n      <td>-32277000000.0</td>\n      <td>-40291000000.0</td>\n      <td>-32951000000.0</td>\n      <td>-26218000000.0</td>\n      <td>-25191000000.0</td>\n    </tr>\n    <tr>\n      <th>Net Business Purchase And Sale</th>\n      <td>-627000000.0</td>\n      <td>-623000000.0</td>\n      <td>-903000000.0</td>\n      <td>-1312000000.0</td>\n      <td>-1818000000.0</td>\n      <td>-1855000000.0</td>\n      <td>-1751000000.0</td>\n      <td>-851000000.0</td>\n      <td>-439000000.0</td>\n      <td>-6636000000.0</td>\n      <td>NaN</td>\n      <td>-388000000.0</td>\n      <td>-7070000000.0</td>\n      <td>-827000000.0</td>\n      <td>-491000000.0</td>\n    </tr>\n    <tr>\n      <th>Purchase Of Business</th>\n      <td>-627000000.0</td>\n      <td>-623000000.0</td>\n      <td>-903000000.0</td>\n      <td>-1312000000.0</td>\n      <td>-1818000000.0</td>\n      <td>-1855000000.0</td>\n      <td>-1751000000.0</td>\n      <td>-851000000.0</td>\n      <td>-439000000.0</td>\n      <td>-6636000000.0</td>\n      <td>NaN</td>\n      <td>-388000000.0</td>\n      <td>-7070000000.0</td>\n      <td>-827000000.0</td>\n      <td>-491000000.0</td>\n    </tr>\n    <tr>\n      <th>Net PPE Purchase And Sale</th>\n      <td>-28441000000.0</td>\n      <td>-31300000000.0</td>\n      <td>-32694000000.0</td>\n      <td>-31186000000.0</td>\n      <td>-27567000000.0</td>\n      <td>-22526000000.0</td>\n      <td>-19610000000.0</td>\n      <td>-18567000000.0</td>\n      <td>-17811000000.0</td>\n      <td>-17186000000.0</td>\n      <td>-15829000000.0</td>\n      <td>-15115000000.0</td>\n      <td>-14602000000.0</td>\n      <td>-14445000000.0</td>\n      <td>-14823000000.0</td>\n    </tr>\n    <tr>\n      <th>Sale Of PPE</th>\n      <td>203000000.0</td>\n      <td>176000000.0</td>\n      <td>138000000.0</td>\n      <td>245000000.0</td>\n      <td>NaN</td>\n      <td>NaN</td>\n      <td>NaN</td>\n      <td>123000000.0</td>\n      <td>NaN</td>\n      <td>NaN</td>\n      <td>NaN</td>\n      <td>48000000.0</td>\n      <td>NaN</td>\n      <td>NaN</td>\n      <td>NaN</td>\n    </tr>\n    <tr>\n      <th>Purchase Of PPE</th>\n      <td>-28644000000.0</td>\n      <td>-31476000000.0</td>\n      <td>-32832000000.0</td>\n      <td>-31431000000.0</td>\n      <td>-27665000000.0</td>\n      <td>-22636000000.0</td>\n      <td>-19705000000.0</td>\n      <td>-18690000000.0</td>\n      <td>-17811000000.0</td>\n      <td>-17186000000.0</td>\n      <td>-15829000000.0</td>\n      <td>-15163000000.0</td>\n      <td>-14602000000.0</td>\n      <td>-14445000000.0</td>\n      <td>-14823000000.0</td>\n    </tr>\n    <tr>\n      <th>Operating Cash Flow</th>\n      <td>66220000000.0</td>\n      <td>55510000000.0</td>\n      <td>50397000000.0</td>\n      <td>50475000000.0</td>\n      <td>54068000000.0</td>\n      <td>58466000000.0</td>\n      <td>59517000000.0</td>\n      <td>57683000000.0</td>\n      <td>53619000000.0</td>\n      <td>49358000000.0</td>\n      <td>39988000000.0</td>\n      <td>38747000000.0</td>\n      <td>33790000000.0</td>\n      <td>33268000000.0</td>\n      <td>38007000000.0</td>\n    </tr>\n    <tr>\n      <th>Cash Flow From Continuing Operating Activities</th>\n      <td>66220000000.0</td>\n      <td>55510000000.0</td>\n      <td>50397000000.0</td>\n      <td>50475000000.0</td>\n      <td>54068000000.0</td>\n      <td>58466000000.0</td>\n      <td>59517000000.0</td>\n      <td>57683000000.0</td>\n      <td>53619000000.0</td>\n      <td>49358000000.0</td>\n      <td>39988000000.0</td>\n      <td>38747000000.0</td>\n      <td>33790000000.0</td>\n      <td>33268000000.0</td>\n      <td>38007000000.0</td>\n    </tr>\n    <tr>\n      <th>Change In Working Capital</th>\n      <td>7038000000.0</td>\n      <td>8601000000.0</td>\n      <td>5513000000.0</td>\n      <td>5683000000.0</td>\n      <td>6368000000.0</td>\n      <td>7183000000.0</td>\n      <td>4850000000.0</td>\n      <td>700000000.0</td>\n      <td>-2428000000.0</td>\n      <td>-3749000000.0</td>\n      <td>-6816000000.0</td>\n      <td>-2723000000.0</td>\n      <td>-2819000000.0</td>\n      <td>-2534000000.0</td>\n      <td>5609000000.0</td>\n    </tr>\n    <tr>\n      <th>Change In Other Working Capital</th>\n      <td>NaN</td>\n      <td>NaN</td>\n      <td>NaN</td>\n      <td>NaN</td>\n      <td>65000000.0</td>\n      <td>150000000.0</td>\n      <td>129000000.0</td>\n      <td>187000000.0</td>\n      <td>84000000.0</td>\n      <td>118000000.0</td>\n      <td>130000000.0</td>\n      <td>108000000.0</td>\n      <td>152000000.0</td>\n      <td>71000000.0</td>\n      <td>111000000.0</td>\n    </tr>\n    <tr>\n      <th>Change In Other Current Liabilities</th>\n      <td>436000000.0</td>\n      <td>1041000000.0</td>\n      <td>1127000000.0</td>\n      <td>886000000.0</td>\n      <td>860000000.0</td>\n      <td>663000000.0</td>\n      <td>726000000.0</td>\n      <td>941000000.0</td>\n      <td>438000000.0</td>\n      <td>211000000.0</td>\n      <td>-249000000.0</td>\n      <td>-527000000.0</td>\n      <td>-1200000000.0</td>\n      <td>-899000000.0</td>\n      <td>1094000000.0</td>\n    </tr>\n    <tr>\n      <th>Change In Other Current Assets</th>\n      <td>85000000.0</td>\n      <td>93000000.0</td>\n      <td>32000000.0</td>\n      <td>-106000000.0</td>\n      <td>-325000000.0</td>\n      <td>-286000000.0</td>\n      <td>-447000000.0</td>\n      <td>-349000000.0</td>\n      <td>-210000000.0</td>\n      <td>-214000000.0</td>\n      <td>-28000000.0</td>\n      <td>-34000000.0</td>\n      <td>-33000000.0</td>\n      <td>-39000000.0</td>\n      <td>-16000000.0</td>\n    </tr>\n    <tr>\n      <th>Change In Payables And Accrued Expense</th>\n      <td>7058000000.0</td>\n      <td>7358000000.0</td>\n      <td>3724000000.0</td>\n      <td>4510000000.0</td>\n      <td>5753000000.0</td>\n      <td>6513000000.0</td>\n      <td>6560000000.0</td>\n      <td>4968000000.0</td>\n      <td>3733000000.0</td>\n      <td>1914000000.0</td>\n      <td>-3663000000.0</td>\n      <td>-785000000.0</td>\n      <td>-2073000000.0</td>\n      <td>-1428000000.0</td>\n      <td>5471000000.0</td>\n    </tr>\n    <tr>\n      <th>Change In Accrued Expense</th>\n      <td>6970000000.0</td>\n      <td>7891000000.0</td>\n      <td>3781000000.0</td>\n      <td>4210000000.0</td>\n      <td>5404000000.0</td>\n      <td>5500000000.0</td>\n      <td>5801000000.0</td>\n      <td>3544000000.0</td>\n      <td>3114000000.0</td>\n      <td>1762000000.0</td>\n      <td>-3715000000.0</td>\n      <td>-946000000.0</td>\n      <td>-2412000000.0</td>\n      <td>-1698000000.0</td>\n      <td>5126000000.0</td>\n    </tr>\n    <tr>\n      <th>Change In Payable</th>\n      <td>88000000.0</td>\n      <td>-533000000.0</td>\n      <td>-57000000.0</td>\n      <td>300000000.0</td>\n      <td>349000000.0</td>\n      <td>1013000000.0</td>\n      <td>759000000.0</td>\n      <td>1424000000.0</td>\n      <td>619000000.0</td>\n      <td>152000000.0</td>\n      <td>52000000.0</td>\n      <td>161000000.0</td>\n      <td>339000000.0</td>\n      <td>270000000.0</td>\n      <td>345000000.0</td>\n    </tr>\n    <tr>\n      <th>Change In Account Payable</th>\n      <td>333000000.0</td>\n      <td>-300000000.0</td>\n      <td>-12000000.0</td>\n      <td>210000000.0</td>\n      <td>210000000.0</td>\n      <td>925000000.0</td>\n      <td>804000000.0</td>\n      <td>1436000000.0</td>\n      <td>504000000.0</td>\n      <td>-51000000.0</td>\n      <td>-223000000.0</td>\n      <td>-17000000.0</td>\n      <td>150000000.0</td>\n      <td>100000000.0</td>\n      <td>165000000.0</td>\n    </tr>\n    <tr>\n      <th>Change In Prepaid Assets</th>\n      <td>714000000.0</td>\n      <td>791000000.0</td>\n      <td>410000000.0</td>\n      <td>162000000.0</td>\n      <td>123000000.0</td>\n      <td>701000000.0</td>\n      <td>-716000000.0</td>\n      <td>-1750000000.0</td>\n      <td>-2342000000.0</td>\n      <td>-1825000000.0</td>\n      <td>-297000000.0</td>\n      <td>135000000.0</td>\n      <td>485000000.0</td>\n      <td>-138000000.0</td>\n      <td>-66000000.0</td>\n    </tr>\n    <tr>\n      <th>Change In Receivables</th>\n      <td>-1255000000.0</td>\n      <td>-682000000.0</td>\n      <td>220000000.0</td>\n      <td>231000000.0</td>\n      <td>-108000000.0</td>\n      <td>-558000000.0</td>\n      <td>-1402000000.0</td>\n      <td>-3110000000.0</td>\n      <td>-4131000000.0</td>\n      <td>-3953000000.0</td>\n      <td>-2709000000.0</td>\n      <td>-1512000000.0</td>\n      <td>-150000000.0</td>\n      <td>-101000000.0</td>\n      <td>-985000000.0</td>\n    </tr>\n    <tr>\n      <th>Changes In Account Receivables</th>\n      <td>-1255000000.0</td>\n      <td>-682000000.0</td>\n      <td>220000000.0</td>\n      <td>231000000.0</td>\n      <td>-108000000.0</td>\n      <td>-558000000.0</td>\n      <td>-1402000000.0</td>\n      <td>-3110000000.0</td>\n      <td>-4131000000.0</td>\n      <td>-3953000000.0</td>\n      <td>-2709000000.0</td>\n      <td>-1512000000.0</td>\n      <td>-150000000.0</td>\n      <td>-101000000.0</td>\n      <td>-985000000.0</td>\n    </tr>\n    <tr>\n      <th>Other Non Cash Items</th>\n      <td>1726000000.0</td>\n      <td>1756000000.0</td>\n      <td>1733000000.0</td>\n      <td>1519000000.0</td>\n      <td>105000000.0</td>\n      <td>-72000000.0</td>\n      <td>-282000000.0</td>\n      <td>105000000.0</td>\n      <td>-99000000.0</td>\n      <td>-19000000.0</td>\n      <td>46000000.0</td>\n      <td>85000000.0</td>\n      <td>51000000.0</td>\n      <td>74000000.0</td>\n      <td>39000000.0</td>\n    </tr>\n    <tr>\n      <th>Stock Based Compensation</th>\n      <td>13611000000.0</td>\n      <td>13253000000.0</td>\n      <td>12545000000.0</td>\n      <td>11992000000.0</td>\n      <td>11391000000.0</td>\n      <td>10635000000.0</td>\n      <td>9832000000.0</td>\n      <td>9164000000.0</td>\n      <td>8541000000.0</td>\n      <td>7885000000.0</td>\n      <td>7031000000.0</td>\n      <td>6536000000.0</td>\n      <td>6026000000.0</td>\n      <td>5553000000.0</td>\n      <td>5161000000.0</td>\n    </tr>\n    <tr>\n      <th>Unrealized Gain Loss On Investment Securities</th>\n      <td>NaN</td>\n      <td>NaN</td>\n      <td>NaN</td>\n      <td>463000000.0</td>\n      <td>NaN</td>\n      <td>NaN</td>\n      <td>NaN</td>\n      <td>-232000000.0</td>\n      <td>NaN</td>\n      <td>NaN</td>\n      <td>NaN</td>\n      <td>33000000.0</td>\n      <td>NaN</td>\n      <td>NaN</td>\n      <td>NaN</td>\n    </tr>\n    <tr>\n      <th>Asset Impairment Charge</th>\n      <td>3147000000.0</td>\n      <td>3220000000.0</td>\n      <td>2988000000.0</td>\n      <td>2218000000.0</td>\n      <td>NaN</td>\n      <td>NaN</td>\n      <td>NaN</td>\n      <td>0.0</td>\n      <td>NaN</td>\n      <td>NaN</td>\n      <td>NaN</td>\n      <td>0.0</td>\n      <td>NaN</td>\n      <td>NaN</td>\n      <td>NaN</td>\n    </tr>\n    <tr>\n      <th>Deferred Tax</th>\n      <td>119000000.0</td>\n      <td>-4027000000.0</td>\n      <td>-3343000000.0</td>\n      <td>-3286000000.0</td>\n      <td>-1365000000.0</td>\n      <td>-1054000000.0</td>\n      <td>-372000000.0</td>\n      <td>609000000.0</td>\n      <td>-515000000.0</td>\n      <td>-1235000000.0</td>\n      <td>-1251000000.0</td>\n      <td>-1192000000.0</td>\n      <td>-1211000000.0</td>\n      <td>469000000.0</td>\n      <td>257000000.0</td>\n    </tr>\n    <tr>\n      <th>Deferred Income Tax</th>\n      <td>119000000.0</td>\n      <td>-4027000000.0</td>\n      <td>-3343000000.0</td>\n      <td>-3286000000.0</td>\n      <td>-1365000000.0</td>\n      <td>-1054000000.0</td>\n      <td>-372000000.0</td>\n      <td>609000000.0</td>\n      <td>-515000000.0</td>\n      <td>-1235000000.0</td>\n      <td>-1251000000.0</td>\n      <td>-1192000000.0</td>\n      <td>-1211000000.0</td>\n      <td>469000000.0</td>\n      <td>257000000.0</td>\n    </tr>\n    <tr>\n      <th>Depreciation Amortization Depletion</th>\n      <td>10382000000.0</td>\n      <td>9698000000.0</td>\n      <td>9054000000.0</td>\n      <td>8686000000.0</td>\n      <td>8324000000.0</td>\n      <td>8144000000.0</td>\n      <td>8151000000.0</td>\n      <td>7967000000.0</td>\n      <td>7816000000.0</td>\n      <td>7519000000.0</td>\n      <td>7237000000.0</td>\n      <td>6862000000.0</td>\n      <td>6467000000.0</td>\n      <td>6185000000.0</td>\n      <td>5983000000.0</td>\n    </tr>\n    <tr>\n      <th>Depreciation And Amortization</th>\n      <td>10382000000.0</td>\n      <td>9698000000.0</td>\n      <td>9054000000.0</td>\n      <td>8686000000.0</td>\n      <td>8324000000.0</td>\n      <td>8144000000.0</td>\n      <td>8151000000.0</td>\n      <td>7967000000.0</td>\n      <td>7816000000.0</td>\n      <td>7519000000.0</td>\n      <td>7237000000.0</td>\n      <td>6862000000.0</td>\n      <td>6467000000.0</td>\n      <td>6185000000.0</td>\n      <td>5983000000.0</td>\n    </tr>\n    <tr>\n      <th>Net Income From Continuing Operations</th>\n      <td>29734000000.0</td>\n      <td>22546000000.0</td>\n      <td>21444000000.0</td>\n      <td>23200000000.0</td>\n      <td>28832000000.0</td>\n      <td>33630000000.0</td>\n      <td>37338000000.0</td>\n      <td>39370000000.0</td>\n      <td>40304000000.0</td>\n      <td>38957000000.0</td>\n      <td>33741000000.0</td>\n      <td>29146000000.0</td>\n      <td>25276000000.0</td>\n      <td>23521000000.0</td>\n      <td>20958000000.0</td>\n    </tr>\n  </tbody>\n</table>\n</div>"
     },
     "execution_count": 18,
     "metadata": {},
     "output_type": "execute_result"
    }
   ],
   "source": [
    "ticker.cashflow"
   ]
  },
  {
   "cell_type": "code",
   "execution_count": 19,
   "metadata": {
    "ExecuteTime": {
     "end_time": "2024-01-10T16:57:58.469686Z",
     "start_time": "2024-01-10T16:57:58.323094Z"
    }
   },
   "outputs": [
    {
     "data": {
      "text/plain": "                                                   2023-09-30     2023-06-30  \\\nFree Cash Flow                                  13859000000.0  11093000000.0   \nRepurchase Of Capital Stock                     -3569000000.0   -898000000.0   \nRepayment Of Debt                                -267000000.0   -220000000.0   \nIssuance Of Debt                                          0.0   8455000000.0   \nCapital Expenditure                             -6543000000.0  -6216000000.0   \nInterest Paid Supplemental Data                   120000000.0            0.0   \nIncome Tax Paid Supplemental Data                 509000000.0   1102000000.0   \nEnd Cash Position                               37900000000.0  29804000000.0   \nBeginning Cash Position                         29804000000.0  12420000000.0   \nEffect Of Exchange Rate Changes                  -354000000.0    -14000000.0   \nChanges In Cash                                  8450000000.0  17398000000.0   \nFinancing Cash Flow                             -5875000000.0   5292000000.0   \nCash Flow From Continuing Financing Activities  -5875000000.0   5292000000.0   \nNet Other Financing Charges                     -2039000000.0  -2045000000.0   \nNet Common Stock Issuance                       -3569000000.0   -898000000.0   \nCommon Stock Payments                           -3569000000.0   -898000000.0   \nNet Issuance Payments Of Debt                    -267000000.0   8235000000.0   \nNet Long Term Debt Issuance                      -267000000.0   8235000000.0   \nLong Term Debt Payments                          -267000000.0   -220000000.0   \nLong Term Debt Issuance                                   0.0   8455000000.0   \nInvesting Cash Flow                             -6077000000.0  -5203000000.0   \nCash Flow From Continuing Investing Activities  -6077000000.0  -5203000000.0   \nNet Other Investing Changes                       -10000000.0    -85000000.0   \nNet Investment Purchase And Sale                  467000000.0   1099000000.0   \nSale Of Investment                               1474000000.0   1817000000.0   \nPurchase Of Investment                          -1007000000.0   -718000000.0   \nNet Business Purchase And Sale                    -38000000.0    -83000000.0   \nPurchase Of Business                              -38000000.0    -83000000.0   \nNet PPE Purchase And Sale                       -6496000000.0  -6134000000.0   \nSale Of PPE                                        47000000.0     82000000.0   \nPurchase Of PPE                                 -6543000000.0  -6216000000.0   \nOperating Cash Flow                             20402000000.0  17309000000.0   \nCash Flow From Continuing Operating Activities  20402000000.0  17309000000.0   \nChange In Working Capital                        -995000000.0   3531000000.0   \nChange In Other Current Liabilities               -72000000.0   -151000000.0   \nChange In Other Current Assets                    -36000000.0     37000000.0   \nChange In Payables And Accrued Expense            699000000.0   5123000000.0   \nChange In Accrued Expense                          78000000.0   5290000000.0   \nChange In Payable                                 621000000.0   -167000000.0   \nChange In Account Payable                         612000000.0    -51000000.0   \nChange In Prepaid Assets                         -908000000.0    -54000000.0   \nChange In Receivables                            -678000000.0  -1424000000.0   \nChanges In Account Receivables                   -678000000.0  -1424000000.0   \nOther Non Cash Items                               74000000.0    211000000.0   \nStock Based Compensation                         3492000000.0   4060000000.0   \nUnrealized Gain Loss On Investment Securities             NaN            NaN   \nAsset Impairment Charge                           340000000.0    232000000.0   \nDeferred Tax                                     3049000000.0  -1137000000.0   \nDeferred Income Tax                              3049000000.0  -1137000000.0   \nDepreciation Amortization Depletion              2859000000.0   2623000000.0   \nDepreciation And Amortization                    2859000000.0   2623000000.0   \nNet Income From Continuing Operations           11583000000.0   7789000000.0   \n\n                                                   2023-03-31     2022-12-31  \nFree Cash Flow                                   7156000000.0   5468000000.0  \nRepurchase Of Capital Stock                     -9365000000.0  -6863000000.0  \nRepayment Of Debt                                -264000000.0   -235000000.0  \nIssuance Of Debt                                          NaN            0.0  \nCapital Expenditure                             -6842000000.0  -9043000000.0  \nInterest Paid Supplemental Data                   182000000.0            NaN  \nIncome Tax Paid Supplemental Data                 405000000.0   1760000000.0  \nEnd Cash Position                               12420000000.0  15596000000.0  \nBeginning Cash Position                         15596000000.0  15251000000.0  \nEffect Of Exchange Rate Changes                    85000000.0    425000000.0  \nChanges In Cash                                 -3261000000.0    -80000000.0  \nFinancing Cash Flow                            -10516000000.0  -7060000000.0  \nCash Flow From Continuing Financing Activities -10516000000.0  -7060000000.0  \nNet Other Financing Charges                      -887000000.0     38000000.0  \nNet Common Stock Issuance                       -9365000000.0  -6863000000.0  \nCommon Stock Payments                           -9365000000.0  -6863000000.0  \nNet Issuance Payments Of Debt                    -264000000.0   -235000000.0  \nNet Long Term Debt Issuance                      -264000000.0   -235000000.0  \nLong Term Debt Payments                          -264000000.0   -235000000.0  \nLong Term Debt Issuance                                   NaN            0.0  \nInvesting Cash Flow                             -6743000000.0  -7531000000.0  \nCash Flow From Continuing Investing Activities  -6743000000.0  -7531000000.0  \nNet Other Investing Changes                        75000000.0      2000000.0  \nNet Investment Purchase And Sale                  449000000.0   1517000000.0  \nSale Of Investment                                534000000.0   2263000000.0  \nPurchase Of Investment                            -85000000.0   -746000000.0  \nNet Business Purchase And Sale                   -444000000.0    -62000000.0  \nPurchase Of Business                             -444000000.0    -62000000.0  \nNet PPE Purchase And Sale                       -6823000000.0  -8988000000.0  \nSale Of PPE                                        19000000.0     55000000.0  \nPurchase Of PPE                                 -6842000000.0  -9043000000.0  \nOperating Cash Flow                             13998000000.0  14511000000.0  \nCash Flow From Continuing Operating Activities  13998000000.0  14511000000.0  \nChange In Working Capital                        2571000000.0   1931000000.0  \nChange In Other Current Liabilities               184000000.0    475000000.0  \nChange In Other Current Assets                     30000000.0     54000000.0  \nChange In Payables And Accrued Expense          -1010000000.0   2246000000.0  \nChange In Accrued Expense                         334000000.0   1268000000.0  \nChange In Payable                               -1344000000.0    978000000.0  \nChange In Account Payable                       -1104000000.0    876000000.0  \nChange In Prepaid Assets                          821000000.0    855000000.0  \nChange In Receivables                            2546000000.0  -1699000000.0  \nChanges In Account Receivables                   2546000000.0  -1699000000.0  \nOther Non Cash Items                               -7000000.0   1448000000.0  \nStock Based Compensation                         3051000000.0   3008000000.0  \nUnrealized Gain Loss On Investment Securities             NaN    328000000.0  \nAsset Impairment Charge                           770000000.0   1805000000.0  \nDeferred Tax                                     -620000000.0  -1173000000.0  \nDeferred Income Tax                              -620000000.0  -1173000000.0  \nDepreciation Amortization Depletion              2524000000.0   2376000000.0  \nDepreciation And Amortization                    2524000000.0   2376000000.0  \nNet Income From Continuing Operations            5709000000.0   4653000000.0  ",
      "text/html": "<div>\n<style scoped>\n    .dataframe tbody tr th:only-of-type {\n        vertical-align: middle;\n    }\n\n    .dataframe tbody tr th {\n        vertical-align: top;\n    }\n\n    .dataframe thead th {\n        text-align: right;\n    }\n</style>\n<table border=\"1\" class=\"dataframe\">\n  <thead>\n    <tr style=\"text-align: right;\">\n      <th></th>\n      <th>2023-09-30</th>\n      <th>2023-06-30</th>\n      <th>2023-03-31</th>\n      <th>2022-12-31</th>\n    </tr>\n  </thead>\n  <tbody>\n    <tr>\n      <th>Free Cash Flow</th>\n      <td>13859000000.0</td>\n      <td>11093000000.0</td>\n      <td>7156000000.0</td>\n      <td>5468000000.0</td>\n    </tr>\n    <tr>\n      <th>Repurchase Of Capital Stock</th>\n      <td>-3569000000.0</td>\n      <td>-898000000.0</td>\n      <td>-9365000000.0</td>\n      <td>-6863000000.0</td>\n    </tr>\n    <tr>\n      <th>Repayment Of Debt</th>\n      <td>-267000000.0</td>\n      <td>-220000000.0</td>\n      <td>-264000000.0</td>\n      <td>-235000000.0</td>\n    </tr>\n    <tr>\n      <th>Issuance Of Debt</th>\n      <td>0.0</td>\n      <td>8455000000.0</td>\n      <td>NaN</td>\n      <td>0.0</td>\n    </tr>\n    <tr>\n      <th>Capital Expenditure</th>\n      <td>-6543000000.0</td>\n      <td>-6216000000.0</td>\n      <td>-6842000000.0</td>\n      <td>-9043000000.0</td>\n    </tr>\n    <tr>\n      <th>Interest Paid Supplemental Data</th>\n      <td>120000000.0</td>\n      <td>0.0</td>\n      <td>182000000.0</td>\n      <td>NaN</td>\n    </tr>\n    <tr>\n      <th>Income Tax Paid Supplemental Data</th>\n      <td>509000000.0</td>\n      <td>1102000000.0</td>\n      <td>405000000.0</td>\n      <td>1760000000.0</td>\n    </tr>\n    <tr>\n      <th>End Cash Position</th>\n      <td>37900000000.0</td>\n      <td>29804000000.0</td>\n      <td>12420000000.0</td>\n      <td>15596000000.0</td>\n    </tr>\n    <tr>\n      <th>Beginning Cash Position</th>\n      <td>29804000000.0</td>\n      <td>12420000000.0</td>\n      <td>15596000000.0</td>\n      <td>15251000000.0</td>\n    </tr>\n    <tr>\n      <th>Effect Of Exchange Rate Changes</th>\n      <td>-354000000.0</td>\n      <td>-14000000.0</td>\n      <td>85000000.0</td>\n      <td>425000000.0</td>\n    </tr>\n    <tr>\n      <th>Changes In Cash</th>\n      <td>8450000000.0</td>\n      <td>17398000000.0</td>\n      <td>-3261000000.0</td>\n      <td>-80000000.0</td>\n    </tr>\n    <tr>\n      <th>Financing Cash Flow</th>\n      <td>-5875000000.0</td>\n      <td>5292000000.0</td>\n      <td>-10516000000.0</td>\n      <td>-7060000000.0</td>\n    </tr>\n    <tr>\n      <th>Cash Flow From Continuing Financing Activities</th>\n      <td>-5875000000.0</td>\n      <td>5292000000.0</td>\n      <td>-10516000000.0</td>\n      <td>-7060000000.0</td>\n    </tr>\n    <tr>\n      <th>Net Other Financing Charges</th>\n      <td>-2039000000.0</td>\n      <td>-2045000000.0</td>\n      <td>-887000000.0</td>\n      <td>38000000.0</td>\n    </tr>\n    <tr>\n      <th>Net Common Stock Issuance</th>\n      <td>-3569000000.0</td>\n      <td>-898000000.0</td>\n      <td>-9365000000.0</td>\n      <td>-6863000000.0</td>\n    </tr>\n    <tr>\n      <th>Common Stock Payments</th>\n      <td>-3569000000.0</td>\n      <td>-898000000.0</td>\n      <td>-9365000000.0</td>\n      <td>-6863000000.0</td>\n    </tr>\n    <tr>\n      <th>Net Issuance Payments Of Debt</th>\n      <td>-267000000.0</td>\n      <td>8235000000.0</td>\n      <td>-264000000.0</td>\n      <td>-235000000.0</td>\n    </tr>\n    <tr>\n      <th>Net Long Term Debt Issuance</th>\n      <td>-267000000.0</td>\n      <td>8235000000.0</td>\n      <td>-264000000.0</td>\n      <td>-235000000.0</td>\n    </tr>\n    <tr>\n      <th>Long Term Debt Payments</th>\n      <td>-267000000.0</td>\n      <td>-220000000.0</td>\n      <td>-264000000.0</td>\n      <td>-235000000.0</td>\n    </tr>\n    <tr>\n      <th>Long Term Debt Issuance</th>\n      <td>0.0</td>\n      <td>8455000000.0</td>\n      <td>NaN</td>\n      <td>0.0</td>\n    </tr>\n    <tr>\n      <th>Investing Cash Flow</th>\n      <td>-6077000000.0</td>\n      <td>-5203000000.0</td>\n      <td>-6743000000.0</td>\n      <td>-7531000000.0</td>\n    </tr>\n    <tr>\n      <th>Cash Flow From Continuing Investing Activities</th>\n      <td>-6077000000.0</td>\n      <td>-5203000000.0</td>\n      <td>-6743000000.0</td>\n      <td>-7531000000.0</td>\n    </tr>\n    <tr>\n      <th>Net Other Investing Changes</th>\n      <td>-10000000.0</td>\n      <td>-85000000.0</td>\n      <td>75000000.0</td>\n      <td>2000000.0</td>\n    </tr>\n    <tr>\n      <th>Net Investment Purchase And Sale</th>\n      <td>467000000.0</td>\n      <td>1099000000.0</td>\n      <td>449000000.0</td>\n      <td>1517000000.0</td>\n    </tr>\n    <tr>\n      <th>Sale Of Investment</th>\n      <td>1474000000.0</td>\n      <td>1817000000.0</td>\n      <td>534000000.0</td>\n      <td>2263000000.0</td>\n    </tr>\n    <tr>\n      <th>Purchase Of Investment</th>\n      <td>-1007000000.0</td>\n      <td>-718000000.0</td>\n      <td>-85000000.0</td>\n      <td>-746000000.0</td>\n    </tr>\n    <tr>\n      <th>Net Business Purchase And Sale</th>\n      <td>-38000000.0</td>\n      <td>-83000000.0</td>\n      <td>-444000000.0</td>\n      <td>-62000000.0</td>\n    </tr>\n    <tr>\n      <th>Purchase Of Business</th>\n      <td>-38000000.0</td>\n      <td>-83000000.0</td>\n      <td>-444000000.0</td>\n      <td>-62000000.0</td>\n    </tr>\n    <tr>\n      <th>Net PPE Purchase And Sale</th>\n      <td>-6496000000.0</td>\n      <td>-6134000000.0</td>\n      <td>-6823000000.0</td>\n      <td>-8988000000.0</td>\n    </tr>\n    <tr>\n      <th>Sale Of PPE</th>\n      <td>47000000.0</td>\n      <td>82000000.0</td>\n      <td>19000000.0</td>\n      <td>55000000.0</td>\n    </tr>\n    <tr>\n      <th>Purchase Of PPE</th>\n      <td>-6543000000.0</td>\n      <td>-6216000000.0</td>\n      <td>-6842000000.0</td>\n      <td>-9043000000.0</td>\n    </tr>\n    <tr>\n      <th>Operating Cash Flow</th>\n      <td>20402000000.0</td>\n      <td>17309000000.0</td>\n      <td>13998000000.0</td>\n      <td>14511000000.0</td>\n    </tr>\n    <tr>\n      <th>Cash Flow From Continuing Operating Activities</th>\n      <td>20402000000.0</td>\n      <td>17309000000.0</td>\n      <td>13998000000.0</td>\n      <td>14511000000.0</td>\n    </tr>\n    <tr>\n      <th>Change In Working Capital</th>\n      <td>-995000000.0</td>\n      <td>3531000000.0</td>\n      <td>2571000000.0</td>\n      <td>1931000000.0</td>\n    </tr>\n    <tr>\n      <th>Change In Other Current Liabilities</th>\n      <td>-72000000.0</td>\n      <td>-151000000.0</td>\n      <td>184000000.0</td>\n      <td>475000000.0</td>\n    </tr>\n    <tr>\n      <th>Change In Other Current Assets</th>\n      <td>-36000000.0</td>\n      <td>37000000.0</td>\n      <td>30000000.0</td>\n      <td>54000000.0</td>\n    </tr>\n    <tr>\n      <th>Change In Payables And Accrued Expense</th>\n      <td>699000000.0</td>\n      <td>5123000000.0</td>\n      <td>-1010000000.0</td>\n      <td>2246000000.0</td>\n    </tr>\n    <tr>\n      <th>Change In Accrued Expense</th>\n      <td>78000000.0</td>\n      <td>5290000000.0</td>\n      <td>334000000.0</td>\n      <td>1268000000.0</td>\n    </tr>\n    <tr>\n      <th>Change In Payable</th>\n      <td>621000000.0</td>\n      <td>-167000000.0</td>\n      <td>-1344000000.0</td>\n      <td>978000000.0</td>\n    </tr>\n    <tr>\n      <th>Change In Account Payable</th>\n      <td>612000000.0</td>\n      <td>-51000000.0</td>\n      <td>-1104000000.0</td>\n      <td>876000000.0</td>\n    </tr>\n    <tr>\n      <th>Change In Prepaid Assets</th>\n      <td>-908000000.0</td>\n      <td>-54000000.0</td>\n      <td>821000000.0</td>\n      <td>855000000.0</td>\n    </tr>\n    <tr>\n      <th>Change In Receivables</th>\n      <td>-678000000.0</td>\n      <td>-1424000000.0</td>\n      <td>2546000000.0</td>\n      <td>-1699000000.0</td>\n    </tr>\n    <tr>\n      <th>Changes In Account Receivables</th>\n      <td>-678000000.0</td>\n      <td>-1424000000.0</td>\n      <td>2546000000.0</td>\n      <td>-1699000000.0</td>\n    </tr>\n    <tr>\n      <th>Other Non Cash Items</th>\n      <td>74000000.0</td>\n      <td>211000000.0</td>\n      <td>-7000000.0</td>\n      <td>1448000000.0</td>\n    </tr>\n    <tr>\n      <th>Stock Based Compensation</th>\n      <td>3492000000.0</td>\n      <td>4060000000.0</td>\n      <td>3051000000.0</td>\n      <td>3008000000.0</td>\n    </tr>\n    <tr>\n      <th>Unrealized Gain Loss On Investment Securities</th>\n      <td>NaN</td>\n      <td>NaN</td>\n      <td>NaN</td>\n      <td>328000000.0</td>\n    </tr>\n    <tr>\n      <th>Asset Impairment Charge</th>\n      <td>340000000.0</td>\n      <td>232000000.0</td>\n      <td>770000000.0</td>\n      <td>1805000000.0</td>\n    </tr>\n    <tr>\n      <th>Deferred Tax</th>\n      <td>3049000000.0</td>\n      <td>-1137000000.0</td>\n      <td>-620000000.0</td>\n      <td>-1173000000.0</td>\n    </tr>\n    <tr>\n      <th>Deferred Income Tax</th>\n      <td>3049000000.0</td>\n      <td>-1137000000.0</td>\n      <td>-620000000.0</td>\n      <td>-1173000000.0</td>\n    </tr>\n    <tr>\n      <th>Depreciation Amortization Depletion</th>\n      <td>2859000000.0</td>\n      <td>2623000000.0</td>\n      <td>2524000000.0</td>\n      <td>2376000000.0</td>\n    </tr>\n    <tr>\n      <th>Depreciation And Amortization</th>\n      <td>2859000000.0</td>\n      <td>2623000000.0</td>\n      <td>2524000000.0</td>\n      <td>2376000000.0</td>\n    </tr>\n    <tr>\n      <th>Net Income From Continuing Operations</th>\n      <td>11583000000.0</td>\n      <td>7789000000.0</td>\n      <td>5709000000.0</td>\n      <td>4653000000.0</td>\n    </tr>\n  </tbody>\n</table>\n</div>"
     },
     "execution_count": 19,
     "metadata": {},
     "output_type": "execute_result"
    }
   ],
   "source": [
    "ticker.quarterly_cashflow"
   ]
  },
  {
   "cell_type": "code",
   "execution_count": 20,
   "metadata": {
    "ExecuteTime": {
     "end_time": "2024-01-10T16:57:59.764794Z",
     "start_time": "2024-01-10T16:57:58.838114Z"
    }
   },
   "outputs": [
    {
     "ename": "YFNotImplementedError",
     "evalue": "Have not implemented fetching 'earnings' from Yahoo API",
     "output_type": "error",
     "traceback": [
      "\u001B[0;31m---------------------------------------------------------------------------\u001B[0m",
      "\u001B[0;31mYFNotImplementedError\u001B[0m                     Traceback (most recent call last)",
      "Cell \u001B[0;32mIn[20], line 1\u001B[0m\n\u001B[0;32m----> 1\u001B[0m ticker\u001B[38;5;241m.\u001B[39mearnings\n",
      "File \u001B[0;32m~/anaconda3/lib/python3.11/site-packages/yfinance/ticker.py:181\u001B[0m, in \u001B[0;36mTicker.earnings\u001B[0;34m(self)\u001B[0m\n\u001B[1;32m    179\u001B[0m \u001B[38;5;129m@property\u001B[39m\n\u001B[1;32m    180\u001B[0m \u001B[38;5;28;01mdef\u001B[39;00m \u001B[38;5;21mearnings\u001B[39m(\u001B[38;5;28mself\u001B[39m) \u001B[38;5;241m-\u001B[39m\u001B[38;5;241m>\u001B[39m _pd\u001B[38;5;241m.\u001B[39mDataFrame:\n\u001B[0;32m--> 181\u001B[0m     \u001B[38;5;28;01mreturn\u001B[39;00m \u001B[38;5;28mself\u001B[39m\u001B[38;5;241m.\u001B[39mget_earnings()\n",
      "File \u001B[0;32m~/anaconda3/lib/python3.11/site-packages/yfinance/base.py:1848\u001B[0m, in \u001B[0;36mTickerBase.get_earnings\u001B[0;34m(self, proxy, as_dict, freq)\u001B[0m\n\u001B[1;32m   1835\u001B[0m \u001B[38;5;250m\u001B[39m\u001B[38;5;124;03m\"\"\"\u001B[39;00m\n\u001B[1;32m   1836\u001B[0m \u001B[38;5;124;03m:Parameters:\u001B[39;00m\n\u001B[1;32m   1837\u001B[0m \u001B[38;5;124;03m    as_dict: bool\u001B[39;00m\n\u001B[0;32m   (...)\u001B[0m\n\u001B[1;32m   1845\u001B[0m \u001B[38;5;124;03m        Default is None\u001B[39;00m\n\u001B[1;32m   1846\u001B[0m \u001B[38;5;124;03m\"\"\"\u001B[39;00m\n\u001B[1;32m   1847\u001B[0m \u001B[38;5;28mself\u001B[39m\u001B[38;5;241m.\u001B[39m_fundamentals\u001B[38;5;241m.\u001B[39mproxy \u001B[38;5;241m=\u001B[39m proxy \u001B[38;5;129;01mor\u001B[39;00m \u001B[38;5;28mself\u001B[39m\u001B[38;5;241m.\u001B[39mproxy\n\u001B[0;32m-> 1848\u001B[0m data \u001B[38;5;241m=\u001B[39m \u001B[38;5;28mself\u001B[39m\u001B[38;5;241m.\u001B[39m_fundamentals\u001B[38;5;241m.\u001B[39mearnings[freq]\n\u001B[1;32m   1849\u001B[0m \u001B[38;5;28;01mif\u001B[39;00m as_dict:\n\u001B[1;32m   1850\u001B[0m     dict_data \u001B[38;5;241m=\u001B[39m data\u001B[38;5;241m.\u001B[39mto_dict()\n",
      "File \u001B[0;32m~/anaconda3/lib/python3.11/site-packages/yfinance/scrapers/fundamentals.py:34\u001B[0m, in \u001B[0;36mFundamentals.earnings\u001B[0;34m(self)\u001B[0m\n\u001B[1;32m     31\u001B[0m \u001B[38;5;129m@property\u001B[39m\n\u001B[1;32m     32\u001B[0m \u001B[38;5;28;01mdef\u001B[39;00m \u001B[38;5;21mearnings\u001B[39m(\u001B[38;5;28mself\u001B[39m) \u001B[38;5;241m-\u001B[39m\u001B[38;5;241m>\u001B[39m \u001B[38;5;28mdict\u001B[39m:\n\u001B[1;32m     33\u001B[0m     \u001B[38;5;28;01mif\u001B[39;00m \u001B[38;5;28mself\u001B[39m\u001B[38;5;241m.\u001B[39m_earnings \u001B[38;5;129;01mis\u001B[39;00m \u001B[38;5;28;01mNone\u001B[39;00m:\n\u001B[0;32m---> 34\u001B[0m         \u001B[38;5;28;01mraise\u001B[39;00m YFNotImplementedError(\u001B[38;5;124m'\u001B[39m\u001B[38;5;124mearnings\u001B[39m\u001B[38;5;124m'\u001B[39m)\n\u001B[1;32m     35\u001B[0m     \u001B[38;5;28;01mreturn\u001B[39;00m \u001B[38;5;28mself\u001B[39m\u001B[38;5;241m.\u001B[39m_earnings\n",
      "\u001B[0;31mYFNotImplementedError\u001B[0m: Have not implemented fetching 'earnings' from Yahoo API"
     ]
    }
   ],
   "source": [
    "ticker.earnings"
   ]
  },
  {
   "cell_type": "code",
   "execution_count": 16,
   "metadata": {
    "ExecuteTime": {
     "end_time": "2020-12-30T22:10:20.291334Z",
     "start_time": "2020-12-30T22:10:20.280662Z"
    }
   },
   "outputs": [
    {
     "data": {
      "text/html": [
       "<div>\n",
       "<style scoped>\n",
       "    .dataframe tbody tr th:only-of-type {\n",
       "        vertical-align: middle;\n",
       "    }\n",
       "\n",
       "    .dataframe tbody tr th {\n",
       "        vertical-align: top;\n",
       "    }\n",
       "\n",
       "    .dataframe thead th {\n",
       "        text-align: right;\n",
       "    }\n",
       "</style>\n",
       "<table border=\"1\" class=\"dataframe\">\n",
       "  <thead>\n",
       "    <tr style=\"text-align: right;\">\n",
       "      <th></th>\n",
       "      <th>Open</th>\n",
       "      <th>High</th>\n",
       "      <th>Low</th>\n",
       "      <th>Close</th>\n",
       "      <th>Adj Close</th>\n",
       "      <th>Volume</th>\n",
       "    </tr>\n",
       "    <tr>\n",
       "      <th>Date</th>\n",
       "      <th></th>\n",
       "      <th></th>\n",
       "      <th></th>\n",
       "      <th></th>\n",
       "      <th></th>\n",
       "      <th></th>\n",
       "    </tr>\n",
       "  </thead>\n",
       "  <tbody>\n",
       "  </tbody>\n",
       "</table>\n",
       "</div>"
      ],
      "text/plain": [
       "Empty DataFrame\n",
       "Columns: [Open, High, Low, Close, Adj Close, Volume]\n",
       "Index: []"
      ]
     },
     "execution_count": 16,
     "metadata": {},
     "output_type": "execute_result"
    }
   ],
   "source": [
    "ticker.quarterly_earnings"
   ]
  },
  {
   "cell_type": "markdown",
   "metadata": {},
   "source": [
    "### Sustainability: Environmental, Social and Governance (ESG)"
   ]
  },
  {
   "cell_type": "code",
   "execution_count": 21,
   "metadata": {
    "ExecuteTime": {
     "end_time": "2024-01-10T17:00:59.177620Z",
     "start_time": "2024-01-10T17:00:59.010828Z"
    }
   },
   "outputs": [
    {
     "ename": "YFNotImplementedError",
     "evalue": "Have not implemented fetching 'sustainability' from Yahoo API",
     "output_type": "error",
     "traceback": [
      "\u001B[0;31m---------------------------------------------------------------------------\u001B[0m",
      "\u001B[0;31mYFNotImplementedError\u001B[0m                     Traceback (most recent call last)",
      "Cell \u001B[0;32mIn[21], line 1\u001B[0m\n\u001B[0;32m----> 1\u001B[0m ticker\u001B[38;5;241m.\u001B[39msustainability\n",
      "File \u001B[0;32m~/anaconda3/lib/python3.11/site-packages/yfinance/ticker.py:253\u001B[0m, in \u001B[0;36mTicker.sustainability\u001B[0;34m(self)\u001B[0m\n\u001B[1;32m    251\u001B[0m \u001B[38;5;129m@property\u001B[39m\n\u001B[1;32m    252\u001B[0m \u001B[38;5;28;01mdef\u001B[39;00m \u001B[38;5;21msustainability\u001B[39m(\u001B[38;5;28mself\u001B[39m) \u001B[38;5;241m-\u001B[39m\u001B[38;5;241m>\u001B[39m _pd\u001B[38;5;241m.\u001B[39mDataFrame:\n\u001B[0;32m--> 253\u001B[0m     \u001B[38;5;28;01mreturn\u001B[39;00m \u001B[38;5;28mself\u001B[39m\u001B[38;5;241m.\u001B[39mget_sustainability()\n",
      "File \u001B[0;32m~/anaconda3/lib/python3.11/site-packages/yfinance/base.py:1794\u001B[0m, in \u001B[0;36mTickerBase.get_sustainability\u001B[0;34m(self, proxy, as_dict)\u001B[0m\n\u001B[1;32m   1792\u001B[0m \u001B[38;5;28;01mdef\u001B[39;00m \u001B[38;5;21mget_sustainability\u001B[39m(\u001B[38;5;28mself\u001B[39m, proxy\u001B[38;5;241m=\u001B[39m\u001B[38;5;28;01mNone\u001B[39;00m, as_dict\u001B[38;5;241m=\u001B[39m\u001B[38;5;28;01mFalse\u001B[39;00m):\n\u001B[1;32m   1793\u001B[0m     \u001B[38;5;28mself\u001B[39m\u001B[38;5;241m.\u001B[39m_quote\u001B[38;5;241m.\u001B[39mproxy \u001B[38;5;241m=\u001B[39m proxy \u001B[38;5;129;01mor\u001B[39;00m \u001B[38;5;28mself\u001B[39m\u001B[38;5;241m.\u001B[39mproxy\n\u001B[0;32m-> 1794\u001B[0m     data \u001B[38;5;241m=\u001B[39m \u001B[38;5;28mself\u001B[39m\u001B[38;5;241m.\u001B[39m_quote\u001B[38;5;241m.\u001B[39msustainability\n\u001B[1;32m   1795\u001B[0m     \u001B[38;5;28;01mif\u001B[39;00m as_dict:\n\u001B[1;32m   1796\u001B[0m         \u001B[38;5;28;01mreturn\u001B[39;00m data\u001B[38;5;241m.\u001B[39mto_dict()\n",
      "File \u001B[0;32m~/anaconda3/lib/python3.11/site-packages/yfinance/scrapers/quote.py:582\u001B[0m, in \u001B[0;36mQuote.sustainability\u001B[0;34m(self)\u001B[0m\n\u001B[1;32m    579\u001B[0m \u001B[38;5;129m@property\u001B[39m\n\u001B[1;32m    580\u001B[0m \u001B[38;5;28;01mdef\u001B[39;00m \u001B[38;5;21msustainability\u001B[39m(\u001B[38;5;28mself\u001B[39m) \u001B[38;5;241m-\u001B[39m\u001B[38;5;241m>\u001B[39m pd\u001B[38;5;241m.\u001B[39mDataFrame:\n\u001B[1;32m    581\u001B[0m     \u001B[38;5;28;01mif\u001B[39;00m \u001B[38;5;28mself\u001B[39m\u001B[38;5;241m.\u001B[39m_sustainability \u001B[38;5;129;01mis\u001B[39;00m \u001B[38;5;28;01mNone\u001B[39;00m:\n\u001B[0;32m--> 582\u001B[0m         \u001B[38;5;28;01mraise\u001B[39;00m YFNotImplementedError(\u001B[38;5;124m'\u001B[39m\u001B[38;5;124msustainability\u001B[39m\u001B[38;5;124m'\u001B[39m)\n\u001B[1;32m    583\u001B[0m     \u001B[38;5;28;01mreturn\u001B[39;00m \u001B[38;5;28mself\u001B[39m\u001B[38;5;241m.\u001B[39m_sustainability\n",
      "\u001B[0;31mYFNotImplementedError\u001B[0m: Have not implemented fetching 'sustainability' from Yahoo API"
     ]
    }
   ],
   "source": [
    "ticker.sustainability"
   ]
  },
  {
   "cell_type": "markdown",
   "metadata": {},
   "source": [
    "### Analyst Recommendations"
   ]
  },
  {
   "cell_type": "code",
   "execution_count": 22,
   "metadata": {
    "ExecuteTime": {
     "end_time": "2024-01-10T17:01:12.272296Z",
     "start_time": "2024-01-10T17:01:12.144177Z"
    }
   },
   "outputs": [
    {
     "name": "stdout",
     "output_type": "stream",
     "text": [
      "<class 'pandas.core.frame.DataFrame'>\n",
      "RangeIndex: 4 entries, 0 to 3\n",
      "Data columns (total 6 columns):\n",
      " #   Column      Non-Null Count  Dtype \n",
      "---  ------      --------------  ----- \n",
      " 0   period      4 non-null      object\n",
      " 1   strongBuy   4 non-null      int64 \n",
      " 2   buy         4 non-null      int64 \n",
      " 3   hold        4 non-null      int64 \n",
      " 4   sell        4 non-null      int64 \n",
      " 5   strongSell  4 non-null      int64 \n",
      "dtypes: int64(5), object(1)\n",
      "memory usage: 324.0+ bytes\n"
     ]
    }
   ],
   "source": [
    "ticker.recommendations.info()"
   ]
  },
  {
   "cell_type": "code",
   "execution_count": 19,
   "metadata": {
    "ExecuteTime": {
     "end_time": "2020-12-30T22:10:20.334167Z",
     "start_time": "2020-12-30T22:10:20.323193Z"
    }
   },
   "outputs": [
    {
     "data": {
      "text/html": [
       "<div>\n",
       "<style scoped>\n",
       "    .dataframe tbody tr th:only-of-type {\n",
       "        vertical-align: middle;\n",
       "    }\n",
       "\n",
       "    .dataframe tbody tr th {\n",
       "        vertical-align: top;\n",
       "    }\n",
       "\n",
       "    .dataframe thead th {\n",
       "        text-align: right;\n",
       "    }\n",
       "</style>\n",
       "<table border=\"1\" class=\"dataframe\">\n",
       "  <thead>\n",
       "    <tr style=\"text-align: right;\">\n",
       "      <th></th>\n",
       "      <th>Firm</th>\n",
       "      <th>To Grade</th>\n",
       "      <th>From Grade</th>\n",
       "      <th>Action</th>\n",
       "    </tr>\n",
       "    <tr>\n",
       "      <th>Date</th>\n",
       "      <th></th>\n",
       "      <th></th>\n",
       "      <th></th>\n",
       "      <th></th>\n",
       "    </tr>\n",
       "  </thead>\n",
       "  <tbody>\n",
       "    <tr>\n",
       "      <th>2020-10-20 12:31:45</th>\n",
       "      <td>Credit Suisse</td>\n",
       "      <td>Outperform</td>\n",
       "      <td></td>\n",
       "      <td>main</td>\n",
       "    </tr>\n",
       "    <tr>\n",
       "      <th>2020-10-26 08:50:44</th>\n",
       "      <td>KeyBanc</td>\n",
       "      <td>Overweight</td>\n",
       "      <td></td>\n",
       "      <td>main</td>\n",
       "    </tr>\n",
       "    <tr>\n",
       "      <th>2020-10-28 16:47:21</th>\n",
       "      <td>JP Morgan</td>\n",
       "      <td>Overweight</td>\n",
       "      <td></td>\n",
       "      <td>main</td>\n",
       "    </tr>\n",
       "    <tr>\n",
       "      <th>2020-10-30 11:53:22</th>\n",
       "      <td>Raymond James</td>\n",
       "      <td>Strong Buy</td>\n",
       "      <td></td>\n",
       "      <td>main</td>\n",
       "    </tr>\n",
       "    <tr>\n",
       "      <th>2020-10-30 12:45:43</th>\n",
       "      <td>Credit Suisse</td>\n",
       "      <td>Outperform</td>\n",
       "      <td></td>\n",
       "      <td>main</td>\n",
       "    </tr>\n",
       "    <tr>\n",
       "      <th>2020-10-30 12:50:35</th>\n",
       "      <td>Morgan Stanley</td>\n",
       "      <td>Overweight</td>\n",
       "      <td></td>\n",
       "      <td>main</td>\n",
       "    </tr>\n",
       "    <tr>\n",
       "      <th>2020-10-30 15:15:15</th>\n",
       "      <td>Canaccord Genuity</td>\n",
       "      <td>Buy</td>\n",
       "      <td></td>\n",
       "      <td>main</td>\n",
       "    </tr>\n",
       "    <tr>\n",
       "      <th>2020-10-30 17:03:14</th>\n",
       "      <td>Mizuho</td>\n",
       "      <td>Buy</td>\n",
       "      <td></td>\n",
       "      <td>main</td>\n",
       "    </tr>\n",
       "    <tr>\n",
       "      <th>2020-10-30 17:06:53</th>\n",
       "      <td>Wells Fargo</td>\n",
       "      <td>Overweight</td>\n",
       "      <td></td>\n",
       "      <td>main</td>\n",
       "    </tr>\n",
       "    <tr>\n",
       "      <th>2020-10-30 17:14:48</th>\n",
       "      <td>Truist Securities</td>\n",
       "      <td>Buy</td>\n",
       "      <td></td>\n",
       "      <td>main</td>\n",
       "    </tr>\n",
       "  </tbody>\n",
       "</table>\n",
       "</div>"
      ],
      "text/plain": [
       "                                  Firm    To Grade From Grade Action\n",
       "Date                                                                \n",
       "2020-10-20 12:31:45      Credit Suisse  Outperform              main\n",
       "2020-10-26 08:50:44            KeyBanc  Overweight              main\n",
       "2020-10-28 16:47:21          JP Morgan  Overweight              main\n",
       "2020-10-30 11:53:22      Raymond James  Strong Buy              main\n",
       "2020-10-30 12:45:43      Credit Suisse  Outperform              main\n",
       "2020-10-30 12:50:35     Morgan Stanley  Overweight              main\n",
       "2020-10-30 15:15:15  Canaccord Genuity         Buy              main\n",
       "2020-10-30 17:03:14             Mizuho         Buy              main\n",
       "2020-10-30 17:06:53        Wells Fargo  Overweight              main\n",
       "2020-10-30 17:14:48  Truist Securities         Buy              main"
      ]
     },
     "execution_count": 19,
     "metadata": {},
     "output_type": "execute_result"
    }
   ],
   "source": [
    "ticker.recommendations.tail(10)"
   ]
  },
  {
   "cell_type": "markdown",
   "metadata": {},
   "source": [
    "### Upcoming Events"
   ]
  },
  {
   "cell_type": "code",
   "execution_count": 23,
   "metadata": {
    "ExecuteTime": {
     "end_time": "2024-01-10T17:01:16.327309Z",
     "start_time": "2024-01-10T17:01:16.290136Z"
    }
   },
   "outputs": [
    {
     "data": {
      "text/plain": "{'Earnings Date': [datetime.date(2024, 1, 30), datetime.date(2024, 2, 5)],\n 'Earnings High': 6.94,\n 'Earnings Low': 4.37,\n 'Earnings Average': 4.96,\n 'Revenue High': 39887400000,\n 'Revenue Low': 38125000000,\n 'Revenue Average': 39014800000}"
     },
     "execution_count": 23,
     "metadata": {},
     "output_type": "execute_result"
    }
   ],
   "source": [
    "ticker.calendar"
   ]
  },
  {
   "cell_type": "markdown",
   "metadata": {},
   "source": [
    "### Option Expiration Dates"
   ]
  },
  {
   "cell_type": "code",
   "execution_count": 24,
   "metadata": {
    "ExecuteTime": {
     "end_time": "2024-01-10T17:01:18.804195Z",
     "start_time": "2024-01-10T17:01:18.709523Z"
    }
   },
   "outputs": [
    {
     "data": {
      "text/plain": "('2024-01-12',\n '2024-01-19',\n '2024-01-26',\n '2024-02-02',\n '2024-02-09',\n '2024-02-16',\n '2024-02-23',\n '2024-03-15',\n '2024-04-19',\n '2024-05-17',\n '2024-06-21',\n '2024-07-19',\n '2024-09-20',\n '2025-01-17',\n '2025-06-20',\n '2025-09-19',\n '2025-12-19',\n '2026-01-16',\n '2026-06-18')"
     },
     "execution_count": 24,
     "metadata": {},
     "output_type": "execute_result"
    }
   ],
   "source": [
    "ticker.options"
   ]
  },
  {
   "cell_type": "code",
   "execution_count": 25,
   "metadata": {
    "ExecuteTime": {
     "end_time": "2024-01-10T17:01:19.813150Z",
     "start_time": "2024-01-10T17:01:19.806205Z"
    }
   },
   "outputs": [],
   "source": [
    "expiration = ticker.options[0]"
   ]
  },
  {
   "cell_type": "code",
   "execution_count": 26,
   "metadata": {
    "ExecuteTime": {
     "end_time": "2024-01-10T17:01:20.796089Z",
     "start_time": "2024-01-10T17:01:20.706746Z"
    }
   },
   "outputs": [],
   "source": [
    "options = ticker.option_chain(expiration)"
   ]
  },
  {
   "cell_type": "code",
   "execution_count": 27,
   "metadata": {
    "ExecuteTime": {
     "end_time": "2024-01-10T17:01:21.678224Z",
     "start_time": "2024-01-10T17:01:21.675007Z"
    }
   },
   "outputs": [
    {
     "name": "stdout",
     "output_type": "stream",
     "text": [
      "<class 'pandas.core.frame.DataFrame'>\n",
      "RangeIndex: 81 entries, 0 to 80\n",
      "Data columns (total 14 columns):\n",
      " #   Column             Non-Null Count  Dtype              \n",
      "---  ------             --------------  -----              \n",
      " 0   contractSymbol     81 non-null     object             \n",
      " 1   lastTradeDate      81 non-null     datetime64[ns, UTC]\n",
      " 2   strike             81 non-null     float64            \n",
      " 3   lastPrice          81 non-null     float64            \n",
      " 4   bid                81 non-null     float64            \n",
      " 5   ask                81 non-null     float64            \n",
      " 6   change             81 non-null     float64            \n",
      " 7   percentChange      81 non-null     float64            \n",
      " 8   volume             77 non-null     float64            \n",
      " 9   openInterest       81 non-null     int64              \n",
      " 10  impliedVolatility  81 non-null     float64            \n",
      " 11  inTheMoney         81 non-null     bool               \n",
      " 12  contractSize       81 non-null     object             \n",
      " 13  currency           81 non-null     object             \n",
      "dtypes: bool(1), datetime64[ns, UTC](1), float64(8), int64(1), object(3)\n",
      "memory usage: 8.4+ KB\n"
     ]
    }
   ],
   "source": [
    "options.calls.info()"
   ]
  },
  {
   "cell_type": "code",
   "execution_count": 28,
   "metadata": {
    "ExecuteTime": {
     "end_time": "2024-01-10T17:01:22.697190Z",
     "start_time": "2024-01-10T17:01:22.653911Z"
    }
   },
   "outputs": [
    {
     "data": {
      "text/plain": "        contractSymbol             lastTradeDate  strike  lastPrice     bid  \\\n0  META240112C00110000 2024-01-08 20:28:23+00:00   110.0     247.65  260.40   \n1  META240112C00120000 2024-01-05 20:51:56+00:00   120.0     230.92  250.35   \n2  META240112C00130000 2024-01-05 20:58:07+00:00   130.0     221.95  240.45   \n3  META240112C00140000 2024-01-05 20:58:27+00:00   140.0     212.49  229.85   \n4  META240112C00150000 2024-01-08 20:00:27+00:00   150.0     207.46  220.65   \n\n      ask  change  percentChange  volume  openInterest  impliedVolatility  \\\n0  261.15     0.0            0.0     1.0           500           5.281253   \n1  251.15     0.0            0.0     4.0             5           4.828129   \n2  241.20     0.0            0.0     6.0             6           4.722660   \n3  230.70     0.0            0.0     6.0            28           4.007817   \n4  221.40     0.0            0.0     1.0             9           4.468754   \n\n   inTheMoney contractSize currency  \n0        True      REGULAR      USD  \n1        True      REGULAR      USD  \n2        True      REGULAR      USD  \n3        True      REGULAR      USD  \n4        True      REGULAR      USD  ",
      "text/html": "<div>\n<style scoped>\n    .dataframe tbody tr th:only-of-type {\n        vertical-align: middle;\n    }\n\n    .dataframe tbody tr th {\n        vertical-align: top;\n    }\n\n    .dataframe thead th {\n        text-align: right;\n    }\n</style>\n<table border=\"1\" class=\"dataframe\">\n  <thead>\n    <tr style=\"text-align: right;\">\n      <th></th>\n      <th>contractSymbol</th>\n      <th>lastTradeDate</th>\n      <th>strike</th>\n      <th>lastPrice</th>\n      <th>bid</th>\n      <th>ask</th>\n      <th>change</th>\n      <th>percentChange</th>\n      <th>volume</th>\n      <th>openInterest</th>\n      <th>impliedVolatility</th>\n      <th>inTheMoney</th>\n      <th>contractSize</th>\n      <th>currency</th>\n    </tr>\n  </thead>\n  <tbody>\n    <tr>\n      <th>0</th>\n      <td>META240112C00110000</td>\n      <td>2024-01-08 20:28:23+00:00</td>\n      <td>110.0</td>\n      <td>247.65</td>\n      <td>260.40</td>\n      <td>261.15</td>\n      <td>0.0</td>\n      <td>0.0</td>\n      <td>1.0</td>\n      <td>500</td>\n      <td>5.281253</td>\n      <td>True</td>\n      <td>REGULAR</td>\n      <td>USD</td>\n    </tr>\n    <tr>\n      <th>1</th>\n      <td>META240112C00120000</td>\n      <td>2024-01-05 20:51:56+00:00</td>\n      <td>120.0</td>\n      <td>230.92</td>\n      <td>250.35</td>\n      <td>251.15</td>\n      <td>0.0</td>\n      <td>0.0</td>\n      <td>4.0</td>\n      <td>5</td>\n      <td>4.828129</td>\n      <td>True</td>\n      <td>REGULAR</td>\n      <td>USD</td>\n    </tr>\n    <tr>\n      <th>2</th>\n      <td>META240112C00130000</td>\n      <td>2024-01-05 20:58:07+00:00</td>\n      <td>130.0</td>\n      <td>221.95</td>\n      <td>240.45</td>\n      <td>241.20</td>\n      <td>0.0</td>\n      <td>0.0</td>\n      <td>6.0</td>\n      <td>6</td>\n      <td>4.722660</td>\n      <td>True</td>\n      <td>REGULAR</td>\n      <td>USD</td>\n    </tr>\n    <tr>\n      <th>3</th>\n      <td>META240112C00140000</td>\n      <td>2024-01-05 20:58:27+00:00</td>\n      <td>140.0</td>\n      <td>212.49</td>\n      <td>229.85</td>\n      <td>230.70</td>\n      <td>0.0</td>\n      <td>0.0</td>\n      <td>6.0</td>\n      <td>28</td>\n      <td>4.007817</td>\n      <td>True</td>\n      <td>REGULAR</td>\n      <td>USD</td>\n    </tr>\n    <tr>\n      <th>4</th>\n      <td>META240112C00150000</td>\n      <td>2024-01-08 20:00:27+00:00</td>\n      <td>150.0</td>\n      <td>207.46</td>\n      <td>220.65</td>\n      <td>221.40</td>\n      <td>0.0</td>\n      <td>0.0</td>\n      <td>1.0</td>\n      <td>9</td>\n      <td>4.468754</td>\n      <td>True</td>\n      <td>REGULAR</td>\n      <td>USD</td>\n    </tr>\n  </tbody>\n</table>\n</div>"
     },
     "execution_count": 28,
     "metadata": {},
     "output_type": "execute_result"
    }
   ],
   "source": [
    "options.calls.head()"
   ]
  },
  {
   "cell_type": "code",
   "execution_count": 29,
   "metadata": {
    "ExecuteTime": {
     "end_time": "2024-01-10T17:01:23.550816Z",
     "start_time": "2024-01-10T17:01:23.547140Z"
    }
   },
   "outputs": [
    {
     "name": "stdout",
     "output_type": "stream",
     "text": [
      "<class 'pandas.core.frame.DataFrame'>\n",
      "RangeIndex: 84 entries, 0 to 83\n",
      "Data columns (total 14 columns):\n",
      " #   Column             Non-Null Count  Dtype              \n",
      "---  ------             --------------  -----              \n",
      " 0   contractSymbol     84 non-null     object             \n",
      " 1   lastTradeDate      84 non-null     datetime64[ns, UTC]\n",
      " 2   strike             84 non-null     float64            \n",
      " 3   lastPrice          84 non-null     float64            \n",
      " 4   bid                84 non-null     float64            \n",
      " 5   ask                84 non-null     float64            \n",
      " 6   change             84 non-null     float64            \n",
      " 7   percentChange      84 non-null     float64            \n",
      " 8   volume             80 non-null     float64            \n",
      " 9   openInterest       84 non-null     int64              \n",
      " 10  impliedVolatility  84 non-null     float64            \n",
      " 11  inTheMoney         84 non-null     bool               \n",
      " 12  contractSize       84 non-null     object             \n",
      " 13  currency           84 non-null     object             \n",
      "dtypes: bool(1), datetime64[ns, UTC](1), float64(8), int64(1), object(3)\n",
      "memory usage: 8.7+ KB\n"
     ]
    }
   ],
   "source": [
    "options.puts.info()"
   ]
  },
  {
   "cell_type": "markdown",
   "metadata": {},
   "source": [
    "## Data Download with proxy server"
   ]
  },
  {
   "cell_type": "markdown",
   "metadata": {},
   "source": [
    "You can use a proxy server to avoid having your IP blacklisted as illustrated below (but need an actual PROXY_SERVER)."
   ]
  },
  {
   "cell_type": "code",
   "execution_count": 30,
   "metadata": {
    "ExecuteTime": {
     "end_time": "2024-01-10T17:01:26.232911Z",
     "start_time": "2024-01-10T17:01:26.226192Z"
    }
   },
   "outputs": [],
   "source": [
    "PROXY_SERVER = 'PROXY_SERVER'"
   ]
  },
  {
   "cell_type": "markdown",
   "metadata": {},
   "source": [
    "The following will only work with proper PROXY_SERVER..."
   ]
  },
  {
   "cell_type": "code",
   "execution_count": 31,
   "metadata": {
    "ExecuteTime": {
     "end_time": "2024-01-10T17:01:27.467658Z",
     "start_time": "2024-01-10T17:01:27.460177Z"
    }
   },
   "outputs": [],
   "source": [
    "# msft = yf.Ticker(\"MSFT\")\n",
    "\n",
    "# msft.history(proxy=PROXY_SERVER)\n",
    "# msft.get_actions(proxy=PROXY_SERVER)\n",
    "# msft.get_dividends(proxy=PROXY_SERVER)\n",
    "# msft.get_splits(proxy=PROXY_SERVER)\n",
    "# msft.get_balance_sheet(proxy=PROXY_SERVER)\n",
    "# msft.get_cashflow(proxy=PROXY_SERVER)\n",
    "# msft.option_chain(proxy=PROXY_SERVER)"
   ]
  },
  {
   "cell_type": "markdown",
   "metadata": {},
   "source": [
    "## Downloading multiple symbols"
   ]
  },
  {
   "cell_type": "code",
   "execution_count": 32,
   "metadata": {
    "ExecuteTime": {
     "end_time": "2024-01-10T17:01:36.700403Z",
     "start_time": "2024-01-10T17:01:36.693163Z"
    }
   },
   "outputs": [],
   "source": [
    "tickers = yf.Tickers('msft aapl goog')"
   ]
  },
  {
   "cell_type": "code",
   "execution_count": 33,
   "metadata": {
    "ExecuteTime": {
     "end_time": "2024-01-10T17:01:37.353064Z",
     "start_time": "2024-01-10T17:01:37.346118Z"
    }
   },
   "outputs": [
    {
     "data": {
      "text/plain": "yfinance.Tickers object <MSFT,AAPL,GOOG>"
     },
     "execution_count": 33,
     "metadata": {},
     "output_type": "execute_result"
    }
   ],
   "source": [
    "tickers"
   ]
  },
  {
   "cell_type": "code",
   "execution_count": 34,
   "metadata": {
    "ExecuteTime": {
     "end_time": "2024-01-10T17:01:38.126105Z",
     "start_time": "2024-01-10T17:01:37.994999Z"
    }
   },
   "outputs": [
    {
     "data": {
      "text/plain": "address1             One Microsoft Way\ncity                           Redmond\nstate                               WA\nzip                         98052-6399\ncountry                  United States\n                           ...        \ngrossMargins                   0.69511\nebitdaMargins                   0.5015\noperatingMargins               0.47587\nfinancialCurrency                  USD\ntrailingPegRatio                2.2741\nLength: 131, dtype: object"
     },
     "execution_count": 34,
     "metadata": {},
     "output_type": "execute_result"
    }
   ],
   "source": [
    "pd.Series(tickers.tickers['MSFT'].info)"
   ]
  },
  {
   "cell_type": "code",
   "execution_count": 35,
   "metadata": {
    "ExecuteTime": {
     "end_time": "2024-01-10T17:01:38.810195Z",
     "start_time": "2024-01-10T17:01:38.626157Z"
    }
   },
   "outputs": [
    {
     "data": {
      "text/plain": "                                 Open        High         Low       Close  \\\nDate                                                                        \n2023-12-11 00:00:00-05:00  193.110001  193.490005  191.419998  193.179993   \n2023-12-12 00:00:00-05:00  193.080002  194.720001  191.720001  194.710007   \n2023-12-13 00:00:00-05:00  195.089996  198.000000  194.850006  197.960007   \n2023-12-14 00:00:00-05:00  198.020004  199.619995  196.160004  198.110001   \n2023-12-15 00:00:00-05:00  197.529999  198.399994  197.000000  197.570007   \n2023-12-18 00:00:00-05:00  196.089996  196.630005  194.389999  195.889999   \n2023-12-19 00:00:00-05:00  196.160004  196.949997  195.889999  196.940002   \n2023-12-20 00:00:00-05:00  196.899994  197.679993  194.830002  194.830002   \n2023-12-21 00:00:00-05:00  196.100006  197.080002  193.500000  194.679993   \n2023-12-22 00:00:00-05:00  195.179993  195.410004  192.970001  193.600006   \n2023-12-26 00:00:00-05:00  193.610001  193.889999  192.830002  193.050003   \n2023-12-27 00:00:00-05:00  192.490005  193.500000  191.089996  193.149994   \n2023-12-28 00:00:00-05:00  194.139999  194.660004  193.169998  193.580002   \n2023-12-29 00:00:00-05:00  193.899994  194.399994  191.729996  192.529999   \n2024-01-02 00:00:00-05:00  187.149994  188.440002  183.889999  185.639999   \n2024-01-03 00:00:00-05:00  184.220001  185.880005  183.429993  184.250000   \n2024-01-04 00:00:00-05:00  182.149994  183.089996  180.880005  181.910004   \n2024-01-05 00:00:00-05:00  181.990005  182.759995  180.169998  181.179993   \n2024-01-08 00:00:00-05:00  182.089996  185.600006  181.500000  185.559998   \n2024-01-09 00:00:00-05:00  183.919998  185.149994  182.729996  185.139999   \n2024-01-10 00:00:00-05:00  184.350006  185.009995  183.919998  184.210007   \n\n                              Volume  Dividends  Stock Splits  \nDate                                                           \n2023-12-11 00:00:00-05:00   60943700        0.0           0.0  \n2023-12-12 00:00:00-05:00   52696900        0.0           0.0  \n2023-12-13 00:00:00-05:00   70404200        0.0           0.0  \n2023-12-14 00:00:00-05:00   66831600        0.0           0.0  \n2023-12-15 00:00:00-05:00  128256700        0.0           0.0  \n2023-12-18 00:00:00-05:00   55751900        0.0           0.0  \n2023-12-19 00:00:00-05:00   40714100        0.0           0.0  \n2023-12-20 00:00:00-05:00   52242800        0.0           0.0  \n2023-12-21 00:00:00-05:00   46482500        0.0           0.0  \n2023-12-22 00:00:00-05:00   37122800        0.0           0.0  \n2023-12-26 00:00:00-05:00   28919300        0.0           0.0  \n2023-12-27 00:00:00-05:00   48087700        0.0           0.0  \n2023-12-28 00:00:00-05:00   34049900        0.0           0.0  \n2023-12-29 00:00:00-05:00   42628800        0.0           0.0  \n2024-01-02 00:00:00-05:00   82488700        0.0           0.0  \n2024-01-03 00:00:00-05:00   58414500        0.0           0.0  \n2024-01-04 00:00:00-05:00   71983600        0.0           0.0  \n2024-01-05 00:00:00-05:00   62303300        0.0           0.0  \n2024-01-08 00:00:00-05:00   59144500        0.0           0.0  \n2024-01-09 00:00:00-05:00   42802600        0.0           0.0  \n2024-01-10 00:00:00-05:00   16402648        0.0           0.0  ",
      "text/html": "<div>\n<style scoped>\n    .dataframe tbody tr th:only-of-type {\n        vertical-align: middle;\n    }\n\n    .dataframe tbody tr th {\n        vertical-align: top;\n    }\n\n    .dataframe thead th {\n        text-align: right;\n    }\n</style>\n<table border=\"1\" class=\"dataframe\">\n  <thead>\n    <tr style=\"text-align: right;\">\n      <th></th>\n      <th>Open</th>\n      <th>High</th>\n      <th>Low</th>\n      <th>Close</th>\n      <th>Volume</th>\n      <th>Dividends</th>\n      <th>Stock Splits</th>\n    </tr>\n    <tr>\n      <th>Date</th>\n      <th></th>\n      <th></th>\n      <th></th>\n      <th></th>\n      <th></th>\n      <th></th>\n      <th></th>\n    </tr>\n  </thead>\n  <tbody>\n    <tr>\n      <th>2023-12-11 00:00:00-05:00</th>\n      <td>193.110001</td>\n      <td>193.490005</td>\n      <td>191.419998</td>\n      <td>193.179993</td>\n      <td>60943700</td>\n      <td>0.0</td>\n      <td>0.0</td>\n    </tr>\n    <tr>\n      <th>2023-12-12 00:00:00-05:00</th>\n      <td>193.080002</td>\n      <td>194.720001</td>\n      <td>191.720001</td>\n      <td>194.710007</td>\n      <td>52696900</td>\n      <td>0.0</td>\n      <td>0.0</td>\n    </tr>\n    <tr>\n      <th>2023-12-13 00:00:00-05:00</th>\n      <td>195.089996</td>\n      <td>198.000000</td>\n      <td>194.850006</td>\n      <td>197.960007</td>\n      <td>70404200</td>\n      <td>0.0</td>\n      <td>0.0</td>\n    </tr>\n    <tr>\n      <th>2023-12-14 00:00:00-05:00</th>\n      <td>198.020004</td>\n      <td>199.619995</td>\n      <td>196.160004</td>\n      <td>198.110001</td>\n      <td>66831600</td>\n      <td>0.0</td>\n      <td>0.0</td>\n    </tr>\n    <tr>\n      <th>2023-12-15 00:00:00-05:00</th>\n      <td>197.529999</td>\n      <td>198.399994</td>\n      <td>197.000000</td>\n      <td>197.570007</td>\n      <td>128256700</td>\n      <td>0.0</td>\n      <td>0.0</td>\n    </tr>\n    <tr>\n      <th>2023-12-18 00:00:00-05:00</th>\n      <td>196.089996</td>\n      <td>196.630005</td>\n      <td>194.389999</td>\n      <td>195.889999</td>\n      <td>55751900</td>\n      <td>0.0</td>\n      <td>0.0</td>\n    </tr>\n    <tr>\n      <th>2023-12-19 00:00:00-05:00</th>\n      <td>196.160004</td>\n      <td>196.949997</td>\n      <td>195.889999</td>\n      <td>196.940002</td>\n      <td>40714100</td>\n      <td>0.0</td>\n      <td>0.0</td>\n    </tr>\n    <tr>\n      <th>2023-12-20 00:00:00-05:00</th>\n      <td>196.899994</td>\n      <td>197.679993</td>\n      <td>194.830002</td>\n      <td>194.830002</td>\n      <td>52242800</td>\n      <td>0.0</td>\n      <td>0.0</td>\n    </tr>\n    <tr>\n      <th>2023-12-21 00:00:00-05:00</th>\n      <td>196.100006</td>\n      <td>197.080002</td>\n      <td>193.500000</td>\n      <td>194.679993</td>\n      <td>46482500</td>\n      <td>0.0</td>\n      <td>0.0</td>\n    </tr>\n    <tr>\n      <th>2023-12-22 00:00:00-05:00</th>\n      <td>195.179993</td>\n      <td>195.410004</td>\n      <td>192.970001</td>\n      <td>193.600006</td>\n      <td>37122800</td>\n      <td>0.0</td>\n      <td>0.0</td>\n    </tr>\n    <tr>\n      <th>2023-12-26 00:00:00-05:00</th>\n      <td>193.610001</td>\n      <td>193.889999</td>\n      <td>192.830002</td>\n      <td>193.050003</td>\n      <td>28919300</td>\n      <td>0.0</td>\n      <td>0.0</td>\n    </tr>\n    <tr>\n      <th>2023-12-27 00:00:00-05:00</th>\n      <td>192.490005</td>\n      <td>193.500000</td>\n      <td>191.089996</td>\n      <td>193.149994</td>\n      <td>48087700</td>\n      <td>0.0</td>\n      <td>0.0</td>\n    </tr>\n    <tr>\n      <th>2023-12-28 00:00:00-05:00</th>\n      <td>194.139999</td>\n      <td>194.660004</td>\n      <td>193.169998</td>\n      <td>193.580002</td>\n      <td>34049900</td>\n      <td>0.0</td>\n      <td>0.0</td>\n    </tr>\n    <tr>\n      <th>2023-12-29 00:00:00-05:00</th>\n      <td>193.899994</td>\n      <td>194.399994</td>\n      <td>191.729996</td>\n      <td>192.529999</td>\n      <td>42628800</td>\n      <td>0.0</td>\n      <td>0.0</td>\n    </tr>\n    <tr>\n      <th>2024-01-02 00:00:00-05:00</th>\n      <td>187.149994</td>\n      <td>188.440002</td>\n      <td>183.889999</td>\n      <td>185.639999</td>\n      <td>82488700</td>\n      <td>0.0</td>\n      <td>0.0</td>\n    </tr>\n    <tr>\n      <th>2024-01-03 00:00:00-05:00</th>\n      <td>184.220001</td>\n      <td>185.880005</td>\n      <td>183.429993</td>\n      <td>184.250000</td>\n      <td>58414500</td>\n      <td>0.0</td>\n      <td>0.0</td>\n    </tr>\n    <tr>\n      <th>2024-01-04 00:00:00-05:00</th>\n      <td>182.149994</td>\n      <td>183.089996</td>\n      <td>180.880005</td>\n      <td>181.910004</td>\n      <td>71983600</td>\n      <td>0.0</td>\n      <td>0.0</td>\n    </tr>\n    <tr>\n      <th>2024-01-05 00:00:00-05:00</th>\n      <td>181.990005</td>\n      <td>182.759995</td>\n      <td>180.169998</td>\n      <td>181.179993</td>\n      <td>62303300</td>\n      <td>0.0</td>\n      <td>0.0</td>\n    </tr>\n    <tr>\n      <th>2024-01-08 00:00:00-05:00</th>\n      <td>182.089996</td>\n      <td>185.600006</td>\n      <td>181.500000</td>\n      <td>185.559998</td>\n      <td>59144500</td>\n      <td>0.0</td>\n      <td>0.0</td>\n    </tr>\n    <tr>\n      <th>2024-01-09 00:00:00-05:00</th>\n      <td>183.919998</td>\n      <td>185.149994</td>\n      <td>182.729996</td>\n      <td>185.139999</td>\n      <td>42802600</td>\n      <td>0.0</td>\n      <td>0.0</td>\n    </tr>\n    <tr>\n      <th>2024-01-10 00:00:00-05:00</th>\n      <td>184.350006</td>\n      <td>185.009995</td>\n      <td>183.919998</td>\n      <td>184.210007</td>\n      <td>16402648</td>\n      <td>0.0</td>\n      <td>0.0</td>\n    </tr>\n  </tbody>\n</table>\n</div>"
     },
     "execution_count": 35,
     "metadata": {},
     "output_type": "execute_result"
    }
   ],
   "source": [
    "tickers.tickers['AAPL'].history(period=\"1mo\")"
   ]
  },
  {
   "cell_type": "code",
   "execution_count": 36,
   "metadata": {
    "ExecuteTime": {
     "end_time": "2024-01-10T17:01:39.609621Z",
     "start_time": "2024-01-10T17:01:39.357265Z"
    }
   },
   "outputs": [
    {
     "name": "stderr",
     "output_type": "stream",
     "text": [
      "[*********************100%%**********************]  3 of 3 completed\n"
     ]
    },
    {
     "data": {
      "text/plain": "                      Close  Dividends        High         Low        Open  \\\nDate                                                                         \n2023-12-11 AAPL  193.179993        0.0  193.490005  191.419998  193.110001   \n           GOOG  134.699997        0.0  134.789993  132.889999  133.820007   \n           MSFT  371.299988        0.0  371.600006  366.100006  368.480011   \n2023-12-12 AAPL  194.710007        0.0  194.720001  191.720001  193.080002   \n           GOOG  133.639999        0.0  134.539993  132.830002  133.270004   \n...                     ...        ...         ...         ...         ...   \n2024-01-09 GOOG  142.559998        0.0  142.800003  139.789993  140.059998   \n           MSFT  375.790009        0.0  375.989990  371.190002  372.010010   \n2024-01-10 AAPL  184.210007        0.0  185.009995  183.919998  184.350006   \n           GOOG  143.190002        0.0  144.035004  142.460007  142.520004   \n           MSFT  380.890015        0.0  382.290009  376.380005  376.369995   \n\n                 Stock Splits    Volume  \nDate                                     \n2023-12-11 AAPL           0.0  60943700  \n           GOOG           0.0  24502900  \n           MSFT           0.0  27708800  \n2023-12-12 AAPL           0.0  52696900  \n           GOOG           0.0  26584000  \n...                       ...       ...  \n2024-01-09 GOOG           0.0  19563500  \n           MSFT           0.0  20810800  \n2024-01-10 AAPL           0.0  16402648  \n           GOOG           0.0   5785430  \n           MSFT           0.0  10427646  \n\n[63 rows x 7 columns]",
      "text/html": "<div>\n<style scoped>\n    .dataframe tbody tr th:only-of-type {\n        vertical-align: middle;\n    }\n\n    .dataframe tbody tr th {\n        vertical-align: top;\n    }\n\n    .dataframe thead th {\n        text-align: right;\n    }\n</style>\n<table border=\"1\" class=\"dataframe\">\n  <thead>\n    <tr style=\"text-align: right;\">\n      <th></th>\n      <th></th>\n      <th>Close</th>\n      <th>Dividends</th>\n      <th>High</th>\n      <th>Low</th>\n      <th>Open</th>\n      <th>Stock Splits</th>\n      <th>Volume</th>\n    </tr>\n    <tr>\n      <th>Date</th>\n      <th></th>\n      <th></th>\n      <th></th>\n      <th></th>\n      <th></th>\n      <th></th>\n      <th></th>\n      <th></th>\n    </tr>\n  </thead>\n  <tbody>\n    <tr>\n      <th rowspan=\"3\" valign=\"top\">2023-12-11</th>\n      <th>AAPL</th>\n      <td>193.179993</td>\n      <td>0.0</td>\n      <td>193.490005</td>\n      <td>191.419998</td>\n      <td>193.110001</td>\n      <td>0.0</td>\n      <td>60943700</td>\n    </tr>\n    <tr>\n      <th>GOOG</th>\n      <td>134.699997</td>\n      <td>0.0</td>\n      <td>134.789993</td>\n      <td>132.889999</td>\n      <td>133.820007</td>\n      <td>0.0</td>\n      <td>24502900</td>\n    </tr>\n    <tr>\n      <th>MSFT</th>\n      <td>371.299988</td>\n      <td>0.0</td>\n      <td>371.600006</td>\n      <td>366.100006</td>\n      <td>368.480011</td>\n      <td>0.0</td>\n      <td>27708800</td>\n    </tr>\n    <tr>\n      <th rowspan=\"2\" valign=\"top\">2023-12-12</th>\n      <th>AAPL</th>\n      <td>194.710007</td>\n      <td>0.0</td>\n      <td>194.720001</td>\n      <td>191.720001</td>\n      <td>193.080002</td>\n      <td>0.0</td>\n      <td>52696900</td>\n    </tr>\n    <tr>\n      <th>GOOG</th>\n      <td>133.639999</td>\n      <td>0.0</td>\n      <td>134.539993</td>\n      <td>132.830002</td>\n      <td>133.270004</td>\n      <td>0.0</td>\n      <td>26584000</td>\n    </tr>\n    <tr>\n      <th>...</th>\n      <th>...</th>\n      <td>...</td>\n      <td>...</td>\n      <td>...</td>\n      <td>...</td>\n      <td>...</td>\n      <td>...</td>\n      <td>...</td>\n    </tr>\n    <tr>\n      <th rowspan=\"2\" valign=\"top\">2024-01-09</th>\n      <th>GOOG</th>\n      <td>142.559998</td>\n      <td>0.0</td>\n      <td>142.800003</td>\n      <td>139.789993</td>\n      <td>140.059998</td>\n      <td>0.0</td>\n      <td>19563500</td>\n    </tr>\n    <tr>\n      <th>MSFT</th>\n      <td>375.790009</td>\n      <td>0.0</td>\n      <td>375.989990</td>\n      <td>371.190002</td>\n      <td>372.010010</td>\n      <td>0.0</td>\n      <td>20810800</td>\n    </tr>\n    <tr>\n      <th rowspan=\"3\" valign=\"top\">2024-01-10</th>\n      <th>AAPL</th>\n      <td>184.210007</td>\n      <td>0.0</td>\n      <td>185.009995</td>\n      <td>183.919998</td>\n      <td>184.350006</td>\n      <td>0.0</td>\n      <td>16402648</td>\n    </tr>\n    <tr>\n      <th>GOOG</th>\n      <td>143.190002</td>\n      <td>0.0</td>\n      <td>144.035004</td>\n      <td>142.460007</td>\n      <td>142.520004</td>\n      <td>0.0</td>\n      <td>5785430</td>\n    </tr>\n    <tr>\n      <th>MSFT</th>\n      <td>380.890015</td>\n      <td>0.0</td>\n      <td>382.290009</td>\n      <td>376.380005</td>\n      <td>376.369995</td>\n      <td>0.0</td>\n      <td>10427646</td>\n    </tr>\n  </tbody>\n</table>\n<p>63 rows × 7 columns</p>\n</div>"
     },
     "execution_count": 36,
     "metadata": {},
     "output_type": "execute_result"
    }
   ],
   "source": [
    "tickers.history(period='1mo').stack(-1)"
   ]
  },
  {
   "cell_type": "code",
   "execution_count": 37,
   "metadata": {
    "ExecuteTime": {
     "end_time": "2024-01-10T17:01:40.967563Z",
     "start_time": "2024-01-10T17:01:40.745164Z"
    }
   },
   "outputs": [
    {
     "name": "stderr",
     "output_type": "stream",
     "text": [
      "[*********************100%%**********************]  2 of 2 completed\n"
     ]
    }
   ],
   "source": [
    "data = yf.download(\"SPY AAPL\", start=\"2020-01-01\", end=\"2020-01-05\")"
   ]
  },
  {
   "cell_type": "code",
   "execution_count": 38,
   "metadata": {
    "ExecuteTime": {
     "end_time": "2024-01-10T17:01:41.670647Z",
     "start_time": "2024-01-10T17:01:41.663524Z"
    }
   },
   "outputs": [
    {
     "name": "stdout",
     "output_type": "stream",
     "text": [
      "<class 'pandas.core.frame.DataFrame'>\n",
      "DatetimeIndex: 2 entries, 2020-01-02 to 2020-01-03\n",
      "Data columns (total 12 columns):\n",
      " #   Column             Non-Null Count  Dtype  \n",
      "---  ------             --------------  -----  \n",
      " 0   (Adj Close, AAPL)  2 non-null      float64\n",
      " 1   (Adj Close, SPY)   2 non-null      float64\n",
      " 2   (Close, AAPL)      2 non-null      float64\n",
      " 3   (Close, SPY)       2 non-null      float64\n",
      " 4   (High, AAPL)       2 non-null      float64\n",
      " 5   (High, SPY)        2 non-null      float64\n",
      " 6   (Low, AAPL)        2 non-null      float64\n",
      " 7   (Low, SPY)         2 non-null      float64\n",
      " 8   (Open, AAPL)       2 non-null      float64\n",
      " 9   (Open, SPY)        2 non-null      float64\n",
      " 10  (Volume, AAPL)     2 non-null      int64  \n",
      " 11  (Volume, SPY)      2 non-null      int64  \n",
      "dtypes: float64(10), int64(2)\n",
      "memory usage: 208.0 bytes\n"
     ]
    }
   ],
   "source": [
    "data.info()"
   ]
  },
  {
   "cell_type": "code",
   "execution_count": 39,
   "metadata": {
    "ExecuteTime": {
     "end_time": "2024-01-10T17:01:42.554755Z",
     "start_time": "2024-01-10T17:01:42.319198Z"
    }
   },
   "outputs": [
    {
     "name": "stderr",
     "output_type": "stream",
     "text": [
      "[*********************100%%**********************]  3 of 3 completed\n"
     ]
    }
   ],
   "source": [
    "data = yf.download(\n",
    "        tickers = \"SPY AAPL MSFT\", # list or string\n",
    "\n",
    "        # use \"period\" instead of start/end\n",
    "        # valid periods: 1d,5d,1mo,3mo,6mo,1y,2y,5y,10y,ytd,max\n",
    "        # (optional, default is '1mo')\n",
    "        period = \"5d\",\n",
    "\n",
    "        # fetch data by interval (including intraday if period < 60 days)\n",
    "        # valid intervals: 1m,2m,5m,15m,30m,60m,90m,1h,1d,5d,1wk,1mo,3mo\n",
    "        # (optional, default is '1d')\n",
    "        interval = \"1m\",\n",
    "\n",
    "        # group by ticker (to access via data['SPY'])\n",
    "        # (optional, default is 'column')\n",
    "        group_by = 'ticker',\n",
    "\n",
    "        # adjust all OHLC automatically\n",
    "        # (optional, default is False)\n",
    "        auto_adjust = True,\n",
    "\n",
    "        # download pre/post regular market hours data\n",
    "        # (optional, default is False)\n",
    "        prepost = True,\n",
    "\n",
    "        # use threads for mass downloading? (True/False/Integer)\n",
    "        # (optional, default is True)\n",
    "        threads = True,\n",
    "\n",
    "        # proxy URL scheme use use when downloading?\n",
    "        # (optional, default is None)\n",
    "        proxy = None\n",
    "    )"
   ]
  },
  {
   "cell_type": "code",
   "execution_count": 40,
   "metadata": {
    "ExecuteTime": {
     "end_time": "2024-01-10T17:01:43.369194Z",
     "start_time": "2024-01-10T17:01:43.356806Z"
    }
   },
   "outputs": [
    {
     "name": "stdout",
     "output_type": "stream",
     "text": [
      "<class 'pandas.core.frame.DataFrame'>\n",
      "DatetimeIndex: 4231 entries, 2024-01-04 04:00:00-05:00 to 2024-01-10 12:01:00-05:00\n",
      "Data columns (total 15 columns):\n",
      " #   Column          Non-Null Count  Dtype  \n",
      "---  ------          --------------  -----  \n",
      " 0   (AAPL, Open)    4224 non-null   float64\n",
      " 1   (AAPL, High)    4224 non-null   float64\n",
      " 2   (AAPL, Low)     4224 non-null   float64\n",
      " 3   (AAPL, Close)   4224 non-null   float64\n",
      " 4   (AAPL, Volume)  4224 non-null   float64\n",
      " 5   (MSFT, Open)    4156 non-null   float64\n",
      " 6   (MSFT, High)    4156 non-null   float64\n",
      " 7   (MSFT, Low)     4156 non-null   float64\n",
      " 8   (MSFT, Close)   4156 non-null   float64\n",
      " 9   (MSFT, Volume)  4156 non-null   float64\n",
      " 10  (SPY, Open)     4155 non-null   float64\n",
      " 11  (SPY, High)     4155 non-null   float64\n",
      " 12  (SPY, Low)      4155 non-null   float64\n",
      " 13  (SPY, Close)    4155 non-null   float64\n",
      " 14  (SPY, Volume)   4155 non-null   float64\n",
      "dtypes: float64(15)\n",
      "memory usage: 528.9 KB\n"
     ]
    }
   ],
   "source": [
    "data.info()"
   ]
  },
  {
   "cell_type": "code",
   "execution_count": 41,
   "metadata": {
    "ExecuteTime": {
     "end_time": "2024-01-10T17:01:44.404324Z",
     "start_time": "2024-01-10T17:01:44.288555Z"
    }
   },
   "outputs": [
    {
     "name": "stderr",
     "output_type": "stream",
     "text": [
      "[*********************100%%**********************]  1 of 1 completed\n"
     ]
    }
   ],
   "source": [
    "from pandas_datareader import data as pdr\n",
    "\n",
    "import yfinance as yf\n",
    "yf.pdr_override()\n",
    "\n",
    "# download dataframe\n",
    "data = pdr.get_data_yahoo('SPY',\n",
    "                          start='2017-01-01',\n",
    "                          end='2019-04-30',\n",
    "                          auto_adjust=False)"
   ]
  },
  {
   "cell_type": "code",
   "execution_count": 42,
   "metadata": {
    "ExecuteTime": {
     "end_time": "2024-01-10T17:01:45.165856Z",
     "start_time": "2024-01-10T17:01:45.162139Z"
    }
   },
   "outputs": [
    {
     "data": {
      "text/plain": "                  Open        High         Low       Close   Adj Close  \\\nDate                                                                     \n2019-04-23  290.679993  293.140015  290.420013  292.880005  271.097229   \n2019-04-24  292.790009  293.160004  292.070007  292.230011  270.495636   \n2019-04-25  292.119995  292.779999  290.730011  292.049988  270.328979   \n2019-04-26  292.100006  293.489990  291.239990  293.410004  271.587830   \n2019-04-29  293.510010  294.450012  293.410004  293.869995  272.013550   \n\n              Volume  \nDate                  \n2019-04-23  52246600  \n2019-04-24  50392900  \n2019-04-25  57770900  \n2019-04-26  50916400  \n2019-04-29  57197700  ",
      "text/html": "<div>\n<style scoped>\n    .dataframe tbody tr th:only-of-type {\n        vertical-align: middle;\n    }\n\n    .dataframe tbody tr th {\n        vertical-align: top;\n    }\n\n    .dataframe thead th {\n        text-align: right;\n    }\n</style>\n<table border=\"1\" class=\"dataframe\">\n  <thead>\n    <tr style=\"text-align: right;\">\n      <th></th>\n      <th>Open</th>\n      <th>High</th>\n      <th>Low</th>\n      <th>Close</th>\n      <th>Adj Close</th>\n      <th>Volume</th>\n    </tr>\n    <tr>\n      <th>Date</th>\n      <th></th>\n      <th></th>\n      <th></th>\n      <th></th>\n      <th></th>\n      <th></th>\n    </tr>\n  </thead>\n  <tbody>\n    <tr>\n      <th>2019-04-23</th>\n      <td>290.679993</td>\n      <td>293.140015</td>\n      <td>290.420013</td>\n      <td>292.880005</td>\n      <td>271.097229</td>\n      <td>52246600</td>\n    </tr>\n    <tr>\n      <th>2019-04-24</th>\n      <td>292.790009</td>\n      <td>293.160004</td>\n      <td>292.070007</td>\n      <td>292.230011</td>\n      <td>270.495636</td>\n      <td>50392900</td>\n    </tr>\n    <tr>\n      <th>2019-04-25</th>\n      <td>292.119995</td>\n      <td>292.779999</td>\n      <td>290.730011</td>\n      <td>292.049988</td>\n      <td>270.328979</td>\n      <td>57770900</td>\n    </tr>\n    <tr>\n      <th>2019-04-26</th>\n      <td>292.100006</td>\n      <td>293.489990</td>\n      <td>291.239990</td>\n      <td>293.410004</td>\n      <td>271.587830</td>\n      <td>50916400</td>\n    </tr>\n    <tr>\n      <th>2019-04-29</th>\n      <td>293.510010</td>\n      <td>294.450012</td>\n      <td>293.410004</td>\n      <td>293.869995</td>\n      <td>272.013550</td>\n      <td>57197700</td>\n    </tr>\n  </tbody>\n</table>\n</div>"
     },
     "execution_count": 42,
     "metadata": {},
     "output_type": "execute_result"
    }
   ],
   "source": [
    "# auto_adjust = True\n",
    "data.tail()"
   ]
  },
  {
   "cell_type": "code",
   "execution_count": 43,
   "metadata": {
    "ExecuteTime": {
     "end_time": "2024-01-10T17:01:45.724686Z",
     "start_time": "2024-01-10T17:01:45.713367Z"
    }
   },
   "outputs": [
    {
     "data": {
      "text/plain": "                  Open        High         Low       Close   Adj Close  \\\nDate                                                                     \n2019-04-23  290.679993  293.140015  290.420013  292.880005  271.097229   \n2019-04-24  292.790009  293.160004  292.070007  292.230011  270.495636   \n2019-04-25  292.119995  292.779999  290.730011  292.049988  270.328979   \n2019-04-26  292.100006  293.489990  291.239990  293.410004  271.587830   \n2019-04-29  293.510010  294.450012  293.410004  293.869995  272.013550   \n\n              Volume  \nDate                  \n2019-04-23  52246600  \n2019-04-24  50392900  \n2019-04-25  57770900  \n2019-04-26  50916400  \n2019-04-29  57197700  ",
      "text/html": "<div>\n<style scoped>\n    .dataframe tbody tr th:only-of-type {\n        vertical-align: middle;\n    }\n\n    .dataframe tbody tr th {\n        vertical-align: top;\n    }\n\n    .dataframe thead th {\n        text-align: right;\n    }\n</style>\n<table border=\"1\" class=\"dataframe\">\n  <thead>\n    <tr style=\"text-align: right;\">\n      <th></th>\n      <th>Open</th>\n      <th>High</th>\n      <th>Low</th>\n      <th>Close</th>\n      <th>Adj Close</th>\n      <th>Volume</th>\n    </tr>\n    <tr>\n      <th>Date</th>\n      <th></th>\n      <th></th>\n      <th></th>\n      <th></th>\n      <th></th>\n      <th></th>\n    </tr>\n  </thead>\n  <tbody>\n    <tr>\n      <th>2019-04-23</th>\n      <td>290.679993</td>\n      <td>293.140015</td>\n      <td>290.420013</td>\n      <td>292.880005</td>\n      <td>271.097229</td>\n      <td>52246600</td>\n    </tr>\n    <tr>\n      <th>2019-04-24</th>\n      <td>292.790009</td>\n      <td>293.160004</td>\n      <td>292.070007</td>\n      <td>292.230011</td>\n      <td>270.495636</td>\n      <td>50392900</td>\n    </tr>\n    <tr>\n      <th>2019-04-25</th>\n      <td>292.119995</td>\n      <td>292.779999</td>\n      <td>290.730011</td>\n      <td>292.049988</td>\n      <td>270.328979</td>\n      <td>57770900</td>\n    </tr>\n    <tr>\n      <th>2019-04-26</th>\n      <td>292.100006</td>\n      <td>293.489990</td>\n      <td>291.239990</td>\n      <td>293.410004</td>\n      <td>271.587830</td>\n      <td>50916400</td>\n    </tr>\n    <tr>\n      <th>2019-04-29</th>\n      <td>293.510010</td>\n      <td>294.450012</td>\n      <td>293.410004</td>\n      <td>293.869995</td>\n      <td>272.013550</td>\n      <td>57197700</td>\n    </tr>\n  </tbody>\n</table>\n</div>"
     },
     "execution_count": 43,
     "metadata": {},
     "output_type": "execute_result"
    }
   ],
   "source": [
    "# auto_adjust = False\n",
    "data.tail()"
   ]
  },
  {
   "cell_type": "code",
   "execution_count": 43,
   "metadata": {
    "ExecuteTime": {
     "end_time": "2024-01-10T17:01:46.290225Z",
     "start_time": "2024-01-10T17:01:46.258293Z"
    }
   },
   "outputs": [],
   "source": []
  },
  {
   "cell_type": "code",
   "execution_count": null,
   "outputs": [],
   "source": [],
   "metadata": {
    "collapsed": false
   }
  }
 ],
 "metadata": {
  "kernelspec": {
   "display_name": "Python 3",
   "language": "python",
   "name": "python3"
  },
  "language_info": {
   "codemirror_mode": {
    "name": "ipython",
    "version": 3
   },
   "file_extension": ".py",
   "mimetype": "text/x-python",
   "name": "python",
   "nbconvert_exporter": "python",
   "pygments_lexer": "ipython3",
   "version": "3.8.6"
  },
  "toc": {
   "base_numbering": 1,
   "nav_menu": {},
   "number_sections": true,
   "sideBar": true,
   "skip_h1_title": true,
   "title_cell": "Table of Contents",
   "title_sidebar": "Contents",
   "toc_cell": false,
   "toc_position": {},
   "toc_section_display": true,
   "toc_window_display": true
  }
 },
 "nbformat": 4,
 "nbformat_minor": 2
}
