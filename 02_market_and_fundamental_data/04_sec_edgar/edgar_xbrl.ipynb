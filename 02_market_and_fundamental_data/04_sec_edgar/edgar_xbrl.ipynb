{
 "cells": [
  {
   "cell_type": "markdown",
   "metadata": {},
   "source": [
    "# Working with filing data from the SEC's EDGAR service"
   ]
  },
  {
   "cell_type": "code",
   "execution_count": 21,
   "metadata": {
    "ExecuteTime": {
     "end_time": "2024-01-24T19:12:16.352852Z",
     "start_time": "2024-01-24T19:12:16.328551Z"
    }
   },
   "outputs": [],
   "source": [
    "import warnings\n",
    "warnings.filterwarnings('ignore')"
   ]
  },
  {
   "cell_type": "code",
   "execution_count": 22,
   "metadata": {
    "scrolled": true,
    "ExecuteTime": {
     "end_time": "2024-01-24T19:12:17.376624Z",
     "start_time": "2024-01-24T19:12:17.311135Z"
    }
   },
   "outputs": [],
   "source": [
    "%matplotlib inline\n",
    "\n",
    "from pathlib import Path\n",
    "from datetime import date\n",
    "import json\n",
    "from io import BytesIO\n",
    "from zipfile import ZipFile, BadZipFile\n",
    "from tqdm import tqdm\n",
    "import requests\n",
    "\n",
    "import pandas_datareader.data as web\n",
    "import pandas as pd\n",
    "\n",
    "from pprint import pprint\n",
    "\n",
    "import seaborn as sns\n",
    "import matplotlib.pyplot as plt\n",
    "import matplotlib.ticker as mticker"
   ]
  },
  {
   "cell_type": "code",
   "execution_count": 23,
   "metadata": {
    "scrolled": true,
    "ExecuteTime": {
     "end_time": "2024-01-24T19:12:20.986068Z",
     "start_time": "2024-01-24T19:12:20.979310Z"
    }
   },
   "outputs": [],
   "source": [
    "sns.set_style('whitegrid')"
   ]
  },
  {
   "cell_type": "code",
   "execution_count": 40,
   "metadata": {
    "ExecuteTime": {
     "end_time": "2024-01-24T19:37:10.456956Z",
     "start_time": "2024-01-24T19:37:10.360468Z"
    }
   },
   "outputs": [],
   "source": [
    "# store data in this directory since we won't use it in other chapters\n",
    "data_path = Path('data') # perhaps set to external harddrive to accomodate large amount of data\n",
    "if not data_path.exists():\n",
    "    data_path.mkdir()"
   ]
  },
  {
   "cell_type": "markdown",
   "metadata": {},
   "source": [
    "## Download FS & Notes Data"
   ]
  },
  {
   "cell_type": "markdown",
   "metadata": {},
   "source": [
    "The following code downloads and extracts all historical filings contained in the [Financial Statement and Notes](https://www.sec.gov/dera/data/financial-statement-and-notes-data-set.html) (FSN) datasets from Q1/2014 through Q3/2020. \n",
    "\n",
    "> The SEC has moved to a monthly cadence after Q3/2020; feel free to extend the code by creating the correpsonding file names (see linked website) and download those as well."
   ]
  },
  {
   "cell_type": "markdown",
   "metadata": {},
   "source": [
    "**Downloads over 40GB of data!**"
   ]
  },
  {
   "cell_type": "code",
   "execution_count": 36,
   "metadata": {
    "ExecuteTime": {
     "end_time": "2024-01-24T19:35:13.228781Z",
     "start_time": "2024-01-24T19:35:13.150769Z"
    }
   },
   "outputs": [],
   "source": [
    "SEC_URL = 'https://www.sec.gov/'\n",
    "FSN_PATH = 'files/dera/data/financial-statement-and-notes-data-sets/'"
   ]
  },
  {
   "cell_type": "code",
   "execution_count": 38,
   "metadata": {
    "ExecuteTime": {
     "end_time": "2024-01-24T19:35:22.542416Z",
     "start_time": "2024-01-24T19:35:22.398221Z"
    }
   },
   "outputs": [
    {
     "data": {
      "text/plain": "[(2014, 1),\n (2014, 2),\n (2014, 3),\n (2014, 4),\n (2015, 1),\n (2015, 2),\n (2015, 3),\n (2015, 4),\n (2016, 1),\n (2016, 2),\n (2016, 3),\n (2016, 4),\n (2017, 1),\n (2017, 2),\n (2017, 3),\n (2017, 4),\n (2018, 1),\n (2018, 2),\n (2018, 3),\n (2018, 4),\n (2019, 1),\n (2019, 2),\n (2019, 3),\n (2019, 4),\n (2020, 1),\n (2020, 2),\n (2020, 3),\n (2020, 4),\n (2021, 1),\n (2021, 2),\n (2021, 3),\n (2021, 4),\n (2022, 1),\n (2022, 2),\n (2022, 3),\n (2022, 4),\n (2023, 1),\n (2023, 2),\n (2023, 3),\n (2023, 4)]"
     },
     "execution_count": 38,
     "metadata": {},
     "output_type": "execute_result"
    }
   ],
   "source": [
    "filing_periods = [(d.year, d.quarter) for d in pd.date_range('2014', '2024-01-30', freq='Q')]\n",
    "filing_periods"
   ]
  },
  {
   "cell_type": "code",
   "execution_count": 46,
   "metadata": {
    "ExecuteTime": {
     "end_time": "2024-01-24T19:49:01.183284Z",
     "start_time": "2024-01-24T19:48:54.165414Z"
    }
   },
   "outputs": [
    {
     "name": "stderr",
     "output_type": "stream",
     "text": [
      "  0%|          | 0/40 [00:00<?, ?it/s]"
     ]
    },
    {
     "name": "stdout",
     "output_type": "stream",
     "text": [
      "https://www.sec.gov/files/dera/data/financial-statement-and-notes-data-sets/2014q1_notes.zip\n"
     ]
    },
    {
     "name": "stderr",
     "output_type": "stream",
     "text": [
      "  5%|▌         | 2/40 [00:01<00:17,  2.21it/s]"
     ]
    },
    {
     "name": "stdout",
     "output_type": "stream",
     "text": [
      "Failed to download: https://www.sec.gov/files/dera/data/financial-statement-and-notes-data-sets/2014q1_notes.zip, Status Code: 403\n",
      "https://www.sec.gov/files/dera/data/financial-statement-and-notes-data-sets/2014q2_notes.zip\n",
      "Failed to download: https://www.sec.gov/files/dera/data/financial-statement-and-notes-data-sets/2014q2_notes.zip, Status Code: 403\n",
      "https://www.sec.gov/files/dera/data/financial-statement-and-notes-data-sets/2014q3_notes.zip\n"
     ]
    },
    {
     "name": "stderr",
     "output_type": "stream",
     "text": [
      " 10%|█         | 4/40 [00:01<00:09,  3.87it/s]"
     ]
    },
    {
     "name": "stdout",
     "output_type": "stream",
     "text": [
      "Failed to download: https://www.sec.gov/files/dera/data/financial-statement-and-notes-data-sets/2014q3_notes.zip, Status Code: 403\n",
      "https://www.sec.gov/files/dera/data/financial-statement-and-notes-data-sets/2014q4_notes.zip\n",
      "Failed to download: https://www.sec.gov/files/dera/data/financial-statement-and-notes-data-sets/2014q4_notes.zip, Status Code: 403\n",
      "https://www.sec.gov/files/dera/data/financial-statement-and-notes-data-sets/2015q1_notes.zip\n"
     ]
    },
    {
     "name": "stderr",
     "output_type": "stream",
     "text": [
      " 15%|█▌        | 6/40 [00:01<00:07,  4.84it/s]"
     ]
    },
    {
     "name": "stdout",
     "output_type": "stream",
     "text": [
      "Failed to download: https://www.sec.gov/files/dera/data/financial-statement-and-notes-data-sets/2015q1_notes.zip, Status Code: 403\n",
      "https://www.sec.gov/files/dera/data/financial-statement-and-notes-data-sets/2015q2_notes.zip\n",
      "Failed to download: https://www.sec.gov/files/dera/data/financial-statement-and-notes-data-sets/2015q2_notes.zip, Status Code: 403\n",
      "https://www.sec.gov/files/dera/data/financial-statement-and-notes-data-sets/2015q3_notes.zip\n"
     ]
    },
    {
     "name": "stderr",
     "output_type": "stream",
     "text": [
      " 20%|██        | 8/40 [00:01<00:05,  5.49it/s]"
     ]
    },
    {
     "name": "stdout",
     "output_type": "stream",
     "text": [
      "Failed to download: https://www.sec.gov/files/dera/data/financial-statement-and-notes-data-sets/2015q3_notes.zip, Status Code: 403\n",
      "https://www.sec.gov/files/dera/data/financial-statement-and-notes-data-sets/2015q4_notes.zip\n",
      "Failed to download: https://www.sec.gov/files/dera/data/financial-statement-and-notes-data-sets/2015q4_notes.zip, Status Code: 403\n",
      "https://www.sec.gov/files/dera/data/financial-statement-and-notes-data-sets/2016q1_notes.zip\n"
     ]
    },
    {
     "name": "stderr",
     "output_type": "stream",
     "text": [
      " 25%|██▌       | 10/40 [00:02<00:04,  6.02it/s]"
     ]
    },
    {
     "name": "stdout",
     "output_type": "stream",
     "text": [
      "Failed to download: https://www.sec.gov/files/dera/data/financial-statement-and-notes-data-sets/2016q1_notes.zip, Status Code: 403\n",
      "https://www.sec.gov/files/dera/data/financial-statement-and-notes-data-sets/2016q2_notes.zip\n",
      "Failed to download: https://www.sec.gov/files/dera/data/financial-statement-and-notes-data-sets/2016q2_notes.zip, Status Code: 403\n",
      "https://www.sec.gov/files/dera/data/financial-statement-and-notes-data-sets/2016q3_notes.zip\n"
     ]
    },
    {
     "name": "stderr",
     "output_type": "stream",
     "text": [
      " 30%|███       | 12/40 [00:02<00:04,  6.58it/s]"
     ]
    },
    {
     "name": "stdout",
     "output_type": "stream",
     "text": [
      "Failed to download: https://www.sec.gov/files/dera/data/financial-statement-and-notes-data-sets/2016q3_notes.zip, Status Code: 403\n",
      "https://www.sec.gov/files/dera/data/financial-statement-and-notes-data-sets/2016q4_notes.zip\n",
      "Failed to download: https://www.sec.gov/files/dera/data/financial-statement-and-notes-data-sets/2016q4_notes.zip, Status Code: 403\n",
      "https://www.sec.gov/files/dera/data/financial-statement-and-notes-data-sets/2017q1_notes.zip\n"
     ]
    },
    {
     "name": "stderr",
     "output_type": "stream",
     "text": [
      " 35%|███▌      | 14/40 [00:02<00:03,  6.80it/s]"
     ]
    },
    {
     "name": "stdout",
     "output_type": "stream",
     "text": [
      "Failed to download: https://www.sec.gov/files/dera/data/financial-statement-and-notes-data-sets/2017q1_notes.zip, Status Code: 403\n",
      "https://www.sec.gov/files/dera/data/financial-statement-and-notes-data-sets/2017q2_notes.zip\n",
      "Failed to download: https://www.sec.gov/files/dera/data/financial-statement-and-notes-data-sets/2017q2_notes.zip, Status Code: 403\n",
      "https://www.sec.gov/files/dera/data/financial-statement-and-notes-data-sets/2017q3_notes.zip\n"
     ]
    },
    {
     "name": "stderr",
     "output_type": "stream",
     "text": [
      " 40%|████      | 16/40 [00:03<00:03,  6.70it/s]"
     ]
    },
    {
     "name": "stdout",
     "output_type": "stream",
     "text": [
      "Failed to download: https://www.sec.gov/files/dera/data/financial-statement-and-notes-data-sets/2017q3_notes.zip, Status Code: 403\n",
      "https://www.sec.gov/files/dera/data/financial-statement-and-notes-data-sets/2017q4_notes.zip\n",
      "Failed to download: https://www.sec.gov/files/dera/data/financial-statement-and-notes-data-sets/2017q4_notes.zip, Status Code: 403\n",
      "https://www.sec.gov/files/dera/data/financial-statement-and-notes-data-sets/2018q1_notes.zip\n"
     ]
    },
    {
     "name": "stderr",
     "output_type": "stream",
     "text": [
      " 45%|████▌     | 18/40 [00:03<00:03,  7.08it/s]"
     ]
    },
    {
     "name": "stdout",
     "output_type": "stream",
     "text": [
      "Failed to download: https://www.sec.gov/files/dera/data/financial-statement-and-notes-data-sets/2018q1_notes.zip, Status Code: 403\n",
      "https://www.sec.gov/files/dera/data/financial-statement-and-notes-data-sets/2018q2_notes.zip\n",
      "Failed to download: https://www.sec.gov/files/dera/data/financial-statement-and-notes-data-sets/2018q2_notes.zip, Status Code: 403\n",
      "https://www.sec.gov/files/dera/data/financial-statement-and-notes-data-sets/2018q3_notes.zip\n"
     ]
    },
    {
     "name": "stderr",
     "output_type": "stream",
     "text": [
      " 50%|█████     | 20/40 [00:03<00:02,  6.67it/s]"
     ]
    },
    {
     "name": "stdout",
     "output_type": "stream",
     "text": [
      "Failed to download: https://www.sec.gov/files/dera/data/financial-statement-and-notes-data-sets/2018q3_notes.zip, Status Code: 403\n",
      "https://www.sec.gov/files/dera/data/financial-statement-and-notes-data-sets/2018q4_notes.zip\n",
      "Failed to download: https://www.sec.gov/files/dera/data/financial-statement-and-notes-data-sets/2018q4_notes.zip, Status Code: 403\n",
      "https://www.sec.gov/files/dera/data/financial-statement-and-notes-data-sets/2019q1_notes.zip\n"
     ]
    },
    {
     "name": "stderr",
     "output_type": "stream",
     "text": [
      " 55%|█████▌    | 22/40 [00:04<00:02,  6.66it/s]"
     ]
    },
    {
     "name": "stdout",
     "output_type": "stream",
     "text": [
      "Failed to download: https://www.sec.gov/files/dera/data/financial-statement-and-notes-data-sets/2019q1_notes.zip, Status Code: 403\n",
      "https://www.sec.gov/files/dera/data/financial-statement-and-notes-data-sets/2019q2_notes.zip\n",
      "Failed to download: https://www.sec.gov/files/dera/data/financial-statement-and-notes-data-sets/2019q2_notes.zip, Status Code: 403\n",
      "https://www.sec.gov/files/dera/data/financial-statement-and-notes-data-sets/2019q3_notes.zip\n"
     ]
    },
    {
     "name": "stderr",
     "output_type": "stream",
     "text": [
      " 60%|██████    | 24/40 [00:04<00:02,  6.69it/s]"
     ]
    },
    {
     "name": "stdout",
     "output_type": "stream",
     "text": [
      "Failed to download: https://www.sec.gov/files/dera/data/financial-statement-and-notes-data-sets/2019q3_notes.zip, Status Code: 403\n",
      "https://www.sec.gov/files/dera/data/financial-statement-and-notes-data-sets/2019q4_notes.zip\n",
      "Failed to download: https://www.sec.gov/files/dera/data/financial-statement-and-notes-data-sets/2019q4_notes.zip, Status Code: 403\n",
      "https://www.sec.gov/files/dera/data/financial-statement-and-notes-data-sets/2020q1_notes.zip\n"
     ]
    },
    {
     "name": "stderr",
     "output_type": "stream",
     "text": [
      " 65%|██████▌   | 26/40 [00:04<00:02,  6.83it/s]"
     ]
    },
    {
     "name": "stdout",
     "output_type": "stream",
     "text": [
      "Failed to download: https://www.sec.gov/files/dera/data/financial-statement-and-notes-data-sets/2020q1_notes.zip, Status Code: 403\n",
      "https://www.sec.gov/files/dera/data/financial-statement-and-notes-data-sets/2020q2_notes.zip\n",
      "Failed to download: https://www.sec.gov/files/dera/data/financial-statement-and-notes-data-sets/2020q2_notes.zip, Status Code: 403\n",
      "https://www.sec.gov/files/dera/data/financial-statement-and-notes-data-sets/2020q3_notes.zip\n"
     ]
    },
    {
     "name": "stderr",
     "output_type": "stream",
     "text": [
      " 70%|███████   | 28/40 [00:04<00:01,  6.57it/s]"
     ]
    },
    {
     "name": "stdout",
     "output_type": "stream",
     "text": [
      "Failed to download: https://www.sec.gov/files/dera/data/financial-statement-and-notes-data-sets/2020q3_notes.zip, Status Code: 403\n",
      "https://www.sec.gov/files/dera/data/financial-statement-and-notes-data-sets/2020q4_notes.zip\n",
      "Failed to download: https://www.sec.gov/files/dera/data/financial-statement-and-notes-data-sets/2020q4_notes.zip, Status Code: 403\n",
      "https://www.sec.gov/files/dera/data/financial-statement-and-notes-data-sets/2021q1_notes.zip\n"
     ]
    },
    {
     "name": "stderr",
     "output_type": "stream",
     "text": [
      " 75%|███████▌  | 30/40 [00:05<00:01,  6.69it/s]"
     ]
    },
    {
     "name": "stdout",
     "output_type": "stream",
     "text": [
      "Failed to download: https://www.sec.gov/files/dera/data/financial-statement-and-notes-data-sets/2021q1_notes.zip, Status Code: 403\n",
      "https://www.sec.gov/files/dera/data/financial-statement-and-notes-data-sets/2021q2_notes.zip\n",
      "Failed to download: https://www.sec.gov/files/dera/data/financial-statement-and-notes-data-sets/2021q2_notes.zip, Status Code: 403\n",
      "https://www.sec.gov/files/dera/data/financial-statement-and-notes-data-sets/2021q3_notes.zip\n"
     ]
    },
    {
     "name": "stderr",
     "output_type": "stream",
     "text": [
      " 80%|████████  | 32/40 [00:05<00:01,  6.60it/s]"
     ]
    },
    {
     "name": "stdout",
     "output_type": "stream",
     "text": [
      "Failed to download: https://www.sec.gov/files/dera/data/financial-statement-and-notes-data-sets/2021q3_notes.zip, Status Code: 403\n",
      "https://www.sec.gov/files/dera/data/financial-statement-and-notes-data-sets/2021q4_notes.zip\n",
      "Failed to download: https://www.sec.gov/files/dera/data/financial-statement-and-notes-data-sets/2021q4_notes.zip, Status Code: 403\n",
      "https://www.sec.gov/files/dera/data/financial-statement-and-notes-data-sets/2022q1_notes.zip\n"
     ]
    },
    {
     "name": "stderr",
     "output_type": "stream",
     "text": [
      " 85%|████████▌ | 34/40 [00:05<00:00,  6.78it/s]"
     ]
    },
    {
     "name": "stdout",
     "output_type": "stream",
     "text": [
      "Failed to download: https://www.sec.gov/files/dera/data/financial-statement-and-notes-data-sets/2022q1_notes.zip, Status Code: 403\n",
      "https://www.sec.gov/files/dera/data/financial-statement-and-notes-data-sets/2022q2_notes.zip\n",
      "Failed to download: https://www.sec.gov/files/dera/data/financial-statement-and-notes-data-sets/2022q2_notes.zip, Status Code: 403\n",
      "https://www.sec.gov/files/dera/data/financial-statement-and-notes-data-sets/2022q3_notes.zip\n"
     ]
    },
    {
     "name": "stderr",
     "output_type": "stream",
     "text": [
      " 90%|█████████ | 36/40 [00:06<00:00,  6.85it/s]"
     ]
    },
    {
     "name": "stdout",
     "output_type": "stream",
     "text": [
      "Failed to download: https://www.sec.gov/files/dera/data/financial-statement-and-notes-data-sets/2022q3_notes.zip, Status Code: 403\n",
      "https://www.sec.gov/files/dera/data/financial-statement-and-notes-data-sets/2022q4_notes.zip\n",
      "Failed to download: https://www.sec.gov/files/dera/data/financial-statement-and-notes-data-sets/2022q4_notes.zip, Status Code: 403\n",
      "https://www.sec.gov/files/dera/data/financial-statement-and-notes-data-sets/2023q1_notes.zip\n"
     ]
    },
    {
     "name": "stderr",
     "output_type": "stream",
     "text": [
      " 92%|█████████▎| 37/40 [00:06<00:00,  6.34it/s]"
     ]
    },
    {
     "name": "stdout",
     "output_type": "stream",
     "text": [
      "Failed to download: https://www.sec.gov/files/dera/data/financial-statement-and-notes-data-sets/2023q1_notes.zip, Status Code: 403\n",
      "https://www.sec.gov/files/dera/data/financial-statement-and-notes-data-sets/2023q2_notes.zip\n"
     ]
    },
    {
     "name": "stderr",
     "output_type": "stream",
     "text": [
      " 98%|█████████▊| 39/40 [00:06<00:00,  6.13it/s]"
     ]
    },
    {
     "name": "stdout",
     "output_type": "stream",
     "text": [
      "Failed to download: https://www.sec.gov/files/dera/data/financial-statement-and-notes-data-sets/2023q2_notes.zip, Status Code: 403\n",
      "https://www.sec.gov/files/dera/data/financial-statement-and-notes-data-sets/2023q3_notes.zip\n",
      "Failed to download: https://www.sec.gov/files/dera/data/financial-statement-and-notes-data-sets/2023q3_notes.zip, Status Code: 403\n",
      "https://www.sec.gov/files/dera/data/financial-statement-and-notes-data-sets/2023q4_notes.zip\n"
     ]
    },
    {
     "name": "stderr",
     "output_type": "stream",
     "text": [
      "100%|██████████| 40/40 [00:06<00:00,  5.90it/s]"
     ]
    },
    {
     "name": "stdout",
     "output_type": "stream",
     "text": [
      "Failed to download: https://www.sec.gov/files/dera/data/financial-statement-and-notes-data-sets/2023q4_notes.zip, Status Code: 403\n"
     ]
    },
    {
     "name": "stderr",
     "output_type": "stream",
     "text": [
      "\n"
     ]
    }
   ],
   "source": [
    "from requests.exceptions import RequestException\n",
    "from zipfile import BadZipFile, ZipFile\n",
    "from io import BytesIO\n",
    "\n",
    "for yr, qtr in tqdm(filing_periods):\n",
    "    # set (and create) directory\n",
    "    path = data_path / f'{yr}_{qtr}' / 'source'\n",
    "    if not path.exists():\n",
    "        path.mkdir(parents=True)\n",
    "    \n",
    "    # define url and get file\n",
    "    filing = f'{yr}q{qtr}_notes.zip'\n",
    "    url = SEC_URL + FSN_PATH + filing\n",
    "    \n",
    "    try:\n",
    "        response = requests.get(url)\n",
    "        if response.status_code != 200:\n",
    "            print(f\"Failed to download: {url}, Status Code: {response.status_code}\")\n",
    "            continue\n",
    "\n",
    "        # decompress and save\n",
    "        with ZipFile(BytesIO(response.content)) as zip_file:\n",
    "            for file in zip_file.namelist():\n",
    "                local_file = path / file\n",
    "                if local_file.exists():\n",
    "                    continue\n",
    "                with local_file.open('wb') as output:\n",
    "                    for line in zip_file.open(file).readlines():\n",
    "                        output.write(line)\n",
    "\n",
    "    except RequestException as e:\n",
    "        print(f\"Request failed: {e}\")\n",
    "    except BadZipFile:\n",
    "        print(f'\\nBad zip file: {yr} {qtr}\\n')\n"
   ]
  },
  {
   "cell_type": "markdown",
   "metadata": {},
   "source": [
    "## Save to parquet"
   ]
  },
  {
   "cell_type": "markdown",
   "metadata": {},
   "source": [
    "The data is fairly large and to enable faster access than the original text files permit, it is better to convert the text files to binary, columnar parquet format (see Section 'Efficient data storage with pandas' in chapter 2 for a performance comparison of various data-storage options compatible with pandas DataFrames):"
   ]
  },
  {
   "cell_type": "markdown",
   "metadata": {},
   "source": [
    "> Some fo the `txt.tsv` source files contain a small number of faulty lines; the code below drops those lines but indicates the line numbers where you can find the errors if you would like to investigate further. "
   ]
  },
  {
   "cell_type": "code",
   "outputs": [
    {
     "name": "stdout",
     "output_type": "stream",
     "text": [
      "[PosixPath('data/2014_2/source/2014q2_notes/ren.tsv'), PosixPath('data/2014_2/source/2014q2_notes/pre.tsv'), PosixPath('data/2014_2/source/2014q2_notes/sub.tsv'), PosixPath('data/2014_2/source/2014q2_notes/txt.tsv'), PosixPath('data/2014_2/source/2014q2_notes/cal.tsv'), PosixPath('data/2014_2/source/2014q2_notes/tag.tsv'), PosixPath('data/2014_2/source/2014q2_notes/dim.tsv'), PosixPath('data/2014_2/source/2014q2_notes/num.tsv'), PosixPath('data/2014_1/source/2014q1_notes/ren.tsv'), PosixPath('data/2014_1/source/2014q1_notes/pre.tsv'), PosixPath('data/2014_1/source/2014q1_notes/sub.tsv'), PosixPath('data/2014_1/source/2014q1_notes/txt.tsv'), PosixPath('data/2014_1/source/2014q1_notes/cal.tsv'), PosixPath('data/2014_1/source/2014q1_notes/tag.tsv'), PosixPath('data/2014_1/source/2014q1_notes/dim.tsv'), PosixPath('data/2014_1/source/2014q1_notes/num.tsv'), PosixPath('data/2018_3/source/2018q3_notes/ren.tsv'), PosixPath('data/2018_3/source/2018q3_notes/pre.tsv'), PosixPath('data/2018_3/source/2018q3_notes/sub.tsv'), PosixPath('data/2018_3/source/2018q3_notes/txt.tsv'), PosixPath('data/2018_3/source/2018q3_notes/cal.tsv'), PosixPath('data/2018_3/source/2018q3_notes/tag.tsv'), PosixPath('data/2018_3/source/2018q3_notes/dim.tsv'), PosixPath('data/2018_3/source/2018q3_notes/num.tsv')]\n"
     ]
    }
   ],
   "source": [
    "from pathlib import Path\n",
    "tsv_files = list(data_path.glob('**/*.tsv'))\n",
    "print(tsv_files)  # Check if this list is empty\n"
   ],
   "metadata": {
    "collapsed": false,
    "ExecuteTime": {
     "end_time": "2024-01-24T19:50:50.150436Z",
     "start_time": "2024-01-24T19:50:50.036328Z"
    }
   },
   "execution_count": 47
  },
  {
   "cell_type": "code",
   "execution_count": 52,
   "metadata": {
    "scrolled": true,
    "ExecuteTime": {
     "end_time": "2024-01-24T20:03:52.296100Z",
     "start_time": "2024-01-24T19:54:49.578838Z"
    }
   },
   "outputs": [
    {
     "name": "stderr",
     "output_type": "stream",
     "text": [
      "100%|██████████| 24/24 [09:02<00:00, 22.59s/it]\n"
     ]
    }
   ],
   "source": [
    "for f in tqdm(sorted(list(data_path.glob('**/*.tsv')))):\n",
    "    # set (and create) directory\n",
    "    parquet_path = f.parent.parent / 'parquet'\n",
    "    if not parquet_path.exists():\n",
    "        parquet_path.mkdir(parents=True)    \n",
    "\n",
    "    # write content to .parquet\n",
    "    file_name = f.stem  + '.parquet'\n",
    "    if not (parquet_path / file_name).exists():\n",
    "        try:\n",
    "            df = pd.read_csv(f, sep='\\t', encoding='latin1', low_memory=False, on_bad_lines='skip')\n",
    "            df.to_parquet(parquet_path / file_name)\n",
    "        except Exception as e:\n",
    "            print(e, ' | ', f)\n",
    "        # optional: uncomment to delete original .tsv\n",
    "    #else:\n",
    "     #   f.unlink"
   ]
  },
  {
   "cell_type": "markdown",
   "metadata": {},
   "source": [
    "## Metadata json"
   ]
  },
  {
   "cell_type": "code",
   "execution_count": 54,
   "metadata": {
    "scrolled": true,
    "ExecuteTime": {
     "end_time": "2024-01-24T20:06:02.576769Z",
     "start_time": "2024-01-24T20:06:01.890048Z"
    }
   },
   "outputs": [
    {
     "name": "stdout",
     "output_type": "stream",
     "text": [
      "{'@context': 'http://www.w3.org/ns/csvw',\n",
      " 'dialect': {'delimiter': '\\t', 'header': True, 'headerRowCount': 1},\n",
      " 'tables': [{'tableSchema': {'aboutUrl': 'readme.htm',\n",
      "                             'columns': [{'datatype': {'base': 'string',\n",
      "                                                       'maxLength': 20,\n",
      "                                                       'minLength': 20},\n",
      "                                          'dc:description': 'Accession Number. '\n",
      "                                                            'The 20-character '\n",
      "                                                            'string formed '\n",
      "                                                            'from the 18-digit '\n",
      "                                                            'number assigned '\n",
      "                                                            'by the Commission '\n",
      "                                                            'to each EDGAR '\n",
      "                                                            'submission.',\n",
      "                                          'name': 'adsh',\n",
      "                                          'required': 'true',\n",
      "                                          'titles': ['Accession Number']},\n",
      "                                         {'datatype': {'base': 'decimal',\n",
      "                                                       'maxLength': 10,\n",
      "                                                       'minInclusive': 0},\n",
      "                                          'dc:description': 'Central Index Key '\n",
      "                                                            '(CIK). Ten digit '\n",
      "                                                            'number assigned '\n",
      "                                                            'by the Commission '\n",
      "                                                            'to each '\n",
      "                                                            'registrant that '\n",
      "                                                            'submits filings.',\n",
      "                                          'name': 'cik',\n",
      "                                          'titles': ['Central Index Key']},\n",
      "                                         {'datatype': {'base': 'string',\n",
      "                                                       'maxLength': 150},\n",
      "                                          'dc:description': 'Name of '\n",
      "                                                            'registrant. This '\n",
      "                                                            'corresponds to '\n",
      "                                                            'the name of the '\n",
      "                                                            'legal entity as '\n",
      "                                                            'recorded in EDGAR '\n",
      "                                                            'as of the filing '\n",
      "                                                            'date.',\n",
      "                                          'name': 'name',\n",
      "                                          'titles': ['Registrant']},\n",
      "                                         {'datatype': {'base': 'string',\n",
      "                                                       'maxLength': 4},\n",
      "                                          'dc:description': 'Standard '\n",
      "                                                            'Industrial '\n",
      "                                                            'Classification '\n",
      "                                                            '(SIC). Four digit '\n",
      "                                                            'code assigned by '\n",
      "                                                            'the Commission as '\n",
      "                                                            'of the filing '\n",
      "                                                            'date, indicating '\n",
      "                                                            \"the registrant's \"\n",
      "                                                            'type of business.',\n",
      "                                          'name': 'sic',\n",
      "                                          'titles': ['Standard Industrial '\n",
      "                                                     'Classification Code']},\n",
      "                                         {'datatype': {'base': 'string',\n",
      "                                                       'maxLength': 2,\n",
      "                                                       'minLength': 2},\n",
      "                                          'dc:description': 'The ISO 3166-1 '\n",
      "                                                            'country of the '\n",
      "                                                            \"registrant's \"\n",
      "                                                            'business address.',\n",
      "                                          'name': 'countryba',\n",
      "                                          'titles': ['Business Address Country',\n",
      "                                                     'Country (B)']},\n",
      "                                         {'datatype': {'base': 'string',\n",
      "                                                       'maxLength': 2,\n",
      "                                                       'minLength': 2},\n",
      "                                          'dc:description': 'The state or '\n",
      "                                                            'province of the '\n",
      "                                                            \"registrant's \"\n",
      "                                                            'business address, '\n",
      "                                                            'if field '\n",
      "                                                            'countryba is US '\n",
      "                                                            'or CA.',\n",
      "                                          'name': 'stprba',\n",
      "                                          'titles': ['Business Address State '\n",
      "                                                     'or Province',\n",
      "                                                     'State (B)']},\n",
      "                                         {'datatype': {'base': 'string',\n",
      "                                                       'maxLength': 30},\n",
      "                                          'dc:description': 'The city of the '\n",
      "                                                            \"registrant's \"\n",
      "                                                            'business address.',\n",
      "                                          'name': 'cityba',\n",
      "                                          'titles': ['Business Address City',\n",
      "                                                     'City (B)']},\n",
      "                                         {'datatype': {'base': 'string',\n",
      "                                                       'maxLength': 10},\n",
      "                                          'dc:description': 'The zip code of '\n",
      "                                                            \"the registrant's \"\n",
      "                                                            'business address.',\n",
      "                                          'name': 'zipba',\n",
      "                                          'titles': ['Business Address Zip or '\n",
      "                                                     'Postal Code',\n",
      "                                                     'Zip (B)']},\n",
      "                                         {'datatype': {'base': 'string',\n",
      "                                                       'maxLength': 40},\n",
      "                                          'dc:description': 'The first line of '\n",
      "                                                            'the street of the '\n",
      "                                                            \"registrant's \"\n",
      "                                                            'business address.',\n",
      "                                          'name': 'bas1',\n",
      "                                          'titles': ['Business Address Street '\n",
      "                                                     '1',\n",
      "                                                     'Street1 (B)']},\n",
      "                                         {'datatype': {'base': 'string',\n",
      "                                                       'maxLength': 40},\n",
      "                                          'dc:description': 'The second line '\n",
      "                                                            'of the street of '\n",
      "                                                            \"the registrant's \"\n",
      "                                                            'business address.',\n",
      "                                          'name': 'bas2',\n",
      "                                          'titles': ['Business Address Street '\n",
      "                                                     '2',\n",
      "                                                     'Street2 (B)']},\n",
      "                                         {'datatype': {'base': 'string',\n",
      "                                                       'maxLength': 20},\n",
      "                                          'dc:description': 'The phone number '\n",
      "                                                            'of the '\n",
      "                                                            \"registrant's \"\n",
      "                                                            'business address.',\n",
      "                                          'name': 'baph',\n",
      "                                          'titles': ['Business Address Phone',\n",
      "                                                     'Phone (B)']},\n",
      "                                         {'datatype': {'base': 'string',\n",
      "                                                       'maxLength': 2,\n",
      "                                                       'minLength': 2},\n",
      "                                          'dc:description': 'The ISO 3166-1 '\n",
      "                                                            'country of the '\n",
      "                                                            \"registrant's \"\n",
      "                                                            'mailing address.',\n",
      "                                          'name': 'countryma',\n",
      "                                          'titles': ['Mailing Address Country',\n",
      "                                                     'Country (M)']},\n",
      "                                         {'datatype': {'base': 'string',\n",
      "                                                       'maxLength': 2,\n",
      "                                                       'minLength': 2},\n",
      "                                          'dc:description': 'The state or '\n",
      "                                                            'province of the '\n",
      "                                                            \"registrant's \"\n",
      "                                                            'mailing address, '\n",
      "                                                            'if field '\n",
      "                                                            'countryma is US '\n",
      "                                                            'or CA.',\n",
      "                                          'name': 'stprma',\n",
      "                                          'titles': ['Mailing Address State or '\n",
      "                                                     'Province',\n",
      "                                                     'State (M)']},\n",
      "                                         {'datatype': {'base': 'string',\n",
      "                                                       'maxLength': 30},\n",
      "                                          'dc:description': 'The city of the '\n",
      "                                                            \"registrant's \"\n",
      "                                                            'mailing address.',\n",
      "                                          'name': 'cityma',\n",
      "                                          'titles': ['Mailing Address City',\n",
      "                                                     'City (M)']},\n",
      "                                         {'datatype': {'base': 'string',\n",
      "                                                       'maxLength': 12},\n",
      "                                          'dc:description': 'The zip code of '\n",
      "                                                            \"the registrant's \"\n",
      "                                                            'mailing address.',\n",
      "                                          'name': 'zipma',\n",
      "                                          'titles': ['Mailing Address Zip or '\n",
      "                                                     'Postal Code',\n",
      "                                                     'Zip (M)']},\n",
      "                                         {'datatype': {'base': 'string',\n",
      "                                                       'maxLength': 40},\n",
      "                                          'dc:description': 'The first line of '\n",
      "                                                            'the street of the '\n",
      "                                                            \"registrant's \"\n",
      "                                                            'mailing address.',\n",
      "                                          'name': 'mas1',\n",
      "                                          'titles': ['Mailing Address Street1',\n",
      "                                                     'Street1 (M)']},\n",
      "                                         {'datatype': {'base': 'string',\n",
      "                                                       'maxLength': 40},\n",
      "                                          'dc:description': 'The second line '\n",
      "                                                            'of the street of '\n",
      "                                                            \"the registrant's \"\n",
      "                                                            'mailing address.',\n",
      "                                          'name': 'mas2',\n",
      "                                          'titles': ['Mailing Address Street2',\n",
      "                                                     'Street1 (M)']},\n",
      "                                         {'datatype': {'base': 'string',\n",
      "                                                       'maxLength': 2,\n",
      "                                                       'minLength': 2},\n",
      "                                          'dc:description': 'The country of '\n",
      "                                                            'incorporation for '\n",
      "                                                            'the registrant.',\n",
      "                                          'name': 'countryinc',\n",
      "                                          'titles': ['Country of Incorporation',\n",
      "                                                     'Incorporation Country']},\n",
      "                                         {'datatype': {'base': 'string',\n",
      "                                                       'maxLength': 2,\n",
      "                                                       'minLength': 2},\n",
      "                                          'dc:description': 'The state or '\n",
      "                                                            'province of '\n",
      "                                                            'incorporation for '\n",
      "                                                            'the registrant, '\n",
      "                                                            'if countryinc is '\n",
      "                                                            'US or CA, '\n",
      "                                                            'otherwise NULL.',\n",
      "                                          'name': 'stprinc',\n",
      "                                          'titles': ['State or Province of '\n",
      "                                                     'Incorporation',\n",
      "                                                     'Incorporation State']},\n",
      "                                         {'datatype': {'base': 'string',\n",
      "                                                       'maxLength': 9},\n",
      "                                          'dc:description': 'Employee '\n",
      "                                                            'Identification '\n",
      "                                                            'Number, 9 digit '\n",
      "                                                            'identification '\n",
      "                                                            'number assigned '\n",
      "                                                            'by the Internal '\n",
      "                                                            'Revenue Service '\n",
      "                                                            'to business '\n",
      "                                                            'entities '\n",
      "                                                            'operating in the '\n",
      "                                                            'United States.',\n",
      "                                          'name': 'ein',\n",
      "                                          'titles': ['EIN',\n",
      "                                                     'Employee Identification '\n",
      "                                                     'Number']},\n",
      "                                         {'datatype': {'base': 'string',\n",
      "                                                       'maxLength': 150},\n",
      "                                          'dc:description': 'Most recent '\n",
      "                                                            'former name of '\n",
      "                                                            'the registrant, '\n",
      "                                                            'if any.',\n",
      "                                          'name': 'former',\n",
      "                                          'titles': ['Former Name']},\n",
      "                                         {'datatype': {'base': 'string',\n",
      "                                                       'maxLength': 8,\n",
      "                                                       'minLength': 8},\n",
      "                                          'dc:description': 'Date of change '\n",
      "                                                            'from the former '\n",
      "                                                            'name, if any.',\n",
      "                                          'name': 'changed',\n",
      "                                          'titles': ['Date of Name Change']},\n",
      "                                         {'datatype': {'base': 'string',\n",
      "                                                       'maxLength': 5},\n",
      "                                          'dc:description': 'Filer status with '\n",
      "                                                            'the Commission at '\n",
      "                                                            'the time of '\n",
      "                                                            'submission: '\n",
      "                                                            '1-LAF=Large '\n",
      "                                                            'Accelerated, '\n",
      "                                                            '2-ACC=Accelerated, '\n",
      "                                                            '3-SRA=Smaller '\n",
      "                                                            'Reporting '\n",
      "                                                            'Accelerated, '\n",
      "                                                            '4-NON=Non-Accelerated, '\n",
      "                                                            '5-SML=Smaller '\n",
      "                                                            'Reporting Filer, '\n",
      "                                                            'NULL=not '\n",
      "                                                            'assigned.',\n",
      "                                          'name': 'afs',\n",
      "                                          'titles': ['Status',\n",
      "                                                     'Accelerated Filer '\n",
      "                                                     'Status']},\n",
      "                                         {'datatype': {'base': 'decimal',\n",
      "                                                       'maxInclusive': 1,\n",
      "                                                       'minInclusive': 0},\n",
      "                                          'dc:description': 'Well Known '\n",
      "                                                            'Seasoned Issuer '\n",
      "                                                            '(WKSI). An issuer '\n",
      "                                                            'that meets '\n",
      "                                                            'specific '\n",
      "                                                            'Commission '\n",
      "                                                            'requirements at '\n",
      "                                                            'some point during '\n",
      "                                                            'a 60-day period '\n",
      "                                                            'preceding the '\n",
      "                                                            'date the issuer '\n",
      "                                                            'satisfies its '\n",
      "                                                            'obligation to '\n",
      "                                                            'update its shelf '\n",
      "                                                            'registration '\n",
      "                                                            'statement.',\n",
      "                                          'name': 'wksi',\n",
      "                                          'titles': ['Well-known Seasoned '\n",
      "                                                     'Issuer']},\n",
      "                                         {'datatype': {'base': 'string',\n",
      "                                                       'maxLength': 4},\n",
      "                                          'dc:description': 'Fiscal Year End '\n",
      "                                                            'Date, rounded to '\n",
      "                                                            'nearest '\n",
      "                                                            'month-end.',\n",
      "                                          'name': 'fye',\n",
      "                                          'titles': ['FY End Date']},\n",
      "                                         {'datatype': {'base': 'string',\n",
      "                                                       'maxLength': 20},\n",
      "                                          'dc:description': 'The submission '\n",
      "                                                            'type of the '\n",
      "                                                            \"registrant's \"\n",
      "                                                            'filing.',\n",
      "                                          'name': 'form',\n",
      "                                          'titles': ['Submission Type',\n",
      "                                                     'Filing Type',\n",
      "                                                     'EDGAR Form Type']},\n",
      "                                         {'datatype': {'base': 'string',\n",
      "                                                       'maxLength': 8,\n",
      "                                                       'minLength': 8},\n",
      "                                          'dc:description': 'Balance Sheet '\n",
      "                                                            'Date.',\n",
      "                                          'name': 'period',\n",
      "                                          'titles': ['Report Period',\n",
      "                                                     'Date of Balance Sheet, '\n",
      "                                                     'rounded to nearest '\n",
      "                                                     'month-end']},\n",
      "                                         {'datatype': {'base': 'string',\n",
      "                                                       'maxLength': 4,\n",
      "                                                       'minLength': 4},\n",
      "                                          'dc:description': 'Fiscal Year Focus '\n",
      "                                                            '(as defined in '\n",
      "                                                            'EFM Ch. 6).',\n",
      "                                          'name': 'fy',\n",
      "                                          'titles': ['Fiscal Year']},\n",
      "                                         {'datatype': {'base': 'string',\n",
      "                                                       'maxLength': 2,\n",
      "                                                       'minLength': 2},\n",
      "                                          'dc:description': 'Fiscal Period '\n",
      "                                                            'Focus (as defined '\n",
      "                                                            'in EFM Ch. 6) '\n",
      "                                                            'within Fiscal '\n",
      "                                                            'Year. The 10-Q '\n",
      "                                                            'for the 1st, 2nd '\n",
      "                                                            'and 3rd quarters '\n",
      "                                                            'would have a '\n",
      "                                                            'fiscal period '\n",
      "                                                            'focus of Q1, Q2 '\n",
      "                                                            '(or H1), and Q3 '\n",
      "                                                            '(or M9) '\n",
      "                                                            'respectively, and '\n",
      "                                                            'a 10-K would have '\n",
      "                                                            'a fiscal period '\n",
      "                                                            'focus of FY.',\n",
      "                                          'name': 'fp',\n",
      "                                          'titles': ['Fiscal Period']},\n",
      "                                         {'datatype': {'base': 'string',\n",
      "                                                       'maxLength': 8},\n",
      "                                          'dc:description': 'The date of the '\n",
      "                                                            \"registrant's \"\n",
      "                                                            'filing with the '\n",
      "                                                            'Commission.',\n",
      "                                          'name': 'filed',\n",
      "                                          'titles': ['Date Filed']},\n",
      "                                         {'datatype': {'base': 'date',\n",
      "                                                       'format': 'YYYYMMDD '\n",
      "                                                                 'HH:MM:SS.S'},\n",
      "                                          'dc:description': 'The acceptance '\n",
      "                                                            'date and time of '\n",
      "                                                            \"the registrant's \"\n",
      "                                                            'filing with the '\n",
      "                                                            'Commission. '\n",
      "                                                            'Filings accepted '\n",
      "                                                            'after 5:30pm EST '\n",
      "                                                            'are considered '\n",
      "                                                            'filed on the '\n",
      "                                                            'following '\n",
      "                                                            'business day.',\n",
      "                                          'name': 'accepted',\n",
      "                                          'titles': ['Acceptance Datetime']},\n",
      "                                         {'datatype': {'base': 'decimal',\n",
      "                                                       'maxInclusive': 255,\n",
      "                                                       'minInclusive': 0},\n",
      "                                          'dc:description': 'Previous Report.  '\n",
      "                                                            'TRUE indicates '\n",
      "                                                            'that the '\n",
      "                                                            'submission '\n",
      "                                                            'information was '\n",
      "                                                            'subsequently '\n",
      "                                                            'amended prior to '\n",
      "                                                            'the end cutoff '\n",
      "                                                            'date of the data '\n",
      "                                                            'set.',\n",
      "                                          'name': 'prevrpt',\n",
      "                                          'required': 'true',\n",
      "                                          'titles': ['Previous Report Flag',\n",
      "                                                     'Subsequently Amended '\n",
      "                                                     'Flag']},\n",
      "                                         {'datatype': {'base': 'decimal',\n",
      "                                                       'maxInclusive': 255,\n",
      "                                                       'minInclusive': 0},\n",
      "                                          'dc:description': 'TRUE indicates '\n",
      "                                                            'that the XBRL '\n",
      "                                                            'submission '\n",
      "                                                            'contains '\n",
      "                                                            'quantitative '\n",
      "                                                            'disclosures '\n",
      "                                                            'within the '\n",
      "                                                            'footnotes and '\n",
      "                                                            'schedules at the '\n",
      "                                                            'required detail '\n",
      "                                                            'level (e.g., each '\n",
      "                                                            'amount).',\n",
      "                                          'name': 'detail',\n",
      "                                          'required': 'true',\n",
      "                                          'titles': ['Detail Tagged']},\n",
      "                                         {'datatype': {'base': 'string',\n",
      "                                                       'maxLength': 32},\n",
      "                                          'dc:description': 'The name of the '\n",
      "                                                            'submitted XBRL '\n",
      "                                                            'Instance Document '\n",
      "                                                            '(EX-101.INS) type '\n",
      "                                                            'data file. The '\n",
      "                                                            'name often begins '\n",
      "                                                            'with the company '\n",
      "                                                            'ticker symbol.',\n",
      "                                          'name': 'instance',\n",
      "                                          'titles': ['Instance Filename']},\n",
      "                                         {'datatype': {'base': 'decimal',\n",
      "                                                       'maxInclusive': 32767,\n",
      "                                                       'minInclusive': 0},\n",
      "                                          'dc:description': 'Number of Central '\n",
      "                                                            'Index Keys (CIK) '\n",
      "                                                            'of registrants '\n",
      "                                                            '(i.e., business '\n",
      "                                                            'units) included '\n",
      "                                                            'in the '\n",
      "                                                            'consolidating '\n",
      "                                                            \"entity's \"\n",
      "                                                            'submitted filing.',\n",
      "                                          'name': 'nciks',\n",
      "                                          'required': 'true',\n",
      "                                          'titles': ['Number of '\n",
      "                                                     'Coregistrants']},\n",
      "                                         {'datatype': {'base': 'string',\n",
      "                                                       'maxLength': 120},\n",
      "                                          'dc:description': 'Additional CIKs '\n",
      "                                                            'of co-registrants '\n",
      "                                                            'included in a '\n",
      "                                                            'consolidating '\n",
      "                                                            \"entity's EDGAR \"\n",
      "                                                            'submission, '\n",
      "                                                            'separated by '\n",
      "                                                            'spaces. If there '\n",
      "                                                            'are no other '\n",
      "                                                            'co-registrants '\n",
      "                                                            '(i.e., nciks = '\n",
      "                                                            '1), the value of '\n",
      "                                                            'aciks is NULL. '\n",
      "                                                            'For a very small '\n",
      "                                                            'number of filers, '\n",
      "                                                            'the list of '\n",
      "                                                            'co-registrants is '\n",
      "                                                            'too long to fit '\n",
      "                                                            'in the field. '\n",
      "                                                            'Where this is the '\n",
      "                                                            'case, PARTIAL '\n",
      "                                                            'will appear at '\n",
      "                                                            'the end of the '\n",
      "                                                            'list indicating '\n",
      "                                                            'that not all '\n",
      "                                                            \"co-registrants' \"\n",
      "                                                            'CIKs are included '\n",
      "                                                            'in the field; '\n",
      "                                                            'users should '\n",
      "                                                            'refer to the '\n",
      "                                                            'complete '\n",
      "                                                            'submission file '\n",
      "                                                            'for all CIK '\n",
      "                                                            'information.',\n",
      "                                          'name': 'aciks',\n",
      "                                          'titles': ['Additional Coregistrant '\n",
      "                                                     'CIKs']},\n",
      "                                         {'datatype': {'base': 'decimal'},\n",
      "                                          'dc:description': 'Public float, in '\n",
      "                                                            'USD, if provided '\n",
      "                                                            'in this '\n",
      "                                                            'submission.',\n",
      "                                          'name': 'pubfloatusd',\n",
      "                                          'titles': ['Public Float']},\n",
      "                                         {'datatype': {'base': 'string',\n",
      "                                                       'maxLength': 8},\n",
      "                                          'dc:description': 'Date on which the '\n",
      "                                                            'public float was '\n",
      "                                                            'measured by the '\n",
      "                                                            'filer.',\n",
      "                                          'name': 'floatdate',\n",
      "                                          'titles': ['Public Float Measurement '\n",
      "                                                     'Date']},\n",
      "                                         {'datatype': {'base': 'string',\n",
      "                                                       'maxLength': 255},\n",
      "                                          'dc:description': 'If the public '\n",
      "                                                            'float value was '\n",
      "                                                            'computed by '\n",
      "                                                            'summing across '\n",
      "                                                            'several tagged '\n",
      "                                                            'values, this '\n",
      "                                                            'indicates the '\n",
      "                                                            'nature of the '\n",
      "                                                            'summation.',\n",
      "                                          'name': 'floataxis',\n",
      "                                          'titles': ['Public Float Axis']},\n",
      "                                         {'datatype': {'base': 'decimal',\n",
      "                                                       'maxInclusive': 255,\n",
      "                                                       'minInclusive': 0},\n",
      "                                          'dc:description': 'If the public '\n",
      "                                                            'float was '\n",
      "                                                            'computed, the '\n",
      "                                                            'number of terms '\n",
      "                                                            'in the summation.',\n",
      "                                          'name': 'floatmems',\n",
      "                                          'titles': ['Public Float Members']}],\n",
      "                             'primaryKey': 'adsh'},\n",
      "             'url': 'sub.tsv'},\n",
      "            {'tableSchema': {'aboutUrl': 'readme.htm',\n",
      "                             'columns': [{'datatype': {'base': 'string',\n",
      "                                                       'maxLength': 256},\n",
      "                                          'dc:description': 'The unique '\n",
      "                                                            'identifier (name) '\n",
      "                                                            'for a tag in a '\n",
      "                                                            'specific taxonomy '\n",
      "                                                            'release.',\n",
      "                                          'name': 'tag',\n",
      "                                          'required': 'true',\n",
      "                                          'titles': ['Localname']},\n",
      "                                         {'datatype': {'base': 'string',\n",
      "                                                       'maxLength': 20},\n",
      "                                          'dc:description': 'For a standard '\n",
      "                                                            'tag, an '\n",
      "                                                            'identifier for '\n",
      "                                                            'the taxonomy; '\n",
      "                                                            'otherwise the '\n",
      "                                                            'accession number '\n",
      "                                                            'where the tag was '\n",
      "                                                            'defined.',\n",
      "                                          'name': 'version',\n",
      "                                          'required': 'true',\n",
      "                                          'titles': ['Namespace', 'Taxonomy']},\n",
      "                                         {'datatype': {'base': 'decimal',\n",
      "                                                       'maxInclusive': 1,\n",
      "                                                       'minInclusive': 0},\n",
      "                                          'dc:description': '1 if tag is '\n",
      "                                                            'custom '\n",
      "                                                            '(version=adsh), 0 '\n",
      "                                                            'if it is '\n",
      "                                                            'standard. Note: '\n",
      "                                                            'This flag is '\n",
      "                                                            'technically '\n",
      "                                                            'redundant with '\n",
      "                                                            'the version and '\n",
      "                                                            'adsh fields.',\n",
      "                                          'name': 'custom',\n",
      "                                          'required': 'true',\n",
      "                                          'titles': []},\n",
      "                                         {'datatype': {'base': 'decimal',\n",
      "                                                       'maxInclusive': 1,\n",
      "                                                       'minInclusive': 0},\n",
      "                                          'dc:description': '1 if the tag is '\n",
      "                                                            'not used to '\n",
      "                                                            'represent a '\n",
      "                                                            'numeric fact.',\n",
      "                                          'name': 'abstract',\n",
      "                                          'required': 'true',\n",
      "                                          'titles': []},\n",
      "                                         {'datatype': {'base': 'string',\n",
      "                                                       'maxLength': 20},\n",
      "                                          'dc:description': 'If abstract=1, '\n",
      "                                                            'then NULL, '\n",
      "                                                            'otherwise the '\n",
      "                                                            'data type (e.g., '\n",
      "                                                            'monetary) for the '\n",
      "                                                            'tag.',\n",
      "                                          'name': 'datatype',\n",
      "                                          'titles': []},\n",
      "                                         {'datatype': {'base': 'string',\n",
      "                                                       'maxLength': 1},\n",
      "                                          'dc:description': 'If abstract=1, '\n",
      "                                                            'then NULL; '\n",
      "                                                            'otherwise, I if '\n",
      "                                                            'the value is a '\n",
      "                                                            'point in time, or '\n",
      "                                                            'D if the value is '\n",
      "                                                            'a duration.',\n",
      "                                          'name': 'iord',\n",
      "                                          'titles': ['Instant or Duration']},\n",
      "                                         {'datatype': {'base': 'string',\n",
      "                                                       'maxLength': 1},\n",
      "                                          'dc:description': 'If datatype = '\n",
      "                                                            'monetary, then '\n",
      "                                                            \"the tag's natural \"\n",
      "                                                            'accounting '\n",
      "                                                            'balance from the '\n",
      "                                                            'perspective of '\n",
      "                                                            'the balance sheet '\n",
      "                                                            'or income '\n",
      "                                                            'statement (debit '\n",
      "                                                            'or credit); if '\n",
      "                                                            'not defined, then '\n",
      "                                                            'NULL.',\n",
      "                                          'name': 'crdr',\n",
      "                                          'titles': ['Credit or Debit']},\n",
      "                                         {'datatype': {'base': 'string',\n",
      "                                                       'maxLength': 512},\n",
      "                                          'dc:description': 'If a standard '\n",
      "                                                            'tag, then the '\n",
      "                                                            'label text '\n",
      "                                                            'provided by the '\n",
      "                                                            'taxonomy, '\n",
      "                                                            'otherwise the '\n",
      "                                                            'text provided by '\n",
      "                                                            'the filer. A tag '\n",
      "                                                            'which had neither '\n",
      "                                                            'would have a NULL '\n",
      "                                                            'value here.',\n",
      "                                          'name': 'tlabel',\n",
      "                                          'titles': ['Label']},\n",
      "                                         {'datatype': {'base': 'string'},\n",
      "                                          'dc:description': 'The detailed '\n",
      "                                                            'definition for '\n",
      "                                                            'the tag. If a '\n",
      "                                                            'standard tag, '\n",
      "                                                            'then the text '\n",
      "                                                            'provided by the '\n",
      "                                                            'taxonomy, '\n",
      "                                                            'otherwise the '\n",
      "                                                            'text assigned by '\n",
      "                                                            'the filer. Some '\n",
      "                                                            'tags have '\n",
      "                                                            'neither, in which '\n",
      "                                                            'case this field '\n",
      "                                                            'is NULL.',\n",
      "                                          'name': 'doc',\n",
      "                                          'titles': ['Documentation']}],\n",
      "                             'primaryKey': ['tag', 'version']},\n",
      "             'url': 'tag.tsv'},\n",
      "            {'tableSchema': {'aboutUrl': 'readme.htm',\n",
      "                             'columns': [{'datatype': {'base': 'string',\n",
      "                                                       'maxLength': 34},\n",
      "                                          'dc:description': 'MD5 hash of the '\n",
      "                                                            'segments field '\n",
      "                                                            'text. Although '\n",
      "                                                            'MD5 is unsuitable '\n",
      "                                                            'for cryptographic '\n",
      "                                                            'use, it is used '\n",
      "                                                            'here merely to '\n",
      "                                                            'limit the size of '\n",
      "                                                            'the primary key.',\n",
      "                                          'name': 'dimh',\n",
      "                                          'required': 'true',\n",
      "                                          'titles': ['Dimension Hash']},\n",
      "                                         {'datatype': {'base': 'string',\n",
      "                                                       'maxLength': 1024},\n",
      "                                          'dc:description': 'Concatenation of '\n",
      "                                                            'tag names '\n",
      "                                                            'representing the '\n",
      "                                                            'axis and members '\n",
      "                                                            'appearing in the '\n",
      "                                                            'XBRL segments. '\n",
      "                                                            'Tag names have '\n",
      "                                                            'their first '\n",
      "                                                            'characters '\n",
      "                                                            '\"Statement\", last '\n",
      "                                                            '4 characters '\n",
      "                                                            '\"Axis\", and last '\n",
      "                                                            '6 characters '\n",
      "                                                            '\"Member\" or '\n",
      "                                                            '\"Domain\" '\n",
      "                                                            'truncated where '\n",
      "                                                            'they appear. '\n",
      "                                                            'Namespaces and '\n",
      "                                                            'prefixes are '\n",
      "                                                            'ignored because '\n",
      "                                                            'EDGAR validation '\n",
      "                                                            'guarantees that '\n",
      "                                                            'the local-names '\n",
      "                                                            'are unique with a '\n",
      "                                                            'submission. Each '\n",
      "                                                            'dimension is '\n",
      "                                                            'represented as '\n",
      "                                                            'the pair '\n",
      "                                                            '\"{axis}={member};\" '\n",
      "                                                            'and the axes '\n",
      "                                                            'concatenated in '\n",
      "                                                            'lexical order. '\n",
      "                                                            'Example: '\n",
      "                                                            '\"LegalEntity=Xyz;Scenario=Restated;\" '\n",
      "                                                            'represents the '\n",
      "                                                            'XBRL segment with '\n",
      "                                                            'dimension '\n",
      "                                                            'LegalEntityAxis '\n",
      "                                                            'and member '\n",
      "                                                            'XyzMember, '\n",
      "                                                            'dimension '\n",
      "                                                            'StatementScenarioAxis '\n",
      "                                                            'and member '\n",
      "                                                            'RestatedMember.',\n",
      "                                          'name': 'segments',\n",
      "                                          'titles': []},\n",
      "                                         {'datatype': {'base': 'decimal',\n",
      "                                                       'maxInclusive': 1,\n",
      "                                                       'minInclusive': 0},\n",
      "                                          'dc:description': 'TRUE if the '\n",
      "                                                            'segments field '\n",
      "                                                            'would have been '\n",
      "                                                            'longer than 1024 '\n",
      "                                                            'characters had it '\n",
      "                                                            'not been '\n",
      "                                                            'truncated, else '\n",
      "                                                            'FALSE.',\n",
      "                                          'name': 'segt',\n",
      "                                          'required': 'true',\n",
      "                                          'titles': ['Segments Truncated']}],\n",
      "                             'primaryKey': 'dimh'},\n",
      "             'url': 'dim.tsv'},\n",
      "            {'tableSchema': {'aboutUrl': 'readme.htm',\n",
      "                             'columns': [{'datatype': {'base': 'string',\n",
      "                                                       'maxLength': 20,\n",
      "                                                       'minLength': 20},\n",
      "                                          'dc:description': 'Accession Number. '\n",
      "                                                            'The 20-character '\n",
      "                                                            'string formed '\n",
      "                                                            'from the 18-digit '\n",
      "                                                            'number assigned '\n",
      "                                                            'by the Commission '\n",
      "                                                            'to each EDGAR '\n",
      "                                                            'submission.',\n",
      "                                          'name': 'adsh',\n",
      "                                          'required': 'true',\n",
      "                                          'titles': ['Accession Number']},\n",
      "                                         {'datatype': {'base': 'string',\n",
      "                                                       'maxLength': 255},\n",
      "                                          'dc:description': 'The unique '\n",
      "                                                            'identifier (name) '\n",
      "                                                            'for a tag in a '\n",
      "                                                            'specific taxonomy '\n",
      "                                                            'release.',\n",
      "                                          'name': 'tag',\n",
      "                                          'required': 'true',\n",
      "                                          'titles': ['Localname']},\n",
      "                                         {'datatype': {'base': 'string',\n",
      "                                                       'maxLength': 20},\n",
      "                                          'dc:description': 'For a standard '\n",
      "                                                            'tag, an '\n",
      "                                                            'identifier for '\n",
      "                                                            'the taxonomy; '\n",
      "                                                            'otherwise the '\n",
      "                                                            'accession number '\n",
      "                                                            'where the tag was '\n",
      "                                                            'defined.',\n",
      "                                          'name': 'version',\n",
      "                                          'required': 'true',\n",
      "                                          'titles': ['Namespace']},\n",
      "                                         {'datatype': {'base': 'string',\n",
      "                                                       'maxLength': 8,\n",
      "                                                       'minLength': 8},\n",
      "                                          'dc:description': 'The end date for '\n",
      "                                                            'the data value, '\n",
      "                                                            'rounded to the '\n",
      "                                                            'nearest month '\n",
      "                                                            'end.',\n",
      "                                          'name': 'ddate',\n",
      "                                          'required': 'true',\n",
      "                                          'titles': ['Data Date']},\n",
      "                                         {'datatype': {'base': 'decimal',\n",
      "                                                       'minInclusive': 0},\n",
      "                                          'dc:description': 'The count of the '\n",
      "                                                            'number of '\n",
      "                                                            'quarters '\n",
      "                                                            'represented by '\n",
      "                                                            'the data value, '\n",
      "                                                            'rounded to the '\n",
      "                                                            'nearest whole '\n",
      "                                                            'number. \"0\" '\n",
      "                                                            'indicates it is a '\n",
      "                                                            'point-in-time '\n",
      "                                                            'value.',\n",
      "                                          'name': 'qtrs',\n",
      "                                          'required': 'true',\n",
      "                                          'titles': ['Quarters']},\n",
      "                                         {'datatype': {'base': 'string',\n",
      "                                                       'maxLength': 50},\n",
      "                                          'dc:description': 'The unit of '\n",
      "                                                            'measure for the '\n",
      "                                                            'value.',\n",
      "                                          'name': 'uom',\n",
      "                                          'required': 'true',\n",
      "                                          'titles': ['Unit of Measure']},\n",
      "                                         {'datatype': {'base': 'string',\n",
      "                                                       'maxLength': 34},\n",
      "                                          'dc:description': 'The 32-byte '\n",
      "                                                            'hexadecimal key '\n",
      "                                                            'for the '\n",
      "                                                            'dimensional '\n",
      "                                                            'information in '\n",
      "                                                            'the DIM data set.',\n",
      "                                          'name': 'dimh',\n",
      "                                          'titles': ['Dimension Hash']},\n",
      "                                         {'datatype': {'base': 'decimal',\n",
      "                                                       'maxInclusive': 32767,\n",
      "                                                       'minInclusive': 0},\n",
      "                                          'dc:description': 'A positive '\n",
      "                                                            'integer to '\n",
      "                                                            'distinguish '\n",
      "                                                            'different '\n",
      "                                                            'reported facts '\n",
      "                                                            'that otherwise '\n",
      "                                                            'would have the '\n",
      "                                                            'same primary key. '\n",
      "                                                            'For most '\n",
      "                                                            'purposes, data '\n",
      "                                                            'with iprx greater '\n",
      "                                                            'than 1 are not '\n",
      "                                                            'needed. The '\n",
      "                                                            'priority for the '\n",
      "                                                            'fact based on '\n",
      "                                                            'higher precision, '\n",
      "                                                            'closeness of the '\n",
      "                                                            'end date to a '\n",
      "                                                            'month end, and '\n",
      "                                                            'closeness of the '\n",
      "                                                            'duration to a '\n",
      "                                                            'multiple of three '\n",
      "                                                            'months. See '\n",
      "                                                            'fields dcml, durp '\n",
      "                                                            'and datp below.',\n",
      "                                          'name': 'iprx',\n",
      "                                          'titles': ['Fact Preference']},\n",
      "                                         {'datatype': {'base': 'decimal'},\n",
      "                                          'dc:description': 'The value. This '\n",
      "                                                            'is not scaled, it '\n",
      "                                                            'is as found in '\n",
      "                                                            'the Interactive '\n",
      "                                                            'Data file, but is '\n",
      "                                                            'rounded to four '\n",
      "                                                            'digits to the '\n",
      "                                                            'right of the '\n",
      "                                                            'decimal point.',\n",
      "                                          'name': 'value',\n",
      "                                          'titles': []},\n",
      "                                         {'datatype': {'base': 'string',\n",
      "                                                       'maxLength': 512},\n",
      "                                          'dc:description': 'The plain text of '\n",
      "                                                            'any superscripted '\n",
      "                                                            'footnotes on the '\n",
      "                                                            'value, if any, as '\n",
      "                                                            'shown on the '\n",
      "                                                            'statement page, '\n",
      "                                                            'truncated to 512 '\n",
      "                                                            'characters.',\n",
      "                                          'name': 'footnote',\n",
      "                                          'titles': ['Footnote Text']},\n",
      "                                         {'datatype': {'base': 'decimal',\n",
      "                                                       'minInclusive': 0},\n",
      "                                          'dc:description': 'Number of bytes '\n",
      "                                                            'in the plain text '\n",
      "                                                            'of the footnote '\n",
      "                                                            'prior to '\n",
      "                                                            'truncation; zero '\n",
      "                                                            'if no footnote.',\n",
      "                                          'name': 'footlen',\n",
      "                                          'required': 'true',\n",
      "                                          'titles': ['Footnote Length']},\n",
      "                                         {'datatype': {'base': 'decimal',\n",
      "                                                       'minInclusive': 0},\n",
      "                                          'dc:description': 'Small integer '\n",
      "                                                            'representing the '\n",
      "                                                            'number of '\n",
      "                                                            'dimensions. Note '\n",
      "                                                            'that this value '\n",
      "                                                            'is a function of '\n",
      "                                                            'the dimension '\n",
      "                                                            'segments.',\n",
      "                                          'name': 'dimn',\n",
      "                                          'required': 'true',\n",
      "                                          'titles': ['Number of Dimensions']},\n",
      "                                         {'datatype': {'base': 'string',\n",
      "                                                       'maxLength': 256},\n",
      "                                          'dc:description': 'If specified, '\n",
      "                                                            'indicates a '\n",
      "                                                            'specific '\n",
      "                                                            'co-registrant, '\n",
      "                                                            'the parent '\n",
      "                                                            'company, or other '\n",
      "                                                            'entity (e.g., '\n",
      "                                                            'guarantor). NULL '\n",
      "                                                            'indicates the '\n",
      "                                                            'consolidated '\n",
      "                                                            'entity. Note that '\n",
      "                                                            'this value is a '\n",
      "                                                            'function of the '\n",
      "                                                            'dimension '\n",
      "                                                            'segments.',\n",
      "                                          'name': 'coreg',\n",
      "                                          'titles': ['Coregistrant']},\n",
      "                                         {'datatype': {'base': 'decimal'},\n",
      "                                          'dc:description': 'The difference '\n",
      "                                                            'between the '\n",
      "                                                            'reported fact '\n",
      "                                                            'duration and the '\n",
      "                                                            'quarter duration '\n",
      "                                                            '(qtrs), expressed '\n",
      "                                                            'as a fraction of '\n",
      "                                                            '1. For example, a '\n",
      "                                                            'fact with '\n",
      "                                                            'duration of 120 '\n",
      "                                                            'days rounded to a '\n",
      "                                                            '91-day quarter '\n",
      "                                                            'has a durp value '\n",
      "                                                            'of 29/91 = '\n",
      "                                                            '+0.3187.',\n",
      "                                          'name': 'durp',\n",
      "                                          'titles': ['Duration Preference']},\n",
      "                                         {'datatype': {'base': 'decimal'},\n",
      "                                          'dc:description': 'The date '\n",
      "                                                            'proximity in '\n",
      "                                                            'number of days '\n",
      "                                                            'between end date '\n",
      "                                                            'reported and '\n",
      "                                                            'month-end rounded '\n",
      "                                                            'date.',\n",
      "                                          'name': 'datp',\n",
      "                                          'titles': ['Date Preference']},\n",
      "                                         {'datatype': {'base': 'decimal',\n",
      "                                                       'maxInclusive': 32767,\n",
      "                                                       'minInclusive': -32768},\n",
      "                                          'dc:description': 'The value of the '\n",
      "                                                            'fact \"decimals\" '\n",
      "                                                            'attribute, with '\n",
      "                                                            'INF represented '\n",
      "                                                            'by 32767.',\n",
      "                                          'name': 'dcml',\n",
      "                                          'titles': ['Decimals']}],\n",
      "                             'foreignKeys': [{'columnReference': 'adsh',\n",
      "                                              'reference': {'columnReference': 'adsh',\n",
      "                                                            'resource': 'sub.tsv'}},\n",
      "                                             {'columnReference': 'dimh',\n",
      "                                              'reference': {'columnReference': 'dimh',\n",
      "                                                            'resource': 'https://wwww.sec.gov/files2018q3.zip#path=dim.tsv'}},\n",
      "                                             {'columnReference': ['tag',\n",
      "                                                                  'version'],\n",
      "                                              'reference': {'columnReference': ['tag',\n",
      "                                                                                'version'],\n",
      "                                                            'resource': 'https://wwww.sec.gov/files2018q3.zip#path=tag.tsv'}}],\n",
      "                             'primaryKey': ['adsh',\n",
      "                                            'tag',\n",
      "                                            'version',\n",
      "                                            'ddate',\n",
      "                                            'qtrs',\n",
      "                                            'uom',\n",
      "                                            'dimh',\n",
      "                                            'iprx']},\n",
      "             'url': 'num.tsv'},\n",
      "            {'tableSchema': {'aboutUrl': 'readme.htm',\n",
      "                             'columns': [{'datatype': {'base': 'string',\n",
      "                                                       'maxLength': 20,\n",
      "                                                       'minLength': 20},\n",
      "                                          'dc:description': 'Accession Number. '\n",
      "                                                            'The 20-character '\n",
      "                                                            'string formed '\n",
      "                                                            'from the 18-digit '\n",
      "                                                            'number assigned '\n",
      "                                                            'by the Commission '\n",
      "                                                            'to each EDGAR '\n",
      "                                                            'submission.',\n",
      "                                          'name': 'adsh',\n",
      "                                          'required': 'true',\n",
      "                                          'titles': ['Accession number']},\n",
      "                                         {'datatype': {'base': 'string',\n",
      "                                                       'maxLength': 255},\n",
      "                                          'dc:description': 'The unique '\n",
      "                                                            'identifier (name) '\n",
      "                                                            'for a tag in a '\n",
      "                                                            'specific taxonomy '\n",
      "                                                            'release.',\n",
      "                                          'name': 'tag',\n",
      "                                          'required': 'true',\n",
      "                                          'titles': ['Localname']},\n",
      "                                         {'datatype': {'base': 'string',\n",
      "                                                       'maxLength': 20},\n",
      "                                          'dc:description': 'For a standard '\n",
      "                                                            'tag, an '\n",
      "                                                            'identifier for '\n",
      "                                                            'the taxonomy; '\n",
      "                                                            'otherwise the '\n",
      "                                                            'accession number '\n",
      "                                                            'where the tag was '\n",
      "                                                            'defined. For '\n",
      "                                                            'example, '\n",
      "                                                            '\"invest/2013\" '\n",
      "                                                            'indicates that '\n",
      "                                                            'the tag is '\n",
      "                                                            'defined in the '\n",
      "                                                            '2013 INVEST '\n",
      "                                                            'taxonomy.',\n",
      "                                          'name': 'version',\n",
      "                                          'required': 'true',\n",
      "                                          'titles': ['Namespace', 'Taxonomy']},\n",
      "                                         {'datatype': {'base': 'string',\n",
      "                                                       'maxLength': 8,\n",
      "                                                       'minLength': 8},\n",
      "                                          'dc:description': 'The end date for '\n",
      "                                                            'the data value, '\n",
      "                                                            'rounded to the '\n",
      "                                                            'nearest month '\n",
      "                                                            'end.',\n",
      "                                          'name': 'ddate',\n",
      "                                          'required': 'true',\n",
      "                                          'titles': ['Data Date']},\n",
      "                                         {'datatype': {'base': 'decimal',\n",
      "                                                       'minInclusive': 0},\n",
      "                                          'dc:description': 'The count of the '\n",
      "                                                            'number of '\n",
      "                                                            'quarters '\n",
      "                                                            'represented by '\n",
      "                                                            'the data value, '\n",
      "                                                            'rounded to the '\n",
      "                                                            'nearest whole '\n",
      "                                                            'number. A point '\n",
      "                                                            'in time value is '\n",
      "                                                            'represented by 0.',\n",
      "                                          'name': 'qtrs',\n",
      "                                          'required': 'true',\n",
      "                                          'titles': ['Quarters']},\n",
      "                                         {'datatype': {'base': 'decimal',\n",
      "                                                       'maxInclusive': 32767,\n",
      "                                                       'minInclusive': -32768},\n",
      "                                          'dc:description': 'A positive '\n",
      "                                                            'integer to '\n",
      "                                                            'distinguish '\n",
      "                                                            'different '\n",
      "                                                            'reported facts '\n",
      "                                                            'that otherwise '\n",
      "                                                            'would have the '\n",
      "                                                            'same primary key. '\n",
      "                                                            'For most '\n",
      "                                                            'purposes, data '\n",
      "                                                            'with iprx greater '\n",
      "                                                            'than 1 are not '\n",
      "                                                            'needed. The '\n",
      "                                                            'priority for the '\n",
      "                                                            'fact based on '\n",
      "                                                            'higher precision, '\n",
      "                                                            'closeness of the '\n",
      "                                                            'end date to a '\n",
      "                                                            'month end, and '\n",
      "                                                            'closeness of the '\n",
      "                                                            'duration to a '\n",
      "                                                            'multiple of three '\n",
      "                                                            'months. See '\n",
      "                                                            'fields dcml, durp '\n",
      "                                                            'and datp below.',\n",
      "                                          'name': 'iprx',\n",
      "                                          'titles': ['Fact Preference',\n",
      "                                                     'Preferred Fact Sort '\n",
      "                                                     'Key']},\n",
      "                                         {'datatype': {'base': 'string',\n",
      "                                                       'maxLength': 5},\n",
      "                                          'dc:description': 'The ISO language '\n",
      "                                                            'code of the fact '\n",
      "                                                            'content.',\n",
      "                                          'name': 'lang',\n",
      "                                          'titles': ['Language']},\n",
      "                                         {'datatype': {'base': 'decimal',\n",
      "                                                       'maxInclusive': 32767,\n",
      "                                                       'minInclusive': -32768},\n",
      "                                          'dc:description': 'The value of the '\n",
      "                                                            'fact \"xml:lang\" '\n",
      "                                                            'attribute, en-US '\n",
      "                                                            'represented by '\n",
      "                                                            '32767, other \"en\" '\n",
      "                                                            'dialects having '\n",
      "                                                            'lower values, and '\n",
      "                                                            'other languages '\n",
      "                                                            'lower still.',\n",
      "                                          'name': 'dcml',\n",
      "                                          'titles': ['Language Preference',\n",
      "                                                     'Language Sort Key']},\n",
      "                                         {'datatype': {'base': 'decimal'},\n",
      "                                          'dc:description': 'The difference '\n",
      "                                                            'between the '\n",
      "                                                            'reported fact '\n",
      "                                                            'duration and the '\n",
      "                                                            'quarter duration '\n",
      "                                                            '(qtrs), expressed '\n",
      "                                                            'as a fraction of '\n",
      "                                                            '1. For example, a '\n",
      "                                                            'fact with '\n",
      "                                                            'duration of 120 '\n",
      "                                                            'days rounded to a '\n",
      "                                                            '91-day quarter '\n",
      "                                                            'has a durp value '\n",
      "                                                            'of 29/91 = '\n",
      "                                                            '+0.3187.',\n",
      "                                          'name': 'durp',\n",
      "                                          'titles': ['Duration Preference']},\n",
      "                                         {'datatype': {'base': 'decimal'},\n",
      "                                          'dc:description': 'The date '\n",
      "                                                            'proximity in '\n",
      "                                                            'number of days '\n",
      "                                                            'between end date '\n",
      "                                                            'reported and '\n",
      "                                                            'month-end rounded '\n",
      "                                                            'date.',\n",
      "                                          'name': 'datp',\n",
      "                                          'titles': ['Date Preference']},\n",
      "                                         {'datatype': {'base': 'string',\n",
      "                                                       'maxLength': 34},\n",
      "                                          'dc:description': 'The 32-byte '\n",
      "                                                            'hexadecimal key '\n",
      "                                                            'for the '\n",
      "                                                            'dimensional '\n",
      "                                                            'information in '\n",
      "                                                            'the DIM data set.',\n",
      "                                          'name': 'dimh',\n",
      "                                          'titles': ['Dimension Hash']},\n",
      "                                         {'datatype': {'base': 'decimal',\n",
      "                                                       'minInclusive': 0},\n",
      "                                          'dc:description': 'Small integer '\n",
      "                                                            'representing the '\n",
      "                                                            'number of '\n",
      "                                                            'dimensions, '\n",
      "                                                            'useful for '\n",
      "                                                            'sorting. Note '\n",
      "                                                            'that this value '\n",
      "                                                            'is function of '\n",
      "                                                            'the dimension '\n",
      "                                                            'segments.',\n",
      "                                          'name': 'dimn',\n",
      "                                          'required': 'true',\n",
      "                                          'titles': ['Number of Dimensions']},\n",
      "                                         {'datatype': {'base': 'string',\n",
      "                                                       'maxLength': 256},\n",
      "                                          'dc:description': 'If specified, '\n",
      "                                                            'indicates a '\n",
      "                                                            'specific '\n",
      "                                                            'co-registrant, '\n",
      "                                                            'the parent '\n",
      "                                                            'company, or other '\n",
      "                                                            'entity (e.g., '\n",
      "                                                            'guarantor). NULL '\n",
      "                                                            'indicates the '\n",
      "                                                            'consolidated '\n",
      "                                                            'entity. Note that '\n",
      "                                                            'this value is a '\n",
      "                                                            'function of the '\n",
      "                                                            'dimension '\n",
      "                                                            'segments.',\n",
      "                                          'name': 'coreg',\n",
      "                                          'titles': ['Coregistrant']},\n",
      "                                         {'datatype': {'base': 'decimal',\n",
      "                                                       'maxInclusive': 1,\n",
      "                                                       'minInclusive': 0},\n",
      "                                          'dc:description': 'Flag indicating '\n",
      "                                                            'whether the value '\n",
      "                                                            'has had tags '\n",
      "                                                            'removed.',\n",
      "                                          'name': 'escaped',\n",
      "                                          'required': 'true',\n",
      "                                          'titles': []},\n",
      "                                         {'datatype': {'base': 'decimal',\n",
      "                                                       'minInclusive': 0},\n",
      "                                          'dc:description': 'Number of bytes '\n",
      "                                                            'in the original, '\n",
      "                                                            'unprocessed '\n",
      "                                                            'value. Zero '\n",
      "                                                            'indicates a NULL '\n",
      "                                                            'value.',\n",
      "                                          'name': 'srclen',\n",
      "                                          'required': 'true',\n",
      "                                          'titles': ['Source Length']},\n",
      "                                         {'datatype': {'base': 'decimal',\n",
      "                                                       'minInclusive': 0},\n",
      "                                          'dc:description': 'The original '\n",
      "                                                            'length of the '\n",
      "                                                            'whitespace '\n",
      "                                                            'normalized value, '\n",
      "                                                            'which may have '\n",
      "                                                            'been greater than '\n",
      "                                                            '8192.',\n",
      "                                          'name': 'txtlen',\n",
      "                                          'required': 'true',\n",
      "                                          'titles': ['Text Length']},\n",
      "                                         {'datatype': {'base': 'string',\n",
      "                                                       'maxLength': 512},\n",
      "                                          'dc:description': 'The plain text of '\n",
      "                                                            'any superscripted '\n",
      "                                                            'footnotes on the '\n",
      "                                                            'value, as shown '\n",
      "                                                            'on the page, '\n",
      "                                                            'truncated to 512 '\n",
      "                                                            'characters, or if '\n",
      "                                                            'there is no '\n",
      "                                                            'footnote, then '\n",
      "                                                            'this field will '\n",
      "                                                            'be blank.',\n",
      "                                          'name': 'footnote',\n",
      "                                          'titles': ['Footnote Text']},\n",
      "                                         {'datatype': {'base': 'decimal',\n",
      "                                                       'minInclusive': 0},\n",
      "                                          'dc:description': 'Number of bytes '\n",
      "                                                            'in the plain text '\n",
      "                                                            'of the footnote '\n",
      "                                                            'prior to '\n",
      "                                                            'truncation.',\n",
      "                                          'name': 'footlen',\n",
      "                                          'required': 'true',\n",
      "                                          'titles': ['Footnote Length']},\n",
      "                                         {'datatype': {'base': 'string',\n",
      "                                                       'maxLength': 255},\n",
      "                                          'dc:description': 'The value of the '\n",
      "                                                            'contextRef '\n",
      "                                                            'attribute in the '\n",
      "                                                            'source XBRL '\n",
      "                                                            'document, which '\n",
      "                                                            'can be used to '\n",
      "                                                            'recover the '\n",
      "                                                            'original HTML '\n",
      "                                                            'tagging if '\n",
      "                                                            'desired.',\n",
      "                                          'name': 'context',\n",
      "                                          'titles': ['Context Ref']},\n",
      "                                         {'datatype': {'base': 'string'},\n",
      "                                          'dc:description': 'The value, with '\n",
      "                                                            'all whitespace '\n",
      "                                                            'normalized, that '\n",
      "                                                            'is, all sequences '\n",
      "                                                            'of line feeds, '\n",
      "                                                            'carriage returns, '\n",
      "                                                            'tabs, '\n",
      "                                                            'non-breaking '\n",
      "                                                            'spaces, and '\n",
      "                                                            'spaces having '\n",
      "                                                            'been collapsed to '\n",
      "                                                            'a single space, '\n",
      "                                                            'and no leading or '\n",
      "                                                            'trailing spaces. '\n",
      "                                                            'Escaped XML that '\n",
      "                                                            'appears in EDGAR '\n",
      "                                                            '\"Text Block\" tags '\n",
      "                                                            'is processed to '\n",
      "                                                            'remove all '\n",
      "                                                            'mark-up '\n",
      "                                                            '(comments, '\n",
      "                                                            'processing '\n",
      "                                                            'instructions, '\n",
      "                                                            'elements, '\n",
      "                                                            'attributes). The '\n",
      "                                                            'resulting text is '\n",
      "                                                            'not intended for '\n",
      "                                                            'end user display '\n",
      "                                                            'but only for text '\n",
      "                                                            'analysis '\n",
      "                                                            'applications.',\n",
      "                                          'name': 'value',\n",
      "                                          'titles': []}],\n",
      "                             'foreignKeys': [{'columnReference': 'adsh',\n",
      "                                              'reference': {'columnReference': 'adsh',\n",
      "                                                            'resource': 'sub.tsv'}},\n",
      "                                             {'columnReference': 'dimh',\n",
      "                                              'reference': {'columnReference': 'dimh',\n",
      "                                                            'resource': 'https://wwww.sec.gov/files2018q3.zip#path=dim.tsv'}},\n",
      "                                             {'columnReference': ['tag',\n",
      "                                                                  'version'],\n",
      "                                              'reference': {'columnReference': ['tag',\n",
      "                                                                                'version'],\n",
      "                                                            'resource': 'https://wwww.sec.gov/files2018q3.zip#path=tag.tsv'}}],\n",
      "                             'primaryKey': ['adsh',\n",
      "                                            'tag',\n",
      "                                            'version',\n",
      "                                            'ddate',\n",
      "                                            'qtrs',\n",
      "                                            'dimh',\n",
      "                                            'iprx']},\n",
      "             'url': 'txt.tsv'},\n",
      "            {'tableSchema': {'aboutUrl': 'readme.htm',\n",
      "                             'columns': [{'datatype': {'base': 'string',\n",
      "                                                       'maxLength': 20,\n",
      "                                                       'minLength': 20},\n",
      "                                          'dc:description': 'Accession Number. '\n",
      "                                                            'The 20-character '\n",
      "                                                            'string formed '\n",
      "                                                            'from the 18-digit '\n",
      "                                                            'number assigned '\n",
      "                                                            'by the Commission '\n",
      "                                                            'to each EDGAR '\n",
      "                                                            'submission.',\n",
      "                                          'name': 'adsh',\n",
      "                                          'required': 'true',\n",
      "                                          'titles': ['Accession Number']},\n",
      "                                         {'datatype': {'base': 'decimal',\n",
      "                                                       'minInclusive': 0},\n",
      "                                          'dc:description': 'Represents the '\n",
      "                                                            'report grouping. '\n",
      "                                                            'The numeric value '\n",
      "                                                            'refers to the \"R '\n",
      "                                                            'file\" as computed '\n",
      "                                                            'by the renderer '\n",
      "                                                            'and posted on the '\n",
      "                                                            'EDGAR website. '\n",
      "                                                            'Note that in some '\n",
      "                                                            'situations the '\n",
      "                                                            'numbers skip.',\n",
      "                                          'name': 'report',\n",
      "                                          'required': 'true',\n",
      "                                          'titles': ['Report Number']},\n",
      "                                         {'datatype': {'base': 'string',\n",
      "                                                       'maxLength': 1},\n",
      "                                          'dc:description': 'The type of '\n",
      "                                                            'interactive data '\n",
      "                                                            'file rendered on '\n",
      "                                                            'the EDGAR '\n",
      "                                                            'website, H = .htm '\n",
      "                                                            'file, X = .xml '\n",
      "                                                            'file.',\n",
      "                                          'name': 'rfile',\n",
      "                                          'required': 'true',\n",
      "                                          'titles': ['Report File Type']},\n",
      "                                         {'datatype': {'base': 'string',\n",
      "                                                       'maxLength': 2},\n",
      "                                          'dc:description': 'If available, one '\n",
      "                                                            'of the menu '\n",
      "                                                            'categories as '\n",
      "                                                            'computed by the '\n",
      "                                                            'renderer: '\n",
      "                                                            'C=Cover, '\n",
      "                                                            'S=Statements, '\n",
      "                                                            'N=Notes, '\n",
      "                                                            'P=Policies, '\n",
      "                                                            'T=Tables, '\n",
      "                                                            'D=Details, '\n",
      "                                                            'O=Other, and '\n",
      "                                                            'U=Uncategorized.',\n",
      "                                          'name': 'menucat',\n",
      "                                          'titles': ['Menu Category']},\n",
      "                                         {'datatype': {'base': 'string',\n",
      "                                                       'maxLength': 512},\n",
      "                                          'dc:description': 'The portion of '\n",
      "                                                            'the long name '\n",
      "                                                            'used in the '\n",
      "                                                            'renderer menu.',\n",
      "                                          'name': 'shortname',\n",
      "                                          'titles': ['Short Name']},\n",
      "                                         {'datatype': {'base': 'string',\n",
      "                                                       'maxLength': 512},\n",
      "                                          'dc:description': 'The '\n",
      "                                                            'space-normalized '\n",
      "                                                            'text of the XBRL '\n",
      "                                                            'link \"definition\" '\n",
      "                                                            'element content.',\n",
      "                                          'name': 'longname',\n",
      "                                          'titles': ['Long Name']},\n",
      "                                         {'datatype': {'base': 'string',\n",
      "                                                       'maxLength': 255},\n",
      "                                          'dc:description': 'The XBRL '\n",
      "                                                            '\"roleuri\" of the '\n",
      "                                                            'role.',\n",
      "                                          'name': 'roleuri',\n",
      "                                          'titles': ['Role URI']},\n",
      "                                         {'datatype': {'base': 'string',\n",
      "                                                       'maxLength': 255},\n",
      "                                          'dc:description': 'The XBRL roleuri '\n",
      "                                                            'of a role for '\n",
      "                                                            'which this role '\n",
      "                                                            'has a matching '\n",
      "                                                            'shortname prefix '\n",
      "                                                            'and a higher '\n",
      "                                                            'level menu '\n",
      "                                                            'category, as '\n",
      "                                                            'computed by the '\n",
      "                                                            'renderer.',\n",
      "                                          'name': 'parentroleuri',\n",
      "                                          'titles': ['Parent Role URI']},\n",
      "                                         {'datatype': {'base': 'decimal',\n",
      "                                                       'minInclusive': 0},\n",
      "                                          'dc:description': 'The value of the '\n",
      "                                                            'report field for '\n",
      "                                                            'the role where '\n",
      "                                                            'roleuri equals '\n",
      "                                                            'this '\n",
      "                                                            'parentroleuri.',\n",
      "                                          'name': 'parentreport',\n",
      "                                          'titles': ['Parent Report']},\n",
      "                                         {'datatype': {'base': 'decimal',\n",
      "                                                       'maxInclusive': 32767,\n",
      "                                                       'minInclusive': 0},\n",
      "                                          'dc:description': 'The highest '\n",
      "                                                            'ancestor report '\n",
      "                                                            'reachable by '\n",
      "                                                            'following '\n",
      "                                                            'parentreport '\n",
      "                                                            'relationships. A '\n",
      "                                                            'note (menucat = '\n",
      "                                                            'N) is its own '\n",
      "                                                            'ultimate parent.',\n",
      "                                          'name': 'ultparentrpt',\n",
      "                                          'titles': ['Ultimate Parent']}],\n",
      "                             'foreignKeys': [{'columnReference': 'adsh',\n",
      "                                              'reference': {'columnReference': 'adsh',\n",
      "                                                            'resource': 'sub.tsv'}}],\n",
      "                             'primaryKey': ['adsh', 'report']},\n",
      "             'url': 'ren.tsv'},\n",
      "            {'tableSchema': {'aboutUrl': 'readme.htm',\n",
      "                             'columns': [{'datatype': {'base': 'string',\n",
      "                                                       'maxLength': 20,\n",
      "                                                       'minLength': 20},\n",
      "                                          'dc:description': 'Accession Number. '\n",
      "                                                            'The 20-character '\n",
      "                                                            'string formed '\n",
      "                                                            'from the 18-digit '\n",
      "                                                            'number assigned '\n",
      "                                                            'by the Commission '\n",
      "                                                            'to each EDGAR '\n",
      "                                                            'submission.',\n",
      "                                          'name': 'adsh',\n",
      "                                          'required': 'true',\n",
      "                                          'titles': ['Accession Number']},\n",
      "                                         {'datatype': {'base': 'decimal',\n",
      "                                                       'minInclusive': 0},\n",
      "                                          'dc:description': 'Represents the '\n",
      "                                                            'report grouping. '\n",
      "                                                            'The numeric value '\n",
      "                                                            'refers to the \"R '\n",
      "                                                            'file\" as computed '\n",
      "                                                            'by the renderer '\n",
      "                                                            'and posted on the '\n",
      "                                                            'EDGAR website. '\n",
      "                                                            'Note that in some '\n",
      "                                                            'situations the '\n",
      "                                                            'numbers skip.',\n",
      "                                          'name': 'report',\n",
      "                                          'required': 'true',\n",
      "                                          'titles': []},\n",
      "                                         {'datatype': {'base': 'decimal',\n",
      "                                                       'minInclusive': 0},\n",
      "                                          'dc:description': 'Represents the '\n",
      "                                                            \"tag's \"\n",
      "                                                            'presentation line '\n",
      "                                                            'order for a given '\n",
      "                                                            'report. Together '\n",
      "                                                            'with the '\n",
      "                                                            'statement and '\n",
      "                                                            'report field, '\n",
      "                                                            'presentation '\n",
      "                                                            'location, order '\n",
      "                                                            'and grouping can '\n",
      "                                                            'be derived.',\n",
      "                                          'name': 'line',\n",
      "                                          'required': 'true',\n",
      "                                          'titles': []},\n",
      "                                         {'datatype': {'base': 'string',\n",
      "                                                       'maxLength': 2},\n",
      "                                          'dc:description': 'The financial '\n",
      "                                                            'statement '\n",
      "                                                            'location to which '\n",
      "                                                            'the value of the '\n",
      "                                                            '\"report\" field '\n",
      "                                                            'pertains.',\n",
      "                                          'name': 'stmt',\n",
      "                                          'titles': ['Statement']},\n",
      "                                         {'datatype': {'base': 'decimal',\n",
      "                                                       'maxInclusive': 1,\n",
      "                                                       'minInclusive': 0},\n",
      "                                          'dc:description': '1 indicates that '\n",
      "                                                            'the value was '\n",
      "                                                            'presented '\n",
      "                                                            '\"parenthetically\" '\n",
      "                                                            'instead of in '\n",
      "                                                            'fields within the '\n",
      "                                                            'financial '\n",
      "                                                            'statements. For '\n",
      "                                                            'example: '\n",
      "                                                            'Receivables (net '\n",
      "                                                            'of allowance for '\n",
      "                                                            'bad debts of USD '\n",
      "                                                            '200 in 2012) USD '\n",
      "                                                            '700',\n",
      "                                          'name': 'inpth',\n",
      "                                          'required': 'true',\n",
      "                                          'titles': ['Parenthentical']},\n",
      "                                         {'datatype': {'base': 'string',\n",
      "                                                       'maxLength': 256},\n",
      "                                          'dc:description': 'The tag chosen by '\n",
      "                                                            'the filer for '\n",
      "                                                            'this line item.',\n",
      "                                          'name': 'tag',\n",
      "                                          'required': 'true',\n",
      "                                          'titles': ['Localname']},\n",
      "                                         {'datatype': {'base': 'string',\n",
      "                                                       'maxLength': 20},\n",
      "                                          'dc:description': 'The taxonomy '\n",
      "                                                            'identifier if the '\n",
      "                                                            'tag is a standard '\n",
      "                                                            'tag, otherwise '\n",
      "                                                            'adsh.',\n",
      "                                          'name': 'version',\n",
      "                                          'required': 'true',\n",
      "                                          'titles': ['Namespace', 'Taxonomy']},\n",
      "                                         {'datatype': {'base': 'string',\n",
      "                                                       'maxLength': 50},\n",
      "                                          'dc:description': 'The XBRL link '\n",
      "                                                            '\"role\" of the '\n",
      "                                                            'preferred label, '\n",
      "                                                            'using only the '\n",
      "                                                            'portion of the '\n",
      "                                                            'role URI after '\n",
      "                                                            'the last \"/\".',\n",
      "                                          'name': 'prole',\n",
      "                                          'titles': ['Preferred Role']},\n",
      "                                         {'datatype': {'base': 'string',\n",
      "                                                       'maxLength': 512},\n",
      "                                          'dc:description': 'The text '\n",
      "                                                            'presented on the '\n",
      "                                                            'line item, also '\n",
      "                                                            'known as a '\n",
      "                                                            '\"preferred\" '\n",
      "                                                            'label.',\n",
      "                                          'name': 'plabel',\n",
      "                                          'titles': ['Label']},\n",
      "                                         {'datatype': {'base': 'decimal',\n",
      "                                                       'maxInclusive': 1,\n",
      "                                                       'minInclusive': 0},\n",
      "                                          'dc:description': 'Flag to indicate '\n",
      "                                                            'whether the prole '\n",
      "                                                            'is treated as '\n",
      "                                                            'negating by the '\n",
      "                                                            'renderer.',\n",
      "                                          'name': 'negating',\n",
      "                                          'required': 'true',\n",
      "                                          'titles': []}],\n",
      "                             'foreignKeys': [{'columnReference': ['adsh',\n",
      "                                                                  'report'],\n",
      "                                              'reference': {'columnReference': ['adsh',\n",
      "                                                                                'report'],\n",
      "                                                            'resource': 'ren.tsv'}},\n",
      "                                             {'columnReference': ['tag',\n",
      "                                                                  'version'],\n",
      "                                              'reference': {'columnReference': ['tag',\n",
      "                                                                                'version'],\n",
      "                                                            'resource': 'tag.tsv'}}],\n",
      "                             'primaryKey': ['adsh', 'report', 'line']},\n",
      "             'url': 'pre.tsv'},\n",
      "            {'tableSchema': {'aboutUrl': 'readme.htm',\n",
      "                             'columns': [{'datatype': {'base': 'string',\n",
      "                                                       'maxLength': 20,\n",
      "                                                       'minLength': 20},\n",
      "                                          'dc:description': 'Accession Number. '\n",
      "                                                            'The 20-character '\n",
      "                                                            'string formed '\n",
      "                                                            'from the 18-digit '\n",
      "                                                            'number assigned '\n",
      "                                                            'by the Commission '\n",
      "                                                            'to each EDGAR '\n",
      "                                                            'submission.',\n",
      "                                          'name': 'adsh',\n",
      "                                          'required': 'true',\n",
      "                                          'titles': ['Accession Number']},\n",
      "                                         {'datatype': {'base': 'decimal',\n",
      "                                                       'maxInclusive': 255,\n",
      "                                                       'minInclusive': 0},\n",
      "                                          'dc:description': 'Sequential number '\n",
      "                                                            'for grouping arcs '\n",
      "                                                            'in a submission.',\n",
      "                                          'name': 'grp',\n",
      "                                          'required': 'true',\n",
      "                                          'titles': ['Group']},\n",
      "                                         {'datatype': {'base': 'decimal',\n",
      "                                                       'minInclusive': 255},\n",
      "                                          'dc:description': 'Sequential number '\n",
      "                                                            'for arcs within a '\n",
      "                                                            'group in a '\n",
      "                                                            'submission.',\n",
      "                                          'name': 'arc',\n",
      "                                          'required': 'true',\n",
      "                                          'titles': []},\n",
      "                                         {'datatype': {'base': 'decimal',\n",
      "                                                       'maxInclusive': 1,\n",
      "                                                       'minInclusive': 0},\n",
      "                                          'dc:description': 'Indicates a '\n",
      "                                                            'weight of -1 '\n",
      "                                                            '(TRUE if the arc '\n",
      "                                                            'is negative), but '\n",
      "                                                            'typically +1 '\n",
      "                                                            '(FALSE).',\n",
      "                                          'name': 'negative',\n",
      "                                          'required': 'true',\n",
      "                                          'titles': ['Negative Weight']},\n",
      "                                         {'datatype': {'base': 'string',\n",
      "                                                       'maxLength': 256},\n",
      "                                          'dc:description': 'The tag for the '\n",
      "                                                            'parent of the arc',\n",
      "                                          'name': 'ptag',\n",
      "                                          'required': 'true',\n",
      "                                          'titles': ['Parent Tag']},\n",
      "                                         {'datatype': {'base': 'string',\n",
      "                                                       'maxLength': 20},\n",
      "                                          'dc:description': 'The version of '\n",
      "                                                            'the tag for the '\n",
      "                                                            'parent of the arc',\n",
      "                                          'name': 'pversion',\n",
      "                                          'required': 'true',\n",
      "                                          'titles': ['Parent Namespace']},\n",
      "                                         {'datatype': {'base': 'string',\n",
      "                                                       'maxLength': 255},\n",
      "                                          'dc:description': 'The tag for the '\n",
      "                                                            'child of the arc',\n",
      "                                          'name': 'ctag',\n",
      "                                          'required': 'true',\n",
      "                                          'titles': ['Child Tag']},\n",
      "                                         {'datatype': {'base': 'string',\n",
      "                                                       'maxLength': 20},\n",
      "                                          'dc:description': 'The version of '\n",
      "                                                            'the tag for the '\n",
      "                                                            'child of the arc',\n",
      "                                          'name': 'cversion',\n",
      "                                          'required': 'true',\n",
      "                                          'titles': ['Child Namespace']}],\n",
      "                             'foreignKeys': [{'columnReference': 'adsh',\n",
      "                                              'reference': {'columnReference': 'adsh',\n",
      "                                                            'resource': 'sub.tsv'}},\n",
      "                                             {'columnReference': ['ptag',\n",
      "                                                                  'pversion'],\n",
      "                                              'reference': {'columnReference': ['tag',\n",
      "                                                                                'version'],\n",
      "                                                            'resource': 'tag.tsv'}},\n",
      "                                             {'columnReference': ['ctag',\n",
      "                                                                  'cversion'],\n",
      "                                              'reference': {'columnReference': ['tag',\n",
      "                                                                                'version'],\n",
      "                                                            'resource': 'tag.tsv'}}],\n",
      "                             'primaryKey': ['adsh', 'grp', 'arc']},\n",
      "             'url': 'cal.tsv'}]}\n"
     ]
    }
   ],
   "source": [
    "file = data_path / '2018_3' / 'source' / '2018q3_notes-metadata.json'\n",
    "with file.open() as f:\n",
    "    data = json.load(f)\n",
    "\n",
    "pprint(data)"
   ]
  },
  {
   "cell_type": "markdown",
   "metadata": {},
   "source": [
    "## Data Organization"
   ]
  },
  {
   "cell_type": "markdown",
   "metadata": {},
   "source": [
    "For each quarter, the FSN data is organized into eight file sets that contain information about submissions, numbers, taxonomy tags, presentation, and more. Each dataset consists of rows and fields and is provided as a tab-delimited text file:"
   ]
  },
  {
   "cell_type": "markdown",
   "metadata": {},
   "source": [
    "| File | Dataset      | Description                                                 |\n",
    "|------|--------------|-------------------------------------------------------------|\n",
    "| SUB  | Submission   | Identifies each XBRL submission by company, form, date, etc |\n",
    "| TAG  | Tag          | Defines and explains each taxonomy tag                      |\n",
    "| DIM  | Dimension    | Adds detail to numeric and plain text data                  |\n",
    "| NUM  | Numeric      | One row for each distinct data point in filing              |\n",
    "| TXT  | Plain Text   | Contains all non-numeric XBRL fields                        |\n",
    "| REN  | Rendering    | Information for rendering on SEC website                    |\n",
    "| PRE  | Presentation | Detail on tag and number presentation in primary statements |\n",
    "| CAL  | Calculation  | Shows arithmetic relationships among tags                   |"
   ]
  },
  {
   "cell_type": "markdown",
   "metadata": {},
   "source": [
    "## Submission Data"
   ]
  },
  {
   "cell_type": "markdown",
   "metadata": {},
   "source": [
    "The latest submission file contains around 6,500 entries."
   ]
  },
  {
   "cell_type": "code",
   "execution_count": 56,
   "metadata": {
    "ExecuteTime": {
     "end_time": "2024-01-24T20:07:35.533871Z",
     "start_time": "2024-01-24T20:07:34.036322Z"
    }
   },
   "outputs": [
    {
     "ename": "FileNotFoundError",
     "evalue": "[Errno 2] No such file or directory: 'data/2018_3/parquet/sub.parquet'",
     "output_type": "error",
     "traceback": [
      "\u001B[0;31m---------------------------------------------------------------------------\u001B[0m",
      "\u001B[0;31mFileNotFoundError\u001B[0m                         Traceback (most recent call last)",
      "Cell \u001B[0;32mIn[56], line 1\u001B[0m\n\u001B[0;32m----> 1\u001B[0m sub \u001B[38;5;241m=\u001B[39m pd\u001B[38;5;241m.\u001B[39mread_parquet(data_path \u001B[38;5;241m/\u001B[39m \u001B[38;5;124m'\u001B[39m\u001B[38;5;124m2018_3\u001B[39m\u001B[38;5;124m'\u001B[39m \u001B[38;5;241m/\u001B[39m \u001B[38;5;124m'\u001B[39m\u001B[38;5;124mparquet\u001B[39m\u001B[38;5;124m'\u001B[39m \u001B[38;5;241m/\u001B[39m \u001B[38;5;124m'\u001B[39m\u001B[38;5;124msub.parquet\u001B[39m\u001B[38;5;124m'\u001B[39m)\n\u001B[1;32m      2\u001B[0m sub\u001B[38;5;241m.\u001B[39minfo()\n",
      "File \u001B[0;32m~/anaconda3/lib/python3.11/site-packages/pandas/io/parquet.py:509\u001B[0m, in \u001B[0;36mread_parquet\u001B[0;34m(path, engine, columns, storage_options, use_nullable_dtypes, dtype_backend, **kwargs)\u001B[0m\n\u001B[1;32m    506\u001B[0m     use_nullable_dtypes \u001B[38;5;241m=\u001B[39m \u001B[38;5;28;01mFalse\u001B[39;00m\n\u001B[1;32m    507\u001B[0m check_dtype_backend(dtype_backend)\n\u001B[0;32m--> 509\u001B[0m \u001B[38;5;28;01mreturn\u001B[39;00m impl\u001B[38;5;241m.\u001B[39mread(\n\u001B[1;32m    510\u001B[0m     path,\n\u001B[1;32m    511\u001B[0m     columns\u001B[38;5;241m=\u001B[39mcolumns,\n\u001B[1;32m    512\u001B[0m     storage_options\u001B[38;5;241m=\u001B[39mstorage_options,\n\u001B[1;32m    513\u001B[0m     use_nullable_dtypes\u001B[38;5;241m=\u001B[39muse_nullable_dtypes,\n\u001B[1;32m    514\u001B[0m     dtype_backend\u001B[38;5;241m=\u001B[39mdtype_backend,\n\u001B[1;32m    515\u001B[0m     \u001B[38;5;241m*\u001B[39m\u001B[38;5;241m*\u001B[39mkwargs,\n\u001B[1;32m    516\u001B[0m )\n",
      "File \u001B[0;32m~/anaconda3/lib/python3.11/site-packages/pandas/io/parquet.py:220\u001B[0m, in \u001B[0;36mPyArrowImpl.read\u001B[0;34m(self, path, columns, use_nullable_dtypes, dtype_backend, storage_options, **kwargs)\u001B[0m\n\u001B[1;32m    217\u001B[0m \u001B[38;5;28;01mif\u001B[39;00m manager \u001B[38;5;241m==\u001B[39m \u001B[38;5;124m\"\u001B[39m\u001B[38;5;124marray\u001B[39m\u001B[38;5;124m\"\u001B[39m:\n\u001B[1;32m    218\u001B[0m     to_pandas_kwargs[\u001B[38;5;124m\"\u001B[39m\u001B[38;5;124msplit_blocks\u001B[39m\u001B[38;5;124m\"\u001B[39m] \u001B[38;5;241m=\u001B[39m \u001B[38;5;28;01mTrue\u001B[39;00m  \u001B[38;5;66;03m# type: ignore[assignment]\u001B[39;00m\n\u001B[0;32m--> 220\u001B[0m path_or_handle, handles, kwargs[\u001B[38;5;124m\"\u001B[39m\u001B[38;5;124mfilesystem\u001B[39m\u001B[38;5;124m\"\u001B[39m] \u001B[38;5;241m=\u001B[39m _get_path_or_handle(\n\u001B[1;32m    221\u001B[0m     path,\n\u001B[1;32m    222\u001B[0m     kwargs\u001B[38;5;241m.\u001B[39mpop(\u001B[38;5;124m\"\u001B[39m\u001B[38;5;124mfilesystem\u001B[39m\u001B[38;5;124m\"\u001B[39m, \u001B[38;5;28;01mNone\u001B[39;00m),\n\u001B[1;32m    223\u001B[0m     storage_options\u001B[38;5;241m=\u001B[39mstorage_options,\n\u001B[1;32m    224\u001B[0m     mode\u001B[38;5;241m=\u001B[39m\u001B[38;5;124m\"\u001B[39m\u001B[38;5;124mrb\u001B[39m\u001B[38;5;124m\"\u001B[39m,\n\u001B[1;32m    225\u001B[0m )\n\u001B[1;32m    226\u001B[0m \u001B[38;5;28;01mtry\u001B[39;00m:\n\u001B[1;32m    227\u001B[0m     pa_table \u001B[38;5;241m=\u001B[39m \u001B[38;5;28mself\u001B[39m\u001B[38;5;241m.\u001B[39mapi\u001B[38;5;241m.\u001B[39mparquet\u001B[38;5;241m.\u001B[39mread_table(\n\u001B[1;32m    228\u001B[0m         path_or_handle, columns\u001B[38;5;241m=\u001B[39mcolumns, \u001B[38;5;241m*\u001B[39m\u001B[38;5;241m*\u001B[39mkwargs\n\u001B[1;32m    229\u001B[0m     )\n",
      "File \u001B[0;32m~/anaconda3/lib/python3.11/site-packages/pandas/io/parquet.py:110\u001B[0m, in \u001B[0;36m_get_path_or_handle\u001B[0;34m(path, fs, storage_options, mode, is_dir)\u001B[0m\n\u001B[1;32m    100\u001B[0m handles \u001B[38;5;241m=\u001B[39m \u001B[38;5;28;01mNone\u001B[39;00m\n\u001B[1;32m    101\u001B[0m \u001B[38;5;28;01mif\u001B[39;00m (\n\u001B[1;32m    102\u001B[0m     \u001B[38;5;129;01mnot\u001B[39;00m fs\n\u001B[1;32m    103\u001B[0m     \u001B[38;5;129;01mand\u001B[39;00m \u001B[38;5;129;01mnot\u001B[39;00m is_dir\n\u001B[0;32m   (...)\u001B[0m\n\u001B[1;32m    108\u001B[0m     \u001B[38;5;66;03m# fsspec resources can also point to directories\u001B[39;00m\n\u001B[1;32m    109\u001B[0m     \u001B[38;5;66;03m# this branch is used for example when reading from non-fsspec URLs\u001B[39;00m\n\u001B[0;32m--> 110\u001B[0m     handles \u001B[38;5;241m=\u001B[39m get_handle(\n\u001B[1;32m    111\u001B[0m         path_or_handle, mode, is_text\u001B[38;5;241m=\u001B[39m\u001B[38;5;28;01mFalse\u001B[39;00m, storage_options\u001B[38;5;241m=\u001B[39mstorage_options\n\u001B[1;32m    112\u001B[0m     )\n\u001B[1;32m    113\u001B[0m     fs \u001B[38;5;241m=\u001B[39m \u001B[38;5;28;01mNone\u001B[39;00m\n\u001B[1;32m    114\u001B[0m     path_or_handle \u001B[38;5;241m=\u001B[39m handles\u001B[38;5;241m.\u001B[39mhandle\n",
      "File \u001B[0;32m~/anaconda3/lib/python3.11/site-packages/pandas/io/common.py:868\u001B[0m, in \u001B[0;36mget_handle\u001B[0;34m(path_or_buf, mode, encoding, compression, memory_map, is_text, errors, storage_options)\u001B[0m\n\u001B[1;32m    859\u001B[0m         handle \u001B[38;5;241m=\u001B[39m \u001B[38;5;28mopen\u001B[39m(\n\u001B[1;32m    860\u001B[0m             handle,\n\u001B[1;32m    861\u001B[0m             ioargs\u001B[38;5;241m.\u001B[39mmode,\n\u001B[0;32m   (...)\u001B[0m\n\u001B[1;32m    864\u001B[0m             newline\u001B[38;5;241m=\u001B[39m\u001B[38;5;124m\"\u001B[39m\u001B[38;5;124m\"\u001B[39m,\n\u001B[1;32m    865\u001B[0m         )\n\u001B[1;32m    866\u001B[0m     \u001B[38;5;28;01melse\u001B[39;00m:\n\u001B[1;32m    867\u001B[0m         \u001B[38;5;66;03m# Binary mode\u001B[39;00m\n\u001B[0;32m--> 868\u001B[0m         handle \u001B[38;5;241m=\u001B[39m \u001B[38;5;28mopen\u001B[39m(handle, ioargs\u001B[38;5;241m.\u001B[39mmode)\n\u001B[1;32m    869\u001B[0m     handles\u001B[38;5;241m.\u001B[39mappend(handle)\n\u001B[1;32m    871\u001B[0m \u001B[38;5;66;03m# Convert BytesIO or file objects passed with an encoding\u001B[39;00m\n",
      "\u001B[0;31mFileNotFoundError\u001B[0m: [Errno 2] No such file or directory: 'data/2018_3/parquet/sub.parquet'"
     ]
    }
   ],
   "source": [
    "sub = pd.read_parquet(data_path / '2018_3' / 'parquet' / 'sub.parquet')\n",
    "sub.info()"
   ]
  },
  {
   "cell_type": "markdown",
   "metadata": {},
   "source": [
    "### Get AAPL submission"
   ]
  },
  {
   "cell_type": "markdown",
   "metadata": {},
   "source": [
    "The submission dataset contains the unique identifiers required to retrieve the filings: the Central Index Key (CIK) and the Accession Number (adsh). The following shows some of the information about Apple's 2018Q1 10-Q filing:"
   ]
  },
  {
   "cell_type": "code",
   "execution_count": null,
   "metadata": {
    "scrolled": true,
    "ExecuteTime": {
     "start_time": "2024-01-24T19:00:59.790754Z"
    }
   },
   "outputs": [],
   "source": [
    "name = 'APPLE INC'\n",
    "apple = sub[sub.name == name].T.dropna().squeeze()\n",
    "key_cols = ['name', 'adsh', 'cik', 'name', 'sic', 'countryba', 'stprba',\n",
    "            'cityba', 'zipba', 'bas1', 'form', 'period', 'fy', 'fp', 'filed']\n",
    "apple.loc[key_cols]"
   ]
  },
  {
   "cell_type": "markdown",
   "metadata": {},
   "source": [
    "## Build AAPL fundamentals dataset"
   ]
  },
  {
   "cell_type": "markdown",
   "metadata": {},
   "source": [
    "Using the central index key, we can identify all historical quarterly filings available for Apple, and combine this information to obtain 26 Forms 10-Q and nine annual Forms 10-K."
   ]
  },
  {
   "cell_type": "markdown",
   "metadata": {},
   "source": [
    "### Get filings"
   ]
  },
  {
   "cell_type": "code",
   "execution_count": null,
   "metadata": {
    "scrolled": true,
    "ExecuteTime": {
     "start_time": "2024-01-24T19:00:59.793878Z"
    }
   },
   "outputs": [],
   "source": [
    "aapl_subs = pd.DataFrame()\n",
    "for sub in data_path.glob('**/sub.parquet'):\n",
    "    sub = pd.read_parquet(sub)\n",
    "    aapl_sub = sub[(sub.cik.astype(int) == apple.cik) & (sub.form.isin(['10-Q', '10-K']))]\n",
    "    aapl_subs = pd.concat([aapl_subs, aapl_sub])"
   ]
  },
  {
   "cell_type": "markdown",
   "metadata": {},
   "source": [
    "We find 15 quarterly 10-Q and 4 annual 10-K reports:"
   ]
  },
  {
   "cell_type": "code",
   "execution_count": null,
   "metadata": {
    "scrolled": true,
    "ExecuteTime": {
     "end_time": "2024-01-24T19:00:59.836672Z",
     "start_time": "2024-01-24T19:00:59.797160Z"
    }
   },
   "outputs": [],
   "source": [
    "aapl_subs.form.value_counts()"
   ]
  },
  {
   "cell_type": "markdown",
   "metadata": {},
   "source": [
    "### Get numerical filing data"
   ]
  },
  {
   "cell_type": "markdown",
   "metadata": {},
   "source": [
    "With the Accession Number for each filing, we can now rely on the taxonomies to select the appropriate XBRL tags (listed in the TAG file) from the NUM and TXT files to obtain the numerical or textual/footnote data points of interest."
   ]
  },
  {
   "cell_type": "markdown",
   "metadata": {},
   "source": [
    "First, let's extract all numerical data available from the 19 Apple filings:"
   ]
  },
  {
   "cell_type": "code",
   "execution_count": null,
   "metadata": {
    "ExecuteTime": {
     "start_time": "2024-01-24T19:00:59.799797Z"
    }
   },
   "outputs": [],
   "source": [
    "aapl_nums = pd.DataFrame()\n",
    "for num in data_path.glob('**/num.parquet'):\n",
    "    num = pd.read_parquet(num).drop('dimh', axis=1)\n",
    "    aapl_num = num[num.adsh.isin(aapl_subs.adsh)]\n",
    "    print(len(aapl_num))\n",
    "    aapl_nums = pd.concat([aapl_nums, aapl_num])\n",
    "aapl_nums.ddate = pd.to_datetime(aapl_nums.ddate, format='%Y%m%d')   \n",
    "aapl_nums.to_parquet(data_path / 'aapl_nums.parquet')"
   ]
  },
  {
   "cell_type": "markdown",
   "metadata": {},
   "source": [
    "In total, the nine years of filing history provide us with over 18,000 numerical values for AAPL."
   ]
  },
  {
   "cell_type": "code",
   "execution_count": null,
   "metadata": {
    "scrolled": true,
    "ExecuteTime": {
     "start_time": "2024-01-24T19:00:59.802074Z"
    }
   },
   "outputs": [],
   "source": [
    "aapl_nums.info()"
   ]
  },
  {
   "cell_type": "markdown",
   "metadata": {},
   "source": [
    "## Create P/E Ratio from EPS and stock price data"
   ]
  },
  {
   "cell_type": "markdown",
   "metadata": {},
   "source": [
    "We can select a useful field, such as Earnings per Diluted Share (EPS), that we can combine with market data to calculate the popular Price/Earnings (P/E) valuation ratio."
   ]
  },
  {
   "cell_type": "code",
   "execution_count": null,
   "metadata": {
    "ExecuteTime": {
     "start_time": "2024-01-24T19:00:59.804402Z"
    }
   },
   "outputs": [],
   "source": [
    "stock_split = 7\n",
    "split_date = pd.to_datetime('20140604')\n",
    "split_date"
   ]
  },
  {
   "cell_type": "markdown",
   "metadata": {},
   "source": [
    "We do need to take into account, however, that Apple split its stock 7:1 on June 4, 2014, and Adjusted Earnings per Share before the split to make earnings comparable, as illustrated in the following code block:"
   ]
  },
  {
   "cell_type": "code",
   "execution_count": null,
   "metadata": {
    "ExecuteTime": {
     "start_time": "2024-01-24T19:00:59.806876Z"
    }
   },
   "outputs": [],
   "source": [
    "# Filter by tag; keep only values measuring 1 quarter\n",
    "eps = aapl_nums[(aapl_nums.tag == 'EarningsPerShareDiluted')\n",
    "                & (aapl_nums.qtrs == 1)].drop('tag', axis=1)\n",
    "\n",
    "# Keep only most recent data point from each filing\n",
    "eps = eps.groupby('adsh').apply(lambda x: x.nlargest(n=1, columns=['ddate']))\n",
    "\n",
    "# Adjust earnings prior to stock split downward\n",
    "eps.loc[eps.ddate < split_date,'value'] = eps.loc[eps.ddate < split_date, 'value'].div(7)\n",
    "eps = eps[['ddate', 'value']].set_index('ddate').squeeze().sort_index()\n",
    "eps = eps.rolling(4,min_periods=4).sum().dropna()"
   ]
  },
  {
   "cell_type": "code",
   "execution_count": null,
   "metadata": {
    "ExecuteTime": {
     "start_time": "2024-01-24T19:00:59.809414Z"
    }
   },
   "outputs": [],
   "source": [
    "eps.plot(lw=2, figsize=(14, 6), title='Diluted Earnings per Share')\n",
    "plt.xlabel('')\n",
    "plt.savefig('diluted eps', dps=300);"
   ]
  },
  {
   "cell_type": "code",
   "execution_count": null,
   "metadata": {
    "ExecuteTime": {
     "start_time": "2024-01-24T19:00:59.814175Z"
    }
   },
   "outputs": [],
   "source": [
    "symbol = 'AAPL.US'\n",
    "\n",
    "aapl_stock = (web.\n",
    "              DataReader(symbol, 'quandl', start=eps.index.min())\n",
    "              .resample('D')\n",
    "              .last()\n",
    "             .loc['2014':eps.index.max()])\n",
    "aapl_stock.info()"
   ]
  },
  {
   "cell_type": "code",
   "execution_count": null,
   "metadata": {
    "ExecuteTime": {
     "start_time": "2024-01-24T19:00:59.816865Z"
    }
   },
   "outputs": [],
   "source": [
    "pe = aapl_stock.AdjClose.to_frame('price').join(eps.to_frame('eps'))\n",
    "pe = pe.fillna(method='ffill').dropna()\n",
    "pe['P/E Ratio'] = pe.price.div(pe.eps)\n",
    "pe['P/E Ratio'].plot(lw=2, figsize=(14, 6), title='TTM P/E Ratio');"
   ]
  },
  {
   "cell_type": "code",
   "execution_count": null,
   "metadata": {
    "ExecuteTime": {
     "start_time": "2024-01-24T19:00:59.820294Z"
    }
   },
   "outputs": [],
   "source": [
    "pe.info()"
   ]
  },
  {
   "cell_type": "code",
   "execution_count": null,
   "metadata": {
    "ExecuteTime": {
     "start_time": "2024-01-24T19:00:59.824196Z"
    }
   },
   "outputs": [],
   "source": [
    "axes = pe.plot(subplots=True, figsize=(16,8), legend=False, lw=2)\n",
    "axes[0].set_title('Adj. Close Price')\n",
    "axes[1].set_title('Diluted Earnings per Share')\n",
    "axes[2].set_title('Trailing P/E Ratio')\n",
    "plt.tight_layout();"
   ]
  },
  {
   "cell_type": "markdown",
   "metadata": {},
   "source": [
    "## Explore Additional Fields"
   ]
  },
  {
   "cell_type": "markdown",
   "metadata": {},
   "source": [
    "The field `tag` references values defined in the taxonomy:"
   ]
  },
  {
   "cell_type": "code",
   "execution_count": null,
   "metadata": {
    "ExecuteTime": {
     "start_time": "2024-01-24T19:00:59.826006Z"
    }
   },
   "outputs": [],
   "source": [
    "aapl_nums.tag.value_counts()"
   ]
  },
  {
   "cell_type": "markdown",
   "metadata": {},
   "source": [
    "We can select values of interest and track their value or use them as inputs to compute fundamental metrics like the Dividend/Share ratio."
   ]
  },
  {
   "cell_type": "markdown",
   "metadata": {},
   "source": [
    "### Dividends per Share"
   ]
  },
  {
   "cell_type": "code",
   "execution_count": null,
   "metadata": {
    "scrolled": true,
    "ExecuteTime": {
     "start_time": "2024-01-24T19:00:59.828224Z"
    }
   },
   "outputs": [],
   "source": [
    "fields = ['EarningsPerShareDiluted',\n",
    "          'PaymentsOfDividendsCommonStock',\n",
    "          'WeightedAverageNumberOfDilutedSharesOutstanding',\n",
    "          'OperatingIncomeLoss',\n",
    "          'NetIncomeLoss',\n",
    "          'GrossProfit']"
   ]
  },
  {
   "cell_type": "code",
   "execution_count": null,
   "metadata": {
    "ExecuteTime": {
     "start_time": "2024-01-24T19:00:59.832124Z"
    }
   },
   "outputs": [],
   "source": [
    "dividends = (aapl_nums\n",
    "             .loc[aapl_nums.tag == 'PaymentsOfDividendsCommonStock', ['ddate', 'value']]\n",
    "             .groupby('ddate')\n",
    "             .mean())\n",
    "shares = (aapl_nums\n",
    "          .loc[aapl_nums.tag == 'WeightedAverageNumberOfDilutedSharesOutstanding', ['ddate', 'value']]\n",
    "          .drop_duplicates()\n",
    "          .groupby('ddate')\n",
    "          .mean())\n",
    "df = dividends.div(shares).dropna()\n",
    "ax = df.plot.bar(figsize=(14, 5), title='Dividends per Share', legend=False)\n",
    "ax.xaxis.set_major_formatter(mticker.FixedFormatter(df.index.strftime('%Y-%m')))"
   ]
  },
  {
   "cell_type": "markdown",
   "metadata": {},
   "source": [
    "## Bonus: Textual Information"
   ]
  },
  {
   "cell_type": "code",
   "execution_count": null,
   "metadata": {
    "scrolled": true,
    "ExecuteTime": {
     "start_time": "2024-01-24T19:00:59.833691Z"
    }
   },
   "outputs": [],
   "source": [
    "txt = pd.read_parquet(data_path / '2016_2' / 'parquet' /  'txt.parquet')"
   ]
  },
  {
   "cell_type": "markdown",
   "metadata": {},
   "source": [
    "AAPL's adsh is not avaialble in the txt file but you can obtain notes from the financial statements here:"
   ]
  },
  {
   "cell_type": "code",
   "execution_count": null,
   "metadata": {
    "ExecuteTime": {
     "start_time": "2024-01-24T19:00:59.835690Z"
    }
   },
   "outputs": [],
   "source": [
    "txt.head()"
   ]
  }
 ],
 "metadata": {
  "kernelspec": {
   "name": "python3",
   "language": "python",
   "display_name": "Python 3 (ipykernel)"
  },
  "language_info": {
   "codemirror_mode": {
    "name": "ipython",
    "version": 3
   },
   "file_extension": ".py",
   "mimetype": "text/x-python",
   "name": "python",
   "nbconvert_exporter": "python",
   "pygments_lexer": "ipython3",
   "version": "3.8.8"
  },
  "toc": {
   "base_numbering": 1,
   "nav_menu": {},
   "number_sections": true,
   "sideBar": true,
   "skip_h1_title": false,
   "title_cell": "Table of Contents",
   "title_sidebar": "Contents",
   "toc_cell": false,
   "toc_position": {
    "height": "calc(100% - 180px)",
    "left": "10px",
    "top": "150px",
    "width": "512px"
   },
   "toc_section_display": true,
   "toc_window_display": false
  }
 },
 "nbformat": 4,
 "nbformat_minor": 4
}
